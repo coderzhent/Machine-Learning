{
  "nbformat": 4,
  "nbformat_minor": 0,
  "metadata": {
    "colab": {
      "provenance": [],
      "machine_shape": "hm"
    },
    "kernelspec": {
      "name": "python3",
      "display_name": "Python 3"
    },
    "language_info": {
      "name": "python"
    }
  },
  "cells": [
    {
      "cell_type": "markdown",
      "source": [
        "# **Control Version**"
      ],
      "metadata": {
        "id": "XpxrRev2wTFE"
      }
    },
    {
      "cell_type": "code",
      "execution_count": null,
      "metadata": {
        "colab": {
          "base_uri": "https://localhost:8080/"
        },
        "id": "4rrGjQuAvTZh",
        "outputId": "9e882d7e-0843-4a71-f1f0-aa82af47415d"
      },
      "outputs": [
        {
          "output_type": "stream",
          "name": "stdout",
          "text": [
            "Collecting ftfy\n",
            "  Downloading ftfy-6.3.1-py3-none-any.whl.metadata (7.3 kB)\n",
            "Requirement already satisfied: wcwidth in /usr/local/lib/python3.11/dist-packages (from ftfy) (0.2.13)\n",
            "Downloading ftfy-6.3.1-py3-none-any.whl (44 kB)\n",
            "\u001b[?25l   \u001b[90m━━━━━━━━━━━━━━━━━━━━━━━━━━━━━━━━━━━━━━━━\u001b[0m \u001b[32m0.0/44.8 kB\u001b[0m \u001b[31m?\u001b[0m eta \u001b[36m-:--:--\u001b[0m\r\u001b[2K   \u001b[90m━━━━━━━━━━━━━━━━━━━━━━━━━━━━━━━━━━━━━━━━\u001b[0m \u001b[32m44.8/44.8 kB\u001b[0m \u001b[31m1.5 MB/s\u001b[0m eta \u001b[36m0:00:00\u001b[0m\n",
            "\u001b[?25hInstalling collected packages: ftfy\n",
            "Successfully installed ftfy-6.3.1\n",
            "Requirement already satisfied: tqdm in /usr/local/lib/python3.11/dist-packages (4.67.1)\n",
            "Collecting tiktoken\n",
            "  Downloading tiktoken-0.9.0-cp311-cp311-manylinux_2_17_x86_64.manylinux2014_x86_64.whl.metadata (6.7 kB)\n",
            "Requirement already satisfied: regex>=2022.1.18 in /usr/local/lib/python3.11/dist-packages (from tiktoken) (2024.11.6)\n",
            "Requirement already satisfied: requests>=2.26.0 in /usr/local/lib/python3.11/dist-packages (from tiktoken) (2.32.3)\n",
            "Requirement already satisfied: charset-normalizer<4,>=2 in /usr/local/lib/python3.11/dist-packages (from requests>=2.26.0->tiktoken) (3.4.1)\n",
            "Requirement already satisfied: idna<4,>=2.5 in /usr/local/lib/python3.11/dist-packages (from requests>=2.26.0->tiktoken) (3.10)\n",
            "Requirement already satisfied: urllib3<3,>=1.21.1 in /usr/local/lib/python3.11/dist-packages (from requests>=2.26.0->tiktoken) (2.3.0)\n",
            "Requirement already satisfied: certifi>=2017.4.17 in /usr/local/lib/python3.11/dist-packages (from requests>=2.26.0->tiktoken) (2025.1.31)\n",
            "Downloading tiktoken-0.9.0-cp311-cp311-manylinux_2_17_x86_64.manylinux2014_x86_64.whl (1.2 MB)\n",
            "\u001b[2K   \u001b[90m━━━━━━━━━━━━━━━━━━━━━━━━━━━━━━━━━━━━━━━━\u001b[0m \u001b[32m1.2/1.2 MB\u001b[0m \u001b[31m14.3 MB/s\u001b[0m eta \u001b[36m0:00:00\u001b[0m\n",
            "\u001b[?25hInstalling collected packages: tiktoken\n",
            "Successfully installed tiktoken-0.9.0\n"
          ]
        },
        {
          "output_type": "stream",
          "name": "stderr",
          "text": [
            "Processing chunks for part bom: 100%|██████████| 4/4 [00:00<00:00, 74.48it/s]"
          ]
        },
        {
          "output_type": "stream",
          "name": "stdout",
          "text": [
            "\n",
            "Finished processing processed_part_final_control_version_bom.txt\n"
          ]
        },
        {
          "output_type": "stream",
          "name": "stderr",
          "text": [
            "\n"
          ]
        }
      ],
      "source": [
        "!pip install ftfy\n",
        "!pip install tqdm\n",
        "!pip install tiktoken\n",
        "import os\n",
        "import ftfy\n",
        "import re\n",
        "import concurrent.futures\n",
        "from tqdm import tqdm\n",
        "import numpy as np  # For handling npy files\n",
        "\n",
        "# List of input files (parts ag, ah, ai, aj, ak, al)\n",
        "split_files = [\n",
        "    #'/content/final_merged_data_part_af',\n",
        "    #'/content/final_merged_data_part_ag',\n",
        "    #'/content/final_merged_data_part_ah'\n",
        "    #'/content/final_merged_data_part_ai',\n",
        "    #'/content/final_merged_data_part_aj',\n",
        "    #'/content/final_merged_data_part_ak',\n",
        "    #'/content/final_merged_data_part_al',\n",
        "    #'/content/april_book.txt',\n",
        "    '/content/_bom'\n",
        "]\n",
        "\n",
        "# Loop over each file and process it\n",
        "for file_path in split_files:\n",
        "    # Extract file suffix (e.g., \"ag\", \"ah\", etc.)\n",
        "    suffix = file_path.split('_')[-1]\n",
        "\n",
        "    # --- Step 0: Read the file ---\n",
        "    with open(file_path, 'r', encoding='utf-8') as f:\n",
        "        raw_text = f.read()\n",
        "\n",
        "    # --- Step 1: Split the file into overlapping chunks ---\n",
        "    num_workers = 4\n",
        "    total_length = len(raw_text)\n",
        "    chunk_size = total_length // num_workers\n",
        "    overlap = 1000  # Number of characters to overlap between chunks\n",
        "\n",
        "    chunks = []\n",
        "    for i in range(num_workers):\n",
        "        start = i * chunk_size\n",
        "        if i > 0:\n",
        "            start = max(0, start - overlap)\n",
        "        end = (i + 1) * chunk_size if i < num_workers - 1 else total_length\n",
        "        chunks.append(raw_text[start:end])\n",
        "\n",
        "    # --- Step 2: Define the per-chunk processing function ---\n",
        "    def process_chunk(chunk):\n",
        "        # Collapse all whitespace into a single space.\n",
        "        collapsed = re.sub(r'\\s+', ' ', chunk).strip()\n",
        "        # Fix encoding issues using ftfy.\n",
        "        fixed = ftfy.fix_text(collapsed)\n",
        "        return fixed\n",
        "\n",
        "    # --- Step 3: Process the chunks in parallel with a progress bar ---\n",
        "    with concurrent.futures.ProcessPoolExecutor(max_workers=num_workers) as executor:\n",
        "        processed_chunks = list(tqdm(\n",
        "            executor.map(process_chunk, chunks),\n",
        "            total=len(chunks),\n",
        "            desc=f\"Processing chunks for part {suffix}\"\n",
        "        ))\n",
        "\n",
        "    # --- Step 4: Merge processed chunks by trimming the overlapping parts ---\n",
        "    marker = \"### NEW BOOK ###\"\n",
        "    merged_text = processed_chunks[0]\n",
        "    for i in range(1, len(processed_chunks)):\n",
        "        chunk = processed_chunks[i]\n",
        "        # For chunks beyond the first, look for the first occurrence of the marker.\n",
        "        idx = chunk.find(marker)\n",
        "        if idx != -1:\n",
        "            merged_text += \" \" + chunk[idx:]\n",
        "        else:\n",
        "            merged_text += \" \" + chunk\n",
        "\n",
        "    # --- Step 5: Reintroduce the final book structure with Gutenberg marker handling ---\n",
        "    # The Gutenberg pattern looks for the end marker (allowing for extra text between the asterisks)\n",
        "    gutenberg_pattern = re.compile(r'\\*\\*\\* END OF THE PROJECT GUTENBERG.*?\\*\\*\\*', re.DOTALL)\n",
        "    parts = merged_text.split(marker)\n",
        "    intro = parts[0].strip()  # Text before the first \"### NEW BOOK ###\"\n",
        "    book_blocks = parts[1:]\n",
        "    processed_books = []\n",
        "    for block in book_blocks:\n",
        "        gutenberg_match = gutenberg_pattern.search(block)\n",
        "        if gutenberg_match:\n",
        "            # Remove any text from the Gutenberg marker onward\n",
        "            book_content = block[:gutenberg_match.start()].strip()\n",
        "            # Replace the Gutenberg marker and any intervening text with the end-of-book marker\n",
        "            processed_books.append(marker + \"\\n\" + book_content + \"\\n### END OF BOOK ###\")\n",
        "        else:\n",
        "            # If no Gutenberg marker is found, do not add an end-of-book marker\n",
        "            processed_books.append(marker + \"\\n\" + block.strip())\n",
        "\n",
        "    # --- Step 5.1: Clean metadata between [BOOK] and the Gutenberg start marker ---\n",
        "    # Remove metadata between \"[BOOK]\" and a marker starting with \"***START OF THE PROJECT GUTENBERG\"\n",
        "    clean_pattern = re.compile(r'(\\[BOOK\\]).*?(\\*\\*\\*START OF THE PROJECT GUTENBERG.*?\\*\\*\\*)', re.DOTALL)\n",
        "    cleaned_books = []\n",
        "    for book in processed_books:\n",
        "        cleaned_book = clean_pattern.sub(r'\\1 \\2', book)\n",
        "        cleaned_books.append(cleaned_book)\n",
        "\n",
        "    # --- Step 6: Combine the intro (if any) with the cleaned book blocks ---\n",
        "    final_output = \"\"\n",
        "    if intro:\n",
        "        final_output += intro + \"\\n\\n\"\n",
        "    final_output += \"\\n\\n\".join(cleaned_books)\n",
        "\n",
        "    # --- Step 7: Save the final compiled output to a text file ---\n",
        "    output_filename = f\"processed_part_final_control_version_{suffix}.txt\"\n",
        "    with open(output_filename, \"w\", encoding=\"utf-8\") as f:\n",
        "        f.write(final_output)\n",
        "    print(f\"\\nFinished processing {output_filename}\")\n"
      ]
    },
    {
      "cell_type": "markdown",
      "source": [
        "# **Comparison**"
      ],
      "metadata": {
        "id": "J7-n0IiYwGpv"
      }
    },
    {
      "cell_type": "code",
      "source": [
        "#!pip install ftfy\n",
        "#!pip install tqdm\n",
        "#!pip install tiktoken\n",
        "import os\n",
        "import ftfy\n",
        "import re\n",
        "import concurrent.futures\n",
        "from tqdm import tqdm\n",
        "import numpy as np  # For handling npy files\n",
        "\n",
        "# List of input files (parts af, ag, ah, ai, aj, ak, al)\n",
        "split_files = [\n",
        "    #'/content/final_merged_data_part_af',\n",
        "    #'/content/final_merged_data_part_ag',\n",
        "    #'/content/final_merged_data_part_ah'\n",
        "    #'/content/final_merged_data_part_ai',\n",
        "    #'/content/final_merged_data_part_aj',\n",
        "    #'/content/final_merged_data_part_ak',\n",
        "    #'/content/final_merged_data_part_al'\n",
        "    #'/content/processed_part_final_control_version_book.txt.txt',\n",
        "    '/content/processed_part_final_control_version_bom.txt'\n",
        "]\n",
        "\n",
        "# Loop over each file and process it\n",
        "for file_path in split_files:\n",
        "    # Extract file suffix (e.g., \"af\", \"ag\", etc.)\n",
        "    suffix = file_path.split('_')[-1]\n",
        "\n",
        "    # --- Step 0: Read the file ---\n",
        "    with open(file_path, 'r', encoding='utf-8') as f:\n",
        "        raw_text = f.read()\n",
        "\n",
        "    # --- Step 1: Split the file into overlapping chunks ---\n",
        "    num_workers = 4\n",
        "    total_length = len(raw_text)\n",
        "    chunk_size = total_length // num_workers\n",
        "    overlap = 1000  # Number of characters to overlap between chunks\n",
        "\n",
        "    chunks = []\n",
        "    for i in range(num_workers):\n",
        "        start = i * chunk_size\n",
        "        if i > 0:\n",
        "            start = max(0, start - overlap)\n",
        "        end = (i + 1) * chunk_size if i < num_workers - 1 else total_length\n",
        "        chunks.append(raw_text[start:end])\n",
        "\n",
        "    # --- Step 2: Define the per-chunk processing function ---\n",
        "    def process_chunk(chunk):\n",
        "        # Collapse all whitespace into a single space.\n",
        "        collapsed = re.sub(r'\\s+', ' ', chunk).strip()\n",
        "        # Fix encoding issues using ftfy.\n",
        "        fixed = ftfy.fix_text(collapsed)\n",
        "        return fixed\n",
        "\n",
        "    # --- Step 3: Process the chunks in parallel with a progress bar ---\n",
        "    with concurrent.futures.ProcessPoolExecutor(max_workers=num_workers) as executor:\n",
        "        processed_chunks = list(tqdm(\n",
        "            executor.map(process_chunk, chunks),\n",
        "            total=len(chunks),\n",
        "            desc=f\"Processing chunks for part {suffix}\"\n",
        "        ))\n",
        "\n",
        "    # --- Step 4: Merge processed chunks by trimming the overlapping parts ---\n",
        "    marker = \"### NEW BOOK ###\"\n",
        "    merged_text = processed_chunks[0]\n",
        "    for i in range(1, len(processed_chunks)):\n",
        "        chunk = processed_chunks[i]\n",
        "        # For chunks beyond the first, look for the first occurrence of the marker.\n",
        "        idx = chunk.find(marker)\n",
        "        if idx != -1:\n",
        "            merged_text += \" \" + chunk[idx:]\n",
        "        else:\n",
        "            merged_text += \" \" + chunk\n",
        "\n",
        "    # --- New Fix: Remove invalid first book ---\n",
        "    # Find the first instance of [AUTHOR: Lewis Goldsmith] and remove everything before it.\n",
        "    author_marker = \"[AUTHOR: Lewis Goldsmith]\"\n",
        "    idx_author = merged_text.find(author_marker)\n",
        "    if idx_author != -1:\n",
        "        merged_text = merged_text[idx_author:]\n",
        "\n",
        "    # --- Step 5: Reintroduce the final book structure with Gutenberg marker handling ---\n",
        "    # The Gutenberg pattern looks for the end marker (allowing for extra text between the asterisks)\n",
        "    gutenberg_pattern = re.compile(r'\\*\\*\\* END OF THE PROJECT GUTENBERG.*?\\*\\*\\*', re.DOTALL)\n",
        "    parts = merged_text.split(marker)\n",
        "    intro = parts[0].strip()  # Text before the first \"### NEW BOOK ###\"\n",
        "    book_blocks = parts[1:]\n",
        "    processed_books = []\n",
        "    for block in book_blocks:\n",
        "        gutenberg_match = gutenberg_pattern.search(block)\n",
        "        if gutenberg_match:\n",
        "            # Remove any text from the Gutenberg marker onward\n",
        "            book_content = block[:gutenberg_match.start()].strip()\n",
        "            # Replace the Gutenberg marker and any intervening text with the end-of-book marker\n",
        "            processed_books.append(marker + \"\\n\" + book_content + \"\\n### END OF BOOK ###\")\n",
        "        else:\n",
        "            # If no Gutenberg marker is found, do not add an end-of-book marker\n",
        "            processed_books.append(marker + \"\\n\" + block.strip())\n",
        "\n",
        "    # --- Step 5.1: Clean metadata between [BOOK] and the Gutenberg start marker ---\n",
        "    # Remove metadata between \"[BOOK]\" and a marker starting with \"***START OF THE PROJECT GUTENBERG\"\n",
        "    clean_pattern = re.compile(r'(\\[BOOK\\]).*?(\\*\\*\\*START OF THE PROJECT GUTENBERG.*?\\*\\*\\*)', re.DOTALL)\n",
        "    cleaned_books = []\n",
        "    for book in processed_books:\n",
        "        cleaned_book = clean_pattern.sub(r'\\1 \\2', book)\n",
        "        cleaned_books.append(cleaned_book)\n",
        "\n",
        "    # --- Step 6: Combine the intro (if any) with the cleaned book blocks ---\n",
        "    final_output = \"\"\n",
        "    if intro:\n",
        "        final_output += intro + \"\\n\\n\"\n",
        "    final_output += \"\\n\\n\".join(cleaned_books)\n",
        "\n",
        "    # --- Step 7: Save the final compiled output to a text file ---\n",
        "    output_filename = f\"processed_part_final_{suffix}.txt\"\n",
        "    with open(output_filename, \"w\", encoding=\"utf-8\") as f:\n",
        "        f.write(final_output)\n",
        "    print(f\"\\nFinished processing {output_filename}\")\n"
      ],
      "metadata": {
        "colab": {
          "base_uri": "https://localhost:8080/"
        },
        "id": "JY5Q5MpAwGRw",
        "outputId": "0658de28-fce4-4188-e747-b9e918759694"
      },
      "execution_count": null,
      "outputs": [
        {
          "output_type": "stream",
          "name": "stderr",
          "text": [
            "Processing chunks for part bom.txt: 100%|██████████| 4/4 [00:00<00:00, 75.39it/s]"
          ]
        },
        {
          "output_type": "stream",
          "name": "stdout",
          "text": [
            "\n",
            "Finished processing processed_part_final_bom.txt.txt\n"
          ]
        },
        {
          "output_type": "stream",
          "name": "stderr",
          "text": [
            "\n"
          ]
        }
      ]
    },
    {
      "cell_type": "code",
      "source": [
        "# Set your file suffix (for example, \"af\")\n",
        "suffix = \"bom\"\n",
        "\n",
        "# File names based on the suffix.\n",
        "control_filename = f\"processed_part_final_control_version_{suffix}.txt\"\n",
        "processed_filename = f\"processed_part_final_{suffix}.txt\"\n",
        "\n",
        "def print_first_characters(filename, num_chars=10000):\n",
        "    with open(filename, 'r', encoding='utf-8') as f:\n",
        "        text = f.read()\n",
        "\n",
        "    print(\"Part AF needs to start with the second book. The first one is not actually a book.\")\n",
        "    print(\"\\n\")\n",
        "    print(f\"First {num_chars} characters for {filename}:\")\n",
        "    print(text[:num_chars])\n",
        "    print(\"\\n\" + \"=\"*50 + \"\\n\")\n",
        "\n",
        "print_first_characters(control_filename)\n",
        "print_first_characters(processed_filename)\n"
      ],
      "metadata": {
        "colab": {
          "base_uri": "https://localhost:8080/"
        },
        "id": "odkYxt_gxINY",
        "outputId": "82d03424-3dd0-4034-b5d6-c76eed75f34b"
      },
      "execution_count": null,
      "outputs": [
        {
          "output_type": "stream",
          "name": "stdout",
          "text": [
            "Part AF needs to start with the second book. The first one is not actually a book.\n",
            "\n",
            "\n",
            "First 10000 characters for processed_part_final_control_version_bom.txt:\n",
            "THE BOOK OF MORMON An Account Written by THE HAND OF MORMON UPON PLATES TAKEN FROM THE PLATES OF NEPHI Wherefore, it is an abridgment of the record of the people of Nephi, and also of the Lamanites--Written to the Lamanites, who are a remnant of the house of Israel; and also to Jew and Gentile--Written by way of commandment, and also by the spirit of prophecy and of revelation--Written and sealed up, and hid up unto the Lord, that they might not be destroyed--To come forth by the gift and power of God unto the interpretation thereof--Sealed by the hand of Moroni, and hid up unto the Lord, to come forth in due time by way of the Gentile--The interpretation thereof by the gift of God. An abridgment taken from the Book of Ether also, which is a record of the people of Jared, who were scattered at the time the Lord confounded the language of the people, when they were building a tower to get to heaven--Which is to show unto the remnant of the House of Israel what great things the Lord hath done for their fathers; and that they may know the covenants of the Lord, that they are not cast off forever--And also to the convincing of the Jew and Gentile that JESUS is the CHRIST, the ETERNAL GOD, manifesting himself unto all nations--And now, if there are faults they are the mistakes of men; wherefore, condemn not the things of God, that ye may be found spotless at the judgment-seat of Christ. TRANSLATED BY JOSEPH SMITH, JUN. THE TESTIMONY OF THREE WITNESSES Be it known unto all nations, kindreds, tongues, and people, unto whom this work shall come: That we, through the grace of God the Father, and our Lord Jesus Christ, have seen the plates which contain this record, which is a record of the people of Nephi, and also of the Lamanites, their brethren, and also of the people of Jared, who came from the tower of which hath been spoken. And we also know that they have been translated by the gift and power of God, for his voice hath declared it unto us; wherefore we know of a surety that the work is true. And we also testify that we have seen the engravings which are upon the plates; and they have been shown unto us by the power of God, and not of man. And we declare with words of soberness, that an angel of God came down from heaven, and he brought and laid before our eyes, that we beheld and saw the plates, and the engravings thereon; and we know that it is by the grace of God the Father, and our Lord Jesus Christ, that we beheld and bear record that these things are true. And it is marvelous in our eyes. Nevertheless, the voice of the Lord commanded us that we should bear record of it; wherefore, to be obedient unto the commandments of God, we bear testimony of these things. And we know that if we are faithful in Christ, we shall rid our garments of the blood of all men, and be found spotless before the judgment-seat of Christ, and shall dwell with him eternally in the heavens. And the honor be to the Father, and to the Son, and to the Holy Ghost, which is one God. Amen. OLIVER COWDERY DAVID WHITMER MARTIN HARRIS THE TESTIMONY OF EIGHT WITNESSES Be it known unto all nations, kindreds, tongues, and people, unto whom this work shall come: That Joseph Smith, Jun., the translator of this work, has shown unto us the plates of which hath been spoken, which have the appearance of gold; and as many of the leaves as the said Smith has translated we did handle with our hands; and we also saw the engravings thereon, all of which has the appearance of ancient work, and of curious workmanship. And this we bear record with words of soberness, that the said Smith has shown unto us, for we have seen and hefted, and know of a surety that the said Smith has got the plates of which we have spoken. And we give our names unto the world, to witness unto the world that which we have seen. And we lie not, God bearing witness of it. CHRISTIAN WHITMER JACOB WHITMER PETER WHITMER, JUN. JOHN WHITMER HIRAM PAGE JOSEPH SMITH, SEN. HYRUM SMITH SAMUEL H. SMITH 1 Nephi THE FIRST BOOK OF NEPHI HIS REIGN AND MINISTRY An account of Lehi and his wife Sariah and his four sons, being called, (beginning at the eldest) Laman, Lemuel, Sam, and Nephi. The Lord warns Lehi to depart out of the land of Jerusalem, because he prophesieth unto the people concerning their iniquity and they seek to destroy his life. He taketh three days' journey into the wilderness with his family. Nephi taketh his brethren and returneth to the land of Jerusalem after the record of the Jews. The account of their sufferings. They take the daughters of Ishmael to wife. They take their families and depart into the wilderness. Their sufferings and afflictions in the wilderness. The course of their travels. They come to the large waters. Nephi's brethren rebel against him. He confoundeth them, and buildeth a ship. They call the name of the place Bountiful. They cross the large waters into the promised land, and so forth. This is according to the account of Nephi; or in other words, I, Nephi, wrote this record. 1 Nephi 1 Chapter 1 1 Nephi 1:1 1 I, Nephi, having been born of goodly parents, therefore I was taught somewhat in all the learning of my father; and having seen many afflictions in the course of my days, nevertheless, having been highly favored of the Lord in all my days; yea, having had a great knowledge of the goodness and the mysteries of God, therefore I make a record of my proceedings in my days. 1 Nephi 1:2 2 Yea, I make a record in the language of my father, which consists of the learning of the Jews and the language of the Egyptians. 1 Nephi 1:3 3 And I know that the record which I make is true; and I make it with mine own hand; and I make it according to my knowledge. 1 Nephi 1:4 4 For it came to pass in the commencement of the first year of the reign of Zedekiah, king of Judah, (my father, Lehi, having dwelt at Jerusalem in all his days); and in that same year there came many prophets, prophesying unto the people that they must repent, or the great city Jerusalem must be destroyed. 1 Nephi 1:5 5 Wherefore it came to pass that my father, Lehi, as he went forth prayed unto the Lord, yea, even with all his heart, in behalf of his people. 1 Nephi 1:6 6 And it came to pass as he prayed unto the Lord, there came a pillar of fire and dwelt upon a rock before him; and he saw and heard much; and because of the things which he saw and heard he did quake and tremble exceedingly. 1 Nephi 1:7 7 And it came to pass that he returned to his own house at Jerusalem; and he cast himself upon his bed, being overcome with the Spirit and the things which he had seen. 1 Nephi 1:8 8 And being thus overcome with the Spirit, he was carried away in a vision, even that he saw the heavens open, and he thought he saw God sitting upon his throne, surrounded with numberless concourses of angels in the attitude of singing and praising their God. 1 Nephi 1:9 9 And it came to pass that he saw One descending out of the midst of heaven, and he beheld that his luster was above that of the sun at noon-day. 1 Nephi 1:10 10 And he also saw twelve others following him, and their brightness did exceed that of the stars in the firmament. 1 Nephi 1:11 11 And they came down and went forth upon the face of the earth; and the first came and stood before my father, and gave unto him a book, and bade him that he should read. 1 Nephi 1:12 12 And it came to pass that as he read, he was filled with the Spirit of the Lord. 1 Nephi 1:13 13 And he read, saying: Wo, wo, unto Jerusalem, for I have seen thine abominations! Yea, and many things did my father read concerning Jerusalem--that it should be destroyed, and the inhabitants thereof; many should perish by the sword, and many should be carried away captive into Babylon. 1 Nephi 1:14 14 And it came to pass that when my father had read and seen many great and marvelous things, he did exclaim many things unto the Lord; such as: Great and marvelous are thy works, O Lord God Almighty! Thy throne is high in the heavens, and thy power, and goodness, and mercy are over all the inhabitants of the earth, and, because thou art merciful, thou wilt not suffer those who come unto thee that they shall perish! 1 Nephi 1:15 15 And after this manner was the language of my father in the praising of his God; for his soul did rejoice, and his whole heart was filled, because of the things which he had seen, yea, which the Lord had shown unto him. 1 Nephi 1:16 16 And now I, Nephi, do not make a full account of the things which my father hath written, for he hath written many things which he saw in visions and in dreams; and he also hath written many things which he prophesied and spake unto his children, of which I shall not make a full account. 1 Nephi 1:17 17 But I shall make an account of my proceedings in my days. Behold, I make an abridgment of the record of my father, upon plates which I have made with mine own hands; wherefore, after I have abridged the record of my father then will I make an account of mine own life. 1 Nephi 1:18 18 Therefore, I would that ye should know, that after the Lord had shown so many marvelous things unto my father, Lehi, yea, concerning the destruction of Jerusalem, behold he went forth among the people, and began to prophesy and to declare unto them concerning the things which he had both seen and heard. 1 Nephi 1:19 19 And it came to pass that the Jews did mock him because of the things which he testified of them; for he truly testified of their wickedness and their abominations; and he testified that the things which he saw and heard, and also the things which he read in the book, manifested plainly of the coming of the Messiah, and also the redemption of the world. 1 Nephi 1:20 20 And when the Jews heard these things they were angry with him; yea, even as with the prophets of old, whom they had cast out, and stoned, and slain; and they also sought his life, that they might take it away. But behold, I, Nephi, will show unto you that the tender mercies of the Lord \n",
            "\n",
            "==================================================\n",
            "\n",
            "Part AF needs to start with the second book. The first one is not actually a book.\n",
            "\n",
            "\n",
            "First 10000 characters for processed_part_final_bom.txt:\n",
            "THE BOOK OF MORMON An Account Written by THE HAND OF MORMON UPON PLATES TAKEN FROM THE PLATES OF NEPHI Wherefore, it is an abridgment of the record of the people of Nephi, and also of the Lamanites--Written to the Lamanites, who are a remnant of the house of Israel; and also to Jew and Gentile--Written by way of commandment, and also by the spirit of prophecy and of revelation--Written and sealed up, and hid up unto the Lord, that they might not be destroyed--To come forth by the gift and power of God unto the interpretation thereof--Sealed by the hand of Moroni, and hid up unto the Lord, to come forth in due time by way of the Gentile--The interpretation thereof by the gift of God. An abridgment taken from the Book of Ether also, which is a record of the people of Jared, who were scattered at the time the Lord confounded the language of the people, when they were building a tower to get to heaven--Which is to show unto the remnant of the House of Israel what great things the Lord hath done for their fathers; and that they may know the covenants of the Lord, that they are not cast off forever--And also to the convincing of the Jew and Gentile that JESUS is the CHRIST, the ETERNAL GOD, manifesting himself unto all nations--And now, if there are faults they are the mistakes of men; wherefore, condemn not the things of God, that ye may be found spotless at the judgment-seat of Christ. TRANSLATED BY JOSEPH SMITH, JUN. THE TESTIMONY OF THREE WITNESSES Be it known unto all nations, kindreds, tongues, and people, unto whom this work shall come: That we, through the grace of God the Father, and our Lord Jesus Christ, have seen the plates which contain this record, which is a record of the people of Nephi, and also of the Lamanites, their brethren, and also of the people of Jared, who came from the tower of which hath been spoken. And we also know that they have been translated by the gift and power of God, for his voice hath declared it unto us; wherefore we know of a surety that the work is true. And we also testify that we have seen the engravings which are upon the plates; and they have been shown unto us by the power of God, and not of man. And we declare with words of soberness, that an angel of God came down from heaven, and he brought and laid before our eyes, that we beheld and saw the plates, and the engravings thereon; and we know that it is by the grace of God the Father, and our Lord Jesus Christ, that we beheld and bear record that these things are true. And it is marvelous in our eyes. Nevertheless, the voice of the Lord commanded us that we should bear record of it; wherefore, to be obedient unto the commandments of God, we bear testimony of these things. And we know that if we are faithful in Christ, we shall rid our garments of the blood of all men, and be found spotless before the judgment-seat of Christ, and shall dwell with him eternally in the heavens. And the honor be to the Father, and to the Son, and to the Holy Ghost, which is one God. Amen. OLIVER COWDERY DAVID WHITMER MARTIN HARRIS THE TESTIMONY OF EIGHT WITNESSES Be it known unto all nations, kindreds, tongues, and people, unto whom this work shall come: That Joseph Smith, Jun., the translator of this work, has shown unto us the plates of which hath been spoken, which have the appearance of gold; and as many of the leaves as the said Smith has translated we did handle with our hands; and we also saw the engravings thereon, all of which has the appearance of ancient work, and of curious workmanship. And this we bear record with words of soberness, that the said Smith has shown unto us, for we have seen and hefted, and know of a surety that the said Smith has got the plates of which we have spoken. And we give our names unto the world, to witness unto the world that which we have seen. And we lie not, God bearing witness of it. CHRISTIAN WHITMER JACOB WHITMER PETER WHITMER, JUN. JOHN WHITMER HIRAM PAGE JOSEPH SMITH, SEN. HYRUM SMITH SAMUEL H. SMITH 1 Nephi THE FIRST BOOK OF NEPHI HIS REIGN AND MINISTRY An account of Lehi and his wife Sariah and his four sons, being called, (beginning at the eldest) Laman, Lemuel, Sam, and Nephi. The Lord warns Lehi to depart out of the land of Jerusalem, because he prophesieth unto the people concerning their iniquity and they seek to destroy his life. He taketh three days' journey into the wilderness with his family. Nephi taketh his brethren and returneth to the land of Jerusalem after the record of the Jews. The account of their sufferings. They take the daughters of Ishmael to wife. They take their families and depart into the wilderness. Their sufferings and afflictions in the wilderness. The course of their travels. They come to the large waters. Nephi's brethren rebel against him. He confoundeth them, and buildeth a ship. They call the name of the place Bountiful. They cross the large waters into the promised land, and so forth. This is according to the account of Nephi; or in other words, I, Nephi, wrote this record. 1 Nephi 1 Chapter 1 1 Nephi 1:1 1 I, Nephi, having been born of goodly parents, therefore I was taught somewhat in all the learning of my father; and having seen many afflictions in the course of my days, nevertheless, having been highly favored of the Lord in all my days; yea, having had a great knowledge of the goodness and the mysteries of God, therefore I make a record of my proceedings in my days. 1 Nephi 1:2 2 Yea, I make a record in the language of my father, which consists of the learning of the Jews and the language of the Egyptians. 1 Nephi 1:3 3 And I know that the record which I make is true; and I make it with mine own hand; and I make it according to my knowledge. 1 Nephi 1:4 4 For it came to pass in the commencement of the first year of the reign of Zedekiah, king of Judah, (my father, Lehi, having dwelt at Jerusalem in all his days); and in that same year there came many prophets, prophesying unto the people that they must repent, or the great city Jerusalem must be destroyed. 1 Nephi 1:5 5 Wherefore it came to pass that my father, Lehi, as he went forth prayed unto the Lord, yea, even with all his heart, in behalf of his people. 1 Nephi 1:6 6 And it came to pass as he prayed unto the Lord, there came a pillar of fire and dwelt upon a rock before him; and he saw and heard much; and because of the things which he saw and heard he did quake and tremble exceedingly. 1 Nephi 1:7 7 And it came to pass that he returned to his own house at Jerusalem; and he cast himself upon his bed, being overcome with the Spirit and the things which he had seen. 1 Nephi 1:8 8 And being thus overcome with the Spirit, he was carried away in a vision, even that he saw the heavens open, and he thought he saw God sitting upon his throne, surrounded with numberless concourses of angels in the attitude of singing and praising their God. 1 Nephi 1:9 9 And it came to pass that he saw One descending out of the midst of heaven, and he beheld that his luster was above that of the sun at noon-day. 1 Nephi 1:10 10 And he also saw twelve others following him, and their brightness did exceed that of the stars in the firmament. 1 Nephi 1:11 11 And they came down and went forth upon the face of the earth; and the first came and stood before my father, and gave unto him a book, and bade him that he should read. 1 Nephi 1:12 12 And it came to pass that as he read, he was filled with the Spirit of the Lord. 1 Nephi 1:13 13 And he read, saying: Wo, wo, unto Jerusalem, for I have seen thine abominations! Yea, and many things did my father read concerning Jerusalem--that it should be destroyed, and the inhabitants thereof; many should perish by the sword, and many should be carried away captive into Babylon. 1 Nephi 1:14 14 And it came to pass that when my father had read and seen many great and marvelous things, he did exclaim many things unto the Lord; such as: Great and marvelous are thy works, O Lord God Almighty! Thy throne is high in the heavens, and thy power, and goodness, and mercy are over all the inhabitants of the earth, and, because thou art merciful, thou wilt not suffer those who come unto thee that they shall perish! 1 Nephi 1:15 15 And after this manner was the language of my father in the praising of his God; for his soul did rejoice, and his whole heart was filled, because of the things which he had seen, yea, which the Lord had shown unto him. 1 Nephi 1:16 16 And now I, Nephi, do not make a full account of the things which my father hath written, for he hath written many things which he saw in visions and in dreams; and he also hath written many things which he prophesied and spake unto his children, of which I shall not make a full account. 1 Nephi 1:17 17 But I shall make an account of my proceedings in my days. Behold, I make an abridgment of the record of my father, upon plates which I have made with mine own hands; wherefore, after I have abridged the record of my father then will I make an account of mine own life. 1 Nephi 1:18 18 Therefore, I would that ye should know, that after the Lord had shown so many marvelous things unto my father, Lehi, yea, concerning the destruction of Jerusalem, behold he went forth among the people, and began to prophesy and to declare unto them concerning the things which he had both seen and heard. 1 Nephi 1:19 19 And it came to pass that the Jews did mock him because of the things which he testified of them; for he truly testified of their wickedness and their abominations; and he testified that the things which he saw and heard, and also the things which he read in the book, manifested plainly of the coming of the Messiah, and also the redemption of the world. 1 Nephi 1:20 20 And when the Jews heard these things they were angry with him; yea, even as with the prophets of old, whom they had cast out, and stoned, and slain; and they also sought his life, that they might take it away. But behold, I, Nephi, will show unto you that the tender mercies of the Lord \n",
            "\n",
            "==================================================\n",
            "\n"
          ]
        }
      ]
    },
    {
      "cell_type": "markdown",
      "source": [
        "# **Tokenizing Comparison Version**"
      ],
      "metadata": {
        "id": "qQM0K0R-wjoI"
      }
    },
    {
      "cell_type": "code",
      "source": [
        "    # --- Step 10: Tokenize and save as a NumPy .npy file ---\n",
        "import tiktoken\n",
        "enc = tiktoken.get_encoding(\"gpt2\")\n",
        "tokenized_output = enc.encode(final_output)\n",
        "\n",
        "tokenized_filename = f\"tokenized_part_{suffix}.npy\"\n",
        "np.save(tokenized_filename, np.array(tokenized_output, dtype=np.int32))\n",
        "print(f\"Tokenized file saved as {tokenized_filename}\\n\")\n"
      ],
      "metadata": {
        "colab": {
          "base_uri": "https://localhost:8080/"
        },
        "id": "V7HOVHXEwkWK",
        "outputId": "2b582f25-9fec-4cbe-a341-0a86e1ba574b"
      },
      "execution_count": null,
      "outputs": [
        {
          "output_type": "stream",
          "name": "stdout",
          "text": [
            "Tokenized file saved as tokenized_part_bom.npy\n",
            "\n"
          ]
        }
      ]
    }
  ]
}