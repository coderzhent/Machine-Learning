{
 "cells": [
  {
   "cell_type": "markdown",
   "metadata": {},
   "source": [
    "# ICE 2\n",
    "Appliance watt predictions"
   ]
  },
  {
   "cell_type": "markdown",
   "metadata": {},
   "source": [
    "# Imports"
   ]
  },
  {
   "cell_type": "code",
   "execution_count": 87,
   "metadata": {},
   "outputs": [],
   "source": [
    "import pandas as pd\n",
    "import numpy as np\n",
    "import matplotlib.pyplot as plt\n",
    "import seaborn as sns\n",
    "import itertools\n",
    "import heapq\n",
    "import joblib\n",
    "import random\n",
    "import datetime\n",
    "import os\n",
    "import xgboost as xgb\n",
    "import tensorflow as tf\n",
    "from IPython.display import display\n",
    "from tensorflow import keras\n",
    "from sklearn.preprocessing import LabelEncoder, MinMaxScaler, OneHotEncoder\n",
    "from sklearn.model_selection import train_test_split\n",
    "from sklearn.metrics import accuracy_score, classification_report, ConfusionMatrixDisplay, confusion_matrix, precision_score, recall_score, f1_score, root_mean_squared_error, mean_squared_error, r2_score, mean_absolute_error, median_absolute_error, root_mean_squared_log_error\n",
    "from sklearn.compose import ColumnTransformer\n",
    "from sklearn.pipeline import Pipeline\n",
    "# from datetime import datetime"
   ]
  },
  {
   "cell_type": "markdown",
   "metadata": {},
   "source": [
    "# Dataset"
   ]
  },
  {
   "cell_type": "code",
   "execution_count": 120,
   "metadata": {},
   "outputs": [],
   "source": [
    "training_df = pd.read_csv('./ICE-2/energy-training.csv')\n",
    "holdout_df = pd.read_csv('./ICE-2/energy-holdout.csv')"
   ]
  },
  {
   "cell_type": "markdown",
   "metadata": {},
   "source": [
    "## Data Evaluation"
   ]
  },
  {
   "cell_type": "code",
   "execution_count": null,
   "metadata": {},
   "outputs": [],
   "source": [
    "training_df.info()"
   ]
  },
  {
   "cell_type": "markdown",
   "metadata": {},
   "source": [
    "## Feature Engineering"
   ]
  },
  {
   "cell_type": "code",
   "execution_count": 121,
   "metadata": {},
   "outputs": [],
   "source": [
    "def create_weekday(y, m, d):\n",
    "    s_obj = datetime.date(int(y), int(m), int(d))\n",
    "    s_day = s_obj.strftime(\"%a\")\n",
    "    return day_map[s_day]\n",
    "    # return s_day\n",
    "\n",
    "def convert_time_cyclic(h, m, h_max, h_min, m_max, m_min):\n",
    "    return (np.cos((h - h_min + (m / m_max)) / (h_max + m_max - (h_min + m_min)) * np.pi) + 1) / 2\n",
    "\n",
    "day_map = {\n",
    "    'Sun': 0,\n",
    "    'Mon': 1,\n",
    "    'Tue': 2,\n",
    "    'Wed': 3,\n",
    "    'Thu': 4,\n",
    "    'Fri': 5,\n",
    "    'Sat': 6\n",
    "}"
   ]
  },
  {
   "cell_type": "code",
   "execution_count": 122,
   "metadata": {},
   "outputs": [],
   "source": [
    "# Also get the weekday\n",
    "training_df['Weekday'] = training_df.apply(lambda row: create_weekday(row['Year'], row['Month'], row['Day']), axis=1)\n",
    "\n",
    "hour_max = training_df['Hours'].max()\n",
    "hour_min = training_df['Hours'].min()\n",
    "minutes_max = training_df['Minutes'].max()\n",
    "minutes_min = training_df['Minutes'].min()\n",
    "\n",
    "# training_df['Hours_Cyclic'] = (np.cos((training_df['Hours'] - hour_min) / (hour_max - hour_min) * np.pi) + 1) / 2\n",
    "# training_df['Minuts_Cyclic'] = (np.cos((training_df['Minutes'] - minutes_min) / (minutes_max - minutes_min) * np.pi) + 1) / 2\n",
    "# training_df['Time_Cyclic'] = (np.cos((training_df['Hours'] - hour_min + (training_df['Minutes'] / minutes_max)) / (hour_max + minutes_max - (hour_min + minutes_min)) * np.pi) + 1) / 2\n",
    "training_df['Time_Cyclic'] = training_df.apply(lambda row: convert_time_cyclic(row['Hours'], row['Minutes'], hour_max, hour_min, minutes_max, minutes_min), axis=1)"
   ]
  },
  {
   "cell_type": "code",
   "execution_count": null,
   "metadata": {},
   "outputs": [],
   "source": [
    "holdout_df['Weekday'] = holdout_df.apply(lambda row: create_weekday(row['Year'], row['Month'], row['Day']), axis=1)\n",
    "holdout_df['Time_Cyclic'] = holdout_df.apply(lambda row: convert_time_cyclic(row['Hours'], row['Minutes'], hour_max, hour_min, minutes_max, minutes_min), axis=1)"
   ]
  },
  {
   "cell_type": "code",
   "execution_count": 123,
   "metadata": {},
   "outputs": [
    {
     "data": {
      "application/vnd.microsoft.datawrangler.viewer.v0+json": {
       "columns": [
        {
         "name": "index",
         "rawType": "int64",
         "type": "integer"
        },
        {
         "name": "Year",
         "rawType": "int64",
         "type": "integer"
        },
        {
         "name": "Month",
         "rawType": "int64",
         "type": "integer"
        },
        {
         "name": "Day",
         "rawType": "int64",
         "type": "integer"
        },
        {
         "name": "Hours",
         "rawType": "int64",
         "type": "integer"
        },
        {
         "name": "Minutes",
         "rawType": "int64",
         "type": "integer"
        },
        {
         "name": "Time-since-start",
         "rawType": "int64",
         "type": "integer"
        },
        {
         "name": "Appliances",
         "rawType": "int64",
         "type": "integer"
        },
        {
         "name": "lights",
         "rawType": "int64",
         "type": "integer"
        },
        {
         "name": "T1",
         "rawType": "float64",
         "type": "float"
        },
        {
         "name": "RH_1",
         "rawType": "float64",
         "type": "float"
        },
        {
         "name": "T2",
         "rawType": "float64",
         "type": "float"
        },
        {
         "name": "RH_2",
         "rawType": "float64",
         "type": "float"
        },
        {
         "name": "T3",
         "rawType": "float64",
         "type": "float"
        },
        {
         "name": "RH_3",
         "rawType": "float64",
         "type": "float"
        },
        {
         "name": "T4",
         "rawType": "float64",
         "type": "float"
        },
        {
         "name": "RH_4",
         "rawType": "float64",
         "type": "float"
        },
        {
         "name": "T5",
         "rawType": "float64",
         "type": "float"
        },
        {
         "name": "RH_5",
         "rawType": "float64",
         "type": "float"
        },
        {
         "name": "T6",
         "rawType": "float64",
         "type": "float"
        },
        {
         "name": "RH_6",
         "rawType": "float64",
         "type": "float"
        },
        {
         "name": "T7",
         "rawType": "float64",
         "type": "float"
        },
        {
         "name": "RH_7",
         "rawType": "float64",
         "type": "float"
        },
        {
         "name": "T8",
         "rawType": "float64",
         "type": "float"
        },
        {
         "name": "RH_8",
         "rawType": "float64",
         "type": "float"
        },
        {
         "name": "T9",
         "rawType": "float64",
         "type": "float"
        },
        {
         "name": "RH_9",
         "rawType": "float64",
         "type": "float"
        },
        {
         "name": "T_out",
         "rawType": "float64",
         "type": "float"
        },
        {
         "name": "Press_mm_hg",
         "rawType": "float64",
         "type": "float"
        },
        {
         "name": "RH_out",
         "rawType": "float64",
         "type": "float"
        },
        {
         "name": "Windspeed",
         "rawType": "float64",
         "type": "float"
        },
        {
         "name": "Visibility",
         "rawType": "float64",
         "type": "float"
        },
        {
         "name": "Tdewpoint",
         "rawType": "float64",
         "type": "float"
        },
        {
         "name": "rv1",
         "rawType": "float64",
         "type": "float"
        },
        {
         "name": "rv2",
         "rawType": "float64",
         "type": "float"
        },
        {
         "name": "Weekday",
         "rawType": "int64",
         "type": "integer"
        },
        {
         "name": "Time_Cyclic",
         "rawType": "float64",
         "type": "float"
        }
       ],
       "conversionMethod": "pd.DataFrame",
       "ref": "ba768df0-6ee6-4c97-af11-d3945e6b2ee9",
       "rows": [
        [
         "0",
         "2016",
         "5",
         "10",
         "14",
         "50",
         "17267",
         "60",
         "0",
         "25.2",
         "47.12666667",
         "25.6",
         "43.9",
         "26.7",
         "42.09",
         "25.5",
         "44.79",
         "23.96333333",
         "49.9",
         "23.89",
         "6.823333333",
         "24.89",
         "44.5",
         "25.29",
         "48.2",
         "24.1",
         "47.52571429",
         "18.8",
         "750.15",
         "78.0",
         "4.5",
         "40.0",
         "14.8",
         "41.35872498",
         "41.35872498",
         "2",
         "0.8993896864431825"
        ],
        [
         "1",
         "2016",
         "5",
         "4",
         "21",
         "50",
         "16445",
         "60",
         "0",
         "23.39",
         "33.79",
         "21.85666667",
         "33.5",
         "23.1",
         "35.5",
         "23.0",
         "33.0",
         "21.1",
         "40.66333333",
         "8.926666667",
         "7.963333333",
         "22.412",
         "33.376",
         "25.0",
         "37.89857143",
         "20.39",
         "34.46333333",
         "10.9",
         "764.2833333",
         "57.33333333",
         "3.0",
         "40.0",
         "2.77",
         "9.024851595",
         "9.024851595",
         "3",
         "0.7921490868141843"
        ],
        [
         "2",
         "2016",
         "3",
         "16",
         "20",
         "20",
         "9380",
         "140",
         "20",
         "22.6",
         "37.36",
         "20.2",
         "37.69333333",
         "23.6",
         "35.82666667",
         "21.79",
         "33.82666667",
         "18.7",
         "44.2",
         "5.06",
         "24.73333333",
         "20.23",
         "25.0",
         "23.6",
         "33.53",
         "19.6",
         "36.2",
         "5.27",
         "765.2",
         "62.0",
         "5.666666667",
         "23.33333333",
         "-1.5",
         "49.29175731",
         "49.29175731",
         "3",
         "0.8193747110257636"
        ],
        [
         "3",
         "2016",
         "3",
         "19",
         "2",
         "30",
         "9705",
         "50",
         "0",
         "21.79",
         "36.76",
         "19.0",
         "39.79",
         "21.79",
         "36.5",
         "20.06666667",
         "34.96666667",
         "18.39",
         "46.79",
         "5.123333333",
         "66.8",
         "19.63333333",
         "31.13333333",
         "22.29",
         "43.09",
         "19.7",
         "39.56",
         "4.7",
         "762.3",
         "92.0",
         "3.5",
         "62.5",
         "3.5",
         "0.102887908",
         "0.102887908",
         "6",
         "0.996873290218089"
        ],
        [
         "4",
         "2016",
         "3",
         "11",
         "5",
         "40",
         "8572",
         "50",
         "0",
         "20.5",
         "36.2",
         "16.79",
         "41.56",
         "20.39",
         "37.145",
         "19.89",
         "34.0",
         "17.79",
         "49.96666667",
         "0.233333333",
         "70.39333333",
         "19.4725",
         "35.475",
         "21.0",
         "43.0",
         "18.16666667",
         "41.09",
         "-0.767",
         "763.6",
         "93.66666667",
         "1.333333333",
         "33.0",
         "-1.7",
         "8.882973576",
         "8.882973576",
         "5",
         "0.9845049128622031"
        ],
        [
         "5",
         "2016",
         "5",
         "20",
         "3",
         "50",
         "18641",
         "50",
         "0",
         "22.92666667",
         "41.29",
         "20.89",
         "43.036",
         "24.7",
         "40.0",
         "22.79",
         "40.32666667",
         "21.89",
         "54.356",
         "10.39",
         "49.02666667",
         "22.86142857",
         "36.66857143",
         "23.58571429",
         "43.75142857",
         "22.6",
         "44.29",
         "9.97",
         "757.7",
         "93.5",
         "4.666666667",
         "30.83333333",
         "8.92",
         "39.86076984",
         "39.86076984",
         "5",
         "0.9926100533780303"
        ],
        [
         "6",
         "2016",
         "2",
         "3",
         "19",
         "20",
         "3326",
         "120",
         "20",
         "22.39",
         "48.29333333",
         "21.5",
         "44.26666667",
         "22.79",
         "44.78",
         "21.42666667",
         "42.62333333",
         "18.89",
         "54.4",
         "5.59",
         "75.43333333",
         "18.6",
         "35.275",
         "22.205",
         "42.705",
         "18.39",
         "42.79",
         "5.23",
         "763.4666667",
         "80.33333333",
         "3.666666667",
         "40.0",
         "2.07",
         "30.09679483",
         "30.09679483",
         "3",
         "0.8356299787837658"
        ]
       ],
       "shape": {
        "columns": 36,
        "rows": 7
       }
      },
      "text/html": [
       "<div>\n",
       "<style scoped>\n",
       "    .dataframe tbody tr th:only-of-type {\n",
       "        vertical-align: middle;\n",
       "    }\n",
       "\n",
       "    .dataframe tbody tr th {\n",
       "        vertical-align: top;\n",
       "    }\n",
       "\n",
       "    .dataframe thead th {\n",
       "        text-align: right;\n",
       "    }\n",
       "</style>\n",
       "<table border=\"1\" class=\"dataframe\">\n",
       "  <thead>\n",
       "    <tr style=\"text-align: right;\">\n",
       "      <th></th>\n",
       "      <th>Year</th>\n",
       "      <th>Month</th>\n",
       "      <th>Day</th>\n",
       "      <th>Hours</th>\n",
       "      <th>Minutes</th>\n",
       "      <th>Time-since-start</th>\n",
       "      <th>Appliances</th>\n",
       "      <th>lights</th>\n",
       "      <th>T1</th>\n",
       "      <th>RH_1</th>\n",
       "      <th>...</th>\n",
       "      <th>T_out</th>\n",
       "      <th>Press_mm_hg</th>\n",
       "      <th>RH_out</th>\n",
       "      <th>Windspeed</th>\n",
       "      <th>Visibility</th>\n",
       "      <th>Tdewpoint</th>\n",
       "      <th>rv1</th>\n",
       "      <th>rv2</th>\n",
       "      <th>Weekday</th>\n",
       "      <th>Time_Cyclic</th>\n",
       "    </tr>\n",
       "  </thead>\n",
       "  <tbody>\n",
       "    <tr>\n",
       "      <th>0</th>\n",
       "      <td>2016</td>\n",
       "      <td>5</td>\n",
       "      <td>10</td>\n",
       "      <td>14</td>\n",
       "      <td>50</td>\n",
       "      <td>17267</td>\n",
       "      <td>60</td>\n",
       "      <td>0</td>\n",
       "      <td>25.200000</td>\n",
       "      <td>47.126667</td>\n",
       "      <td>...</td>\n",
       "      <td>18.800</td>\n",
       "      <td>750.150000</td>\n",
       "      <td>78.000000</td>\n",
       "      <td>4.500000</td>\n",
       "      <td>40.000000</td>\n",
       "      <td>14.80</td>\n",
       "      <td>41.358725</td>\n",
       "      <td>41.358725</td>\n",
       "      <td>2</td>\n",
       "      <td>0.899390</td>\n",
       "    </tr>\n",
       "    <tr>\n",
       "      <th>1</th>\n",
       "      <td>2016</td>\n",
       "      <td>5</td>\n",
       "      <td>4</td>\n",
       "      <td>21</td>\n",
       "      <td>50</td>\n",
       "      <td>16445</td>\n",
       "      <td>60</td>\n",
       "      <td>0</td>\n",
       "      <td>23.390000</td>\n",
       "      <td>33.790000</td>\n",
       "      <td>...</td>\n",
       "      <td>10.900</td>\n",
       "      <td>764.283333</td>\n",
       "      <td>57.333333</td>\n",
       "      <td>3.000000</td>\n",
       "      <td>40.000000</td>\n",
       "      <td>2.77</td>\n",
       "      <td>9.024852</td>\n",
       "      <td>9.024852</td>\n",
       "      <td>3</td>\n",
       "      <td>0.792149</td>\n",
       "    </tr>\n",
       "    <tr>\n",
       "      <th>2</th>\n",
       "      <td>2016</td>\n",
       "      <td>3</td>\n",
       "      <td>16</td>\n",
       "      <td>20</td>\n",
       "      <td>20</td>\n",
       "      <td>9380</td>\n",
       "      <td>140</td>\n",
       "      <td>20</td>\n",
       "      <td>22.600000</td>\n",
       "      <td>37.360000</td>\n",
       "      <td>...</td>\n",
       "      <td>5.270</td>\n",
       "      <td>765.200000</td>\n",
       "      <td>62.000000</td>\n",
       "      <td>5.666667</td>\n",
       "      <td>23.333333</td>\n",
       "      <td>-1.50</td>\n",
       "      <td>49.291757</td>\n",
       "      <td>49.291757</td>\n",
       "      <td>3</td>\n",
       "      <td>0.819375</td>\n",
       "    </tr>\n",
       "    <tr>\n",
       "      <th>3</th>\n",
       "      <td>2016</td>\n",
       "      <td>3</td>\n",
       "      <td>19</td>\n",
       "      <td>2</td>\n",
       "      <td>30</td>\n",
       "      <td>9705</td>\n",
       "      <td>50</td>\n",
       "      <td>0</td>\n",
       "      <td>21.790000</td>\n",
       "      <td>36.760000</td>\n",
       "      <td>...</td>\n",
       "      <td>4.700</td>\n",
       "      <td>762.300000</td>\n",
       "      <td>92.000000</td>\n",
       "      <td>3.500000</td>\n",
       "      <td>62.500000</td>\n",
       "      <td>3.50</td>\n",
       "      <td>0.102888</td>\n",
       "      <td>0.102888</td>\n",
       "      <td>6</td>\n",
       "      <td>0.996873</td>\n",
       "    </tr>\n",
       "    <tr>\n",
       "      <th>4</th>\n",
       "      <td>2016</td>\n",
       "      <td>3</td>\n",
       "      <td>11</td>\n",
       "      <td>5</td>\n",
       "      <td>40</td>\n",
       "      <td>8572</td>\n",
       "      <td>50</td>\n",
       "      <td>0</td>\n",
       "      <td>20.500000</td>\n",
       "      <td>36.200000</td>\n",
       "      <td>...</td>\n",
       "      <td>-0.767</td>\n",
       "      <td>763.600000</td>\n",
       "      <td>93.666667</td>\n",
       "      <td>1.333333</td>\n",
       "      <td>33.000000</td>\n",
       "      <td>-1.70</td>\n",
       "      <td>8.882974</td>\n",
       "      <td>8.882974</td>\n",
       "      <td>5</td>\n",
       "      <td>0.984505</td>\n",
       "    </tr>\n",
       "    <tr>\n",
       "      <th>5</th>\n",
       "      <td>2016</td>\n",
       "      <td>5</td>\n",
       "      <td>20</td>\n",
       "      <td>3</td>\n",
       "      <td>50</td>\n",
       "      <td>18641</td>\n",
       "      <td>50</td>\n",
       "      <td>0</td>\n",
       "      <td>22.926667</td>\n",
       "      <td>41.290000</td>\n",
       "      <td>...</td>\n",
       "      <td>9.970</td>\n",
       "      <td>757.700000</td>\n",
       "      <td>93.500000</td>\n",
       "      <td>4.666667</td>\n",
       "      <td>30.833333</td>\n",
       "      <td>8.92</td>\n",
       "      <td>39.860770</td>\n",
       "      <td>39.860770</td>\n",
       "      <td>5</td>\n",
       "      <td>0.992610</td>\n",
       "    </tr>\n",
       "    <tr>\n",
       "      <th>6</th>\n",
       "      <td>2016</td>\n",
       "      <td>2</td>\n",
       "      <td>3</td>\n",
       "      <td>19</td>\n",
       "      <td>20</td>\n",
       "      <td>3326</td>\n",
       "      <td>120</td>\n",
       "      <td>20</td>\n",
       "      <td>22.390000</td>\n",
       "      <td>48.293333</td>\n",
       "      <td>...</td>\n",
       "      <td>5.230</td>\n",
       "      <td>763.466667</td>\n",
       "      <td>80.333333</td>\n",
       "      <td>3.666667</td>\n",
       "      <td>40.000000</td>\n",
       "      <td>2.07</td>\n",
       "      <td>30.096795</td>\n",
       "      <td>30.096795</td>\n",
       "      <td>3</td>\n",
       "      <td>0.835630</td>\n",
       "    </tr>\n",
       "  </tbody>\n",
       "</table>\n",
       "<p>7 rows × 36 columns</p>\n",
       "</div>"
      ],
      "text/plain": [
       "   Year  Month  Day  Hours  Minutes  Time-since-start  Appliances  lights  \\\n",
       "0  2016      5   10     14       50             17267          60       0   \n",
       "1  2016      5    4     21       50             16445          60       0   \n",
       "2  2016      3   16     20       20              9380         140      20   \n",
       "3  2016      3   19      2       30              9705          50       0   \n",
       "4  2016      3   11      5       40              8572          50       0   \n",
       "5  2016      5   20      3       50             18641          50       0   \n",
       "6  2016      2    3     19       20              3326         120      20   \n",
       "\n",
       "          T1       RH_1  ...   T_out  Press_mm_hg     RH_out  Windspeed  \\\n",
       "0  25.200000  47.126667  ...  18.800   750.150000  78.000000   4.500000   \n",
       "1  23.390000  33.790000  ...  10.900   764.283333  57.333333   3.000000   \n",
       "2  22.600000  37.360000  ...   5.270   765.200000  62.000000   5.666667   \n",
       "3  21.790000  36.760000  ...   4.700   762.300000  92.000000   3.500000   \n",
       "4  20.500000  36.200000  ...  -0.767   763.600000  93.666667   1.333333   \n",
       "5  22.926667  41.290000  ...   9.970   757.700000  93.500000   4.666667   \n",
       "6  22.390000  48.293333  ...   5.230   763.466667  80.333333   3.666667   \n",
       "\n",
       "   Visibility  Tdewpoint        rv1        rv2  Weekday  Time_Cyclic  \n",
       "0   40.000000      14.80  41.358725  41.358725        2     0.899390  \n",
       "1   40.000000       2.77   9.024852   9.024852        3     0.792149  \n",
       "2   23.333333      -1.50  49.291757  49.291757        3     0.819375  \n",
       "3   62.500000       3.50   0.102888   0.102888        6     0.996873  \n",
       "4   33.000000      -1.70   8.882974   8.882974        5     0.984505  \n",
       "5   30.833333       8.92  39.860770  39.860770        5     0.992610  \n",
       "6   40.000000       2.07  30.096795  30.096795        3     0.835630  \n",
       "\n",
       "[7 rows x 36 columns]"
      ]
     },
     "execution_count": 123,
     "metadata": {},
     "output_type": "execute_result"
    }
   ],
   "source": [
    "training_df.head(7)"
   ]
  },
  {
   "cell_type": "code",
   "execution_count": 72,
   "metadata": {},
   "outputs": [],
   "source": [
    "# Year is not different\n",
    "X = training_df.drop(columns=['Year', 'Appliances', 'Hours', 'Minutes'])\n",
    "y = training_df['Appliances']"
   ]
  },
  {
   "cell_type": "markdown",
   "metadata": {},
   "source": [
    "# Training"
   ]
  },
  {
   "cell_type": "code",
   "execution_count": 73,
   "metadata": {},
   "outputs": [],
   "source": [
    "X_train, X_test, y_train, y_test = train_test_split(X, y, test_size=0.2, random_state=117)"
   ]
  },
  {
   "cell_type": "markdown",
   "metadata": {},
   "source": [
    "## Model"
   ]
  },
  {
   "cell_type": "code",
   "execution_count": 74,
   "metadata": {},
   "outputs": [
    {
     "data": {
      "text/html": [
       "<style>#sk-container-id-4 {\n",
       "  /* Definition of color scheme common for light and dark mode */\n",
       "  --sklearn-color-text: black;\n",
       "  --sklearn-color-line: gray;\n",
       "  /* Definition of color scheme for unfitted estimators */\n",
       "  --sklearn-color-unfitted-level-0: #fff5e6;\n",
       "  --sklearn-color-unfitted-level-1: #f6e4d2;\n",
       "  --sklearn-color-unfitted-level-2: #ffe0b3;\n",
       "  --sklearn-color-unfitted-level-3: chocolate;\n",
       "  /* Definition of color scheme for fitted estimators */\n",
       "  --sklearn-color-fitted-level-0: #f0f8ff;\n",
       "  --sklearn-color-fitted-level-1: #d4ebff;\n",
       "  --sklearn-color-fitted-level-2: #b3dbfd;\n",
       "  --sklearn-color-fitted-level-3: cornflowerblue;\n",
       "\n",
       "  /* Specific color for light theme */\n",
       "  --sklearn-color-text-on-default-background: var(--sg-text-color, var(--theme-code-foreground, var(--jp-content-font-color1, black)));\n",
       "  --sklearn-color-background: var(--sg-background-color, var(--theme-background, var(--jp-layout-color0, white)));\n",
       "  --sklearn-color-border-box: var(--sg-text-color, var(--theme-code-foreground, var(--jp-content-font-color1, black)));\n",
       "  --sklearn-color-icon: #696969;\n",
       "\n",
       "  @media (prefers-color-scheme: dark) {\n",
       "    /* Redefinition of color scheme for dark theme */\n",
       "    --sklearn-color-text-on-default-background: var(--sg-text-color, var(--theme-code-foreground, var(--jp-content-font-color1, white)));\n",
       "    --sklearn-color-background: var(--sg-background-color, var(--theme-background, var(--jp-layout-color0, #111)));\n",
       "    --sklearn-color-border-box: var(--sg-text-color, var(--theme-code-foreground, var(--jp-content-font-color1, white)));\n",
       "    --sklearn-color-icon: #878787;\n",
       "  }\n",
       "}\n",
       "\n",
       "#sk-container-id-4 {\n",
       "  color: var(--sklearn-color-text);\n",
       "}\n",
       "\n",
       "#sk-container-id-4 pre {\n",
       "  padding: 0;\n",
       "}\n",
       "\n",
       "#sk-container-id-4 input.sk-hidden--visually {\n",
       "  border: 0;\n",
       "  clip: rect(1px 1px 1px 1px);\n",
       "  clip: rect(1px, 1px, 1px, 1px);\n",
       "  height: 1px;\n",
       "  margin: -1px;\n",
       "  overflow: hidden;\n",
       "  padding: 0;\n",
       "  position: absolute;\n",
       "  width: 1px;\n",
       "}\n",
       "\n",
       "#sk-container-id-4 div.sk-dashed-wrapped {\n",
       "  border: 1px dashed var(--sklearn-color-line);\n",
       "  margin: 0 0.4em 0.5em 0.4em;\n",
       "  box-sizing: border-box;\n",
       "  padding-bottom: 0.4em;\n",
       "  background-color: var(--sklearn-color-background);\n",
       "}\n",
       "\n",
       "#sk-container-id-4 div.sk-container {\n",
       "  /* jupyter's `normalize.less` sets `[hidden] { display: none; }`\n",
       "     but bootstrap.min.css set `[hidden] { display: none !important; }`\n",
       "     so we also need the `!important` here to be able to override the\n",
       "     default hidden behavior on the sphinx rendered scikit-learn.org.\n",
       "     See: https://github.com/scikit-learn/scikit-learn/issues/21755 */\n",
       "  display: inline-block !important;\n",
       "  position: relative;\n",
       "}\n",
       "\n",
       "#sk-container-id-4 div.sk-text-repr-fallback {\n",
       "  display: none;\n",
       "}\n",
       "\n",
       "div.sk-parallel-item,\n",
       "div.sk-serial,\n",
       "div.sk-item {\n",
       "  /* draw centered vertical line to link estimators */\n",
       "  background-image: linear-gradient(var(--sklearn-color-text-on-default-background), var(--sklearn-color-text-on-default-background));\n",
       "  background-size: 2px 100%;\n",
       "  background-repeat: no-repeat;\n",
       "  background-position: center center;\n",
       "}\n",
       "\n",
       "/* Parallel-specific style estimator block */\n",
       "\n",
       "#sk-container-id-4 div.sk-parallel-item::after {\n",
       "  content: \"\";\n",
       "  width: 100%;\n",
       "  border-bottom: 2px solid var(--sklearn-color-text-on-default-background);\n",
       "  flex-grow: 1;\n",
       "}\n",
       "\n",
       "#sk-container-id-4 div.sk-parallel {\n",
       "  display: flex;\n",
       "  align-items: stretch;\n",
       "  justify-content: center;\n",
       "  background-color: var(--sklearn-color-background);\n",
       "  position: relative;\n",
       "}\n",
       "\n",
       "#sk-container-id-4 div.sk-parallel-item {\n",
       "  display: flex;\n",
       "  flex-direction: column;\n",
       "}\n",
       "\n",
       "#sk-container-id-4 div.sk-parallel-item:first-child::after {\n",
       "  align-self: flex-end;\n",
       "  width: 50%;\n",
       "}\n",
       "\n",
       "#sk-container-id-4 div.sk-parallel-item:last-child::after {\n",
       "  align-self: flex-start;\n",
       "  width: 50%;\n",
       "}\n",
       "\n",
       "#sk-container-id-4 div.sk-parallel-item:only-child::after {\n",
       "  width: 0;\n",
       "}\n",
       "\n",
       "/* Serial-specific style estimator block */\n",
       "\n",
       "#sk-container-id-4 div.sk-serial {\n",
       "  display: flex;\n",
       "  flex-direction: column;\n",
       "  align-items: center;\n",
       "  background-color: var(--sklearn-color-background);\n",
       "  padding-right: 1em;\n",
       "  padding-left: 1em;\n",
       "}\n",
       "\n",
       "\n",
       "/* Toggleable style: style used for estimator/Pipeline/ColumnTransformer box that is\n",
       "clickable and can be expanded/collapsed.\n",
       "- Pipeline and ColumnTransformer use this feature and define the default style\n",
       "- Estimators will overwrite some part of the style using the `sk-estimator` class\n",
       "*/\n",
       "\n",
       "/* Pipeline and ColumnTransformer style (default) */\n",
       "\n",
       "#sk-container-id-4 div.sk-toggleable {\n",
       "  /* Default theme specific background. It is overwritten whether we have a\n",
       "  specific estimator or a Pipeline/ColumnTransformer */\n",
       "  background-color: var(--sklearn-color-background);\n",
       "}\n",
       "\n",
       "/* Toggleable label */\n",
       "#sk-container-id-4 label.sk-toggleable__label {\n",
       "  cursor: pointer;\n",
       "  display: block;\n",
       "  width: 100%;\n",
       "  margin-bottom: 0;\n",
       "  padding: 0.5em;\n",
       "  box-sizing: border-box;\n",
       "  text-align: center;\n",
       "}\n",
       "\n",
       "#sk-container-id-4 label.sk-toggleable__label-arrow:before {\n",
       "  /* Arrow on the left of the label */\n",
       "  content: \"▸\";\n",
       "  float: left;\n",
       "  margin-right: 0.25em;\n",
       "  color: var(--sklearn-color-icon);\n",
       "}\n",
       "\n",
       "#sk-container-id-4 label.sk-toggleable__label-arrow:hover:before {\n",
       "  color: var(--sklearn-color-text);\n",
       "}\n",
       "\n",
       "/* Toggleable content - dropdown */\n",
       "\n",
       "#sk-container-id-4 div.sk-toggleable__content {\n",
       "  max-height: 0;\n",
       "  max-width: 0;\n",
       "  overflow: hidden;\n",
       "  text-align: left;\n",
       "  /* unfitted */\n",
       "  background-color: var(--sklearn-color-unfitted-level-0);\n",
       "}\n",
       "\n",
       "#sk-container-id-4 div.sk-toggleable__content.fitted {\n",
       "  /* fitted */\n",
       "  background-color: var(--sklearn-color-fitted-level-0);\n",
       "}\n",
       "\n",
       "#sk-container-id-4 div.sk-toggleable__content pre {\n",
       "  margin: 0.2em;\n",
       "  border-radius: 0.25em;\n",
       "  color: var(--sklearn-color-text);\n",
       "  /* unfitted */\n",
       "  background-color: var(--sklearn-color-unfitted-level-0);\n",
       "}\n",
       "\n",
       "#sk-container-id-4 div.sk-toggleable__content.fitted pre {\n",
       "  /* unfitted */\n",
       "  background-color: var(--sklearn-color-fitted-level-0);\n",
       "}\n",
       "\n",
       "#sk-container-id-4 input.sk-toggleable__control:checked~div.sk-toggleable__content {\n",
       "  /* Expand drop-down */\n",
       "  max-height: 200px;\n",
       "  max-width: 100%;\n",
       "  overflow: auto;\n",
       "}\n",
       "\n",
       "#sk-container-id-4 input.sk-toggleable__control:checked~label.sk-toggleable__label-arrow:before {\n",
       "  content: \"▾\";\n",
       "}\n",
       "\n",
       "/* Pipeline/ColumnTransformer-specific style */\n",
       "\n",
       "#sk-container-id-4 div.sk-label input.sk-toggleable__control:checked~label.sk-toggleable__label {\n",
       "  color: var(--sklearn-color-text);\n",
       "  background-color: var(--sklearn-color-unfitted-level-2);\n",
       "}\n",
       "\n",
       "#sk-container-id-4 div.sk-label.fitted input.sk-toggleable__control:checked~label.sk-toggleable__label {\n",
       "  background-color: var(--sklearn-color-fitted-level-2);\n",
       "}\n",
       "\n",
       "/* Estimator-specific style */\n",
       "\n",
       "/* Colorize estimator box */\n",
       "#sk-container-id-4 div.sk-estimator input.sk-toggleable__control:checked~label.sk-toggleable__label {\n",
       "  /* unfitted */\n",
       "  background-color: var(--sklearn-color-unfitted-level-2);\n",
       "}\n",
       "\n",
       "#sk-container-id-4 div.sk-estimator.fitted input.sk-toggleable__control:checked~label.sk-toggleable__label {\n",
       "  /* fitted */\n",
       "  background-color: var(--sklearn-color-fitted-level-2);\n",
       "}\n",
       "\n",
       "#sk-container-id-4 div.sk-label label.sk-toggleable__label,\n",
       "#sk-container-id-4 div.sk-label label {\n",
       "  /* The background is the default theme color */\n",
       "  color: var(--sklearn-color-text-on-default-background);\n",
       "}\n",
       "\n",
       "/* On hover, darken the color of the background */\n",
       "#sk-container-id-4 div.sk-label:hover label.sk-toggleable__label {\n",
       "  color: var(--sklearn-color-text);\n",
       "  background-color: var(--sklearn-color-unfitted-level-2);\n",
       "}\n",
       "\n",
       "/* Label box, darken color on hover, fitted */\n",
       "#sk-container-id-4 div.sk-label.fitted:hover label.sk-toggleable__label.fitted {\n",
       "  color: var(--sklearn-color-text);\n",
       "  background-color: var(--sklearn-color-fitted-level-2);\n",
       "}\n",
       "\n",
       "/* Estimator label */\n",
       "\n",
       "#sk-container-id-4 div.sk-label label {\n",
       "  font-family: monospace;\n",
       "  font-weight: bold;\n",
       "  display: inline-block;\n",
       "  line-height: 1.2em;\n",
       "}\n",
       "\n",
       "#sk-container-id-4 div.sk-label-container {\n",
       "  text-align: center;\n",
       "}\n",
       "\n",
       "/* Estimator-specific */\n",
       "#sk-container-id-4 div.sk-estimator {\n",
       "  font-family: monospace;\n",
       "  border: 1px dotted var(--sklearn-color-border-box);\n",
       "  border-radius: 0.25em;\n",
       "  box-sizing: border-box;\n",
       "  margin-bottom: 0.5em;\n",
       "  /* unfitted */\n",
       "  background-color: var(--sklearn-color-unfitted-level-0);\n",
       "}\n",
       "\n",
       "#sk-container-id-4 div.sk-estimator.fitted {\n",
       "  /* fitted */\n",
       "  background-color: var(--sklearn-color-fitted-level-0);\n",
       "}\n",
       "\n",
       "/* on hover */\n",
       "#sk-container-id-4 div.sk-estimator:hover {\n",
       "  /* unfitted */\n",
       "  background-color: var(--sklearn-color-unfitted-level-2);\n",
       "}\n",
       "\n",
       "#sk-container-id-4 div.sk-estimator.fitted:hover {\n",
       "  /* fitted */\n",
       "  background-color: var(--sklearn-color-fitted-level-2);\n",
       "}\n",
       "\n",
       "/* Specification for estimator info (e.g. \"i\" and \"?\") */\n",
       "\n",
       "/* Common style for \"i\" and \"?\" */\n",
       "\n",
       ".sk-estimator-doc-link,\n",
       "a:link.sk-estimator-doc-link,\n",
       "a:visited.sk-estimator-doc-link {\n",
       "  float: right;\n",
       "  font-size: smaller;\n",
       "  line-height: 1em;\n",
       "  font-family: monospace;\n",
       "  background-color: var(--sklearn-color-background);\n",
       "  border-radius: 1em;\n",
       "  height: 1em;\n",
       "  width: 1em;\n",
       "  text-decoration: none !important;\n",
       "  margin-left: 1ex;\n",
       "  /* unfitted */\n",
       "  border: var(--sklearn-color-unfitted-level-1) 1pt solid;\n",
       "  color: var(--sklearn-color-unfitted-level-1);\n",
       "}\n",
       "\n",
       ".sk-estimator-doc-link.fitted,\n",
       "a:link.sk-estimator-doc-link.fitted,\n",
       "a:visited.sk-estimator-doc-link.fitted {\n",
       "  /* fitted */\n",
       "  border: var(--sklearn-color-fitted-level-1) 1pt solid;\n",
       "  color: var(--sklearn-color-fitted-level-1);\n",
       "}\n",
       "\n",
       "/* On hover */\n",
       "div.sk-estimator:hover .sk-estimator-doc-link:hover,\n",
       ".sk-estimator-doc-link:hover,\n",
       "div.sk-label-container:hover .sk-estimator-doc-link:hover,\n",
       ".sk-estimator-doc-link:hover {\n",
       "  /* unfitted */\n",
       "  background-color: var(--sklearn-color-unfitted-level-3);\n",
       "  color: var(--sklearn-color-background);\n",
       "  text-decoration: none;\n",
       "}\n",
       "\n",
       "div.sk-estimator.fitted:hover .sk-estimator-doc-link.fitted:hover,\n",
       ".sk-estimator-doc-link.fitted:hover,\n",
       "div.sk-label-container:hover .sk-estimator-doc-link.fitted:hover,\n",
       ".sk-estimator-doc-link.fitted:hover {\n",
       "  /* fitted */\n",
       "  background-color: var(--sklearn-color-fitted-level-3);\n",
       "  color: var(--sklearn-color-background);\n",
       "  text-decoration: none;\n",
       "}\n",
       "\n",
       "/* Span, style for the box shown on hovering the info icon */\n",
       ".sk-estimator-doc-link span {\n",
       "  display: none;\n",
       "  z-index: 9999;\n",
       "  position: relative;\n",
       "  font-weight: normal;\n",
       "  right: .2ex;\n",
       "  padding: .5ex;\n",
       "  margin: .5ex;\n",
       "  width: min-content;\n",
       "  min-width: 20ex;\n",
       "  max-width: 50ex;\n",
       "  color: var(--sklearn-color-text);\n",
       "  box-shadow: 2pt 2pt 4pt #999;\n",
       "  /* unfitted */\n",
       "  background: var(--sklearn-color-unfitted-level-0);\n",
       "  border: .5pt solid var(--sklearn-color-unfitted-level-3);\n",
       "}\n",
       "\n",
       ".sk-estimator-doc-link.fitted span {\n",
       "  /* fitted */\n",
       "  background: var(--sklearn-color-fitted-level-0);\n",
       "  border: var(--sklearn-color-fitted-level-3);\n",
       "}\n",
       "\n",
       ".sk-estimator-doc-link:hover span {\n",
       "  display: block;\n",
       "}\n",
       "\n",
       "/* \"?\"-specific style due to the `<a>` HTML tag */\n",
       "\n",
       "#sk-container-id-4 a.estimator_doc_link {\n",
       "  float: right;\n",
       "  font-size: 1rem;\n",
       "  line-height: 1em;\n",
       "  font-family: monospace;\n",
       "  background-color: var(--sklearn-color-background);\n",
       "  border-radius: 1rem;\n",
       "  height: 1rem;\n",
       "  width: 1rem;\n",
       "  text-decoration: none;\n",
       "  /* unfitted */\n",
       "  color: var(--sklearn-color-unfitted-level-1);\n",
       "  border: var(--sklearn-color-unfitted-level-1) 1pt solid;\n",
       "}\n",
       "\n",
       "#sk-container-id-4 a.estimator_doc_link.fitted {\n",
       "  /* fitted */\n",
       "  border: var(--sklearn-color-fitted-level-1) 1pt solid;\n",
       "  color: var(--sklearn-color-fitted-level-1);\n",
       "}\n",
       "\n",
       "/* On hover */\n",
       "#sk-container-id-4 a.estimator_doc_link:hover {\n",
       "  /* unfitted */\n",
       "  background-color: var(--sklearn-color-unfitted-level-3);\n",
       "  color: var(--sklearn-color-background);\n",
       "  text-decoration: none;\n",
       "}\n",
       "\n",
       "#sk-container-id-4 a.estimator_doc_link.fitted:hover {\n",
       "  /* fitted */\n",
       "  background-color: var(--sklearn-color-fitted-level-3);\n",
       "}\n",
       "</style><div id=\"sk-container-id-4\" class=\"sk-top-container\"><div class=\"sk-text-repr-fallback\"><pre>XGBRegressor(base_score=None, booster=None, callbacks=None,\n",
       "             colsample_bylevel=None, colsample_bynode=None,\n",
       "             colsample_bytree=None, device=None, early_stopping_rounds=None,\n",
       "             enable_categorical=False, eval_metric=None, feature_types=None,\n",
       "             gamma=None, grow_policy=None, importance_type=None,\n",
       "             interaction_constraints=None, learning_rate=None, max_bin=None,\n",
       "             max_cat_threshold=None, max_cat_to_onehot=None,\n",
       "             max_delta_step=None, max_depth=None, max_leaves=None,\n",
       "             min_child_weight=None, missing=nan, monotone_constraints=None,\n",
       "             multi_strategy=None, n_estimators=None, n_jobs=None,\n",
       "             num_parallel_tree=None, random_state=117, ...)</pre><b>In a Jupyter environment, please rerun this cell to show the HTML representation or trust the notebook. <br />On GitHub, the HTML representation is unable to render, please try loading this page with nbviewer.org.</b></div><div class=\"sk-container\" hidden><div class=\"sk-item\"><div class=\"sk-estimator fitted sk-toggleable\"><input class=\"sk-toggleable__control sk-hidden--visually\" id=\"sk-estimator-id-4\" type=\"checkbox\" checked><label for=\"sk-estimator-id-4\" class=\"sk-toggleable__label fitted sk-toggleable__label-arrow fitted\">&nbsp;XGBRegressor<span class=\"sk-estimator-doc-link fitted\">i<span>Fitted</span></span></label><div class=\"sk-toggleable__content fitted\"><pre>XGBRegressor(base_score=None, booster=None, callbacks=None,\n",
       "             colsample_bylevel=None, colsample_bynode=None,\n",
       "             colsample_bytree=None, device=None, early_stopping_rounds=None,\n",
       "             enable_categorical=False, eval_metric=None, feature_types=None,\n",
       "             gamma=None, grow_policy=None, importance_type=None,\n",
       "             interaction_constraints=None, learning_rate=None, max_bin=None,\n",
       "             max_cat_threshold=None, max_cat_to_onehot=None,\n",
       "             max_delta_step=None, max_depth=None, max_leaves=None,\n",
       "             min_child_weight=None, missing=nan, monotone_constraints=None,\n",
       "             multi_strategy=None, n_estimators=None, n_jobs=None,\n",
       "             num_parallel_tree=None, random_state=117, ...)</pre></div> </div></div></div></div>"
      ],
      "text/plain": [
       "XGBRegressor(base_score=None, booster=None, callbacks=None,\n",
       "             colsample_bylevel=None, colsample_bynode=None,\n",
       "             colsample_bytree=None, device=None, early_stopping_rounds=None,\n",
       "             enable_categorical=False, eval_metric=None, feature_types=None,\n",
       "             gamma=None, grow_policy=None, importance_type=None,\n",
       "             interaction_constraints=None, learning_rate=None, max_bin=None,\n",
       "             max_cat_threshold=None, max_cat_to_onehot=None,\n",
       "             max_delta_step=None, max_depth=None, max_leaves=None,\n",
       "             min_child_weight=None, missing=nan, monotone_constraints=None,\n",
       "             multi_strategy=None, n_estimators=None, n_jobs=None,\n",
       "             num_parallel_tree=None, random_state=117, ...)"
      ]
     },
     "execution_count": 74,
     "metadata": {},
     "output_type": "execute_result"
    }
   ],
   "source": [
    "model = xgb.XGBRegressor(random_state=117)\n",
    "model.fit(X_train, y_train)"
   ]
  },
  {
   "cell_type": "markdown",
   "metadata": {},
   "source": [
    "## Feature Weights and Gains"
   ]
  },
  {
   "cell_type": "code",
   "execution_count": 75,
   "metadata": {},
   "outputs": [
    {
     "data": {
      "text/plain": [
       "<Axes: title={'center': 'Feat. Import. - Weight'}, xlabel='F score', ylabel='Features'>"
      ]
     },
     "execution_count": 75,
     "metadata": {},
     "output_type": "execute_result"
    },
    {
     "data": {
      "image/png": "[encoded data removed]",
      "text/plain": [
       "<Figure size 640x480 with 1 Axes>"
      ]
     },
     "metadata": {},
     "output_type": "display_data"
    }
   ],
   "source": [
    "xgb.plot_importance(model, importance_type='weight', title='Feat. Import. - Weight')"
   ]
  },
  {
   "cell_type": "code",
   "execution_count": 76,
   "metadata": {},
   "outputs": [
    {
     "data": {
      "text/plain": [
       "<Axes: title={'center': 'Feat. Import. - Gain'}, xlabel='F score', ylabel='Features'>"
      ]
     },
     "execution_count": 76,
     "metadata": {},
     "output_type": "execute_result"
    },
    {
     "data": {
      "image/png": "[encoded data removed]",
      "text/plain": [
       "<Figure size 640x480 with 1 Axes>"
      ]
     },
     "metadata": {},
     "output_type": "display_data"
    }
   ],
   "source": [
    "xgb.plot_importance(model, importance_type='gain', title='Feat. Import. - Gain')"
   ]
  },
  {
   "cell_type": "markdown",
   "metadata": {},
   "source": [
    "## Training Predictions"
   ]
  },
  {
   "cell_type": "code",
   "execution_count": 115,
   "metadata": {},
   "outputs": [],
   "source": [
    "pred = model.predict(X_test)\n",
    "# pred_data = pd.DataFrame(pred)\n",
    "# pred_data.to_csv('./ICE-2/ice-predictions.csv', index=False)"
   ]
  },
  {
   "cell_type": "code",
   "execution_count": 116,
   "metadata": {},
   "outputs": [],
   "source": [
    "rmse = root_mean_squared_error(y_test, pred)\n",
    "mse = mean_squared_error(y_test, pred)\n",
    "meanae = mean_absolute_error(y_test, pred)\n",
    "medae = median_absolute_error(y_test, pred)\n",
    "r2 = r2_score(y_test, pred)"
   ]
  },
  {
   "cell_type": "code",
   "execution_count": 117,
   "metadata": {},
   "outputs": [
    {
     "name": "stdout",
     "output_type": "stream",
     "text": [
      "Root Mean Squared Error (RMSE): 71.13320\n",
      "Mean Squared Error (MSE): 5059.93226\n",
      "Mean Absolute Error (MAE): 36.90989\n",
      "Median Absolute Error (MAE): 15.63345\n",
      "R^2 Error (R^2): 0.50828\n"
     ]
    }
   ],
   "source": [
    "print(f\"Root Mean Squared Error (RMSE): {rmse:.5f}\")\n",
    "print(f\"Mean Squared Error (MSE): {mse:.5f}\")\n",
    "print(f\"Mean Absolute Error (MAE): {meanae:.5f}\")\n",
    "print(f\"Median Absolute Error (MAE): {medae:.5f}\")\n",
    "print(f\"R^2 Error (R^2): {r2:.5f}\")"
   ]
  },
  {
   "cell_type": "code",
   "execution_count": 80,
   "metadata": {},
   "outputs": [
    {
     "data": {
      "text/plain": [
       "['ICE-2\\\\good_model.pkl']"
      ]
     },
     "execution_count": 80,
     "metadata": {},
     "output_type": "execute_result"
    }
   ],
   "source": [
    "joblib.dump(model, 'ICE-2\\\\good_model.pkl')"
   ]
  },
  {
   "cell_type": "markdown",
   "metadata": {},
   "source": [
    "# Multi-Randomized"
   ]
  },
  {
   "cell_type": "code",
   "execution_count": 81,
   "metadata": {},
   "outputs": [],
   "source": [
    "rdm_mdls = []\n",
    "rdm_combis = []\n",
    "rdm_nmbrs = []\n",
    "rdm_stats = pd.DataFrame(columns=['Random Split', 'Random Model', 'Mean_Abs', 'Med_Abs', 'R2'])\n",
    "\n",
    "# DO NOT LET THE RANGE GO HIGH, REMEMBER n!, n over 150 is undefined because it is too big, limit to at most 100\n",
    "# \n",
    "for i in range(100):\n",
    "    ran_int = random.randint(1, 10000)\n",
    "    rdm_nmbrs.append(ran_int)\n",
    "\n",
    "for combi in itertools.combinations(rdm_nmbrs, 2):\n",
    "    rdm_combis.append(list(combi))"
   ]
  },
  {
   "cell_type": "code",
   "execution_count": 82,
   "metadata": {},
   "outputs": [
    {
     "name": "stderr",
     "output_type": "stream",
     "text": [
      "C:\\Users\\Zhenterigone\\AppData\\Local\\Temp\\ipykernel_10356\\1127492616.py:16: FutureWarning: The behavior of DataFrame concatenation with empty or all-NA entries is deprecated. In a future version, this will no longer exclude empty or all-NA columns when determining the result dtypes. To retain the old behavior, exclude the relevant entries before the concat operation.\n",
      "  rdm_stats = pd.concat([rdm_stats, new_data], ignore_index=True)\n"
     ]
    }
   ],
   "source": [
    "X_rdm = training_df.copy().drop(columns=['Year', 'Appliances'])\n",
    "y_rdm = training_df['Appliances']\n",
    "\n",
    "for i in range(0, len(rdm_combis)):\n",
    "    combi_model = xgb.XGBRFRegressor(random_state=rdm_combis[i][1], enable_categorical=True)\n",
    "    X_tmp_trn, X_tmp_tst, y_tmp_trn, y_tmp_tst = train_test_split(X_rdm, y_rdm, test_size=0.2, random_state=rdm_combis[i][0])\n",
    "\n",
    "    # temp_test = X_tmp_tst.copy()\n",
    "    combi_model.fit(X_tmp_trn, y_tmp_trn)\n",
    "    rdm_mdls.append(combi_model)\n",
    "    pred = combi_model.predict(X_tmp_tst)\n",
    "    mean_er = mean_absolute_error(y_tmp_tst, pred)\n",
    "    med_er = median_absolute_error(y_tmp_tst, pred)\n",
    "    r2_er = r2_score(y_tmp_tst, pred)\n",
    "    new_data = pd.DataFrame([[rdm_combis[i][0], rdm_combis[i][1], mean_er, med_er, r2_er]], columns=['Random Split', 'Random Model', 'Mean_Abs', 'Med_Abs', 'R2'])\n",
    "    rdm_stats = pd.concat([rdm_stats, new_data], ignore_index=True)"
   ]
  },
  {
   "cell_type": "code",
   "execution_count": 83,
   "metadata": {},
   "outputs": [],
   "source": [
    "rdm_combi_sort_R2 = rdm_stats.sort_values(by='R2', ascending=False)"
   ]
  },
  {
   "cell_type": "code",
   "execution_count": 84,
   "metadata": {},
   "outputs": [
    {
     "data": {
      "application/vnd.microsoft.datawrangler.viewer.v0+json": {
       "columns": [
        {
         "name": "index",
         "rawType": "int64",
         "type": "integer"
        },
        {
         "name": "Random Split",
         "rawType": "object",
         "type": "unknown"
        },
        {
         "name": "Random Model",
         "rawType": "object",
         "type": "unknown"
        },
        {
         "name": "Mean_Abs",
         "rawType": "float64",
         "type": "float"
        },
        {
         "name": "Med_Abs",
         "rawType": "float64",
         "type": "float"
        },
        {
         "name": "R2",
         "rawType": "float64",
         "type": "float"
        }
       ],
       "conversionMethod": "pd.DataFrame",
       "ref": "edf3b3cd-958c-4826-a415-0469a305f8a5",
       "rows": [
        [
         "3323",
         "5752",
         "2329",
         "45.56248446128351",
         "23.893569946289062",
         "0.2911073565483093"
        ],
        [
         "3341",
         "5752",
         "2729",
         "45.560881847957916",
         "24.054096221923828",
         "0.2900885343551636"
        ],
        [
         "3314",
         "5752",
         "856",
         "45.70084274895757",
         "23.970870971679688",
         "0.28925055265426636"
        ],
        [
         "3345",
         "5752",
         "4991",
         "45.75647590966533",
         "24.02863311767578",
         "0.2880675792694092"
        ],
        [
         "3305",
         "5752",
         "8708",
         "45.76660989994625",
         "23.925922393798828",
         "0.28780031204223633"
        ]
       ],
       "shape": {
        "columns": 5,
        "rows": 5
       }
      },
      "text/html": [
       "<div>\n",
       "<style scoped>\n",
       "    .dataframe tbody tr th:only-of-type {\n",
       "        vertical-align: middle;\n",
       "    }\n",
       "\n",
       "    .dataframe tbody tr th {\n",
       "        vertical-align: top;\n",
       "    }\n",
       "\n",
       "    .dataframe thead th {\n",
       "        text-align: right;\n",
       "    }\n",
       "</style>\n",
       "<table border=\"1\" class=\"dataframe\">\n",
       "  <thead>\n",
       "    <tr style=\"text-align: right;\">\n",
       "      <th></th>\n",
       "      <th>Random Split</th>\n",
       "      <th>Random Model</th>\n",
       "      <th>Mean_Abs</th>\n",
       "      <th>Med_Abs</th>\n",
       "      <th>R2</th>\n",
       "    </tr>\n",
       "  </thead>\n",
       "  <tbody>\n",
       "    <tr>\n",
       "      <th>3323</th>\n",
       "      <td>5752</td>\n",
       "      <td>2329</td>\n",
       "      <td>45.562484</td>\n",
       "      <td>23.893570</td>\n",
       "      <td>0.291107</td>\n",
       "    </tr>\n",
       "    <tr>\n",
       "      <th>3341</th>\n",
       "      <td>5752</td>\n",
       "      <td>2729</td>\n",
       "      <td>45.560882</td>\n",
       "      <td>24.054096</td>\n",
       "      <td>0.290089</td>\n",
       "    </tr>\n",
       "    <tr>\n",
       "      <th>3314</th>\n",
       "      <td>5752</td>\n",
       "      <td>856</td>\n",
       "      <td>45.700843</td>\n",
       "      <td>23.970871</td>\n",
       "      <td>0.289251</td>\n",
       "    </tr>\n",
       "    <tr>\n",
       "      <th>3345</th>\n",
       "      <td>5752</td>\n",
       "      <td>4991</td>\n",
       "      <td>45.756476</td>\n",
       "      <td>24.028633</td>\n",
       "      <td>0.288068</td>\n",
       "    </tr>\n",
       "    <tr>\n",
       "      <th>3305</th>\n",
       "      <td>5752</td>\n",
       "      <td>8708</td>\n",
       "      <td>45.766610</td>\n",
       "      <td>23.925922</td>\n",
       "      <td>0.287800</td>\n",
       "    </tr>\n",
       "  </tbody>\n",
       "</table>\n",
       "</div>"
      ],
      "text/plain": [
       "     Random Split Random Model   Mean_Abs    Med_Abs        R2\n",
       "3323         5752         2329  45.562484  23.893570  0.291107\n",
       "3341         5752         2729  45.560882  24.054096  0.290089\n",
       "3314         5752          856  45.700843  23.970871  0.289251\n",
       "3345         5752         4991  45.756476  24.028633  0.288068\n",
       "3305         5752         8708  45.766610  23.925922  0.287800"
      ]
     },
     "metadata": {},
     "output_type": "display_data"
    },
    {
     "data": {
      "application/vnd.microsoft.datawrangler.viewer.v0+json": {
       "columns": [
        {
         "name": "index",
         "rawType": "int64",
         "type": "integer"
        },
        {
         "name": "Random Split",
         "rawType": "object",
         "type": "unknown"
        },
        {
         "name": "Random Model",
         "rawType": "object",
         "type": "unknown"
        },
        {
         "name": "Mean_Abs",
         "rawType": "float64",
         "type": "float"
        },
        {
         "name": "Med_Abs",
         "rawType": "float64",
         "type": "float"
        },
        {
         "name": "R2",
         "rawType": "float64",
         "type": "float"
        }
       ],
       "conversionMethod": "pd.DataFrame",
       "ref": "43388fa5-28e8-4c13-a3a4-1d0f69ff4e42",
       "rows": [
        [
         "3405",
         "2908",
         "2124",
         "47.47488052999373",
         "23.76706314086914",
         "0.2090667486190796"
        ],
        [
         "3387",
         "2908",
         "3298",
         "47.561064582934485",
         "23.485382080078125",
         "0.20830225944519043"
        ],
        [
         "3362",
         "2908",
         "7014",
         "47.51617167630641",
         "23.96255874633789",
         "0.20819777250289917"
        ],
        [
         "3406",
         "2908",
         "8064",
         "47.56989057664391",
         "24.22533416748047",
         "0.20809412002563477"
        ],
        [
         "3385",
         "2908",
         "3501",
         "47.62037624798233",
         "23.91459846496582",
         "0.20622193813323975"
        ]
       ],
       "shape": {
        "columns": 5,
        "rows": 5
       }
      },
      "text/html": [
       "<div>\n",
       "<style scoped>\n",
       "    .dataframe tbody tr th:only-of-type {\n",
       "        vertical-align: middle;\n",
       "    }\n",
       "\n",
       "    .dataframe tbody tr th {\n",
       "        vertical-align: top;\n",
       "    }\n",
       "\n",
       "    .dataframe thead th {\n",
       "        text-align: right;\n",
       "    }\n",
       "</style>\n",
       "<table border=\"1\" class=\"dataframe\">\n",
       "  <thead>\n",
       "    <tr style=\"text-align: right;\">\n",
       "      <th></th>\n",
       "      <th>Random Split</th>\n",
       "      <th>Random Model</th>\n",
       "      <th>Mean_Abs</th>\n",
       "      <th>Med_Abs</th>\n",
       "      <th>R2</th>\n",
       "    </tr>\n",
       "  </thead>\n",
       "  <tbody>\n",
       "    <tr>\n",
       "      <th>3405</th>\n",
       "      <td>2908</td>\n",
       "      <td>2124</td>\n",
       "      <td>47.474881</td>\n",
       "      <td>23.767063</td>\n",
       "      <td>0.209067</td>\n",
       "    </tr>\n",
       "    <tr>\n",
       "      <th>3387</th>\n",
       "      <td>2908</td>\n",
       "      <td>3298</td>\n",
       "      <td>47.561065</td>\n",
       "      <td>23.485382</td>\n",
       "      <td>0.208302</td>\n",
       "    </tr>\n",
       "    <tr>\n",
       "      <th>3362</th>\n",
       "      <td>2908</td>\n",
       "      <td>7014</td>\n",
       "      <td>47.516172</td>\n",
       "      <td>23.962559</td>\n",
       "      <td>0.208198</td>\n",
       "    </tr>\n",
       "    <tr>\n",
       "      <th>3406</th>\n",
       "      <td>2908</td>\n",
       "      <td>8064</td>\n",
       "      <td>47.569891</td>\n",
       "      <td>24.225334</td>\n",
       "      <td>0.208094</td>\n",
       "    </tr>\n",
       "    <tr>\n",
       "      <th>3385</th>\n",
       "      <td>2908</td>\n",
       "      <td>3501</td>\n",
       "      <td>47.620376</td>\n",
       "      <td>23.914598</td>\n",
       "      <td>0.206222</td>\n",
       "    </tr>\n",
       "  </tbody>\n",
       "</table>\n",
       "</div>"
      ],
      "text/plain": [
       "     Random Split Random Model   Mean_Abs    Med_Abs        R2\n",
       "3405         2908         2124  47.474881  23.767063  0.209067\n",
       "3387         2908         3298  47.561065  23.485382  0.208302\n",
       "3362         2908         7014  47.516172  23.962559  0.208198\n",
       "3406         2908         8064  47.569891  24.225334  0.208094\n",
       "3385         2908         3501  47.620376  23.914598  0.206222"
      ]
     },
     "metadata": {},
     "output_type": "display_data"
    }
   ],
   "source": [
    "display(rdm_combi_sort_R2.head(5))\n",
    "display(rdm_combi_sort_R2.tail(5))"
   ]
  },
  {
   "cell_type": "markdown",
   "metadata": {},
   "source": [
    "# Nueral Network\n",
    "Ultimately wasn't used, took too long to make any reasonable progress"
   ]
  },
  {
   "cell_type": "code",
   "execution_count": 85,
   "metadata": {},
   "outputs": [],
   "source": [
    "X_nn_trn, X_nn_tst, y_nn_trn, y_nn_tst = train_test_split(X, y, test_size=0.2, random_state=117)"
   ]
  },
  {
   "cell_type": "code",
   "execution_count": 95,
   "metadata": {},
   "outputs": [
    {
     "name": "stderr",
     "output_type": "stream",
     "text": [
      "C:\\Program Files\\Python312\\Lib\\site-packages\\keras\\src\\layers\\core\\dense.py:87: UserWarning: Do not pass an `input_shape`/`input_dim` argument to a layer. When using Sequential models, prefer using an `Input(shape)` object as the first layer in the model instead.\n",
      "  super().__init__(activity_regularizer=activity_regularizer, **kwargs)\n"
     ]
    }
   ],
   "source": [
    "nn_model = keras.Sequential()\n",
    "nn_model.add(keras.layers.Dense(128, input_dim=len(X_nn_trn.columns), activation='relu'))\n",
    "nn_model.add(keras.layers.Dense(256, activation='relu'))\n",
    "nn_model.add(keras.layers.Dropout(.33))\n",
    "nn_model.add(keras.layers.Dense(64, activation='relu'))\n",
    "# model.add(layers.Dropout(.15))\n",
    "nn_model.add(keras.layers.Dense(1))"
   ]
  },
  {
   "cell_type": "code",
   "execution_count": 96,
   "metadata": {},
   "outputs": [
    {
     "data": {
      "text/html": [
       "<pre style=\"white-space:pre;overflow-x:auto;line-height:normal;font-family:Menlo,'DejaVu Sans Mono',consolas,'Courier New',monospace\"><span style=\"font-weight: bold\">Model: \"sequential_1\"</span>\n",
       "</pre>\n"
      ],
      "text/plain": [
       "\u001b[1mModel: \"sequential_1\"\u001b[0m\n"
      ]
     },
     "metadata": {},
     "output_type": "display_data"
    },
    {
     "data": {
      "text/html": [
       "<pre style=\"white-space:pre;overflow-x:auto;line-height:normal;font-family:Menlo,'DejaVu Sans Mono',consolas,'Courier New',monospace\">┏━━━━━━━━━━━━━━━━━━━━━━━━━━━━━━━━━┳━━━━━━━━━━━━━━━━━━━━━━━━┳━━━━━━━━━━━━━━━┓\n",
       "┃<span style=\"font-weight: bold\"> Layer (type)                    </span>┃<span style=\"font-weight: bold\"> Output Shape           </span>┃<span style=\"font-weight: bold\">       Param # </span>┃\n",
       "┡━━━━━━━━━━━━━━━━━━━━━━━━━━━━━━━━━╇━━━━━━━━━━━━━━━━━━━━━━━━╇━━━━━━━━━━━━━━━┩\n",
       "│ dense (<span style=\"color: #0087ff; text-decoration-color: #0087ff\">Dense</span>)                   │ (<span style=\"color: #00d7ff; text-decoration-color: #00d7ff\">None</span>, <span style=\"color: #00af00; text-decoration-color: #00af00\">128</span>)            │         <span style=\"color: #00af00; text-decoration-color: #00af00\">4,224</span> │\n",
       "├─────────────────────────────────┼────────────────────────┼───────────────┤\n",
       "│ dense_1 (<span style=\"color: #0087ff; text-decoration-color: #0087ff\">Dense</span>)                 │ (<span style=\"color: #00d7ff; text-decoration-color: #00d7ff\">None</span>, <span style=\"color: #00af00; text-decoration-color: #00af00\">256</span>)            │        <span style=\"color: #00af00; text-decoration-color: #00af00\">33,024</span> │\n",
       "├─────────────────────────────────┼────────────────────────┼───────────────┤\n",
       "│ dropout (<span style=\"color: #0087ff; text-decoration-color: #0087ff\">Dropout</span>)               │ (<span style=\"color: #00d7ff; text-decoration-color: #00d7ff\">None</span>, <span style=\"color: #00af00; text-decoration-color: #00af00\">256</span>)            │             <span style=\"color: #00af00; text-decoration-color: #00af00\">0</span> │\n",
       "├─────────────────────────────────┼────────────────────────┼───────────────┤\n",
       "│ dense_2 (<span style=\"color: #0087ff; text-decoration-color: #0087ff\">Dense</span>)                 │ (<span style=\"color: #00d7ff; text-decoration-color: #00d7ff\">None</span>, <span style=\"color: #00af00; text-decoration-color: #00af00\">64</span>)             │        <span style=\"color: #00af00; text-decoration-color: #00af00\">16,448</span> │\n",
       "├─────────────────────────────────┼────────────────────────┼───────────────┤\n",
       "│ dense_3 (<span style=\"color: #0087ff; text-decoration-color: #0087ff\">Dense</span>)                 │ (<span style=\"color: #00d7ff; text-decoration-color: #00d7ff\">None</span>, <span style=\"color: #00af00; text-decoration-color: #00af00\">1</span>)              │            <span style=\"color: #00af00; text-decoration-color: #00af00\">65</span> │\n",
       "└─────────────────────────────────┴────────────────────────┴───────────────┘\n",
       "</pre>\n"
      ],
      "text/plain": [
       "┏━━━━━━━━━━━━━━━━━━━━━━━━━━━━━━━━━┳━━━━━━━━━━━━━━━━━━━━━━━━┳━━━━━━━━━━━━━━━┓\n",
       "┃\u001b[1m \u001b[0m\u001b[1mLayer (type)                   \u001b[0m\u001b[1m \u001b[0m┃\u001b[1m \u001b[0m\u001b[1mOutput Shape          \u001b[0m\u001b[1m \u001b[0m┃\u001b[1m \u001b[0m\u001b[1m      Param #\u001b[0m\u001b[1m \u001b[0m┃\n",
       "┡━━━━━━━━━━━━━━━━━━━━━━━━━━━━━━━━━╇━━━━━━━━━━━━━━━━━━━━━━━━╇━━━━━━━━━━━━━━━┩\n",
       "│ dense (\u001b[38;5;33mDense\u001b[0m)                   │ (\u001b[38;5;45mNone\u001b[0m, \u001b[38;5;34m128\u001b[0m)            │         \u001b[38;5;34m4,224\u001b[0m │\n",
       "├─────────────────────────────────┼────────────────────────┼───────────────┤\n",
       "│ dense_1 (\u001b[38;5;33mDense\u001b[0m)                 │ (\u001b[38;5;45mNone\u001b[0m, \u001b[38;5;34m256\u001b[0m)            │        \u001b[38;5;34m33,024\u001b[0m │\n",
       "├─────────────────────────────────┼────────────────────────┼───────────────┤\n",
       "│ dropout (\u001b[38;5;33mDropout\u001b[0m)               │ (\u001b[38;5;45mNone\u001b[0m, \u001b[38;5;34m256\u001b[0m)            │             \u001b[38;5;34m0\u001b[0m │\n",
       "├─────────────────────────────────┼────────────────────────┼───────────────┤\n",
       "│ dense_2 (\u001b[38;5;33mDense\u001b[0m)                 │ (\u001b[38;5;45mNone\u001b[0m, \u001b[38;5;34m64\u001b[0m)             │        \u001b[38;5;34m16,448\u001b[0m │\n",
       "├─────────────────────────────────┼────────────────────────┼───────────────┤\n",
       "│ dense_3 (\u001b[38;5;33mDense\u001b[0m)                 │ (\u001b[38;5;45mNone\u001b[0m, \u001b[38;5;34m1\u001b[0m)              │            \u001b[38;5;34m65\u001b[0m │\n",
       "└─────────────────────────────────┴────────────────────────┴───────────────┘\n"
      ]
     },
     "metadata": {},
     "output_type": "display_data"
    },
    {
     "data": {
      "text/html": [
       "<pre style=\"white-space:pre;overflow-x:auto;line-height:normal;font-family:Menlo,'DejaVu Sans Mono',consolas,'Courier New',monospace\"><span style=\"font-weight: bold\"> Total params: </span><span style=\"color: #00af00; text-decoration-color: #00af00\">53,761</span> (210.00 KB)\n",
       "</pre>\n"
      ],
      "text/plain": [
       "\u001b[1m Total params: \u001b[0m\u001b[38;5;34m53,761\u001b[0m (210.00 KB)\n"
      ]
     },
     "metadata": {},
     "output_type": "display_data"
    },
    {
     "data": {
      "text/html": [
       "<pre style=\"white-space:pre;overflow-x:auto;line-height:normal;font-family:Menlo,'DejaVu Sans Mono',consolas,'Courier New',monospace\"><span style=\"font-weight: bold\"> Trainable params: </span><span style=\"color: #00af00; text-decoration-color: #00af00\">53,761</span> (210.00 KB)\n",
       "</pre>\n"
      ],
      "text/plain": [
       "\u001b[1m Trainable params: \u001b[0m\u001b[38;5;34m53,761\u001b[0m (210.00 KB)\n"
      ]
     },
     "metadata": {},
     "output_type": "display_data"
    },
    {
     "data": {
      "text/html": [
       "<pre style=\"white-space:pre;overflow-x:auto;line-height:normal;font-family:Menlo,'DejaVu Sans Mono',consolas,'Courier New',monospace\"><span style=\"font-weight: bold\"> Non-trainable params: </span><span style=\"color: #00af00; text-decoration-color: #00af00\">0</span> (0.00 B)\n",
       "</pre>\n"
      ],
      "text/plain": [
       "\u001b[1m Non-trainable params: \u001b[0m\u001b[38;5;34m0\u001b[0m (0.00 B)\n"
      ]
     },
     "metadata": {},
     "output_type": "display_data"
    }
   ],
   "source": [
    "nn_model.summary()"
   ]
  },
  {
   "cell_type": "code",
   "execution_count": 102,
   "metadata": {},
   "outputs": [],
   "source": [
    "def r2_metric(y_true, y_pred):\n",
    "    ss_total = keras.backend.sum(keras.backend.square(y_true - keras.backend.mean(y_true)))  # Total sum of squares\n",
    "    ss_residual = keras.backend.sum(keras.backend.square(y_true - y_pred))  # Residual sum of squares\n",
    "    return 1 - (ss_residual / ss_total)"
   ]
  },
  {
   "cell_type": "code",
   "execution_count": 106,
   "metadata": {},
   "outputs": [],
   "source": [
    "opt = keras.optimizers.Adam()\n",
    "nn_model.compile(loss=keras.losses.MeanSquaredError(), optimizer=opt, metrics=['mae'])"
   ]
  },
  {
   "cell_type": "code",
   "execution_count": 114,
   "metadata": {},
   "outputs": [
    {
     "name": "stdout",
     "output_type": "stream",
     "text": [
      "Epoch 1/2000\n",
      "\u001b[1m347/362\u001b[0m \u001b[32m━━━━━━━━━━━━━━━━━━━\u001b[0m\u001b[37m━\u001b[0m \u001b[1m0s\u001b[0m 4ms/step - loss: 9262.6582 - mae: 52.3336\n",
      "Epoch 1: val_loss improved from inf to 9530.64062, saving model to ./ICE-2/best_model.h5\n"
     ]
    },
    {
     "name": "stderr",
     "output_type": "stream",
     "text": [
      "WARNING:absl:You are saving your model as an HDF5 file via `model.save()` or `keras.saving.save_model(model)`. This file format is considered legacy. We recommend using instead the native Keras format, e.g. `model.save('my_model.keras')` or `keras.saving.save_model(model, 'my_model.keras')`. \n"
     ]
    },
    {
     "name": "stdout",
     "output_type": "stream",
     "text": [
      "\u001b[1m362/362\u001b[0m \u001b[32m━━━━━━━━━━━━━━━━━━━━\u001b[0m\u001b[37m\u001b[0m \u001b[1m2s\u001b[0m 4ms/step - loss: 9245.9434 - mae: 52.3518 - val_loss: 9530.6406 - val_mae: 45.4319\n",
      "Epoch 2/2000\n",
      "\u001b[1m345/362\u001b[0m \u001b[32m━━━━━━━━━━━━━━━━━━━\u001b[0m\u001b[37m━\u001b[0m \u001b[1m0s\u001b[0m 3ms/step - loss: 9411.3027 - mae: 52.4344\n",
      "Epoch 2: val_loss did not improve from 9530.64062\n",
      "\u001b[1m362/362\u001b[0m \u001b[32m━━━━━━━━━━━━━━━━━━━━\u001b[0m\u001b[37m\u001b[0m \u001b[1m1s\u001b[0m 4ms/step - loss: 9391.5723 - mae: 52.4652 - val_loss: 9715.0615 - val_mae: 45.8107\n",
      "Epoch 3/2000\n",
      "\u001b[1m362/362\u001b[0m \u001b[32m━━━━━━━━━━━━━━━━━━━━\u001b[0m\u001b[37m\u001b[0m \u001b[1m0s\u001b[0m 4ms/step - loss: 9061.9248 - mae: 51.9785\n",
      "Epoch 3: val_loss improved from 9530.64062 to 9409.20508, saving model to ./ICE-2/best_model.h5\n"
     ]
    },
    {
     "name": "stderr",
     "output_type": "stream",
     "text": [
      "WARNING:absl:You are saving your model as an HDF5 file via `model.save()` or `keras.saving.save_model(model)`. This file format is considered legacy. We recommend using instead the native Keras format, e.g. `model.save('my_model.keras')` or `keras.saving.save_model(model, 'my_model.keras')`. \n"
     ]
    },
    {
     "name": "stdout",
     "output_type": "stream",
     "text": [
      "\u001b[1m362/362\u001b[0m \u001b[32m━━━━━━━━━━━━━━━━━━━━\u001b[0m\u001b[37m\u001b[0m \u001b[1m2s\u001b[0m 4ms/step - loss: 9061.3564 - mae: 51.9809 - val_loss: 9409.2051 - val_mae: 45.6059\n",
      "Epoch 4/2000\n",
      "\u001b[1m347/362\u001b[0m \u001b[32m━━━━━━━━━━━━━━━━━━━\u001b[0m\u001b[37m━\u001b[0m \u001b[1m0s\u001b[0m 3ms/step - loss: 9206.4141 - mae: 52.5552\n",
      "Epoch 4: val_loss did not improve from 9409.20508\n",
      "\u001b[1m362/362\u001b[0m \u001b[32m━━━━━━━━━━━━━━━━━━━━\u001b[0m\u001b[37m\u001b[0m \u001b[1m1s\u001b[0m 4ms/step - loss: 9193.5381 - mae: 52.5785 - val_loss: 9719.8398 - val_mae: 45.9983\n",
      "Epoch 5/2000\n",
      "\u001b[1m355/362\u001b[0m \u001b[32m━━━━━━━━━━━━━━━━━━━\u001b[0m\u001b[37m━\u001b[0m \u001b[1m0s\u001b[0m 3ms/step - loss: 9313.5557 - mae: 52.0088\n",
      "Epoch 5: val_loss improved from 9409.20508 to 9225.04785, saving model to ./ICE-2/best_model.h5\n"
     ]
    },
    {
     "name": "stderr",
     "output_type": "stream",
     "text": [
      "WARNING:absl:You are saving your model as an HDF5 file via `model.save()` or `keras.saving.save_model(model)`. This file format is considered legacy. We recommend using instead the native Keras format, e.g. `model.save('my_model.keras')` or `keras.saving.save_model(model, 'my_model.keras')`. \n"
     ]
    },
    {
     "name": "stdout",
     "output_type": "stream",
     "text": [
      "\u001b[1m362/362\u001b[0m \u001b[32m━━━━━━━━━━━━━━━━━━━━\u001b[0m\u001b[37m\u001b[0m \u001b[1m1s\u001b[0m 4ms/step - loss: 9305.2686 - mae: 52.0326 - val_loss: 9225.0479 - val_mae: 45.9663\n",
      "Epoch 6/2000\n",
      "\u001b[1m353/362\u001b[0m \u001b[32m━━━━━━━━━━━━━━━━━━━\u001b[0m\u001b[37m━\u001b[0m \u001b[1m0s\u001b[0m 3ms/step - loss: 9179.4502 - mae: 51.7131\n",
      "Epoch 6: val_loss did not improve from 9225.04785\n",
      "\u001b[1m362/362\u001b[0m \u001b[32m━━━━━━━━━━━━━━━━━━━━\u001b[0m\u001b[37m\u001b[0m \u001b[1m1s\u001b[0m 4ms/step - loss: 9171.9941 - mae: 51.7379 - val_loss: 9768.0215 - val_mae: 46.3458\n",
      "Epoch 7/2000\n",
      "\u001b[1m349/362\u001b[0m \u001b[32m━━━━━━━━━━━━━━━━━━━\u001b[0m\u001b[37m━\u001b[0m \u001b[1m0s\u001b[0m 3ms/step - loss: 9347.1494 - mae: 52.4844\n",
      "Epoch 7: val_loss did not improve from 9225.04785\n",
      "\u001b[1m362/362\u001b[0m \u001b[32m━━━━━━━━━━━━━━━━━━━━\u001b[0m\u001b[37m\u001b[0m \u001b[1m1s\u001b[0m 4ms/step - loss: 9332.8828 - mae: 52.5071 - val_loss: 9443.4893 - val_mae: 45.1408\n",
      "Epoch 8/2000\n",
      "\u001b[1m361/362\u001b[0m \u001b[32m━━━━━━━━━━━━━━━━━━━\u001b[0m\u001b[37m━\u001b[0m \u001b[1m0s\u001b[0m 3ms/step - loss: 9246.4072 - mae: 52.3807\n",
      "Epoch 8: val_loss improved from 9225.04785 to 9195.28516, saving model to ./ICE-2/best_model.h5\n"
     ]
    },
    {
     "name": "stderr",
     "output_type": "stream",
     "text": [
      "WARNING:absl:You are saving your model as an HDF5 file via `model.save()` or `keras.saving.save_model(model)`. This file format is considered legacy. We recommend using instead the native Keras format, e.g. `model.save('my_model.keras')` or `keras.saving.save_model(model, 'my_model.keras')`. \n"
     ]
    },
    {
     "name": "stdout",
     "output_type": "stream",
     "text": [
      "\u001b[1m362/362\u001b[0m \u001b[32m━━━━━━━━━━━━━━━━━━━━\u001b[0m\u001b[37m\u001b[0m \u001b[1m1s\u001b[0m 4ms/step - loss: 9244.7588 - mae: 52.3832 - val_loss: 9195.2852 - val_mae: 45.4220\n",
      "Epoch 9/2000\n",
      "\u001b[1m347/362\u001b[0m \u001b[32m━━━━━━━━━━━━━━━━━━━\u001b[0m\u001b[37m━\u001b[0m \u001b[1m0s\u001b[0m 3ms/step - loss: 9228.0488 - mae: 52.5052\n",
      "Epoch 9: val_loss did not improve from 9195.28516\n",
      "\u001b[1m362/362\u001b[0m \u001b[32m━━━━━━━━━━━━━━━━━━━━\u001b[0m\u001b[37m\u001b[0m \u001b[1m1s\u001b[0m 4ms/step - loss: 9213.8779 - mae: 52.5321 - val_loss: 9403.9922 - val_mae: 45.0708\n",
      "Epoch 10/2000\n",
      "\u001b[1m353/362\u001b[0m \u001b[32m━━━━━━━━━━━━━━━━━━━\u001b[0m\u001b[37m━\u001b[0m \u001b[1m0s\u001b[0m 4ms/step - loss: 9158.4863 - mae: 52.2467\n",
      "Epoch 10: val_loss did not improve from 9195.28516\n",
      "\u001b[1m362/362\u001b[0m \u001b[32m━━━━━━━━━━━━━━━━━━━━\u001b[0m\u001b[37m\u001b[0m \u001b[1m2s\u001b[0m 4ms/step - loss: 9151.4473 - mae: 52.2623 - val_loss: 9257.1143 - val_mae: 45.3712\n",
      "Epoch 11/2000\n",
      "\u001b[1m357/362\u001b[0m \u001b[32m━━━━━━━━━━━━━━━━━━━\u001b[0m\u001b[37m━\u001b[0m \u001b[1m0s\u001b[0m 4ms/step - loss: 9192.5645 - mae: 52.3700\n",
      "Epoch 11: val_loss did not improve from 9195.28516\n",
      "\u001b[1m362/362\u001b[0m \u001b[32m━━━━━━━━━━━━━━━━━━━━\u001b[0m\u001b[37m\u001b[0m \u001b[1m1s\u001b[0m 4ms/step - loss: 9188.5947 - mae: 52.3765 - val_loss: 9285.3486 - val_mae: 45.7404\n",
      "Epoch 12/2000\n",
      "\u001b[1m359/362\u001b[0m \u001b[32m━━━━━━━━━━━━━━━━━━━\u001b[0m\u001b[37m━\u001b[0m \u001b[1m0s\u001b[0m 4ms/step - loss: 9052.9951 - mae: 52.4895\n",
      "Epoch 12: val_loss did not improve from 9195.28516\n",
      "\u001b[1m362/362\u001b[0m \u001b[32m━━━━━━━━━━━━━━━━━━━━\u001b[0m\u001b[37m\u001b[0m \u001b[1m2s\u001b[0m 5ms/step - loss: 9050.2920 - mae: 52.4919 - val_loss: 9267.7998 - val_mae: 46.3762\n",
      "Epoch 13/2000\n",
      "\u001b[1m356/362\u001b[0m \u001b[32m━━━━━━━━━━━━━━━━━━━\u001b[0m\u001b[37m━\u001b[0m \u001b[1m0s\u001b[0m 3ms/step - loss: 9234.6865 - mae: 52.8774\n",
      "Epoch 13: val_loss improved from 9195.28516 to 9087.15918, saving model to ./ICE-2/best_model.h5\n"
     ]
    },
    {
     "name": "stderr",
     "output_type": "stream",
     "text": [
      "WARNING:absl:You are saving your model as an HDF5 file via `model.save()` or `keras.saving.save_model(model)`. This file format is considered legacy. We recommend using instead the native Keras format, e.g. `model.save('my_model.keras')` or `keras.saving.save_model(model, 'my_model.keras')`. \n"
     ]
    },
    {
     "name": "stdout",
     "output_type": "stream",
     "text": [
      "\u001b[1m362/362\u001b[0m \u001b[32m━━━━━━━━━━━━━━━━━━━━\u001b[0m\u001b[37m\u001b[0m \u001b[1m1s\u001b[0m 4ms/step - loss: 9228.9385 - mae: 52.8824 - val_loss: 9087.1592 - val_mae: 45.8448\n",
      "Epoch 14/2000\n",
      "\u001b[1m359/362\u001b[0m \u001b[32m━━━━━━━━━━━━━━━━━━━\u001b[0m\u001b[37m━\u001b[0m \u001b[1m0s\u001b[0m 4ms/step - loss: 9169.1885 - mae: 52.3302\n",
      "Epoch 14: val_loss did not improve from 9087.15918\n",
      "\u001b[1m362/362\u001b[0m \u001b[32m━━━━━━━━━━━━━━━━━━━━\u001b[0m\u001b[37m\u001b[0m \u001b[1m2s\u001b[0m 4ms/step - loss: 9165.7441 - mae: 52.3358 - val_loss: 9381.3398 - val_mae: 45.0882\n",
      "Epoch 15/2000\n",
      "\u001b[1m354/362\u001b[0m \u001b[32m━━━━━━━━━━━━━━━━━━━\u001b[0m\u001b[37m━\u001b[0m \u001b[1m0s\u001b[0m 4ms/step - loss: 9185.0430 - mae: 52.2204\n",
      "Epoch 15: val_loss did not improve from 9087.15918\n",
      "\u001b[1m362/362\u001b[0m \u001b[32m━━━━━━━━━━━━━━━━━━━━\u001b[0m\u001b[37m\u001b[0m \u001b[1m2s\u001b[0m 5ms/step - loss: 9176.9453 - mae: 52.2289 - val_loss: 9402.5850 - val_mae: 45.5810\n",
      "Epoch 16/2000\n",
      "\u001b[1m351/362\u001b[0m \u001b[32m━━━━━━━━━━━━━━━━━━━\u001b[0m\u001b[37m━\u001b[0m \u001b[1m0s\u001b[0m 5ms/step - loss: 9099.4766 - mae: 51.7677\n",
      "Epoch 16: val_loss did not improve from 9087.15918\n",
      "\u001b[1m362/362\u001b[0m \u001b[32m━━━━━━━━━━━━━━━━━━━━\u001b[0m\u001b[37m\u001b[0m \u001b[1m2s\u001b[0m 5ms/step - loss: 9090.8818 - mae: 51.7915 - val_loss: 9329.6709 - val_mae: 45.9534\n",
      "Epoch 17/2000\n",
      "\u001b[1m347/362\u001b[0m \u001b[32m━━━━━━━━━━━━━━━━━━━\u001b[0m\u001b[37m━\u001b[0m \u001b[1m0s\u001b[0m 3ms/step - loss: 9322.6377 - mae: 53.0094\n",
      "Epoch 17: val_loss did not improve from 9087.15918\n",
      "\u001b[1m362/362\u001b[0m \u001b[32m━━━━━━━━━━━━━━━━━━━━\u001b[0m\u001b[37m\u001b[0m \u001b[1m1s\u001b[0m 4ms/step - loss: 9306.7568 - mae: 53.0314 - val_loss: 9500.0986 - val_mae: 45.2804\n",
      "Epoch 18/2000\n",
      "\u001b[1m348/362\u001b[0m \u001b[32m━━━━━━━━━━━━━━━━━━━\u001b[0m\u001b[37m━\u001b[0m \u001b[1m0s\u001b[0m 3ms/step - loss: 9231.0977 - mae: 52.2426\n",
      "Epoch 18: val_loss did not improve from 9087.15918\n",
      "\u001b[1m362/362\u001b[0m \u001b[32m━━━━━━━━━━━━━━━━━━━━\u001b[0m\u001b[37m\u001b[0m \u001b[1m1s\u001b[0m 4ms/step - loss: 9219.0059 - mae: 52.2692 - val_loss: 9219.6348 - val_mae: 45.7085\n",
      "Epoch 19/2000\n",
      "\u001b[1m356/362\u001b[0m \u001b[32m━━━━━━━━━━━━━━━━━━━\u001b[0m\u001b[37m━\u001b[0m \u001b[1m0s\u001b[0m 3ms/step - loss: 9141.6045 - mae: 52.3061\n",
      "Epoch 19: val_loss did not improve from 9087.15918\n",
      "\u001b[1m362/362\u001b[0m \u001b[32m━━━━━━━━━━━━━━━━━━━━\u001b[0m\u001b[37m\u001b[0m \u001b[1m1s\u001b[0m 4ms/step - loss: 9136.5234 - mae: 52.3164 - val_loss: 9259.9551 - val_mae: 45.3808\n",
      "Epoch 20/2000\n",
      "\u001b[1m349/362\u001b[0m \u001b[32m━━━━━━━━━━━━━━━━━━━\u001b[0m\u001b[37m━\u001b[0m \u001b[1m0s\u001b[0m 3ms/step - loss: 9190.6270 - mae: 52.1057\n",
      "Epoch 20: val_loss did not improve from 9087.15918\n",
      "\u001b[1m362/362\u001b[0m \u001b[32m━━━━━━━━━━━━━━━━━━━━\u001b[0m\u001b[37m\u001b[0m \u001b[1m1s\u001b[0m 4ms/step - loss: 9178.8262 - mae: 52.1312 - val_loss: 9359.9932 - val_mae: 45.3719\n",
      "Epoch 21/2000\n",
      "\u001b[1m361/362\u001b[0m \u001b[32m━━━━━━━━━━━━━━━━━━━\u001b[0m\u001b[37m━\u001b[0m \u001b[1m0s\u001b[0m 4ms/step - loss: 9196.2168 - mae: 52.5468\n",
      "Epoch 21: val_loss did not improve from 9087.15918\n",
      "\u001b[1m362/362\u001b[0m \u001b[32m━━━━━━━━━━━━━━━━━━━━\u001b[0m\u001b[37m\u001b[0m \u001b[1m1s\u001b[0m 4ms/step - loss: 9194.5713 - mae: 52.5493 - val_loss: 9149.0898 - val_mae: 44.9951\n",
      "Epoch 22/2000\n",
      "\u001b[1m354/362\u001b[0m \u001b[32m━━━━━━━━━━━━━━━━━━━\u001b[0m\u001b[37m━\u001b[0m \u001b[1m0s\u001b[0m 3ms/step - loss: 9280.7295 - mae: 52.1220\n",
      "Epoch 22: val_loss did not improve from 9087.15918\n",
      "\u001b[1m362/362\u001b[0m \u001b[32m━━━━━━━━━━━━━━━━━━━━\u001b[0m\u001b[37m\u001b[0m \u001b[1m1s\u001b[0m 4ms/step - loss: 9271.6230 - mae: 52.1315 - val_loss: 9500.8955 - val_mae: 45.5197\n",
      "Epoch 23/2000\n",
      "\u001b[1m352/362\u001b[0m \u001b[32m━━━━━━━━━━━━━━━━━━━\u001b[0m\u001b[37m━\u001b[0m \u001b[1m0s\u001b[0m 4ms/step - loss: 9321.0166 - mae: 52.5368\n",
      "Epoch 23: val_loss did not improve from 9087.15918\n",
      "\u001b[1m362/362\u001b[0m \u001b[32m━━━━━━━━━━━━━━━━━━━━\u001b[0m\u001b[37m\u001b[0m \u001b[1m1s\u001b[0m 4ms/step - loss: 9309.1367 - mae: 52.5453 - val_loss: 9429.2695 - val_mae: 45.4821\n",
      "Epoch 24/2000\n",
      "\u001b[1m359/362\u001b[0m \u001b[32m━━━━━━━━━━━━━━━━━━━\u001b[0m\u001b[37m━\u001b[0m \u001b[1m0s\u001b[0m 4ms/step - loss: 9190.7783 - mae: 52.3856\n",
      "Epoch 24: val_loss did not improve from 9087.15918\n",
      "\u001b[1m362/362\u001b[0m \u001b[32m━━━━━━━━━━━━━━━━━━━━\u001b[0m\u001b[37m\u001b[0m \u001b[1m2s\u001b[0m 4ms/step - loss: 9187.1924 - mae: 52.3905 - val_loss: 9192.5840 - val_mae: 45.3881\n",
      "Epoch 25/2000\n",
      "\u001b[1m361/362\u001b[0m \u001b[32m━━━━━━━━━━━━━━━━━━━\u001b[0m\u001b[37m━\u001b[0m \u001b[1m0s\u001b[0m 4ms/step - loss: 9196.5283 - mae: 52.5562\n",
      "Epoch 25: val_loss did not improve from 9087.15918\n",
      "\u001b[1m362/362\u001b[0m \u001b[32m━━━━━━━━━━━━━━━━━━━━\u001b[0m\u001b[37m\u001b[0m \u001b[1m2s\u001b[0m 4ms/step - loss: 9194.7871 - mae: 52.5580 - val_loss: 9440.8018 - val_mae: 45.3415\n",
      "Epoch 26/2000\n",
      "\u001b[1m350/362\u001b[0m \u001b[32m━━━━━━━━━━━━━━━━━━━\u001b[0m\u001b[37m━\u001b[0m \u001b[1m0s\u001b[0m 3ms/step - loss: 9202.8594 - mae: 52.3443\n",
      "Epoch 26: val_loss did not improve from 9087.15918\n",
      "\u001b[1m362/362\u001b[0m \u001b[32m━━━━━━━━━━━━━━━━━━━━\u001b[0m\u001b[37m\u001b[0m \u001b[1m1s\u001b[0m 4ms/step - loss: 9189.7686 - mae: 52.3581 - val_loss: 9372.8213 - val_mae: 45.8102\n",
      "Epoch 27/2000\n",
      "\u001b[1m353/362\u001b[0m \u001b[32m━━━━━━━━━━━━━━━━━━━\u001b[0m\u001b[37m━\u001b[0m \u001b[1m0s\u001b[0m 4ms/step - loss: 9123.9512 - mae: 51.7750\n",
      "Epoch 27: val_loss did not improve from 9087.15918\n",
      "\u001b[1m362/362\u001b[0m \u001b[32m━━━━━━━━━━━━━━━━━━━━\u001b[0m\u001b[37m\u001b[0m \u001b[1m2s\u001b[0m 4ms/step - loss: 9115.8262 - mae: 51.8006 - val_loss: 9425.8164 - val_mae: 45.1520\n",
      "Epoch 28/2000\n",
      "\u001b[1m362/362\u001b[0m \u001b[32m━━━━━━━━━━━━━━━━━━━━\u001b[0m\u001b[37m\u001b[0m \u001b[1m0s\u001b[0m 4ms/step - loss: 9251.3340 - mae: 52.3135\n",
      "Epoch 28: val_loss did not improve from 9087.15918\n",
      "\u001b[1m362/362\u001b[0m \u001b[32m━━━━━━━━━━━━━━━━━━━━\u001b[0m\u001b[37m\u001b[0m \u001b[1m2s\u001b[0m 4ms/step - loss: 9250.3330 - mae: 52.3150 - val_loss: 9454.8047 - val_mae: 45.6822\n",
      "Epoch 29/2000\n",
      "\u001b[1m349/362\u001b[0m \u001b[32m━━━━━━━━━━━━━━━━━━━\u001b[0m\u001b[37m━\u001b[0m \u001b[1m0s\u001b[0m 3ms/step - loss: 9206.1562 - mae: 52.0779\n",
      "Epoch 29: val_loss improved from 9087.15918 to 8961.96191, saving model to ./ICE-2/best_model.h5\n"
     ]
    },
    {
     "name": "stderr",
     "output_type": "stream",
     "text": [
      "WARNING:absl:You are saving your model as an HDF5 file via `model.save()` or `keras.saving.save_model(model)`. This file format is considered legacy. We recommend using instead the native Keras format, e.g. `model.save('my_model.keras')` or `keras.saving.save_model(model, 'my_model.keras')`. \n"
     ]
    },
    {
     "name": "stdout",
     "output_type": "stream",
     "text": [
      "\u001b[1m362/362\u001b[0m \u001b[32m━━━━━━━━━━━━━━━━━━━━\u001b[0m\u001b[37m\u001b[0m \u001b[1m1s\u001b[0m 4ms/step - loss: 9194.2930 - mae: 52.1071 - val_loss: 8961.9619 - val_mae: 45.7007\n",
      "Epoch 30/2000\n",
      "\u001b[1m361/362\u001b[0m \u001b[32m━━━━━━━━━━━━━━━━━━━\u001b[0m\u001b[37m━\u001b[0m \u001b[1m0s\u001b[0m 4ms/step - loss: 9121.2578 - mae: 52.1878\n",
      "Epoch 30: val_loss did not improve from 8961.96191\n",
      "\u001b[1m362/362\u001b[0m \u001b[32m━━━━━━━━━━━━━━━━━━━━\u001b[0m\u001b[37m\u001b[0m \u001b[1m2s\u001b[0m 4ms/step - loss: 9119.7461 - mae: 52.1904 - val_loss: 9331.0605 - val_mae: 45.4874\n",
      "Epoch 31/2000\n",
      "\u001b[1m359/362\u001b[0m \u001b[32m━━━━━━━━━━━━━━━━━━━\u001b[0m\u001b[37m━\u001b[0m \u001b[1m0s\u001b[0m 3ms/step - loss: 9172.2266 - mae: 51.8761\n",
      "Epoch 31: val_loss did not improve from 8961.96191\n",
      "\u001b[1m362/362\u001b[0m \u001b[32m━━━━━━━━━━━━━━━━━━━━\u001b[0m\u001b[37m\u001b[0m \u001b[1m1s\u001b[0m 4ms/step - loss: 9169.2695 - mae: 51.8820 - val_loss: 9497.9961 - val_mae: 45.1364\n",
      "Epoch 32/2000\n",
      "\u001b[1m348/362\u001b[0m \u001b[32m━━━━━━━━━━━━━━━━━━━\u001b[0m\u001b[37m━\u001b[0m \u001b[1m0s\u001b[0m 3ms/step - loss: 9075.7920 - mae: 52.6307\n",
      "Epoch 32: val_loss did not improve from 8961.96191\n",
      "\u001b[1m362/362\u001b[0m \u001b[32m━━━━━━━━━━━━━━━━━━━━\u001b[0m\u001b[37m\u001b[0m \u001b[1m1s\u001b[0m 4ms/step - loss: 9065.9150 - mae: 52.6468 - val_loss: 9243.6953 - val_mae: 45.6603\n",
      "Epoch 33/2000\n",
      "\u001b[1m355/362\u001b[0m \u001b[32m━━━━━━━━━━━━━━━━━━━\u001b[0m\u001b[37m━\u001b[0m \u001b[1m0s\u001b[0m 3ms/step - loss: 9110.3145 - mae: 52.0788\n",
      "Epoch 33: val_loss did not improve from 8961.96191\n",
      "\u001b[1m362/362\u001b[0m \u001b[32m━━━━━━━━━━━━━━━━━━━━\u001b[0m\u001b[37m\u001b[0m \u001b[1m1s\u001b[0m 4ms/step - loss: 9105.0488 - mae: 52.0924 - val_loss: 9448.1328 - val_mae: 45.4677\n",
      "Epoch 34/2000\n",
      "\u001b[1m362/362\u001b[0m \u001b[32m━━━━━━━━━━━━━━━━━━━━\u001b[0m\u001b[37m\u001b[0m \u001b[1m0s\u001b[0m 3ms/step - loss: 9062.3750 - mae: 52.0434\n",
      "Epoch 34: val_loss did not improve from 8961.96191\n",
      "\u001b[1m362/362\u001b[0m \u001b[32m━━━━━━━━━━━━━━━━━━━━\u001b[0m\u001b[37m\u001b[0m \u001b[1m1s\u001b[0m 4ms/step - loss: 9061.6680 - mae: 52.0446 - val_loss: 9258.5625 - val_mae: 44.9510\n",
      "Epoch 35/2000\n",
      "\u001b[1m357/362\u001b[0m \u001b[32m━━━━━━━━━━━━━━━━━━━\u001b[0m\u001b[37m━\u001b[0m \u001b[1m0s\u001b[0m 3ms/step - loss: 9124.8135 - mae: 52.1492\n",
      "Epoch 35: val_loss did not improve from 8961.96191\n",
      "\u001b[1m362/362\u001b[0m \u001b[32m━━━━━━━━━━━━━━━━━━━━\u001b[0m\u001b[37m\u001b[0m \u001b[1m1s\u001b[0m 4ms/step - loss: 9120.4365 - mae: 52.1616 - val_loss: 9174.9531 - val_mae: 45.3774\n",
      "Epoch 36/2000\n",
      "\u001b[1m351/362\u001b[0m \u001b[32m━━━━━━━━━━━━━━━━━━━\u001b[0m\u001b[37m━\u001b[0m \u001b[1m0s\u001b[0m 3ms/step - loss: 9275.2090 - mae: 52.6698\n",
      "Epoch 36: val_loss did not improve from 8961.96191\n",
      "\u001b[1m362/362\u001b[0m \u001b[32m━━━━━━━━━━━━━━━━━━━━\u001b[0m\u001b[37m\u001b[0m \u001b[1m1s\u001b[0m 4ms/step - loss: 9260.9463 - mae: 52.6725 - val_loss: 9332.5371 - val_mae: 45.8625\n",
      "Epoch 37/2000\n",
      "\u001b[1m359/362\u001b[0m \u001b[32m━━━━━━━━━━━━━━━━━━━\u001b[0m\u001b[37m━\u001b[0m \u001b[1m0s\u001b[0m 3ms/step - loss: 9048.9307 - mae: 52.0389\n",
      "Epoch 37: val_loss did not improve from 8961.96191\n",
      "\u001b[1m362/362\u001b[0m \u001b[32m━━━━━━━━━━━━━━━━━━━━\u001b[0m\u001b[37m\u001b[0m \u001b[1m1s\u001b[0m 4ms/step - loss: 9045.9033 - mae: 52.0424 - val_loss: 9440.1055 - val_mae: 45.9140\n",
      "Epoch 38/2000\n",
      "\u001b[1m352/362\u001b[0m \u001b[32m━━━━━━━━━━━━━━━━━━━\u001b[0m\u001b[37m━\u001b[0m \u001b[1m0s\u001b[0m 3ms/step - loss: 9116.7178 - mae: 51.9752\n",
      "Epoch 38: val_loss did not improve from 8961.96191\n",
      "\u001b[1m362/362\u001b[0m \u001b[32m━━━━━━━━━━━━━━━━━━━━\u001b[0m\u001b[37m\u001b[0m \u001b[1m1s\u001b[0m 4ms/step - loss: 9108.4658 - mae: 51.9884 - val_loss: 9260.7969 - val_mae: 45.4758\n",
      "Epoch 39/2000\n",
      "\u001b[1m348/362\u001b[0m \u001b[32m━━━━━━━━━━━━━━━━━━━\u001b[0m\u001b[37m━\u001b[0m \u001b[1m0s\u001b[0m 4ms/step - loss: 9134.8340 - mae: 52.2438\n",
      "Epoch 39: val_loss did not improve from 8961.96191\n",
      "\u001b[1m362/362\u001b[0m \u001b[32m━━━━━━━━━━━━━━━━━━━━\u001b[0m\u001b[37m\u001b[0m \u001b[1m2s\u001b[0m 5ms/step - loss: 9123.3760 - mae: 52.2568 - val_loss: 9207.8340 - val_mae: 45.0676\n",
      "Epoch 40/2000\n",
      "\u001b[1m349/362\u001b[0m \u001b[32m━━━━━━━━━━━━━━━━━━━\u001b[0m\u001b[37m━\u001b[0m \u001b[1m0s\u001b[0m 3ms/step - loss: 9070.2041 - mae: 51.9074\n",
      "Epoch 40: val_loss did not improve from 8961.96191\n",
      "\u001b[1m362/362\u001b[0m \u001b[32m━━━━━━━━━━━━━━━━━━━━\u001b[0m\u001b[37m\u001b[0m \u001b[1m1s\u001b[0m 4ms/step - loss: 9059.9512 - mae: 51.9292 - val_loss: 9388.8672 - val_mae: 45.3801\n",
      "Epoch 41/2000\n",
      "\u001b[1m360/362\u001b[0m \u001b[32m━━━━━━━━━━━━━━━━━━━\u001b[0m\u001b[37m━\u001b[0m \u001b[1m0s\u001b[0m 4ms/step - loss: 9175.0898 - mae: 52.5468\n",
      "Epoch 41: val_loss did not improve from 8961.96191\n",
      "\u001b[1m362/362\u001b[0m \u001b[32m━━━━━━━━━━━━━━━━━━━━\u001b[0m\u001b[37m\u001b[0m \u001b[1m1s\u001b[0m 4ms/step - loss: 9172.1943 - mae: 52.5467 - val_loss: 9058.2246 - val_mae: 45.4883\n",
      "Epoch 42/2000\n",
      "\u001b[1m351/362\u001b[0m \u001b[32m━━━━━━━━━━━━━━━━━━━\u001b[0m\u001b[37m━\u001b[0m \u001b[1m0s\u001b[0m 3ms/step - loss: 9061.7568 - mae: 51.9354\n",
      "Epoch 42: val_loss did not improve from 8961.96191\n",
      "\u001b[1m362/362\u001b[0m \u001b[32m━━━━━━━━━━━━━━━━━━━━\u001b[0m\u001b[37m\u001b[0m \u001b[1m1s\u001b[0m 4ms/step - loss: 9052.6836 - mae: 51.9509 - val_loss: 9239.7891 - val_mae: 45.3312\n",
      "Epoch 43/2000\n",
      "\u001b[1m347/362\u001b[0m \u001b[32m━━━━━━━━━━━━━━━━━━━\u001b[0m\u001b[37m━\u001b[0m \u001b[1m0s\u001b[0m 3ms/step - loss: 9205.1260 - mae: 51.8980\n",
      "Epoch 43: val_loss did not improve from 8961.96191\n",
      "\u001b[1m362/362\u001b[0m \u001b[32m━━━━━━━━━━━━━━━━━━━━\u001b[0m\u001b[37m\u001b[0m \u001b[1m1s\u001b[0m 4ms/step - loss: 9189.7002 - mae: 51.9162 - val_loss: 9252.3506 - val_mae: 45.5543\n",
      "Epoch 44/2000\n",
      "\u001b[1m357/362\u001b[0m \u001b[32m━━━━━━━━━━━━━━━━━━━\u001b[0m\u001b[37m━\u001b[0m \u001b[1m0s\u001b[0m 3ms/step - loss: 9188.9014 - mae: 52.3588\n",
      "Epoch 44: val_loss did not improve from 8961.96191\n",
      "\u001b[1m362/362\u001b[0m \u001b[32m━━━━━━━━━━━━━━━━━━━━\u001b[0m\u001b[37m\u001b[0m \u001b[1m1s\u001b[0m 4ms/step - loss: 9183.8184 - mae: 52.3649 - val_loss: 9301.3838 - val_mae: 45.6352\n",
      "Epoch 45/2000\n",
      "\u001b[1m349/362\u001b[0m \u001b[32m━━━━━━━━━━━━━━━━━━━\u001b[0m\u001b[37m━\u001b[0m \u001b[1m0s\u001b[0m 3ms/step - loss: 9148.6514 - mae: 51.9074\n",
      "Epoch 45: val_loss did not improve from 8961.96191\n",
      "\u001b[1m362/362\u001b[0m \u001b[32m━━━━━━━━━━━━━━━━━━━━\u001b[0m\u001b[37m\u001b[0m \u001b[1m1s\u001b[0m 4ms/step - loss: 9136.1396 - mae: 51.9341 - val_loss: 9373.6484 - val_mae: 45.8572\n",
      "Epoch 46/2000\n",
      "\u001b[1m353/362\u001b[0m \u001b[32m━━━━━━━━━━━━━━━━━━━\u001b[0m\u001b[37m━\u001b[0m \u001b[1m0s\u001b[0m 3ms/step - loss: 9207.2578 - mae: 51.7378\n",
      "Epoch 46: val_loss did not improve from 8961.96191\n",
      "\u001b[1m362/362\u001b[0m \u001b[32m━━━━━━━━━━━━━━━━━━━━\u001b[0m\u001b[37m\u001b[0m \u001b[1m1s\u001b[0m 4ms/step - loss: 9198.5498 - mae: 51.7646 - val_loss: 9695.5244 - val_mae: 45.6842\n",
      "Epoch 47/2000\n",
      "\u001b[1m352/362\u001b[0m \u001b[32m━━━━━━━━━━━━━━━━━━━\u001b[0m\u001b[37m━\u001b[0m \u001b[1m0s\u001b[0m 3ms/step - loss: 9147.6885 - mae: 51.7059\n",
      "Epoch 47: val_loss did not improve from 8961.96191\n",
      "\u001b[1m362/362\u001b[0m \u001b[32m━━━━━━━━━━━━━━━━━━━━\u001b[0m\u001b[37m\u001b[0m \u001b[1m1s\u001b[0m 4ms/step - loss: 9138.7051 - mae: 51.7334 - val_loss: 9299.2432 - val_mae: 45.5565\n",
      "Epoch 48/2000\n",
      "\u001b[1m349/362\u001b[0m \u001b[32m━━━━━━━━━━━━━━━━━━━\u001b[0m\u001b[37m━\u001b[0m \u001b[1m0s\u001b[0m 3ms/step - loss: 9062.2344 - mae: 51.8992\n",
      "Epoch 48: val_loss did not improve from 8961.96191\n",
      "\u001b[1m362/362\u001b[0m \u001b[32m━━━━━━━━━━━━━━━━━━━━\u001b[0m\u001b[37m\u001b[0m \u001b[1m1s\u001b[0m 4ms/step - loss: 9053.2217 - mae: 51.9284 - val_loss: 9375.5664 - val_mae: 45.6954\n",
      "Epoch 49/2000\n",
      "\u001b[1m361/362\u001b[0m \u001b[32m━━━━━━━━━━━━━━━━━━━\u001b[0m\u001b[37m━\u001b[0m \u001b[1m0s\u001b[0m 4ms/step - loss: 9056.9160 - mae: 51.7759\n",
      "Epoch 49: val_loss did not improve from 8961.96191\n",
      "\u001b[1m362/362\u001b[0m \u001b[32m━━━━━━━━━━━━━━━━━━━━\u001b[0m\u001b[37m\u001b[0m \u001b[1m2s\u001b[0m 4ms/step - loss: 9055.4590 - mae: 51.7802 - val_loss: 9220.7344 - val_mae: 45.5822\n",
      "Epoch 50/2000\n",
      "\u001b[1m354/362\u001b[0m \u001b[32m━━━━━━━━━━━━━━━━━━━\u001b[0m\u001b[37m━\u001b[0m \u001b[1m0s\u001b[0m 4ms/step - loss: 9160.0645 - mae: 52.0619\n",
      "Epoch 50: val_loss improved from 8961.96191 to 8899.68359, saving model to ./ICE-2/best_model.h5\n"
     ]
    },
    {
     "name": "stderr",
     "output_type": "stream",
     "text": [
      "WARNING:absl:You are saving your model as an HDF5 file via `model.save()` or `keras.saving.save_model(model)`. This file format is considered legacy. We recommend using instead the native Keras format, e.g. `model.save('my_model.keras')` or `keras.saving.save_model(model, 'my_model.keras')`. \n"
     ]
    },
    {
     "name": "stdout",
     "output_type": "stream",
     "text": [
      "\u001b[1m362/362\u001b[0m \u001b[32m━━━━━━━━━━━━━━━━━━━━\u001b[0m\u001b[37m\u001b[0m \u001b[1m1s\u001b[0m 4ms/step - loss: 9152.4727 - mae: 52.0800 - val_loss: 8899.6836 - val_mae: 45.9544\n",
      "Epoch 51/2000\n",
      "\u001b[1m361/362\u001b[0m \u001b[32m━━━━━━━━━━━━━━━━━━━\u001b[0m\u001b[37m━\u001b[0m \u001b[1m0s\u001b[0m 4ms/step - loss: 9239.7354 - mae: 52.1796\n",
      "Epoch 51: val_loss did not improve from 8899.68359\n",
      "\u001b[1m362/362\u001b[0m \u001b[32m━━━━━━━━━━━━━━━━━━━━\u001b[0m\u001b[37m\u001b[0m \u001b[1m1s\u001b[0m 4ms/step - loss: 9237.8223 - mae: 52.1813 - val_loss: 9223.2881 - val_mae: 45.4627\n",
      "Epoch 52/2000\n",
      "\u001b[1m349/362\u001b[0m \u001b[32m━━━━━━━━━━━━━━━━━━━\u001b[0m\u001b[37m━\u001b[0m \u001b[1m0s\u001b[0m 3ms/step - loss: 9061.1211 - mae: 51.4965\n",
      "Epoch 52: val_loss did not improve from 8899.68359\n",
      "\u001b[1m362/362\u001b[0m \u001b[32m━━━━━━━━━━━━━━━━━━━━\u001b[0m\u001b[37m\u001b[0m \u001b[1m1s\u001b[0m 4ms/step - loss: 9051.4619 - mae: 51.5323 - val_loss: 9390.6016 - val_mae: 45.4843\n",
      "Epoch 53/2000\n",
      "\u001b[1m354/362\u001b[0m \u001b[32m━━━━━━━━━━━━━━━━━━━\u001b[0m\u001b[37m━\u001b[0m \u001b[1m0s\u001b[0m 4ms/step - loss: 9115.5703 - mae: 51.5106\n",
      "Epoch 53: val_loss did not improve from 8899.68359\n",
      "\u001b[1m362/362\u001b[0m \u001b[32m━━━━━━━━━━━━━━━━━━━━\u001b[0m\u001b[37m\u001b[0m \u001b[1m2s\u001b[0m 4ms/step - loss: 9107.0527 - mae: 51.5291 - val_loss: 9360.9844 - val_mae: 45.3144\n",
      "Epoch 54/2000\n",
      "\u001b[1m345/362\u001b[0m \u001b[32m━━━━━━━━━━━━━━━━━━━\u001b[0m\u001b[37m━\u001b[0m \u001b[1m0s\u001b[0m 4ms/step - loss: 9032.4199 - mae: 51.9053\n",
      "Epoch 54: val_loss did not improve from 8899.68359\n",
      "\u001b[1m362/362\u001b[0m \u001b[32m━━━━━━━━━━━━━━━━━━━━\u001b[0m\u001b[37m\u001b[0m \u001b[1m1s\u001b[0m 4ms/step - loss: 9018.0234 - mae: 51.9348 - val_loss: 9323.5078 - val_mae: 45.2233\n",
      "Epoch 55/2000\n",
      "\u001b[1m357/362\u001b[0m \u001b[32m━━━━━━━━━━━━━━━━━━━\u001b[0m\u001b[37m━\u001b[0m \u001b[1m0s\u001b[0m 3ms/step - loss: 9084.3730 - mae: 52.1258\n",
      "Epoch 55: val_loss did not improve from 8899.68359\n",
      "\u001b[1m362/362\u001b[0m \u001b[32m━━━━━━━━━━━━━━━━━━━━\u001b[0m\u001b[37m\u001b[0m \u001b[1m1s\u001b[0m 4ms/step - loss: 9080.7510 - mae: 52.1366 - val_loss: 9068.8223 - val_mae: 46.2004\n",
      "Epoch 56/2000\n",
      "\u001b[1m355/362\u001b[0m \u001b[32m━━━━━━━━━━━━━━━━━━━\u001b[0m\u001b[37m━\u001b[0m \u001b[1m0s\u001b[0m 4ms/step - loss: 9131.7666 - mae: 51.9517\n",
      "Epoch 56: val_loss did not improve from 8899.68359\n",
      "\u001b[1m362/362\u001b[0m \u001b[32m━━━━━━━━━━━━━━━━━━━━\u001b[0m\u001b[37m\u001b[0m \u001b[1m2s\u001b[0m 4ms/step - loss: 9124.4951 - mae: 51.9623 - val_loss: 9567.4424 - val_mae: 45.4763\n",
      "Epoch 57/2000\n",
      "\u001b[1m359/362\u001b[0m \u001b[32m━━━━━━━━━━━━━━━━━━━\u001b[0m\u001b[37m━\u001b[0m \u001b[1m0s\u001b[0m 3ms/step - loss: 9034.8613 - mae: 51.8948\n",
      "Epoch 57: val_loss did not improve from 8899.68359\n",
      "\u001b[1m362/362\u001b[0m \u001b[32m━━━━━━━━━━━━━━━━━━━━\u001b[0m\u001b[37m\u001b[0m \u001b[1m1s\u001b[0m 4ms/step - loss: 9032.1240 - mae: 51.9019 - val_loss: 9326.7061 - val_mae: 45.6922\n",
      "Epoch 58/2000\n",
      "\u001b[1m361/362\u001b[0m \u001b[32m━━━━━━━━━━━━━━━━━━━\u001b[0m\u001b[37m━\u001b[0m \u001b[1m0s\u001b[0m 3ms/step - loss: 9215.1152 - mae: 52.0259\n",
      "Epoch 58: val_loss did not improve from 8899.68359\n",
      "\u001b[1m362/362\u001b[0m \u001b[32m━━━━━━━━━━━━━━━━━━━━\u001b[0m\u001b[37m\u001b[0m \u001b[1m1s\u001b[0m 4ms/step - loss: 9213.2773 - mae: 52.0291 - val_loss: 9256.0283 - val_mae: 45.2638\n",
      "Epoch 59/2000\n",
      "\u001b[1m348/362\u001b[0m \u001b[32m━━━━━━━━━━━━━━━━━━━\u001b[0m\u001b[37m━\u001b[0m \u001b[1m0s\u001b[0m 3ms/step - loss: 9094.4268 - mae: 51.8989\n",
      "Epoch 59: val_loss did not improve from 8899.68359\n",
      "\u001b[1m362/362\u001b[0m \u001b[32m━━━━━━━━━━━━━━━━━━━━\u001b[0m\u001b[37m\u001b[0m \u001b[1m1s\u001b[0m 4ms/step - loss: 9081.4580 - mae: 51.9208 - val_loss: 9197.0137 - val_mae: 45.1829\n",
      "Epoch 60/2000\n",
      "\u001b[1m349/362\u001b[0m \u001b[32m━━━━━━━━━━━━━━━━━━━\u001b[0m\u001b[37m━\u001b[0m \u001b[1m0s\u001b[0m 3ms/step - loss: 9008.1758 - mae: 51.8030\n",
      "Epoch 60: val_loss did not improve from 8899.68359\n",
      "\u001b[1m362/362\u001b[0m \u001b[32m━━━━━━━━━━━━━━━━━━━━\u001b[0m\u001b[37m\u001b[0m \u001b[1m1s\u001b[0m 4ms/step - loss: 8998.0820 - mae: 51.8301 - val_loss: 9372.8115 - val_mae: 45.1959\n",
      "Epoch 61/2000\n",
      "\u001b[1m348/362\u001b[0m \u001b[32m━━━━━━━━━━━━━━━━━━━\u001b[0m\u001b[37m━\u001b[0m \u001b[1m0s\u001b[0m 3ms/step - loss: 9102.4170 - mae: 52.1919\n",
      "Epoch 61: val_loss did not improve from 8899.68359\n",
      "\u001b[1m362/362\u001b[0m \u001b[32m━━━━━━━━━━━━━━━━━━━━\u001b[0m\u001b[37m\u001b[0m \u001b[1m1s\u001b[0m 4ms/step - loss: 9090.3125 - mae: 52.2157 - val_loss: 9387.2656 - val_mae: 45.5523\n",
      "Epoch 62/2000\n",
      "\u001b[1m355/362\u001b[0m \u001b[32m━━━━━━━━━━━━━━━━━━━\u001b[0m\u001b[37m━\u001b[0m \u001b[1m0s\u001b[0m 3ms/step - loss: 9272.8340 - mae: 52.2793\n",
      "Epoch 62: val_loss did not improve from 8899.68359\n",
      "\u001b[1m362/362\u001b[0m \u001b[32m━━━━━━━━━━━━━━━━━━━━\u001b[0m\u001b[37m\u001b[0m \u001b[1m1s\u001b[0m 4ms/step - loss: 9263.2959 - mae: 52.2834 - val_loss: 9573.4482 - val_mae: 45.6295\n",
      "Epoch 63/2000\n",
      "\u001b[1m350/362\u001b[0m \u001b[32m━━━━━━━━━━━━━━━━━━━\u001b[0m\u001b[37m━\u001b[0m \u001b[1m0s\u001b[0m 3ms/step - loss: 9143.8750 - mae: 51.3699\n",
      "Epoch 63: val_loss did not improve from 8899.68359\n",
      "\u001b[1m362/362\u001b[0m \u001b[32m━━━━━━━━━━━━━━━━━━━━\u001b[0m\u001b[37m\u001b[0m \u001b[1m1s\u001b[0m 4ms/step - loss: 9133.4590 - mae: 51.4024 - val_loss: 9611.4902 - val_mae: 45.2712\n",
      "Epoch 64/2000\n",
      "\u001b[1m348/362\u001b[0m \u001b[32m━━━━━━━━━━━━━━━━━━━\u001b[0m\u001b[37m━\u001b[0m \u001b[1m0s\u001b[0m 3ms/step - loss: 9006.1992 - mae: 51.8933\n",
      "Epoch 64: val_loss did not improve from 8899.68359\n",
      "\u001b[1m362/362\u001b[0m \u001b[32m━━━━━━━━━━━━━━━━━━━━\u001b[0m\u001b[37m\u001b[0m \u001b[1m1s\u001b[0m 4ms/step - loss: 8998.3799 - mae: 51.9169 - val_loss: 9541.9922 - val_mae: 45.3862\n",
      "Epoch 65/2000\n",
      "\u001b[1m348/362\u001b[0m \u001b[32m━━━━━━━━━━━━━━━━━━━\u001b[0m\u001b[37m━\u001b[0m \u001b[1m0s\u001b[0m 3ms/step - loss: 9059.0342 - mae: 52.2325\n",
      "Epoch 65: val_loss did not improve from 8899.68359\n",
      "\u001b[1m362/362\u001b[0m \u001b[32m━━━━━━━━━━━━━━━━━━━━\u001b[0m\u001b[37m\u001b[0m \u001b[1m1s\u001b[0m 4ms/step - loss: 9047.2383 - mae: 52.2455 - val_loss: 9572.6992 - val_mae: 46.0479\n",
      "Epoch 66/2000\n",
      "\u001b[1m354/362\u001b[0m \u001b[32m━━━━━━━━━━━━━━━━━━━\u001b[0m\u001b[37m━\u001b[0m \u001b[1m0s\u001b[0m 3ms/step - loss: 9008.8037 - mae: 51.7238\n",
      "Epoch 66: val_loss did not improve from 8899.68359\n",
      "\u001b[1m362/362\u001b[0m \u001b[32m━━━━━━━━━━━━━━━━━━━━\u001b[0m\u001b[37m\u001b[0m \u001b[1m1s\u001b[0m 4ms/step - loss: 9003.1885 - mae: 51.7434 - val_loss: 9256.4277 - val_mae: 45.1263\n",
      "Epoch 67/2000\n",
      "\u001b[1m348/362\u001b[0m \u001b[32m━━━━━━━━━━━━━━━━━━━\u001b[0m\u001b[37m━\u001b[0m \u001b[1m0s\u001b[0m 4ms/step - loss: 9145.6689 - mae: 52.0716\n",
      "Epoch 67: val_loss did not improve from 8899.68359\n",
      "\u001b[1m362/362\u001b[0m \u001b[32m━━━━━━━━━━━━━━━━━━━━\u001b[0m\u001b[37m\u001b[0m \u001b[1m2s\u001b[0m 5ms/step - loss: 9133.9814 - mae: 52.1001 - val_loss: 9272.1523 - val_mae: 45.7475\n",
      "Epoch 68/2000\n",
      "\u001b[1m354/362\u001b[0m \u001b[32m━━━━━━━━━━━━━━━━━━━\u001b[0m\u001b[37m━\u001b[0m \u001b[1m0s\u001b[0m 4ms/step - loss: 9024.8945 - mae: 51.7062\n",
      "Epoch 68: val_loss did not improve from 8899.68359\n",
      "\u001b[1m362/362\u001b[0m \u001b[32m━━━━━━━━━━━━━━━━━━━━\u001b[0m\u001b[37m\u001b[0m \u001b[1m2s\u001b[0m 4ms/step - loss: 9018.4570 - mae: 51.7239 - val_loss: 9628.7070 - val_mae: 45.8021\n",
      "Epoch 69/2000\n",
      "\u001b[1m357/362\u001b[0m \u001b[32m━━━━━━━━━━━━━━━━━━━\u001b[0m\u001b[37m━\u001b[0m \u001b[1m0s\u001b[0m 4ms/step - loss: 9137.3213 - mae: 52.0073\n",
      "Epoch 69: val_loss did not improve from 8899.68359\n",
      "\u001b[1m362/362\u001b[0m \u001b[32m━━━━━━━━━━━━━━━━━━━━\u001b[0m\u001b[37m\u001b[0m \u001b[1m1s\u001b[0m 4ms/step - loss: 9132.4160 - mae: 52.0189 - val_loss: 9477.6689 - val_mae: 45.4355\n",
      "Epoch 70/2000\n",
      "\u001b[1m348/362\u001b[0m \u001b[32m━━━━━━━━━━━━━━━━━━━\u001b[0m\u001b[37m━\u001b[0m \u001b[1m0s\u001b[0m 3ms/step - loss: 9020.5010 - mae: 51.8051\n",
      "Epoch 70: val_loss did not improve from 8899.68359\n",
      "\u001b[1m362/362\u001b[0m \u001b[32m━━━━━━━━━━━━━━━━━━━━\u001b[0m\u001b[37m\u001b[0m \u001b[1m1s\u001b[0m 4ms/step - loss: 9011.4277 - mae: 51.8370 - val_loss: 9438.0225 - val_mae: 45.8561\n",
      "Epoch 71/2000\n",
      "\u001b[1m353/362\u001b[0m \u001b[32m━━━━━━━━━━━━━━━━━━━\u001b[0m\u001b[37m━\u001b[0m \u001b[1m0s\u001b[0m 3ms/step - loss: 9260.6553 - mae: 52.3567\n",
      "Epoch 71: val_loss did not improve from 8899.68359\n",
      "\u001b[1m362/362\u001b[0m \u001b[32m━━━━━━━━━━━━━━━━━━━━\u001b[0m\u001b[37m\u001b[0m \u001b[1m1s\u001b[0m 4ms/step - loss: 9251.0723 - mae: 52.3661 - val_loss: 9233.5771 - val_mae: 45.6473\n",
      "Epoch 72/2000\n",
      "\u001b[1m362/362\u001b[0m \u001b[32m━━━━━━━━━━━━━━━━━━━━\u001b[0m\u001b[37m\u001b[0m \u001b[1m0s\u001b[0m 4ms/step - loss: 8902.5459 - mae: 51.7219\n",
      "Epoch 72: val_loss did not improve from 8899.68359\n",
      "\u001b[1m362/362\u001b[0m \u001b[32m━━━━━━━━━━━━━━━━━━━━\u001b[0m\u001b[37m\u001b[0m \u001b[1m2s\u001b[0m 4ms/step - loss: 8902.0420 - mae: 51.7243 - val_loss: 9465.9443 - val_mae: 44.8891\n",
      "Epoch 73/2000\n",
      "\u001b[1m350/362\u001b[0m \u001b[32m━━━━━━━━━━━━━━━━━━━\u001b[0m\u001b[37m━\u001b[0m \u001b[1m0s\u001b[0m 4ms/step - loss: 9178.1533 - mae: 52.7300\n",
      "Epoch 73: val_loss did not improve from 8899.68359\n",
      "\u001b[1m362/362\u001b[0m \u001b[32m━━━━━━━━━━━━━━━━━━━━\u001b[0m\u001b[37m\u001b[0m \u001b[1m1s\u001b[0m 4ms/step - loss: 9168.2559 - mae: 52.7360 - val_loss: 9450.2070 - val_mae: 44.7674\n",
      "Epoch 74/2000\n",
      "\u001b[1m358/362\u001b[0m \u001b[32m━━━━━━━━━━━━━━━━━━━\u001b[0m\u001b[37m━\u001b[0m \u001b[1m0s\u001b[0m 4ms/step - loss: 9042.4551 - mae: 52.1831\n",
      "Epoch 74: val_loss did not improve from 8899.68359\n",
      "\u001b[1m362/362\u001b[0m \u001b[32m━━━━━━━━━━━━━━━━━━━━\u001b[0m\u001b[37m\u001b[0m \u001b[1m2s\u001b[0m 5ms/step - loss: 9038.6572 - mae: 52.1878 - val_loss: 9315.5352 - val_mae: 45.6441\n",
      "Epoch 75/2000\n",
      "\u001b[1m352/362\u001b[0m \u001b[32m━━━━━━━━━━━━━━━━━━━\u001b[0m\u001b[37m━\u001b[0m \u001b[1m0s\u001b[0m 4ms/step - loss: 9121.5791 - mae: 51.8656\n",
      "Epoch 75: val_loss did not improve from 8899.68359\n",
      "\u001b[1m362/362\u001b[0m \u001b[32m━━━━━━━━━━━━━━━━━━━━\u001b[0m\u001b[37m\u001b[0m \u001b[1m2s\u001b[0m 5ms/step - loss: 9113.3125 - mae: 51.8817 - val_loss: 9351.3330 - val_mae: 45.1349\n",
      "Epoch 76/2000\n",
      "\u001b[1m360/362\u001b[0m \u001b[32m━━━━━━━━━━━━━━━━━━━\u001b[0m\u001b[37m━\u001b[0m \u001b[1m0s\u001b[0m 4ms/step - loss: 8920.0459 - mae: 51.8090\n",
      "Epoch 76: val_loss did not improve from 8899.68359\n",
      "\u001b[1m362/362\u001b[0m \u001b[32m━━━━━━━━━━━━━━━━━━━━\u001b[0m\u001b[37m\u001b[0m \u001b[1m2s\u001b[0m 4ms/step - loss: 8918.5098 - mae: 51.8128 - val_loss: 9522.9443 - val_mae: 45.6118\n",
      "Epoch 77/2000\n",
      "\u001b[1m356/362\u001b[0m \u001b[32m━━━━━━━━━━━━━━━━━━━\u001b[0m\u001b[37m━\u001b[0m \u001b[1m0s\u001b[0m 4ms/step - loss: 9127.3291 - mae: 51.4711\n",
      "Epoch 77: val_loss did not improve from 8899.68359\n",
      "\u001b[1m362/362\u001b[0m \u001b[32m━━━━━━━━━━━━━━━━━━━━\u001b[0m\u001b[37m\u001b[0m \u001b[1m2s\u001b[0m 4ms/step - loss: 9121.3984 - mae: 51.4885 - val_loss: 9423.2979 - val_mae: 45.0116\n",
      "Epoch 78/2000\n",
      "\u001b[1m353/362\u001b[0m \u001b[32m━━━━━━━━━━━━━━━━━━━\u001b[0m\u001b[37m━\u001b[0m \u001b[1m0s\u001b[0m 4ms/step - loss: 9132.6504 - mae: 51.7546\n",
      "Epoch 78: val_loss did not improve from 8899.68359\n",
      "\u001b[1m362/362\u001b[0m \u001b[32m━━━━━━━━━━━━━━━━━━━━\u001b[0m\u001b[37m\u001b[0m \u001b[1m2s\u001b[0m 5ms/step - loss: 9125.8604 - mae: 51.7781 - val_loss: 9445.9434 - val_mae: 45.4611\n",
      "Epoch 79/2000\n",
      "\u001b[1m362/362\u001b[0m \u001b[32m━━━━━━━━━━━━━━━━━━━━\u001b[0m\u001b[37m\u001b[0m \u001b[1m0s\u001b[0m 4ms/step - loss: 9093.0352 - mae: 51.5014\n",
      "Epoch 79: val_loss did not improve from 8899.68359\n",
      "\u001b[1m362/362\u001b[0m \u001b[32m━━━━━━━━━━━━━━━━━━━━\u001b[0m\u001b[37m\u001b[0m \u001b[1m2s\u001b[0m 4ms/step - loss: 9092.1064 - mae: 51.5034 - val_loss: 9397.4951 - val_mae: 45.1098\n",
      "Epoch 80/2000\n",
      "\u001b[1m351/362\u001b[0m \u001b[32m━━━━━━━━━━━━━━━━━━━\u001b[0m\u001b[37m━\u001b[0m \u001b[1m0s\u001b[0m 4ms/step - loss: 8964.1484 - mae: 51.1588\n",
      "Epoch 80: val_loss did not improve from 8899.68359\n",
      "\u001b[1m362/362\u001b[0m \u001b[32m━━━━━━━━━━━━━━━━━━━━\u001b[0m\u001b[37m\u001b[0m \u001b[1m2s\u001b[0m 4ms/step - loss: 8956.8906 - mae: 51.1979 - val_loss: 9526.1973 - val_mae: 45.9566\n"
     ]
    }
   ],
   "source": [
    "early_stop = keras.callbacks.EarlyStopping(monitor='val_loss', patience=30)\n",
    "model_checkpoint = keras.callbacks.ModelCheckpoint('./ICE-2/best_model.h5', monitor='val_loss', save_best_only=True, verbose=1)\n",
    "history = nn_model.fit(X_nn_trn, y_nn_trn, epochs=2000, validation_split=0.35, batch_size=20, callbacks=[early_stop, model_checkpoint], shuffle=False)\n",
    "hist = pd.DataFrame(history.history)"
   ]
  },
  {
   "cell_type": "code",
   "execution_count": 112,
   "metadata": {},
   "outputs": [
    {
     "name": "stdout",
     "output_type": "stream",
     "text": [
      "\u001b[1m87/87\u001b[0m \u001b[32m━━━━━━━━━━━━━━━━━━━━\u001b[0m\u001b[37m\u001b[0m \u001b[1m0s\u001b[0m 754us/step\n"
     ]
    }
   ],
   "source": [
    "preds = np.round(nn_model.predict(X_nn_tst),1)"
   ]
  },
  {
   "cell_type": "code",
   "execution_count": 113,
   "metadata": {},
   "outputs": [
    {
     "name": "stdout",
     "output_type": "stream",
     "text": [
      "0.04888492822647095\n"
     ]
    }
   ],
   "source": [
    "r2 = r2_score(y_nn_tst, preds)\n",
    "print(r2)"
   ]
  },
  {
   "cell_type": "markdown",
   "metadata": {},
   "source": [
    "# Holdout Predictions"
   ]
  },
  {
   "cell_type": "code",
   "execution_count": 125,
   "metadata": {},
   "outputs": [],
   "source": [
    "holdout_cln = holdout_df.drop(columns=['Year', 'Hours', 'Minutes'])\n",
    "holdout_pred = model.predict(holdout_cln)\n",
    "holdout_data = pd.DataFrame(holdout_pred, columns=['Appliances'])\n",
    "holdout_data.to_csv('./ICE-2/ezekialcurran-appliance-predictions.csv', index=False)"
   ]
  }
 ],
 "metadata": {
  "kernelspec": {
   "display_name": "venv",
   "language": "python",
   "name": "python3"
  },
  "language_info": {
   "codemirror_mode": {
    "name": "ipython",
    "version": 3
   },
   "file_extension": ".py",
   "mimetype": "text/x-python",
   "name": "python",
   "nbconvert_exporter": "python",
   "pygments_lexer": "ipython3",
   "version": "3.12.8"
  }
 },
 "nbformat": 4,
 "nbformat_minor": 2
}
