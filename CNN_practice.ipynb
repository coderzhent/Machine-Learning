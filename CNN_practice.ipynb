{
 "cells": [
  {
   "cell_type": "markdown",
   "metadata": {},
   "source": [
    "# Muffin CNN"
   ]
  },
  {
   "cell_type": "markdown",
   "metadata": {},
   "source": [
    "# Imports"
   ]
  },
  {
   "cell_type": "code",
   "execution_count": 4,
   "metadata": {},
   "outputs": [],
   "source": [
    "import requests\n",
    "import os\n",
    "import random\n",
    "import pandas as pd\n",
    "import matplotlib.pyplot as plt\n",
    "import numpy as np\n",
    "import tensorflow as tf\n",
    "from tensorflow import keras\n",
    "from tensorflow.keras.preprocessing.image import ImageDataGenerator"
   ]
  },
  {
   "cell_type": "markdown",
   "metadata": {},
   "source": [
    "# Downloading Files"
   ]
  },
  {
   "cell_type": "code",
   "execution_count": 5,
   "metadata": {},
   "outputs": [],
   "source": [
    "url1 = \"https://github.com/byui-cse/cse450-course/raw/master/data/muffin/training.zip\"\n",
    "url2 = \"https://github.com/byui-cse/cse450-course/raw/master/data/muffin/test.zip\"\n",
    "url3 = \"https://github.com/byui-cse/cse450-course/raw/master/data/muffin/test_classes.csv\"\n",
    "\n",
    "path1 = \"./CNN/training.zip\"\n",
    "path2 = \"./CNN/test.zip\"\n",
    "path3 = \"./CNN/test_classes.csv\""
   ]
  },
  {
   "cell_type": "code",
   "execution_count": 6,
   "metadata": {},
   "outputs": [
    {
     "name": "stdout",
     "output_type": "stream",
     "text": [
      "Files already exits: ./CNN/training.zip\n",
      "Files already exits: ./CNN/test.zip\n",
      "Files already exits: ./CNN/test_classes.csv\n"
     ]
    }
   ],
   "source": [
    "def get_data(url, path):\n",
    "    resp = requests.get(url)\n",
    "    if resp.status_code == 200:\n",
    "        with open(path, 'wb') as file:\n",
    "            file.write(resp.content)\n",
    "        print(f\"File downloaded and saved to {path}\")\n",
    "    else:\n",
    "        print(f\"Failed to download file. HTTP status code: {resp.status_code}\")\n",
    "\n",
    "if os.path.exists(path1):\n",
    "    print(f\"Files already exits: {path1}\")\n",
    "else:\n",
    "    print(f\"Fetching {url1}\")\n",
    "    get_data(url1, path1)\n",
    "if os.path.exists(path2):\n",
    "    print(f\"Files already exits: {path2}\")\n",
    "else:\n",
    "    print(f\"Fetching {url2}\")\n",
    "    get_data(url2, path2)\n",
    "if os.path.exists(path3):\n",
    "    print(f\"Files already exits: {path3}\")\n",
    "else:\n",
    "    print(f\"Fetching {url3}\")\n",
    "    get_data(url3, path3)"
   ]
  },
  {
   "cell_type": "markdown",
   "metadata": {},
   "source": []
  }
 ],
 "metadata": {
  "kernelspec": {
   "display_name": "venv",
   "language": "python",
   "name": "python3"
  },
  "language_info": {
   "codemirror_mode": {
    "name": "ipython",
    "version": 3
   },
   "file_extension": ".py",
   "mimetype": "text/x-python",
   "name": "python",
   "nbconvert_exporter": "python",
   "pygments_lexer": "ipython3",
   "version": "3.12.8"
  }
 },
 "nbformat": 4,
 "nbformat_minor": 2
}
