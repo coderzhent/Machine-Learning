{
 "cells": [
  {
   "cell_type": "markdown",
   "metadata": {},
   "source": [
    "# Case Study 4"
   ]
  },
  {
   "cell_type": "markdown",
   "metadata": {},
   "source": [
    "## PyTorch Imports"
   ]
  },
  {
   "cell_type": "code",
   "execution_count": 8,
   "metadata": {},
   "outputs": [],
   "source": [
    "import torch\n",
    "import torch.nn as nn\n",
    "import torch.optim as optim"
   ]
  },
  {
   "cell_type": "markdown",
   "metadata": {},
   "source": [
    "## Standard Imports"
   ]
  },
  {
   "cell_type": "code",
   "execution_count": 9,
   "metadata": {},
   "outputs": [],
   "source": [
    "import datetime\n",
    "import pandas as pd\n",
    "import numpy as np\n",
    "import matplotlib.pyplot as plt\n",
    "import seaborn as sns\n",
    "import tensorflow as tf\n",
    "from tensorflow import keras\n",
    "from tensorflow.keras import layers\n",
    "from sklearn.preprocessing import LabelEncoder, MinMaxScaler, OneHotEncoder\n",
    "from sklearn.model_selection import train_test_split\n",
    "from sklearn.metrics import accuracy_score, confusion_matrix, precision_score, recall_score, f1_score, root_mean_squared_error, mean_squared_error, r2_score, mean_absolute_error, median_absolute_error, root_mean_squared_log_error"
   ]
  },
  {
   "cell_type": "markdown",
   "metadata": {},
   "source": [
    "# Data Description"
   ]
  },
  {
   "cell_type": "code",
   "execution_count": 10,
   "metadata": {},
   "outputs": [
    {
     "data": {
      "application/vnd.microsoft.datawrangler.viewer.v0+json": {
       "columns": [
        {
         "name": "index",
         "rawType": "object",
         "type": "string"
        },
        {
         "name": "hr",
         "rawType": "float64",
         "type": "float"
        },
        {
         "name": "casual",
         "rawType": "float64",
         "type": "float"
        },
        {
         "name": "registered",
         "rawType": "float64",
         "type": "float"
        },
        {
         "name": "temp_c",
         "rawType": "float64",
         "type": "float"
        },
        {
         "name": "feels_like_c",
         "rawType": "float64",
         "type": "float"
        },
        {
         "name": "hum",
         "rawType": "float64",
         "type": "float"
        },
        {
         "name": "windspeed",
         "rawType": "float64",
         "type": "float"
        },
        {
         "name": "weathersit",
         "rawType": "float64",
         "type": "float"
        },
        {
         "name": "season",
         "rawType": "float64",
         "type": "float"
        },
        {
         "name": "holiday",
         "rawType": "float64",
         "type": "float"
        },
        {
         "name": "workingday",
         "rawType": "float64",
         "type": "float"
        }
       ],
       "conversionMethod": "pd.DataFrame",
       "ref": "2258b832-ce02-4271-9cc8-a5df71db940e",
       "rows": [
        [
         "count",
         "112475.0",
         "112475.0",
         "112475.0",
         "112475.0",
         "112475.0",
         "112475.0",
         "112475.0",
         "112475.0",
         "112475.0",
         "112475.0",
         "112475.0"
        ],
        [
         "mean",
         "11.501098021782619",
         "90.43461213603022",
         "249.19362525005556",
         "15.376487219382087",
         "14.659325183374081",
         "0.6366236843743053",
         "13.10061435874639",
         "1.4054412091575905",
         "2.495799066459213",
         "0.030300066681484775",
         "0.6843120693487441"
        ],
        [
         "std",
         "6.921863802670093",
         "128.65562104037141",
         "258.26754449114765",
         "9.749466972489802",
         "11.428323612995568",
         "0.19032810413797513",
         "7.857600400763197",
         "0.6834501668406977",
         "1.1011520875592893",
         "0.17141246709048458",
         "0.46479133145380436"
        ],
        [
         "min",
         "0.0",
         "0.0",
         "0.0",
         "-14.7",
         "-24.0",
         "0.0889",
         "0.0",
         "1.0",
         "1.0",
         "0.0",
         "0.0"
        ],
        [
         "25%",
         "6.0",
         "7.0",
         "48.0",
         "7.6",
         "5.4",
         "0.4841",
         "7.7",
         "1.0",
         "2.0",
         "0.0",
         "0.0"
        ],
        [
         "50%",
         "12.0",
         "36.0",
         "180.0",
         "16.0",
         "16.0",
         "0.6409",
         "12.2",
         "1.0",
         "2.0",
         "0.0",
         "1.0"
        ],
        [
         "75%",
         "18.0",
         "122.0",
         "360.0",
         "23.5",
         "23.5",
         "0.7988",
         "17.5",
         "2.0",
         "3.0",
         "0.0",
         "1.0"
        ],
        [
         "max",
         "23.0",
         "1244.0",
         "1702.0",
         "40.5",
         "49.6",
         "1.0",
         "69.8",
         "4.0",
         "4.0",
         "1.0",
         "1.0"
        ]
       ],
       "shape": {
        "columns": 11,
        "rows": 8
       }
      },
      "text/html": [
       "<div>\n",
       "<style scoped>\n",
       "    .dataframe tbody tr th:only-of-type {\n",
       "        vertical-align: middle;\n",
       "    }\n",
       "\n",
       "    .dataframe tbody tr th {\n",
       "        vertical-align: top;\n",
       "    }\n",
       "\n",
       "    .dataframe thead th {\n",
       "        text-align: right;\n",
       "    }\n",
       "</style>\n",
       "<table border=\"1\" class=\"dataframe\">\n",
       "  <thead>\n",
       "    <tr style=\"text-align: right;\">\n",
       "      <th></th>\n",
       "      <th>hr</th>\n",
       "      <th>casual</th>\n",
       "      <th>registered</th>\n",
       "      <th>temp_c</th>\n",
       "      <th>feels_like_c</th>\n",
       "      <th>hum</th>\n",
       "      <th>windspeed</th>\n",
       "      <th>weathersit</th>\n",
       "      <th>season</th>\n",
       "      <th>holiday</th>\n",
       "      <th>workingday</th>\n",
       "    </tr>\n",
       "  </thead>\n",
       "  <tbody>\n",
       "    <tr>\n",
       "      <th>count</th>\n",
       "      <td>112475.000000</td>\n",
       "      <td>112475.000000</td>\n",
       "      <td>112475.000000</td>\n",
       "      <td>112475.000000</td>\n",
       "      <td>112475.000000</td>\n",
       "      <td>112475.000000</td>\n",
       "      <td>112475.000000</td>\n",
       "      <td>112475.000000</td>\n",
       "      <td>112475.000000</td>\n",
       "      <td>112475.000000</td>\n",
       "      <td>112475.000000</td>\n",
       "    </tr>\n",
       "    <tr>\n",
       "      <th>mean</th>\n",
       "      <td>11.501098</td>\n",
       "      <td>90.434612</td>\n",
       "      <td>249.193625</td>\n",
       "      <td>15.376487</td>\n",
       "      <td>14.659325</td>\n",
       "      <td>0.636624</td>\n",
       "      <td>13.100614</td>\n",
       "      <td>1.405441</td>\n",
       "      <td>2.495799</td>\n",
       "      <td>0.030300</td>\n",
       "      <td>0.684312</td>\n",
       "    </tr>\n",
       "    <tr>\n",
       "      <th>std</th>\n",
       "      <td>6.921864</td>\n",
       "      <td>128.655621</td>\n",
       "      <td>258.267544</td>\n",
       "      <td>9.749467</td>\n",
       "      <td>11.428324</td>\n",
       "      <td>0.190328</td>\n",
       "      <td>7.857600</td>\n",
       "      <td>0.683450</td>\n",
       "      <td>1.101152</td>\n",
       "      <td>0.171412</td>\n",
       "      <td>0.464791</td>\n",
       "    </tr>\n",
       "    <tr>\n",
       "      <th>min</th>\n",
       "      <td>0.000000</td>\n",
       "      <td>0.000000</td>\n",
       "      <td>0.000000</td>\n",
       "      <td>-14.700000</td>\n",
       "      <td>-24.000000</td>\n",
       "      <td>0.088900</td>\n",
       "      <td>0.000000</td>\n",
       "      <td>1.000000</td>\n",
       "      <td>1.000000</td>\n",
       "      <td>0.000000</td>\n",
       "      <td>0.000000</td>\n",
       "    </tr>\n",
       "    <tr>\n",
       "      <th>25%</th>\n",
       "      <td>6.000000</td>\n",
       "      <td>7.000000</td>\n",
       "      <td>48.000000</td>\n",
       "      <td>7.600000</td>\n",
       "      <td>5.400000</td>\n",
       "      <td>0.484100</td>\n",
       "      <td>7.700000</td>\n",
       "      <td>1.000000</td>\n",
       "      <td>2.000000</td>\n",
       "      <td>0.000000</td>\n",
       "      <td>0.000000</td>\n",
       "    </tr>\n",
       "    <tr>\n",
       "      <th>50%</th>\n",
       "      <td>12.000000</td>\n",
       "      <td>36.000000</td>\n",
       "      <td>180.000000</td>\n",
       "      <td>16.000000</td>\n",
       "      <td>16.000000</td>\n",
       "      <td>0.640900</td>\n",
       "      <td>12.200000</td>\n",
       "      <td>1.000000</td>\n",
       "      <td>2.000000</td>\n",
       "      <td>0.000000</td>\n",
       "      <td>1.000000</td>\n",
       "    </tr>\n",
       "    <tr>\n",
       "      <th>75%</th>\n",
       "      <td>18.000000</td>\n",
       "      <td>122.000000</td>\n",
       "      <td>360.000000</td>\n",
       "      <td>23.500000</td>\n",
       "      <td>23.500000</td>\n",
       "      <td>0.798800</td>\n",
       "      <td>17.500000</td>\n",
       "      <td>2.000000</td>\n",
       "      <td>3.000000</td>\n",
       "      <td>0.000000</td>\n",
       "      <td>1.000000</td>\n",
       "    </tr>\n",
       "    <tr>\n",
       "      <th>max</th>\n",
       "      <td>23.000000</td>\n",
       "      <td>1244.000000</td>\n",
       "      <td>1702.000000</td>\n",
       "      <td>40.500000</td>\n",
       "      <td>49.600000</td>\n",
       "      <td>1.000000</td>\n",
       "      <td>69.800000</td>\n",
       "      <td>4.000000</td>\n",
       "      <td>4.000000</td>\n",
       "      <td>1.000000</td>\n",
       "      <td>1.000000</td>\n",
       "    </tr>\n",
       "  </tbody>\n",
       "</table>\n",
       "</div>"
      ],
      "text/plain": [
       "                  hr         casual     registered         temp_c  \\\n",
       "count  112475.000000  112475.000000  112475.000000  112475.000000   \n",
       "mean       11.501098      90.434612     249.193625      15.376487   \n",
       "std         6.921864     128.655621     258.267544       9.749467   \n",
       "min         0.000000       0.000000       0.000000     -14.700000   \n",
       "25%         6.000000       7.000000      48.000000       7.600000   \n",
       "50%        12.000000      36.000000     180.000000      16.000000   \n",
       "75%        18.000000     122.000000     360.000000      23.500000   \n",
       "max        23.000000    1244.000000    1702.000000      40.500000   \n",
       "\n",
       "        feels_like_c            hum      windspeed     weathersit  \\\n",
       "count  112475.000000  112475.000000  112475.000000  112475.000000   \n",
       "mean       14.659325       0.636624      13.100614       1.405441   \n",
       "std        11.428324       0.190328       7.857600       0.683450   \n",
       "min       -24.000000       0.088900       0.000000       1.000000   \n",
       "25%         5.400000       0.484100       7.700000       1.000000   \n",
       "50%        16.000000       0.640900      12.200000       1.000000   \n",
       "75%        23.500000       0.798800      17.500000       2.000000   \n",
       "max        49.600000       1.000000      69.800000       4.000000   \n",
       "\n",
       "              season        holiday     workingday  \n",
       "count  112475.000000  112475.000000  112475.000000  \n",
       "mean        2.495799       0.030300       0.684312  \n",
       "std         1.101152       0.171412       0.464791  \n",
       "min         1.000000       0.000000       0.000000  \n",
       "25%         2.000000       0.000000       0.000000  \n",
       "50%         2.000000       0.000000       1.000000  \n",
       "75%         3.000000       0.000000       1.000000  \n",
       "max         4.000000       1.000000       1.000000  "
      ]
     },
     "metadata": {},
     "output_type": "display_data"
    },
    {
     "name": "stdout",
     "output_type": "stream",
     "text": [
      "<class 'pandas.core.frame.DataFrame'>\n",
      "RangeIndex: 112475 entries, 0 to 112474\n",
      "Data columns (total 12 columns):\n",
      " #   Column        Non-Null Count   Dtype  \n",
      "---  ------        --------------   -----  \n",
      " 0   dteday        112475 non-null  object \n",
      " 1   hr            112475 non-null  float64\n",
      " 2   casual        112475 non-null  int64  \n",
      " 3   registered    112475 non-null  int64  \n",
      " 4   temp_c        112475 non-null  float64\n",
      " 5   feels_like_c  112475 non-null  float64\n",
      " 6   hum           112475 non-null  float64\n",
      " 7   windspeed     112475 non-null  float64\n",
      " 8   weathersit    112475 non-null  int64  \n",
      " 9   season        112475 non-null  int64  \n",
      " 10  holiday       112475 non-null  int64  \n",
      " 11  workingday    112475 non-null  int64  \n",
      "dtypes: float64(5), int64(6), object(1)\n",
      "memory usage: 10.3+ MB\n"
     ]
    },
    {
     "data": {
      "text/plain": [
       "None"
      ]
     },
     "metadata": {},
     "output_type": "display_data"
    }
   ],
   "source": [
    "bikes = pd.read_csv('./Module 4/bikes.csv')\n",
    "display(bikes.describe())\n",
    "display(bikes.info())"
   ]
  },
  {
   "cell_type": "markdown",
   "metadata": {},
   "source": [
    "# Matrix Plots"
   ]
  },
  {
   "cell_type": "code",
   "execution_count": 11,
   "metadata": {},
   "outputs": [
    {
     "name": "stdout",
     "output_type": "stream",
     "text": [
      "Matrix Plot not being printed! It can take about 16 minutes to print and save them all.\n"
     ]
    }
   ],
   "source": [
    "prntp_plt = False\n",
    "if prntp_plt:\n",
    "    sns.pairplot(data=bikes)\n",
    "    plt.savefig('.\\\\Module 4\\\\matrix_plot.png', dpi=300)\n",
    "    sns.pairplot(data=bikes.drop(columns='casual'), hue='registered')\n",
    "    plt.savefig('.\\\\Module 4\\\\matrix_plot_registered.png', dpi=300)\n",
    "    sns.pairplot(data=bikes.drop(columns='registered'), hue='casual')\n",
    "    plt.savefig('.\\\\Module 4\\\\matrix_plot_casual.png', dpi=300)\n",
    "else:\n",
    "    print(\"Matrix Plot not being printed! It can take about 16 minutes to print and save them all.\")"
   ]
  },
  {
   "cell_type": "markdown",
   "metadata": {},
   "source": [
    "# Data Engineering"
   ]
  },
  {
   "cell_type": "markdown",
   "metadata": {},
   "source": [
    "## Helper Functions"
   ]
  },
  {
   "cell_type": "code",
   "execution_count": 12,
   "metadata": {},
   "outputs": [],
   "source": [
    "def create_weekday(s):\n",
    "    s_obj = datetime.datetime.strptime(s, \"%m/%d/%Y\")\n",
    "    s_day = s_obj.strftime(\"%a\")\n",
    "    return day_map[s_day]\n",
    "\n",
    "day_map = {\n",
    "    'Sun': 0,\n",
    "    'Mon': 1,\n",
    "    'Tue': 2,\n",
    "    'Wed': 3,\n",
    "    'Thu': 4,\n",
    "    'Fri': 5,\n",
    "    'Sat': 6\n",
    "}"
   ]
  },
  {
   "cell_type": "markdown",
   "metadata": {},
   "source": [
    "## Application of Functions"
   ]
  },
  {
   "cell_type": "markdown",
   "metadata": {},
   "source": [
    "Applies functions and scales the data, also sets the random states for splitting the data and the model's random state"
   ]
  },
  {
   "cell_type": "code",
   "execution_count": null,
   "metadata": {},
   "outputs": [],
   "source": [
    "# Add buffers to holidays\n",
    "# add cyclic attributes for days and years\n",
    "\n",
    "bikes['weekday'] = bikes['dteday'].map(create_weekday)\n",
    "X = bikes.drop(columns=['dteday', 'casual', 'registered'])\n",
    "y = bikes[['casual', 'registered']]\n",
    "\n",
    "norm = MinMaxScaler().fit(X)\n",
    "X_scaled = norm.transform(X)\n",
    "r_state = 117\n",
    "r_state_m = 117"
   ]
  },
  {
   "cell_type": "markdown",
   "metadata": {},
   "source": [
    "# Tensor Flow Method"
   ]
  },
  {
   "cell_type": "markdown",
   "metadata": {},
   "source": [
    "Tensor Flow versions newer than TF 2.10 refuse to use the gpu except by extensive configuration with WSL2. This is solely bound to CPU since it is running a newer version of TF. A successful attempt using TF on GPU from version 2.10 ran slower than CPU using TF 2.18 hence not bothering with the GPU with TF at this time."
   ]
  },
  {
   "cell_type": "markdown",
   "metadata": {},
   "source": [
    "## Train Test Split"
   ]
  },
  {
   "cell_type": "code",
   "execution_count": 20,
   "metadata": {},
   "outputs": [],
   "source": [
    "X_tensor_trn, X_tensor_tst, y_tensor_trn, y_tensor_tst = train_test_split(X_scaled, y, test_size=0.2, random_state=r_state)"
   ]
  },
  {
   "cell_type": "markdown",
   "metadata": {},
   "source": [
    "## Building the Nueral Network"
   ]
  },
  {
   "cell_type": "code",
   "execution_count": 21,
   "metadata": {},
   "outputs": [
    {
     "name": "stderr",
     "output_type": "stream",
     "text": [
      "C:\\Program Files\\Python312\\Lib\\site-packages\\keras\\src\\layers\\core\\dense.py:87: UserWarning: Do not pass an `input_shape`/`input_dim` argument to a layer. When using Sequential models, prefer using an `Input(shape)` object as the first layer in the model instead.\n",
      "  super().__init__(activity_regularizer=activity_regularizer, **kwargs)\n"
     ]
    }
   ],
   "source": [
    "model = keras.Sequential()\n",
    "model.add(layers.Dense(128, input_dim=len(X_tensor_trn[0]), activation='relu'))\n",
    "model.add(layers.Dense(256, activation='relu'))\n",
    "model.add(layers.Dropout(.33))\n",
    "model.add(layers.Dense(64, activation='leaky_relu'))\n",
    "# model.add(layers.Dropout(.15))\n",
    "model.add(layers.Dense(2, activation='relu'))"
   ]
  },
  {
   "cell_type": "code",
   "execution_count": 22,
   "metadata": {},
   "outputs": [
    {
     "data": {
      "text/html": [
       "<pre style=\"white-space:pre;overflow-x:auto;line-height:normal;font-family:Menlo,'DejaVu Sans Mono',consolas,'Courier New',monospace\"><span style=\"font-weight: bold\">Model: \"sequential\"</span>\n",
       "</pre>\n"
      ],
      "text/plain": [
       "\u001b[1mModel: \"sequential\"\u001b[0m\n"
      ]
     },
     "metadata": {},
     "output_type": "display_data"
    },
    {
     "data": {
      "text/html": [
       "<pre style=\"white-space:pre;overflow-x:auto;line-height:normal;font-family:Menlo,'DejaVu Sans Mono',consolas,'Courier New',monospace\">┏━━━━━━━━━━━━━━━━━━━━━━━━━━━━━━━━━┳━━━━━━━━━━━━━━━━━━━━━━━━┳━━━━━━━━━━━━━━━┓\n",
       "┃<span style=\"font-weight: bold\"> Layer (type)                    </span>┃<span style=\"font-weight: bold\"> Output Shape           </span>┃<span style=\"font-weight: bold\">       Param # </span>┃\n",
       "┡━━━━━━━━━━━━━━━━━━━━━━━━━━━━━━━━━╇━━━━━━━━━━━━━━━━━━━━━━━━╇━━━━━━━━━━━━━━━┩\n",
       "│ dense (<span style=\"color: #0087ff; text-decoration-color: #0087ff\">Dense</span>)                   │ (<span style=\"color: #00d7ff; text-decoration-color: #00d7ff\">None</span>, <span style=\"color: #00af00; text-decoration-color: #00af00\">128</span>)            │         <span style=\"color: #00af00; text-decoration-color: #00af00\">1,408</span> │\n",
       "├─────────────────────────────────┼────────────────────────┼───────────────┤\n",
       "│ dense_1 (<span style=\"color: #0087ff; text-decoration-color: #0087ff\">Dense</span>)                 │ (<span style=\"color: #00d7ff; text-decoration-color: #00d7ff\">None</span>, <span style=\"color: #00af00; text-decoration-color: #00af00\">256</span>)            │        <span style=\"color: #00af00; text-decoration-color: #00af00\">33,024</span> │\n",
       "├─────────────────────────────────┼────────────────────────┼───────────────┤\n",
       "│ dropout (<span style=\"color: #0087ff; text-decoration-color: #0087ff\">Dropout</span>)               │ (<span style=\"color: #00d7ff; text-decoration-color: #00d7ff\">None</span>, <span style=\"color: #00af00; text-decoration-color: #00af00\">256</span>)            │             <span style=\"color: #00af00; text-decoration-color: #00af00\">0</span> │\n",
       "├─────────────────────────────────┼────────────────────────┼───────────────┤\n",
       "│ dense_2 (<span style=\"color: #0087ff; text-decoration-color: #0087ff\">Dense</span>)                 │ (<span style=\"color: #00d7ff; text-decoration-color: #00d7ff\">None</span>, <span style=\"color: #00af00; text-decoration-color: #00af00\">64</span>)             │        <span style=\"color: #00af00; text-decoration-color: #00af00\">16,448</span> │\n",
       "├─────────────────────────────────┼────────────────────────┼───────────────┤\n",
       "│ dense_3 (<span style=\"color: #0087ff; text-decoration-color: #0087ff\">Dense</span>)                 │ (<span style=\"color: #00d7ff; text-decoration-color: #00d7ff\">None</span>, <span style=\"color: #00af00; text-decoration-color: #00af00\">2</span>)              │           <span style=\"color: #00af00; text-decoration-color: #00af00\">130</span> │\n",
       "└─────────────────────────────────┴────────────────────────┴───────────────┘\n",
       "</pre>\n"
      ],
      "text/plain": [
       "┏━━━━━━━━━━━━━━━━━━━━━━━━━━━━━━━━━┳━━━━━━━━━━━━━━━━━━━━━━━━┳━━━━━━━━━━━━━━━┓\n",
       "┃\u001b[1m \u001b[0m\u001b[1mLayer (type)                   \u001b[0m\u001b[1m \u001b[0m┃\u001b[1m \u001b[0m\u001b[1mOutput Shape          \u001b[0m\u001b[1m \u001b[0m┃\u001b[1m \u001b[0m\u001b[1m      Param #\u001b[0m\u001b[1m \u001b[0m┃\n",
       "┡━━━━━━━━━━━━━━━━━━━━━━━━━━━━━━━━━╇━━━━━━━━━━━━━━━━━━━━━━━━╇━━━━━━━━━━━━━━━┩\n",
       "│ dense (\u001b[38;5;33mDense\u001b[0m)                   │ (\u001b[38;5;45mNone\u001b[0m, \u001b[38;5;34m128\u001b[0m)            │         \u001b[38;5;34m1,408\u001b[0m │\n",
       "├─────────────────────────────────┼────────────────────────┼───────────────┤\n",
       "│ dense_1 (\u001b[38;5;33mDense\u001b[0m)                 │ (\u001b[38;5;45mNone\u001b[0m, \u001b[38;5;34m256\u001b[0m)            │        \u001b[38;5;34m33,024\u001b[0m │\n",
       "├─────────────────────────────────┼────────────────────────┼───────────────┤\n",
       "│ dropout (\u001b[38;5;33mDropout\u001b[0m)               │ (\u001b[38;5;45mNone\u001b[0m, \u001b[38;5;34m256\u001b[0m)            │             \u001b[38;5;34m0\u001b[0m │\n",
       "├─────────────────────────────────┼────────────────────────┼───────────────┤\n",
       "│ dense_2 (\u001b[38;5;33mDense\u001b[0m)                 │ (\u001b[38;5;45mNone\u001b[0m, \u001b[38;5;34m64\u001b[0m)             │        \u001b[38;5;34m16,448\u001b[0m │\n",
       "├─────────────────────────────────┼────────────────────────┼───────────────┤\n",
       "│ dense_3 (\u001b[38;5;33mDense\u001b[0m)                 │ (\u001b[38;5;45mNone\u001b[0m, \u001b[38;5;34m2\u001b[0m)              │           \u001b[38;5;34m130\u001b[0m │\n",
       "└─────────────────────────────────┴────────────────────────┴───────────────┘\n"
      ]
     },
     "metadata": {},
     "output_type": "display_data"
    },
    {
     "data": {
      "text/html": [
       "<pre style=\"white-space:pre;overflow-x:auto;line-height:normal;font-family:Menlo,'DejaVu Sans Mono',consolas,'Courier New',monospace\"><span style=\"font-weight: bold\"> Total params: </span><span style=\"color: #00af00; text-decoration-color: #00af00\">51,010</span> (199.26 KB)\n",
       "</pre>\n"
      ],
      "text/plain": [
       "\u001b[1m Total params: \u001b[0m\u001b[38;5;34m51,010\u001b[0m (199.26 KB)\n"
      ]
     },
     "metadata": {},
     "output_type": "display_data"
    },
    {
     "data": {
      "text/html": [
       "<pre style=\"white-space:pre;overflow-x:auto;line-height:normal;font-family:Menlo,'DejaVu Sans Mono',consolas,'Courier New',monospace\"><span style=\"font-weight: bold\"> Trainable params: </span><span style=\"color: #00af00; text-decoration-color: #00af00\">51,010</span> (199.26 KB)\n",
       "</pre>\n"
      ],
      "text/plain": [
       "\u001b[1m Trainable params: \u001b[0m\u001b[38;5;34m51,010\u001b[0m (199.26 KB)\n"
      ]
     },
     "metadata": {},
     "output_type": "display_data"
    },
    {
     "data": {
      "text/html": [
       "<pre style=\"white-space:pre;overflow-x:auto;line-height:normal;font-family:Menlo,'DejaVu Sans Mono',consolas,'Courier New',monospace\"><span style=\"font-weight: bold\"> Non-trainable params: </span><span style=\"color: #00af00; text-decoration-color: #00af00\">0</span> (0.00 B)\n",
       "</pre>\n"
      ],
      "text/plain": [
       "\u001b[1m Non-trainable params: \u001b[0m\u001b[38;5;34m0\u001b[0m (0.00 B)\n"
      ]
     },
     "metadata": {},
     "output_type": "display_data"
    }
   ],
   "source": [
    "model.summary()"
   ]
  },
  {
   "cell_type": "markdown",
   "metadata": {},
   "source": [
    "### Training"
   ]
  },
  {
   "cell_type": "code",
   "execution_count": 23,
   "metadata": {},
   "outputs": [],
   "source": [
    "opt = keras.optimizers.Adam()\n",
    "model.compile(loss=\"mean_squared_error\", optimizer=opt, metrics=['mse'])"
   ]
  },
  {
   "cell_type": "code",
   "execution_count": 24,
   "metadata": {},
   "outputs": [
    {
     "name": "stdout",
     "output_type": "stream",
     "text": [
      "Epoch 1/2000\n",
      "\u001b[1m2925/2925\u001b[0m \u001b[32m━━━━━━━━━━━━━━━━━━━━\u001b[0m\u001b[37m\u001b[0m \u001b[1m5s\u001b[0m 1ms/step - loss: 33580.4531 - mse: 33580.4531 - val_loss: 22201.2051 - val_mse: 22201.2051\n",
      "Epoch 2/2000\n",
      "\u001b[1m2925/2925\u001b[0m \u001b[32m━━━━━━━━━━━━━━━━━━━━\u001b[0m\u001b[37m\u001b[0m \u001b[1m4s\u001b[0m 1ms/step - loss: 21687.5117 - mse: 21687.5117 - val_loss: 19653.7461 - val_mse: 19653.7461\n",
      "Epoch 3/2000\n",
      "\u001b[1m2925/2925\u001b[0m \u001b[32m━━━━━━━━━━━━━━━━━━━━\u001b[0m\u001b[37m\u001b[0m \u001b[1m4s\u001b[0m 1ms/step - loss: 19503.7246 - mse: 19503.7246 - val_loss: 17367.9414 - val_mse: 17367.9414\n",
      "Epoch 4/2000\n",
      "\u001b[1m2925/2925\u001b[0m \u001b[32m━━━━━━━━━━━━━━━━━━━━\u001b[0m\u001b[37m\u001b[0m \u001b[1m4s\u001b[0m 1ms/step - loss: 16793.2812 - mse: 16793.2812 - val_loss: 14623.8809 - val_mse: 14623.8809\n",
      "Epoch 5/2000\n",
      "\u001b[1m2925/2925\u001b[0m \u001b[32m━━━━━━━━━━━━━━━━━━━━\u001b[0m\u001b[37m\u001b[0m \u001b[1m4s\u001b[0m 1ms/step - loss: 14359.1162 - mse: 14359.1162 - val_loss: 13095.7861 - val_mse: 13095.7861\n",
      "Epoch 6/2000\n",
      "\u001b[1m2925/2925\u001b[0m \u001b[32m━━━━━━━━━━━━━━━━━━━━\u001b[0m\u001b[37m\u001b[0m \u001b[1m4s\u001b[0m 1ms/step - loss: 13187.0938 - mse: 13187.0928 - val_loss: 13002.2744 - val_mse: 13002.2744\n",
      "Epoch 7/2000\n",
      "\u001b[1m2925/2925\u001b[0m \u001b[32m━━━━━━━━━━━━━━━━━━━━\u001b[0m\u001b[37m\u001b[0m \u001b[1m4s\u001b[0m 1ms/step - loss: 12710.7324 - mse: 12710.7324 - val_loss: 12096.6191 - val_mse: 12096.6191\n",
      "Epoch 8/2000\n",
      "\u001b[1m2925/2925\u001b[0m \u001b[32m━━━━━━━━━━━━━━━━━━━━\u001b[0m\u001b[37m\u001b[0m \u001b[1m4s\u001b[0m 1ms/step - loss: 12444.7061 - mse: 12444.7061 - val_loss: 12367.3545 - val_mse: 12367.3545\n",
      "Epoch 9/2000\n",
      "\u001b[1m2925/2925\u001b[0m \u001b[32m━━━━━━━━━━━━━━━━━━━━\u001b[0m\u001b[37m\u001b[0m \u001b[1m4s\u001b[0m 2ms/step - loss: 12180.5732 - mse: 12180.5732 - val_loss: 11725.3877 - val_mse: 11725.3877\n",
      "Epoch 10/2000\n",
      "\u001b[1m2925/2925\u001b[0m \u001b[32m━━━━━━━━━━━━━━━━━━━━\u001b[0m\u001b[37m\u001b[0m \u001b[1m4s\u001b[0m 1ms/step - loss: 12056.8320 - mse: 12056.8320 - val_loss: 11595.7510 - val_mse: 11595.7510\n",
      "Epoch 11/2000\n",
      "\u001b[1m2925/2925\u001b[0m \u001b[32m━━━━━━━━━━━━━━━━━━━━\u001b[0m\u001b[37m\u001b[0m \u001b[1m4s\u001b[0m 1ms/step - loss: 11943.1416 - mse: 11943.1416 - val_loss: 11474.2148 - val_mse: 11474.2148\n",
      "Epoch 12/2000\n",
      "\u001b[1m2925/2925\u001b[0m \u001b[32m━━━━━━━━━━━━━━━━━━━━\u001b[0m\u001b[37m\u001b[0m \u001b[1m4s\u001b[0m 1ms/step - loss: 11902.0889 - mse: 11902.0889 - val_loss: 11518.8350 - val_mse: 11518.8350\n",
      "Epoch 13/2000\n",
      "\u001b[1m2925/2925\u001b[0m \u001b[32m━━━━━━━━━━━━━━━━━━━━\u001b[0m\u001b[37m\u001b[0m \u001b[1m4s\u001b[0m 1ms/step - loss: 11853.2598 - mse: 11853.2598 - val_loss: 11640.4707 - val_mse: 11640.4707\n",
      "Epoch 14/2000\n",
      "\u001b[1m2925/2925\u001b[0m \u001b[32m━━━━━━━━━━━━━━━━━━━━\u001b[0m\u001b[37m\u001b[0m \u001b[1m4s\u001b[0m 1ms/step - loss: 11595.9463 - mse: 11595.9463 - val_loss: 11061.7217 - val_mse: 11061.7217\n",
      "Epoch 15/2000\n",
      "\u001b[1m2925/2925\u001b[0m \u001b[32m━━━━━━━━━━━━━━━━━━━━\u001b[0m\u001b[37m\u001b[0m \u001b[1m4s\u001b[0m 1ms/step - loss: 11631.3379 - mse: 11631.3379 - val_loss: 11200.5244 - val_mse: 11200.5244\n",
      "Epoch 16/2000\n",
      "\u001b[1m2925/2925\u001b[0m \u001b[32m━━━━━━━━━━━━━━━━━━━━\u001b[0m\u001b[37m\u001b[0m \u001b[1m4s\u001b[0m 1ms/step - loss: 11529.5303 - mse: 11529.5303 - val_loss: 11358.3770 - val_mse: 11358.3770\n",
      "Epoch 17/2000\n",
      "\u001b[1m2925/2925\u001b[0m \u001b[32m━━━━━━━━━━━━━━━━━━━━\u001b[0m\u001b[37m\u001b[0m \u001b[1m4s\u001b[0m 1ms/step - loss: 11450.8330 - mse: 11450.8340 - val_loss: 11435.6494 - val_mse: 11435.6494\n",
      "Epoch 18/2000\n",
      "\u001b[1m2925/2925\u001b[0m \u001b[32m━━━━━━━━━━━━━━━━━━━━\u001b[0m\u001b[37m\u001b[0m \u001b[1m4s\u001b[0m 1ms/step - loss: 11468.8584 - mse: 11468.8584 - val_loss: 10921.4648 - val_mse: 10921.4648\n",
      "Epoch 19/2000\n",
      "\u001b[1m2925/2925\u001b[0m \u001b[32m━━━━━━━━━━━━━━━━━━━━\u001b[0m\u001b[37m\u001b[0m \u001b[1m4s\u001b[0m 1ms/step - loss: 11374.0449 - mse: 11374.0449 - val_loss: 11199.8662 - val_mse: 11199.8662\n",
      "Epoch 20/2000\n",
      "\u001b[1m2925/2925\u001b[0m \u001b[32m━━━━━━━━━━━━━━━━━━━━\u001b[0m\u001b[37m\u001b[0m \u001b[1m4s\u001b[0m 1ms/step - loss: 11372.4111 - mse: 11372.4111 - val_loss: 10984.4277 - val_mse: 10984.4277\n",
      "Epoch 21/2000\n",
      "\u001b[1m2925/2925\u001b[0m \u001b[32m━━━━━━━━━━━━━━━━━━━━\u001b[0m\u001b[37m\u001b[0m \u001b[1m4s\u001b[0m 1ms/step - loss: 11366.1973 - mse: 11366.1973 - val_loss: 11113.2861 - val_mse: 11113.2861\n",
      "Epoch 22/2000\n",
      "\u001b[1m2925/2925\u001b[0m \u001b[32m━━━━━━━━━━━━━━━━━━━━\u001b[0m\u001b[37m\u001b[0m \u001b[1m4s\u001b[0m 1ms/step - loss: 11266.1855 - mse: 11266.1855 - val_loss: 10780.4834 - val_mse: 10780.4834\n",
      "Epoch 23/2000\n",
      "\u001b[1m2925/2925\u001b[0m \u001b[32m━━━━━━━━━━━━━━━━━━━━\u001b[0m\u001b[37m\u001b[0m \u001b[1m5s\u001b[0m 2ms/step - loss: 11243.8145 - mse: 11243.8145 - val_loss: 10800.2041 - val_mse: 10800.2041\n",
      "Epoch 24/2000\n",
      "\u001b[1m2925/2925\u001b[0m \u001b[32m━━━━━━━━━━━━━━━━━━━━\u001b[0m\u001b[37m\u001b[0m \u001b[1m4s\u001b[0m 1ms/step - loss: 11188.5908 - mse: 11188.5908 - val_loss: 10782.1230 - val_mse: 10782.1230\n",
      "Epoch 25/2000\n",
      "\u001b[1m2925/2925\u001b[0m \u001b[32m━━━━━━━━━━━━━━━━━━━━\u001b[0m\u001b[37m\u001b[0m \u001b[1m4s\u001b[0m 1ms/step - loss: 11186.3867 - mse: 11186.3867 - val_loss: 10849.9941 - val_mse: 10849.9941\n",
      "Epoch 26/2000\n",
      "\u001b[1m2925/2925\u001b[0m \u001b[32m━━━━━━━━━━━━━━━━━━━━\u001b[0m\u001b[37m\u001b[0m \u001b[1m4s\u001b[0m 1ms/step - loss: 11225.1553 - mse: 11225.1553 - val_loss: 11029.5029 - val_mse: 11029.5029\n",
      "Epoch 27/2000\n",
      "\u001b[1m2925/2925\u001b[0m \u001b[32m━━━━━━━━━━━━━━━━━━━━\u001b[0m\u001b[37m\u001b[0m \u001b[1m4s\u001b[0m 1ms/step - loss: 11261.2793 - mse: 11261.2793 - val_loss: 10798.2871 - val_mse: 10798.2881\n",
      "Epoch 28/2000\n",
      "\u001b[1m2925/2925\u001b[0m \u001b[32m━━━━━━━━━━━━━━━━━━━━\u001b[0m\u001b[37m\u001b[0m \u001b[1m4s\u001b[0m 1ms/step - loss: 11162.7197 - mse: 11162.7197 - val_loss: 10792.5732 - val_mse: 10792.5732\n",
      "Epoch 29/2000\n",
      "\u001b[1m2925/2925\u001b[0m \u001b[32m━━━━━━━━━━━━━━━━━━━━\u001b[0m\u001b[37m\u001b[0m \u001b[1m4s\u001b[0m 1ms/step - loss: 11101.1494 - mse: 11101.1494 - val_loss: 10836.0635 - val_mse: 10836.0635\n",
      "Epoch 30/2000\n",
      "\u001b[1m2925/2925\u001b[0m \u001b[32m━━━━━━━━━━━━━━━━━━━━\u001b[0m\u001b[37m\u001b[0m \u001b[1m4s\u001b[0m 1ms/step - loss: 11091.8428 - mse: 11091.8428 - val_loss: 10811.0576 - val_mse: 10811.0576\n",
      "Epoch 31/2000\n",
      "\u001b[1m2925/2925\u001b[0m \u001b[32m━━━━━━━━━━━━━━━━━━━━\u001b[0m\u001b[37m\u001b[0m \u001b[1m4s\u001b[0m 1ms/step - loss: 11015.6123 - mse: 11015.6123 - val_loss: 10700.1387 - val_mse: 10700.1387\n",
      "Epoch 32/2000\n",
      "\u001b[1m2925/2925\u001b[0m \u001b[32m━━━━━━━━━━━━━━━━━━━━\u001b[0m\u001b[37m\u001b[0m \u001b[1m4s\u001b[0m 1ms/step - loss: 11095.1738 - mse: 11095.1738 - val_loss: 10768.7217 - val_mse: 10768.7217\n",
      "Epoch 33/2000\n",
      "\u001b[1m2925/2925\u001b[0m \u001b[32m━━━━━━━━━━━━━━━━━━━━\u001b[0m\u001b[37m\u001b[0m \u001b[1m4s\u001b[0m 1ms/step - loss: 11064.9209 - mse: 11064.9209 - val_loss: 10729.5527 - val_mse: 10729.5527\n",
      "Epoch 34/2000\n",
      "\u001b[1m2925/2925\u001b[0m \u001b[32m━━━━━━━━━━━━━━━━━━━━\u001b[0m\u001b[37m\u001b[0m \u001b[1m4s\u001b[0m 1ms/step - loss: 11028.9297 - mse: 11028.9297 - val_loss: 10707.0859 - val_mse: 10707.0859\n",
      "Epoch 35/2000\n",
      "\u001b[1m2925/2925\u001b[0m \u001b[32m━━━━━━━━━━━━━━━━━━━━\u001b[0m\u001b[37m\u001b[0m \u001b[1m4s\u001b[0m 1ms/step - loss: 11007.0244 - mse: 11007.0244 - val_loss: 10645.5830 - val_mse: 10645.5830\n",
      "Epoch 36/2000\n",
      "\u001b[1m2925/2925\u001b[0m \u001b[32m━━━━━━━━━━━━━━━━━━━━\u001b[0m\u001b[37m\u001b[0m \u001b[1m5s\u001b[0m 2ms/step - loss: 10966.9326 - mse: 10966.9326 - val_loss: 10890.7344 - val_mse: 10890.7344\n",
      "Epoch 37/2000\n",
      "\u001b[1m2925/2925\u001b[0m \u001b[32m━━━━━━━━━━━━━━━━━━━━\u001b[0m\u001b[37m\u001b[0m \u001b[1m4s\u001b[0m 1ms/step - loss: 11007.6895 - mse: 11007.6895 - val_loss: 10643.8809 - val_mse: 10643.8799\n",
      "Epoch 38/2000\n",
      "\u001b[1m2925/2925\u001b[0m \u001b[32m━━━━━━━━━━━━━━━━━━━━\u001b[0m\u001b[37m\u001b[0m \u001b[1m4s\u001b[0m 1ms/step - loss: 11047.4199 - mse: 11047.4199 - val_loss: 10711.4531 - val_mse: 10711.4531\n",
      "Epoch 39/2000\n",
      "\u001b[1m2925/2925\u001b[0m \u001b[32m━━━━━━━━━━━━━━━━━━━━\u001b[0m\u001b[37m\u001b[0m \u001b[1m4s\u001b[0m 2ms/step - loss: 10976.9648 - mse: 10976.9648 - val_loss: 10760.3359 - val_mse: 10760.3359\n",
      "Epoch 40/2000\n",
      "\u001b[1m2925/2925\u001b[0m \u001b[32m━━━━━━━━━━━━━━━━━━━━\u001b[0m\u001b[37m\u001b[0m \u001b[1m4s\u001b[0m 1ms/step - loss: 11014.7891 - mse: 11014.7891 - val_loss: 10630.5459 - val_mse: 10630.5459\n",
      "Epoch 41/2000\n",
      "\u001b[1m2925/2925\u001b[0m \u001b[32m━━━━━━━━━━━━━━━━━━━━\u001b[0m\u001b[37m\u001b[0m \u001b[1m4s\u001b[0m 2ms/step - loss: 10993.1533 - mse: 10993.1533 - val_loss: 10755.0957 - val_mse: 10755.0957\n",
      "Epoch 42/2000\n",
      "\u001b[1m2925/2925\u001b[0m \u001b[32m━━━━━━━━━━━━━━━━━━━━\u001b[0m\u001b[37m\u001b[0m \u001b[1m4s\u001b[0m 1ms/step - loss: 10977.3838 - mse: 10977.3838 - val_loss: 10560.8652 - val_mse: 10560.8652\n",
      "Epoch 43/2000\n",
      "\u001b[1m2925/2925\u001b[0m \u001b[32m━━━━━━━━━━━━━━━━━━━━\u001b[0m\u001b[37m\u001b[0m \u001b[1m4s\u001b[0m 1ms/step - loss: 10866.9561 - mse: 10866.9561 - val_loss: 10660.6045 - val_mse: 10660.6045\n",
      "Epoch 44/2000\n",
      "\u001b[1m2925/2925\u001b[0m \u001b[32m━━━━━━━━━━━━━━━━━━━━\u001b[0m\u001b[37m\u001b[0m \u001b[1m4s\u001b[0m 1ms/step - loss: 10831.8555 - mse: 10831.8555 - val_loss: 10712.2012 - val_mse: 10712.2012\n",
      "Epoch 45/2000\n",
      "\u001b[1m2925/2925\u001b[0m \u001b[32m━━━━━━━━━━━━━━━━━━━━\u001b[0m\u001b[37m\u001b[0m \u001b[1m4s\u001b[0m 1ms/step - loss: 10870.4180 - mse: 10870.4180 - val_loss: 10648.4404 - val_mse: 10648.4404\n",
      "Epoch 46/2000\n",
      "\u001b[1m2925/2925\u001b[0m \u001b[32m━━━━━━━━━━━━━━━━━━━━\u001b[0m\u001b[37m\u001b[0m \u001b[1m4s\u001b[0m 1ms/step - loss: 10879.7217 - mse: 10879.7227 - val_loss: 10578.4531 - val_mse: 10578.4531\n",
      "Epoch 47/2000\n",
      "\u001b[1m2925/2925\u001b[0m \u001b[32m━━━━━━━━━━━━━━━━━━━━\u001b[0m\u001b[37m\u001b[0m \u001b[1m4s\u001b[0m 1ms/step - loss: 10818.2061 - mse: 10818.2061 - val_loss: 10520.4775 - val_mse: 10520.4775\n",
      "Epoch 48/2000\n",
      "\u001b[1m2925/2925\u001b[0m \u001b[32m━━━━━━━━━━━━━━━━━━━━\u001b[0m\u001b[37m\u001b[0m \u001b[1m4s\u001b[0m 1ms/step - loss: 10904.1221 - mse: 10904.1221 - val_loss: 10823.2041 - val_mse: 10823.2041\n",
      "Epoch 49/2000\n",
      "\u001b[1m2925/2925\u001b[0m \u001b[32m━━━━━━━━━━━━━━━━━━━━\u001b[0m\u001b[37m\u001b[0m \u001b[1m4s\u001b[0m 1ms/step - loss: 10815.0830 - mse: 10815.0830 - val_loss: 10589.1572 - val_mse: 10589.1572\n",
      "Epoch 50/2000\n",
      "\u001b[1m2925/2925\u001b[0m \u001b[32m━━━━━━━━━━━━━━━━━━━━\u001b[0m\u001b[37m\u001b[0m \u001b[1m4s\u001b[0m 1ms/step - loss: 10864.4502 - mse: 10864.4502 - val_loss: 10869.8037 - val_mse: 10869.8037\n",
      "Epoch 51/2000\n",
      "\u001b[1m2925/2925\u001b[0m \u001b[32m━━━━━━━━━━━━━━━━━━━━\u001b[0m\u001b[37m\u001b[0m \u001b[1m4s\u001b[0m 1ms/step - loss: 10865.5469 - mse: 10865.5469 - val_loss: 10674.0146 - val_mse: 10674.0146\n",
      "Epoch 52/2000\n",
      "\u001b[1m2925/2925\u001b[0m \u001b[32m━━━━━━━━━━━━━━━━━━━━\u001b[0m\u001b[37m\u001b[0m \u001b[1m4s\u001b[0m 1ms/step - loss: 10807.2451 - mse: 10807.2451 - val_loss: 10548.3037 - val_mse: 10548.3037\n",
      "Epoch 53/2000\n",
      "\u001b[1m2925/2925\u001b[0m \u001b[32m━━━━━━━━━━━━━━━━━━━━\u001b[0m\u001b[37m\u001b[0m \u001b[1m4s\u001b[0m 1ms/step - loss: 10819.6777 - mse: 10819.6777 - val_loss: 10498.3926 - val_mse: 10498.3926\n",
      "Epoch 54/2000\n",
      "\u001b[1m2925/2925\u001b[0m \u001b[32m━━━━━━━━━━━━━━━━━━━━\u001b[0m\u001b[37m\u001b[0m \u001b[1m4s\u001b[0m 1ms/step - loss: 10768.8701 - mse: 10768.8701 - val_loss: 10614.4600 - val_mse: 10614.4600\n",
      "Epoch 55/2000\n",
      "\u001b[1m2925/2925\u001b[0m \u001b[32m━━━━━━━━━━━━━━━━━━━━\u001b[0m\u001b[37m\u001b[0m \u001b[1m4s\u001b[0m 1ms/step - loss: 10709.5156 - mse: 10709.5156 - val_loss: 10567.7559 - val_mse: 10567.7559\n",
      "Epoch 56/2000\n",
      "\u001b[1m2925/2925\u001b[0m \u001b[32m━━━━━━━━━━━━━━━━━━━━\u001b[0m\u001b[37m\u001b[0m \u001b[1m4s\u001b[0m 1ms/step - loss: 10772.3262 - mse: 10772.3262 - val_loss: 10732.5312 - val_mse: 10732.5312\n",
      "Epoch 57/2000\n",
      "\u001b[1m2925/2925\u001b[0m \u001b[32m━━━━━━━━━━━━━━━━━━━━\u001b[0m\u001b[37m\u001b[0m \u001b[1m4s\u001b[0m 1ms/step - loss: 10808.5771 - mse: 10808.5771 - val_loss: 10672.5801 - val_mse: 10672.5801\n",
      "Epoch 58/2000\n",
      "\u001b[1m2925/2925\u001b[0m \u001b[32m━━━━━━━━━━━━━━━━━━━━\u001b[0m\u001b[37m\u001b[0m \u001b[1m4s\u001b[0m 1ms/step - loss: 10794.2285 - mse: 10794.2285 - val_loss: 10781.8623 - val_mse: 10781.8623\n",
      "Epoch 59/2000\n",
      "\u001b[1m2925/2925\u001b[0m \u001b[32m━━━━━━━━━━━━━━━━━━━━\u001b[0m\u001b[37m\u001b[0m \u001b[1m4s\u001b[0m 1ms/step - loss: 10631.5957 - mse: 10631.5957 - val_loss: 10658.8828 - val_mse: 10658.8838\n",
      "Epoch 60/2000\n",
      "\u001b[1m2925/2925\u001b[0m \u001b[32m━━━━━━━━━━━━━━━━━━━━\u001b[0m\u001b[37m\u001b[0m \u001b[1m4s\u001b[0m 1ms/step - loss: 10680.6064 - mse: 10680.6074 - val_loss: 10688.2949 - val_mse: 10688.2949\n",
      "Epoch 61/2000\n",
      "\u001b[1m2925/2925\u001b[0m \u001b[32m━━━━━━━━━━━━━━━━━━━━\u001b[0m\u001b[37m\u001b[0m \u001b[1m4s\u001b[0m 1ms/step - loss: 10648.9980 - mse: 10648.9980 - val_loss: 10631.3350 - val_mse: 10631.3350\n",
      "Epoch 62/2000\n",
      "\u001b[1m2925/2925\u001b[0m \u001b[32m━━━━━━━━━━━━━━━━━━━━\u001b[0m\u001b[37m\u001b[0m \u001b[1m4s\u001b[0m 1ms/step - loss: 10613.6338 - mse: 10613.6338 - val_loss: 10540.4189 - val_mse: 10540.4189\n",
      "Epoch 63/2000\n",
      "\u001b[1m2925/2925\u001b[0m \u001b[32m━━━━━━━━━━━━━━━━━━━━\u001b[0m\u001b[37m\u001b[0m \u001b[1m4s\u001b[0m 1ms/step - loss: 10658.0537 - mse: 10658.0537 - val_loss: 10620.0703 - val_mse: 10620.0703\n",
      "Epoch 64/2000\n",
      "\u001b[1m2925/2925\u001b[0m \u001b[32m━━━━━━━━━━━━━━━━━━━━\u001b[0m\u001b[37m\u001b[0m \u001b[1m4s\u001b[0m 1ms/step - loss: 10671.4590 - mse: 10671.4580 - val_loss: 10591.7314 - val_mse: 10591.7314\n",
      "Epoch 65/2000\n",
      "\u001b[1m2925/2925\u001b[0m \u001b[32m━━━━━━━━━━━━━━━━━━━━\u001b[0m\u001b[37m\u001b[0m \u001b[1m4s\u001b[0m 1ms/step - loss: 10622.6572 - mse: 10622.6572 - val_loss: 10586.5469 - val_mse: 10586.5469\n",
      "Epoch 66/2000\n",
      "\u001b[1m2925/2925\u001b[0m \u001b[32m━━━━━━━━━━━━━━━━━━━━\u001b[0m\u001b[37m\u001b[0m \u001b[1m4s\u001b[0m 1ms/step - loss: 10558.4678 - mse: 10558.4678 - val_loss: 10600.5088 - val_mse: 10600.5088\n",
      "Epoch 67/2000\n",
      "\u001b[1m2925/2925\u001b[0m \u001b[32m━━━━━━━━━━━━━━━━━━━━\u001b[0m\u001b[37m\u001b[0m \u001b[1m4s\u001b[0m 1ms/step - loss: 10629.1172 - mse: 10629.1172 - val_loss: 10510.4844 - val_mse: 10510.4844\n",
      "Epoch 68/2000\n",
      "\u001b[1m2925/2925\u001b[0m \u001b[32m━━━━━━━━━━━━━━━━━━━━\u001b[0m\u001b[37m\u001b[0m \u001b[1m4s\u001b[0m 1ms/step - loss: 10645.1992 - mse: 10645.1992 - val_loss: 10577.1689 - val_mse: 10577.1689\n",
      "Epoch 69/2000\n",
      "\u001b[1m2925/2925\u001b[0m \u001b[32m━━━━━━━━━━━━━━━━━━━━\u001b[0m\u001b[37m\u001b[0m \u001b[1m4s\u001b[0m 1ms/step - loss: 10614.1807 - mse: 10614.1807 - val_loss: 10476.1924 - val_mse: 10476.1924\n",
      "Epoch 70/2000\n",
      "\u001b[1m2925/2925\u001b[0m \u001b[32m━━━━━━━━━━━━━━━━━━━━\u001b[0m\u001b[37m\u001b[0m \u001b[1m4s\u001b[0m 1ms/step - loss: 10590.7412 - mse: 10590.7412 - val_loss: 10540.1963 - val_mse: 10540.1963\n",
      "Epoch 71/2000\n",
      "\u001b[1m2925/2925\u001b[0m \u001b[32m━━━━━━━━━━━━━━━━━━━━\u001b[0m\u001b[37m\u001b[0m \u001b[1m4s\u001b[0m 1ms/step - loss: 10520.8809 - mse: 10520.8809 - val_loss: 10488.8906 - val_mse: 10488.8906\n",
      "Epoch 72/2000\n",
      "\u001b[1m2925/2925\u001b[0m \u001b[32m━━━━━━━━━━━━━━━━━━━━\u001b[0m\u001b[37m\u001b[0m \u001b[1m4s\u001b[0m 1ms/step - loss: 10573.5791 - mse: 10573.5791 - val_loss: 10529.7041 - val_mse: 10529.7041\n",
      "Epoch 73/2000\n",
      "\u001b[1m2925/2925\u001b[0m \u001b[32m━━━━━━━━━━━━━━━━━━━━\u001b[0m\u001b[37m\u001b[0m \u001b[1m4s\u001b[0m 1ms/step - loss: 10609.8262 - mse: 10609.8262 - val_loss: 10499.3682 - val_mse: 10499.3682\n",
      "Epoch 74/2000\n",
      "\u001b[1m2925/2925\u001b[0m \u001b[32m━━━━━━━━━━━━━━━━━━━━\u001b[0m\u001b[37m\u001b[0m \u001b[1m4s\u001b[0m 1ms/step - loss: 10508.8447 - mse: 10508.8447 - val_loss: 10641.2041 - val_mse: 10641.2041\n",
      "Epoch 75/2000\n",
      "\u001b[1m2925/2925\u001b[0m \u001b[32m━━━━━━━━━━━━━━━━━━━━\u001b[0m\u001b[37m\u001b[0m \u001b[1m4s\u001b[0m 1ms/step - loss: 10425.2168 - mse: 10425.2168 - val_loss: 10510.8848 - val_mse: 10510.8848\n",
      "Epoch 76/2000\n",
      "\u001b[1m2925/2925\u001b[0m \u001b[32m━━━━━━━━━━━━━━━━━━━━\u001b[0m\u001b[37m\u001b[0m \u001b[1m4s\u001b[0m 1ms/step - loss: 10519.9297 - mse: 10519.9297 - val_loss: 10445.6592 - val_mse: 10445.6592\n",
      "Epoch 77/2000\n",
      "\u001b[1m2925/2925\u001b[0m \u001b[32m━━━━━━━━━━━━━━━━━━━━\u001b[0m\u001b[37m\u001b[0m \u001b[1m4s\u001b[0m 1ms/step - loss: 10590.5791 - mse: 10590.5801 - val_loss: 10607.7852 - val_mse: 10607.7852\n",
      "Epoch 78/2000\n",
      "\u001b[1m2925/2925\u001b[0m \u001b[32m━━━━━━━━━━━━━━━━━━━━\u001b[0m\u001b[37m\u001b[0m \u001b[1m4s\u001b[0m 1ms/step - loss: 10555.6504 - mse: 10555.6504 - val_loss: 10623.5059 - val_mse: 10623.5059\n",
      "Epoch 79/2000\n",
      "\u001b[1m2925/2925\u001b[0m \u001b[32m━━━━━━━━━━━━━━━━━━━━\u001b[0m\u001b[37m\u001b[0m \u001b[1m4s\u001b[0m 1ms/step - loss: 10484.5068 - mse: 10484.5068 - val_loss: 10577.0244 - val_mse: 10577.0234\n",
      "Epoch 80/2000\n",
      "\u001b[1m2925/2925\u001b[0m \u001b[32m━━━━━━━━━━━━━━━━━━━━\u001b[0m\u001b[37m\u001b[0m \u001b[1m4s\u001b[0m 1ms/step - loss: 10509.4033 - mse: 10509.4033 - val_loss: 10486.7139 - val_mse: 10486.7139\n",
      "Epoch 81/2000\n",
      "\u001b[1m2925/2925\u001b[0m \u001b[32m━━━━━━━━━━━━━━━━━━━━\u001b[0m\u001b[37m\u001b[0m \u001b[1m4s\u001b[0m 1ms/step - loss: 10496.1455 - mse: 10496.1455 - val_loss: 10541.3252 - val_mse: 10541.3252\n",
      "Epoch 82/2000\n",
      "\u001b[1m2925/2925\u001b[0m \u001b[32m━━━━━━━━━━━━━━━━━━━━\u001b[0m\u001b[37m\u001b[0m \u001b[1m4s\u001b[0m 1ms/step - loss: 10477.5146 - mse: 10477.5146 - val_loss: 10580.0479 - val_mse: 10580.0479\n",
      "Epoch 83/2000\n",
      "\u001b[1m2925/2925\u001b[0m \u001b[32m━━━━━━━━━━━━━━━━━━━━\u001b[0m\u001b[37m\u001b[0m \u001b[1m4s\u001b[0m 1ms/step - loss: 10491.0693 - mse: 10491.0693 - val_loss: 10700.4434 - val_mse: 10700.4434\n",
      "Epoch 84/2000\n",
      "\u001b[1m2925/2925\u001b[0m \u001b[32m━━━━━━━━━━━━━━━━━━━━\u001b[0m\u001b[37m\u001b[0m \u001b[1m4s\u001b[0m 1ms/step - loss: 10507.7207 - mse: 10507.7207 - val_loss: 10460.0449 - val_mse: 10460.0449\n",
      "Epoch 85/2000\n",
      "\u001b[1m2925/2925\u001b[0m \u001b[32m━━━━━━━━━━━━━━━━━━━━\u001b[0m\u001b[37m\u001b[0m \u001b[1m4s\u001b[0m 1ms/step - loss: 10435.5693 - mse: 10435.5693 - val_loss: 10457.5293 - val_mse: 10457.5293\n",
      "Epoch 86/2000\n",
      "\u001b[1m2925/2925\u001b[0m \u001b[32m━━━━━━━━━━━━━━━━━━━━\u001b[0m\u001b[37m\u001b[0m \u001b[1m4s\u001b[0m 1ms/step - loss: 10434.1836 - mse: 10434.1836 - val_loss: 10407.0928 - val_mse: 10407.0928\n",
      "Epoch 87/2000\n",
      "\u001b[1m2925/2925\u001b[0m \u001b[32m━━━━━━━━━━━━━━━━━━━━\u001b[0m\u001b[37m\u001b[0m \u001b[1m4s\u001b[0m 1ms/step - loss: 10480.0674 - mse: 10480.0674 - val_loss: 10442.5781 - val_mse: 10442.5781\n",
      "Epoch 88/2000\n",
      "\u001b[1m2925/2925\u001b[0m \u001b[32m━━━━━━━━━━━━━━━━━━━━\u001b[0m\u001b[37m\u001b[0m \u001b[1m4s\u001b[0m 1ms/step - loss: 10484.5498 - mse: 10484.5498 - val_loss: 10443.3115 - val_mse: 10443.3115\n",
      "Epoch 89/2000\n",
      "\u001b[1m2925/2925\u001b[0m \u001b[32m━━━━━━━━━━━━━━━━━━━━\u001b[0m\u001b[37m\u001b[0m \u001b[1m4s\u001b[0m 1ms/step - loss: 10479.5000 - mse: 10479.5000 - val_loss: 10621.2598 - val_mse: 10621.2598\n",
      "Epoch 90/2000\n",
      "\u001b[1m2925/2925\u001b[0m \u001b[32m━━━━━━━━━━━━━━━━━━━━\u001b[0m\u001b[37m\u001b[0m \u001b[1m4s\u001b[0m 1ms/step - loss: 10530.3662 - mse: 10530.3662 - val_loss: 10511.4004 - val_mse: 10511.4004\n",
      "Epoch 91/2000\n",
      "\u001b[1m2925/2925\u001b[0m \u001b[32m━━━━━━━━━━━━━━━━━━━━\u001b[0m\u001b[37m\u001b[0m \u001b[1m4s\u001b[0m 1ms/step - loss: 10329.1152 - mse: 10329.1152 - val_loss: 10415.6074 - val_mse: 10415.6074\n",
      "Epoch 92/2000\n",
      "\u001b[1m2925/2925\u001b[0m \u001b[32m━━━━━━━━━━━━━━━━━━━━\u001b[0m\u001b[37m\u001b[0m \u001b[1m4s\u001b[0m 1ms/step - loss: 10442.6201 - mse: 10442.6201 - val_loss: 10427.0615 - val_mse: 10427.0615\n",
      "Epoch 93/2000\n",
      "\u001b[1m2925/2925\u001b[0m \u001b[32m━━━━━━━━━━━━━━━━━━━━\u001b[0m\u001b[37m\u001b[0m \u001b[1m4s\u001b[0m 1ms/step - loss: 10399.1777 - mse: 10399.1777 - val_loss: 10548.2705 - val_mse: 10548.2705\n",
      "Epoch 94/2000\n",
      "\u001b[1m2925/2925\u001b[0m \u001b[32m━━━━━━━━━━━━━━━━━━━━\u001b[0m\u001b[37m\u001b[0m \u001b[1m4s\u001b[0m 1ms/step - loss: 10358.0215 - mse: 10358.0215 - val_loss: 10451.7266 - val_mse: 10451.7266\n",
      "Epoch 95/2000\n",
      "\u001b[1m2925/2925\u001b[0m \u001b[32m━━━━━━━━━━━━━━━━━━━━\u001b[0m\u001b[37m\u001b[0m \u001b[1m4s\u001b[0m 1ms/step - loss: 10260.8330 - mse: 10260.8330 - val_loss: 10653.0166 - val_mse: 10653.0166\n",
      "Epoch 96/2000\n",
      "\u001b[1m2925/2925\u001b[0m \u001b[32m━━━━━━━━━━━━━━━━━━━━\u001b[0m\u001b[37m\u001b[0m \u001b[1m5s\u001b[0m 2ms/step - loss: 10382.4053 - mse: 10382.4062 - val_loss: 10528.7334 - val_mse: 10528.7334\n",
      "Epoch 97/2000\n",
      "\u001b[1m2925/2925\u001b[0m \u001b[32m━━━━━━━━━━━━━━━━━━━━\u001b[0m\u001b[37m\u001b[0m \u001b[1m8s\u001b[0m 3ms/step - loss: 10377.7793 - mse: 10377.7783 - val_loss: 10510.0312 - val_mse: 10510.0312\n",
      "Epoch 98/2000\n",
      "\u001b[1m2925/2925\u001b[0m \u001b[32m━━━━━━━━━━━━━━━━━━━━\u001b[0m\u001b[37m\u001b[0m \u001b[1m9s\u001b[0m 3ms/step - loss: 10341.5928 - mse: 10341.5928 - val_loss: 10530.1025 - val_mse: 10530.1025\n",
      "Epoch 99/2000\n",
      "\u001b[1m2925/2925\u001b[0m \u001b[32m━━━━━━━━━━━━━━━━━━━━\u001b[0m\u001b[37m\u001b[0m \u001b[1m8s\u001b[0m 3ms/step - loss: 10355.7773 - mse: 10355.7773 - val_loss: 10590.1855 - val_mse: 10590.1855\n",
      "Epoch 100/2000\n",
      "\u001b[1m2925/2925\u001b[0m \u001b[32m━━━━━━━━━━━━━━━━━━━━\u001b[0m\u001b[37m\u001b[0m \u001b[1m8s\u001b[0m 3ms/step - loss: 10346.2871 - mse: 10346.2871 - val_loss: 10471.5889 - val_mse: 10471.5889\n",
      "Epoch 101/2000\n",
      "\u001b[1m2925/2925\u001b[0m \u001b[32m━━━━━━━━━━━━━━━━━━━━\u001b[0m\u001b[37m\u001b[0m \u001b[1m8s\u001b[0m 3ms/step - loss: 10358.7793 - mse: 10358.7793 - val_loss: 10538.2939 - val_mse: 10538.2939\n",
      "Epoch 102/2000\n",
      "\u001b[1m2925/2925\u001b[0m \u001b[32m━━━━━━━━━━━━━━━━━━━━\u001b[0m\u001b[37m\u001b[0m \u001b[1m8s\u001b[0m 3ms/step - loss: 10386.7490 - mse: 10386.7490 - val_loss: 10601.1035 - val_mse: 10601.1035\n",
      "Epoch 103/2000\n",
      "\u001b[1m2925/2925\u001b[0m \u001b[32m━━━━━━━━━━━━━━━━━━━━\u001b[0m\u001b[37m\u001b[0m \u001b[1m8s\u001b[0m 3ms/step - loss: 10262.1660 - mse: 10262.1660 - val_loss: 10536.0664 - val_mse: 10536.0664\n",
      "Epoch 104/2000\n",
      "\u001b[1m2925/2925\u001b[0m \u001b[32m━━━━━━━━━━━━━━━━━━━━\u001b[0m\u001b[37m\u001b[0m \u001b[1m8s\u001b[0m 3ms/step - loss: 10324.8203 - mse: 10324.8203 - val_loss: 10609.0303 - val_mse: 10609.0303\n",
      "Epoch 105/2000\n",
      "\u001b[1m2925/2925\u001b[0m \u001b[32m━━━━━━━━━━━━━━━━━━━━\u001b[0m\u001b[37m\u001b[0m \u001b[1m8s\u001b[0m 3ms/step - loss: 10326.6055 - mse: 10326.6055 - val_loss: 10450.9375 - val_mse: 10450.9375\n",
      "Epoch 106/2000\n",
      "\u001b[1m2925/2925\u001b[0m \u001b[32m━━━━━━━━━━━━━━━━━━━━\u001b[0m\u001b[37m\u001b[0m \u001b[1m8s\u001b[0m 3ms/step - loss: 10215.0078 - mse: 10215.0078 - val_loss: 10485.6758 - val_mse: 10485.6758\n",
      "Epoch 107/2000\n",
      "\u001b[1m2925/2925\u001b[0m \u001b[32m━━━━━━━━━━━━━━━━━━━━\u001b[0m\u001b[37m\u001b[0m \u001b[1m8s\u001b[0m 3ms/step - loss: 10300.6807 - mse: 10300.6807 - val_loss: 10538.2471 - val_mse: 10538.2471\n",
      "Epoch 108/2000\n",
      "\u001b[1m2925/2925\u001b[0m \u001b[32m━━━━━━━━━━━━━━━━━━━━\u001b[0m\u001b[37m\u001b[0m \u001b[1m8s\u001b[0m 3ms/step - loss: 10290.1104 - mse: 10290.1104 - val_loss: 10612.2988 - val_mse: 10612.2979\n",
      "Epoch 109/2000\n",
      "\u001b[1m2925/2925\u001b[0m \u001b[32m━━━━━━━━━━━━━━━━━━━━\u001b[0m\u001b[37m\u001b[0m \u001b[1m8s\u001b[0m 3ms/step - loss: 10271.7754 - mse: 10271.7744 - val_loss: 10496.7207 - val_mse: 10496.7207\n",
      "Epoch 110/2000\n",
      "\u001b[1m2925/2925\u001b[0m \u001b[32m━━━━━━━━━━━━━━━━━━━━\u001b[0m\u001b[37m\u001b[0m \u001b[1m8s\u001b[0m 3ms/step - loss: 10310.3008 - mse: 10310.3008 - val_loss: 10449.5762 - val_mse: 10449.5762\n",
      "Epoch 111/2000\n",
      "\u001b[1m2925/2925\u001b[0m \u001b[32m━━━━━━━━━━━━━━━━━━━━\u001b[0m\u001b[37m\u001b[0m \u001b[1m8s\u001b[0m 3ms/step - loss: 10248.7080 - mse: 10248.7090 - val_loss: 10525.1670 - val_mse: 10525.1670\n",
      "Epoch 112/2000\n",
      "\u001b[1m2925/2925\u001b[0m \u001b[32m━━━━━━━━━━━━━━━━━━━━\u001b[0m\u001b[37m\u001b[0m \u001b[1m8s\u001b[0m 3ms/step - loss: 10305.5176 - mse: 10305.5176 - val_loss: 10497.9404 - val_mse: 10497.9414\n",
      "Epoch 113/2000\n",
      "\u001b[1m2925/2925\u001b[0m \u001b[32m━━━━━━━━━━━━━━━━━━━━\u001b[0m\u001b[37m\u001b[0m \u001b[1m8s\u001b[0m 3ms/step - loss: 10260.0791 - mse: 10260.0791 - val_loss: 10590.3281 - val_mse: 10590.3281\n",
      "Epoch 114/2000\n",
      "\u001b[1m2925/2925\u001b[0m \u001b[32m━━━━━━━━━━━━━━━━━━━━\u001b[0m\u001b[37m\u001b[0m \u001b[1m8s\u001b[0m 3ms/step - loss: 10189.5518 - mse: 10189.5518 - val_loss: 10453.0645 - val_mse: 10453.0654\n",
      "Epoch 115/2000\n",
      "\u001b[1m2925/2925\u001b[0m \u001b[32m━━━━━━━━━━━━━━━━━━━━\u001b[0m\u001b[37m\u001b[0m \u001b[1m8s\u001b[0m 3ms/step - loss: 10192.4131 - mse: 10192.4131 - val_loss: 10451.5293 - val_mse: 10451.5293\n",
      "Epoch 116/2000\n",
      "\u001b[1m2925/2925\u001b[0m \u001b[32m━━━━━━━━━━━━━━━━━━━━\u001b[0m\u001b[37m\u001b[0m \u001b[1m9s\u001b[0m 3ms/step - loss: 10287.7148 - mse: 10287.7148 - val_loss: 10425.0508 - val_mse: 10425.0508\n"
     ]
    }
   ],
   "source": [
    "early_stop = keras.callbacks.EarlyStopping(monitor='val_mse', patience=30)\n",
    "history = model.fit(X_tensor_trn, y_tensor_trn, epochs=2000, validation_split=0.35, batch_size=20, callbacks=[early_stop], shuffle=False)\n",
    "hist = pd.DataFrame(history.history)"
   ]
  },
  {
   "cell_type": "code",
   "execution_count": 25,
   "metadata": {},
   "outputs": [
    {
     "data": {
      "application/vnd.microsoft.datawrangler.viewer.v0+json": {
       "columns": [
        {
         "name": "index",
         "rawType": "int64",
         "type": "integer"
        },
        {
         "name": "loss",
         "rawType": "float64",
         "type": "float"
        },
        {
         "name": "mse",
         "rawType": "float64",
         "type": "float"
        },
        {
         "name": "val_loss",
         "rawType": "float64",
         "type": "float"
        },
        {
         "name": "val_mse",
         "rawType": "float64",
         "type": "float"
        }
       ],
       "conversionMethod": "pd.DataFrame",
       "ref": "a58b0ae0-465e-42e8-a5be-bca1f7b24490",
       "rows": [
        [
         "0",
         "27995.912109375",
         "27995.912109375",
         "22201.205078125",
         "22201.205078125"
        ],
        [
         "1",
         "21265.40234375",
         "21265.40234375",
         "19653.74609375",
         "19653.74609375"
        ],
        [
         "2",
         "19039.931640625",
         "19039.931640625",
         "17367.94140625",
         "17367.94140625"
        ],
        [
         "3",
         "16245.5244140625",
         "16245.5244140625",
         "14623.880859375",
         "14623.880859375"
        ],
        [
         "4",
         "14200.9169921875",
         "14200.91796875",
         "13095.7861328125",
         "13095.7861328125"
        ],
        [
         "5",
         "13269.8515625",
         "13269.8505859375",
         "13002.2744140625",
         "13002.2744140625"
        ],
        [
         "6",
         "12834.9541015625",
         "12834.9541015625",
         "12096.619140625",
         "12096.619140625"
        ],
        [
         "7",
         "12588.3623046875",
         "12588.3623046875",
         "12367.3544921875",
         "12367.3544921875"
        ],
        [
         "8",
         "12393.3232421875",
         "12393.3232421875",
         "11725.3876953125",
         "11725.3876953125"
        ],
        [
         "9",
         "12271.5146484375",
         "12271.5146484375",
         "11595.7509765625",
         "11595.7509765625"
        ],
        [
         "10",
         "12141.9775390625",
         "12141.9775390625",
         "11474.21484375",
         "11474.21484375"
        ],
        [
         "11",
         "12090.9072265625",
         "12090.9072265625",
         "11518.8349609375",
         "11518.8349609375"
        ],
        [
         "12",
         "11985.203125",
         "11985.203125",
         "11640.470703125",
         "11640.470703125"
        ],
        [
         "13",
         "11848.7763671875",
         "11848.7763671875",
         "11061.7216796875",
         "11061.7216796875"
        ],
        [
         "14",
         "11821.2333984375",
         "11821.2333984375",
         "11200.5244140625",
         "11200.5244140625"
        ],
        [
         "15",
         "11746.45703125",
         "11746.45703125",
         "11358.376953125",
         "11358.376953125"
        ],
        [
         "16",
         "11643.5947265625",
         "11643.595703125",
         "11435.6494140625",
         "11435.6494140625"
        ],
        [
         "17",
         "11662.91015625",
         "11662.91015625",
         "10921.46484375",
         "10921.46484375"
        ],
        [
         "18",
         "11603.259765625",
         "11603.259765625",
         "11199.8662109375",
         "11199.8662109375"
        ],
        [
         "19",
         "11601.48828125",
         "11601.48828125",
         "10984.427734375",
         "10984.427734375"
        ],
        [
         "20",
         "11520.810546875",
         "11520.810546875",
         "11113.2861328125",
         "11113.2861328125"
        ],
        [
         "21",
         "11488.1875",
         "11488.1875",
         "10780.4833984375",
         "10780.4833984375"
        ],
        [
         "22",
         "11456.263671875",
         "11456.263671875",
         "10800.2041015625",
         "10800.2041015625"
        ],
        [
         "23",
         "11425.49609375",
         "11425.49609375",
         "10782.123046875",
         "10782.123046875"
        ],
        [
         "24",
         "11372.5712890625",
         "11372.5712890625",
         "10849.994140625",
         "10849.994140625"
        ],
        [
         "25",
         "11390.7919921875",
         "11390.7919921875",
         "11029.5029296875",
         "11029.5029296875"
        ],
        [
         "26",
         "11394.212890625",
         "11394.2138671875",
         "10798.287109375",
         "10798.2880859375"
        ],
        [
         "27",
         "11345.1328125",
         "11345.1328125",
         "10792.5732421875",
         "10792.5732421875"
        ],
        [
         "28",
         "11323.0224609375",
         "11323.0224609375",
         "10836.0634765625",
         "10836.0634765625"
        ],
        [
         "29",
         "11266.2724609375",
         "11266.2724609375",
         "10811.0576171875",
         "10811.0576171875"
        ],
        [
         "30",
         "11218.3125",
         "11218.3125",
         "10700.138671875",
         "10700.138671875"
        ],
        [
         "31",
         "11271.1279296875",
         "11271.1279296875",
         "10768.7216796875",
         "10768.7216796875"
        ],
        [
         "32",
         "11259.2314453125",
         "11259.2314453125",
         "10729.552734375",
         "10729.552734375"
        ],
        [
         "33",
         "11174.166015625",
         "11174.166015625",
         "10707.0859375",
         "10707.0859375"
        ],
        [
         "34",
         "11215.9814453125",
         "11215.982421875",
         "10645.5830078125",
         "10645.5830078125"
        ],
        [
         "35",
         "11130.818359375",
         "11130.818359375",
         "10890.734375",
         "10890.734375"
        ],
        [
         "36",
         "11220.9716796875",
         "11220.9716796875",
         "10643.880859375",
         "10643.8798828125"
        ],
        [
         "37",
         "11181.32421875",
         "11181.32421875",
         "10711.453125",
         "10711.453125"
        ],
        [
         "38",
         "11138.349609375",
         "11138.349609375",
         "10760.3359375",
         "10760.3359375"
        ],
        [
         "39",
         "11134.0859375",
         "11134.0859375",
         "10630.5458984375",
         "10630.5458984375"
        ],
        [
         "40",
         "11084.7255859375",
         "11084.7275390625",
         "10755.095703125",
         "10755.095703125"
        ],
        [
         "41",
         "11096.0224609375",
         "11096.0224609375",
         "10560.865234375",
         "10560.865234375"
        ],
        [
         "42",
         "11007.42578125",
         "11007.42578125",
         "10660.6044921875",
         "10660.6044921875"
        ],
        [
         "43",
         "11020.33984375",
         "11020.33984375",
         "10712.201171875",
         "10712.201171875"
        ],
        [
         "44",
         "11021.4365234375",
         "11021.4365234375",
         "10648.4404296875",
         "10648.4404296875"
        ],
        [
         "45",
         "11010.015625",
         "11010.015625",
         "10578.453125",
         "10578.453125"
        ],
        [
         "46",
         "10983.6572265625",
         "10983.6572265625",
         "10520.4775390625",
         "10520.4775390625"
        ],
        [
         "47",
         "11024.94140625",
         "11024.94140625",
         "10823.2041015625",
         "10823.2041015625"
        ],
        [
         "48",
         "10918.5654296875",
         "10918.5654296875",
         "10589.1572265625",
         "10589.1572265625"
        ],
        [
         "49",
         "10952.39453125",
         "10952.39453125",
         "10869.8037109375",
         "10869.8037109375"
        ]
       ],
       "shape": {
        "columns": 4,
        "rows": 116
       }
      },
      "text/html": [
       "<div>\n",
       "<style scoped>\n",
       "    .dataframe tbody tr th:only-of-type {\n",
       "        vertical-align: middle;\n",
       "    }\n",
       "\n",
       "    .dataframe tbody tr th {\n",
       "        vertical-align: top;\n",
       "    }\n",
       "\n",
       "    .dataframe thead th {\n",
       "        text-align: right;\n",
       "    }\n",
       "</style>\n",
       "<table border=\"1\" class=\"dataframe\">\n",
       "  <thead>\n",
       "    <tr style=\"text-align: right;\">\n",
       "      <th></th>\n",
       "      <th>loss</th>\n",
       "      <th>mse</th>\n",
       "      <th>val_loss</th>\n",
       "      <th>val_mse</th>\n",
       "    </tr>\n",
       "  </thead>\n",
       "  <tbody>\n",
       "    <tr>\n",
       "      <th>0</th>\n",
       "      <td>27995.912109</td>\n",
       "      <td>27995.912109</td>\n",
       "      <td>22201.205078</td>\n",
       "      <td>22201.205078</td>\n",
       "    </tr>\n",
       "    <tr>\n",
       "      <th>1</th>\n",
       "      <td>21265.402344</td>\n",
       "      <td>21265.402344</td>\n",
       "      <td>19653.746094</td>\n",
       "      <td>19653.746094</td>\n",
       "    </tr>\n",
       "    <tr>\n",
       "      <th>2</th>\n",
       "      <td>19039.931641</td>\n",
       "      <td>19039.931641</td>\n",
       "      <td>17367.941406</td>\n",
       "      <td>17367.941406</td>\n",
       "    </tr>\n",
       "    <tr>\n",
       "      <th>3</th>\n",
       "      <td>16245.524414</td>\n",
       "      <td>16245.524414</td>\n",
       "      <td>14623.880859</td>\n",
       "      <td>14623.880859</td>\n",
       "    </tr>\n",
       "    <tr>\n",
       "      <th>4</th>\n",
       "      <td>14200.916992</td>\n",
       "      <td>14200.917969</td>\n",
       "      <td>13095.786133</td>\n",
       "      <td>13095.786133</td>\n",
       "    </tr>\n",
       "    <tr>\n",
       "      <th>...</th>\n",
       "      <td>...</td>\n",
       "      <td>...</td>\n",
       "      <td>...</td>\n",
       "      <td>...</td>\n",
       "    </tr>\n",
       "    <tr>\n",
       "      <th>111</th>\n",
       "      <td>10386.304688</td>\n",
       "      <td>10386.304688</td>\n",
       "      <td>10497.940430</td>\n",
       "      <td>10497.941406</td>\n",
       "    </tr>\n",
       "    <tr>\n",
       "      <th>112</th>\n",
       "      <td>10368.610352</td>\n",
       "      <td>10368.610352</td>\n",
       "      <td>10590.328125</td>\n",
       "      <td>10590.328125</td>\n",
       "    </tr>\n",
       "    <tr>\n",
       "      <th>113</th>\n",
       "      <td>10346.047852</td>\n",
       "      <td>10346.047852</td>\n",
       "      <td>10453.064453</td>\n",
       "      <td>10453.065430</td>\n",
       "    </tr>\n",
       "    <tr>\n",
       "      <th>114</th>\n",
       "      <td>10333.787109</td>\n",
       "      <td>10333.787109</td>\n",
       "      <td>10451.529297</td>\n",
       "      <td>10451.529297</td>\n",
       "    </tr>\n",
       "    <tr>\n",
       "      <th>115</th>\n",
       "      <td>10405.878906</td>\n",
       "      <td>10405.878906</td>\n",
       "      <td>10425.050781</td>\n",
       "      <td>10425.050781</td>\n",
       "    </tr>\n",
       "  </tbody>\n",
       "</table>\n",
       "<p>116 rows × 4 columns</p>\n",
       "</div>"
      ],
      "text/plain": [
       "             loss           mse      val_loss       val_mse\n",
       "0    27995.912109  27995.912109  22201.205078  22201.205078\n",
       "1    21265.402344  21265.402344  19653.746094  19653.746094\n",
       "2    19039.931641  19039.931641  17367.941406  17367.941406\n",
       "3    16245.524414  16245.524414  14623.880859  14623.880859\n",
       "4    14200.916992  14200.917969  13095.786133  13095.786133\n",
       "..            ...           ...           ...           ...\n",
       "111  10386.304688  10386.304688  10497.940430  10497.941406\n",
       "112  10368.610352  10368.610352  10590.328125  10590.328125\n",
       "113  10346.047852  10346.047852  10453.064453  10453.065430\n",
       "114  10333.787109  10333.787109  10451.529297  10451.529297\n",
       "115  10405.878906  10405.878906  10425.050781  10425.050781\n",
       "\n",
       "[116 rows x 4 columns]"
      ]
     },
     "execution_count": 25,
     "metadata": {},
     "output_type": "execute_result"
    }
   ],
   "source": [
    "hist"
   ]
  },
  {
   "cell_type": "code",
   "execution_count": 26,
   "metadata": {},
   "outputs": [],
   "source": [
    "hist = hist.reset_index()"
   ]
  },
  {
   "cell_type": "markdown",
   "metadata": {},
   "source": [
    "## Describing the Results"
   ]
  },
  {
   "cell_type": "code",
   "execution_count": 27,
   "metadata": {},
   "outputs": [
    {
     "data": {
      "text/plain": [
       "<matplotlib.legend.Legend at 0x14a0b1a7cb0>"
      ]
     },
     "execution_count": 27,
     "metadata": {},
     "output_type": "execute_result"
    },
    {
     "data": {
      "image/png": "[encoded data removed]",
      "text/plain": [
       "<Figure size 640x480 with 1 Axes>"
      ]
     },
     "metadata": {},
     "output_type": "display_data"
    }
   ],
   "source": [
    "plt.figure()\n",
    "plt.xlabel('Epoch')\n",
    "plt.ylabel('Mean Squared Error')\n",
    "plt.plot(hist['index'], hist['mse'], label='Train Error')\n",
    "plt.plot(hist['index'], hist['val_mse'], label='Val Error')\n",
    "plt.legend()"
   ]
  },
  {
   "cell_type": "code",
   "execution_count": 28,
   "metadata": {},
   "outputs": [
    {
     "name": "stdout",
     "output_type": "stream",
     "text": [
      "\u001b[1m703/703\u001b[0m \u001b[32m━━━━━━━━━━━━━━━━━━━━\u001b[0m\u001b[37m\u001b[0m \u001b[1m1s\u001b[0m 1ms/step  \n"
     ]
    }
   ],
   "source": [
    "preds = np.round(model.predict(X_tensor_tst),1)\n",
    "# preds = model.predict(X_test)"
   ]
  },
  {
   "cell_type": "code",
   "execution_count": null,
   "metadata": {},
   "outputs": [],
   "source": [
    "X_test"
   ]
  },
  {
   "cell_type": "code",
   "execution_count": 29,
   "metadata": {},
   "outputs": [
    {
     "name": "stdout",
     "output_type": "stream",
     "text": [
      "99.00432062557685\n"
     ]
    }
   ],
   "source": [
    "result = root_mean_squared_error(y_tensor_tst, preds)\n",
    "print(result)"
   ]
  },
  {
   "cell_type": "code",
   "execution_count": 30,
   "metadata": {},
   "outputs": [
    {
     "name": "stdout",
     "output_type": "stream",
     "text": [
      "0.7250456213951111\n"
     ]
    }
   ],
   "source": [
    "r2 = r2_score(y_tensor_tst, preds)\n",
    "print(r2)"
   ]
  },
  {
   "cell_type": "code",
   "execution_count": null,
   "metadata": {},
   "outputs": [
    {
     "data": {
      "application/vnd.microsoft.datawrangler.viewer.v0+json": {
       "columns": [
        {
         "name": "index",
         "rawType": "int64",
         "type": "integer"
        },
        {
         "name": "registered",
         "rawType": "float32",
         "type": "float"
        },
        {
         "name": "casual",
         "rawType": "float32",
         "type": "float"
        }
       ],
       "conversionMethod": "pd.DataFrame",
       "ref": "bd44327c-85ab-4884-b09e-d12b1445afd8",
       "rows": [
        [
         "0",
         "56.3",
         "210.9"
        ],
        [
         "1",
         "52.9",
         "138.3"
        ],
        [
         "2",
         "20.6",
         "39.0"
        ],
        [
         "3",
         "23.7",
         "212.1"
        ],
        [
         "4",
         "0.0",
         "35.1"
        ],
        [
         "5",
         "35.0",
         "354.9"
        ],
        [
         "6",
         "0.0",
         "0.0"
        ],
        [
         "7",
         "103.4",
         "167.0"
        ],
        [
         "8",
         "0.0",
         "0.0"
        ],
        [
         "9",
         "0.0",
         "0.0"
        ],
        [
         "10",
         "118.2",
         "460.3"
        ],
        [
         "11",
         "64.7",
         "145.0"
        ],
        [
         "12",
         "0.0",
         "44.0"
        ],
        [
         "13",
         "0.0",
         "0.0"
        ],
        [
         "14",
         "57.4",
         "343.6"
        ],
        [
         "15",
         "4.3",
         "26.2"
        ],
        [
         "16",
         "0.0",
         "0.0"
        ],
        [
         "17",
         "268.7",
         "921.1"
        ],
        [
         "18",
         "22.2",
         "51.2"
        ],
        [
         "19",
         "114.4",
         "233.8"
        ],
        [
         "20",
         "30.7",
         "80.2"
        ],
        [
         "21",
         "23.9",
         "217.8"
        ],
        [
         "22",
         "117.8",
         "395.6"
        ],
        [
         "23",
         "112.0",
         "738.7"
        ],
        [
         "24",
         "11.6",
         "57.6"
        ],
        [
         "25",
         "27.2",
         "91.8"
        ],
        [
         "26",
         "89.7",
         "444.3"
        ],
        [
         "27",
         "28.4",
         "72.7"
        ],
        [
         "28",
         "0.0",
         "0.0"
        ],
        [
         "29",
         "452.7",
         "465.3"
        ],
        [
         "30",
         "51.7",
         "297.1"
        ],
        [
         "31",
         "3.9",
         "17.1"
        ],
        [
         "32",
         "0.0",
         "0.0"
        ],
        [
         "33",
         "11.7",
         "10.4"
        ],
        [
         "34",
         "73.7",
         "182.9"
        ],
        [
         "35",
         "0.0",
         "0.0"
        ],
        [
         "36",
         "542.1",
         "485.4"
        ],
        [
         "37",
         "20.6",
         "71.0"
        ],
        [
         "38",
         "192.7",
         "278.9"
        ],
        [
         "39",
         "58.0",
         "90.5"
        ],
        [
         "40",
         "56.3",
         "486.6"
        ],
        [
         "41",
         "0.0",
         "0.0"
        ],
        [
         "42",
         "12.1",
         "56.4"
        ],
        [
         "43",
         "0.0",
         "0.0"
        ],
        [
         "44",
         "100.7",
         "429.7"
        ],
        [
         "45",
         "0.0",
         "0.0"
        ],
        [
         "46",
         "20.4",
         "62.0"
        ],
        [
         "47",
         "0.0",
         "0.0"
        ],
        [
         "48",
         "237.1",
         "852.7"
        ],
        [
         "49",
         "0.0",
         "47.0"
        ]
       ],
       "shape": {
        "columns": 2,
        "rows": 22495
       }
      },
      "text/html": [
       "<div>\n",
       "<style scoped>\n",
       "    .dataframe tbody tr th:only-of-type {\n",
       "        vertical-align: middle;\n",
       "    }\n",
       "\n",
       "    .dataframe tbody tr th {\n",
       "        vertical-align: top;\n",
       "    }\n",
       "\n",
       "    .dataframe thead th {\n",
       "        text-align: right;\n",
       "    }\n",
       "</style>\n",
       "<table border=\"1\" class=\"dataframe\">\n",
       "  <thead>\n",
       "    <tr style=\"text-align: right;\">\n",
       "      <th></th>\n",
       "      <th>registered</th>\n",
       "      <th>casual</th>\n",
       "    </tr>\n",
       "  </thead>\n",
       "  <tbody>\n",
       "    <tr>\n",
       "      <th>0</th>\n",
       "      <td>56.299999</td>\n",
       "      <td>210.899994</td>\n",
       "    </tr>\n",
       "    <tr>\n",
       "      <th>1</th>\n",
       "      <td>52.900002</td>\n",
       "      <td>138.300003</td>\n",
       "    </tr>\n",
       "    <tr>\n",
       "      <th>2</th>\n",
       "      <td>20.600000</td>\n",
       "      <td>39.000000</td>\n",
       "    </tr>\n",
       "    <tr>\n",
       "      <th>3</th>\n",
       "      <td>23.700001</td>\n",
       "      <td>212.100006</td>\n",
       "    </tr>\n",
       "    <tr>\n",
       "      <th>4</th>\n",
       "      <td>0.000000</td>\n",
       "      <td>35.099998</td>\n",
       "    </tr>\n",
       "    <tr>\n",
       "      <th>...</th>\n",
       "      <td>...</td>\n",
       "      <td>...</td>\n",
       "    </tr>\n",
       "    <tr>\n",
       "      <th>22490</th>\n",
       "      <td>341.899994</td>\n",
       "      <td>379.899994</td>\n",
       "    </tr>\n",
       "    <tr>\n",
       "      <th>22491</th>\n",
       "      <td>2.600000</td>\n",
       "      <td>0.000000</td>\n",
       "    </tr>\n",
       "    <tr>\n",
       "      <th>22492</th>\n",
       "      <td>57.799999</td>\n",
       "      <td>242.100006</td>\n",
       "    </tr>\n",
       "    <tr>\n",
       "      <th>22493</th>\n",
       "      <td>127.199997</td>\n",
       "      <td>445.500000</td>\n",
       "    </tr>\n",
       "    <tr>\n",
       "      <th>22494</th>\n",
       "      <td>22.299999</td>\n",
       "      <td>142.899994</td>\n",
       "    </tr>\n",
       "  </tbody>\n",
       "</table>\n",
       "<p>22495 rows × 2 columns</p>\n",
       "</div>"
      ],
      "text/plain": [
       "       registered      casual\n",
       "0       56.299999  210.899994\n",
       "1       52.900002  138.300003\n",
       "2       20.600000   39.000000\n",
       "3       23.700001  212.100006\n",
       "4        0.000000   35.099998\n",
       "...           ...         ...\n",
       "22490  341.899994  379.899994\n",
       "22491    2.600000    0.000000\n",
       "22492   57.799999  242.100006\n",
       "22493  127.199997  445.500000\n",
       "22494   22.299999  142.899994\n",
       "\n",
       "[22495 rows x 2 columns]"
      ]
     },
     "execution_count": 39,
     "metadata": {},
     "output_type": "execute_result"
    }
   ],
   "source": [
    "results = pd.DataFrame(preds, columns=['casual', 'registered'])\n",
    "results"
   ]
  },
  {
   "cell_type": "code",
   "execution_count": 41,
   "metadata": {},
   "outputs": [
    {
     "data": {
      "image/png": "[encoded data removed]",
      "text/plain": [
       "<Figure size 640x480 with 1 Axes>"
      ]
     },
     "metadata": {},
     "output_type": "display_data"
    }
   ],
   "source": [
    "results['actual_casual'] = y_tensor_tst['casual']\n",
    "results['actual_registered'] = y_tensor_tst['registered']\n",
    "\n",
    "results['difference_casual'] = results['actual_casual']-results['casual']\n",
    "results['difference_registered'] = results['actual_registered']-results['registered']\n",
    "\n",
    "# xlims =(0,55)\n",
    "ax = sns.scatterplot(data=results,x='actual_casual',y='casual')\n",
    "# ax.plot(xlims,xlims, color='r')\n",
    "plt.show()"
   ]
  },
  {
   "cell_type": "markdown",
   "metadata": {},
   "source": [
    "# PyTorch Method"
   ]
  },
  {
   "cell_type": "code",
   "execution_count": null,
   "metadata": {},
   "outputs": [],
   "source": [
    "device = torch.device('cpu')\n",
    "if torch.cuda.is_available():\n",
    "    device = torch.device('cuda')"
   ]
  }
 ],
 "metadata": {
  "kernelspec": {
   "display_name": "venv",
   "language": "python",
   "name": "python3"
  },
  "language_info": {
   "codemirror_mode": {
    "name": "ipython",
    "version": 3
   },
   "file_extension": ".py",
   "mimetype": "text/x-python",
   "name": "python",
   "nbconvert_exporter": "python",
   "pygments_lexer": "ipython3",
   "version": "3.12.8"
  }
 },
 "nbformat": 4,
 "nbformat_minor": 2
}
