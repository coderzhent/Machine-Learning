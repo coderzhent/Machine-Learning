{
 "cells": [
  {
   "cell_type": "markdown",
   "metadata": {},
   "source": [
    "# ICE Challenge #1"
   ]
  },
  {
   "cell_type": "code",
   "execution_count": 7,
   "metadata": {},
   "outputs": [],
   "source": [
    "import pandas as pd\n",
    "import numpy as np\n",
    "import matplotlib.pyplot as plt\n",
    "import seaborn as sns\n",
    "import itertools\n",
    "import joblib\n",
    "import random\n",
    "import xgboost as xgb\n",
    "from IPython.display import display\n",
    "from sklearn.model_selection import train_test_split\n",
    "from sklearn.metrics import (\n",
    "    accuracy_score, \n",
    "    confusion_matrix, \n",
    "    precision_score, \n",
    "    recall_score, \n",
    "    f1_score\n",
    ")"
   ]
  },
  {
   "cell_type": "code",
   "execution_count": 2,
   "metadata": {},
   "outputs": [],
   "source": [
    "df = pd.read_csv('./ICE-1/wine-training.csv')\n",
    "df_holdout = pd.read_csv('./ICE-1/wine-holdout.csv')"
   ]
  },
  {
   "cell_type": "code",
   "execution_count": null,
   "metadata": {},
   "outputs": [
    {
     "data": {
      "application/vnd.microsoft.datawrangler.viewer.v0+json": {
       "columns": [
        {
         "name": "index",
         "rawType": "object",
         "type": "string"
        },
        {
         "name": "alcohol",
         "rawType": "float64",
         "type": "float"
        },
        {
         "name": "malic_acid",
         "rawType": "float64",
         "type": "float"
        },
        {
         "name": "ash",
         "rawType": "float64",
         "type": "float"
        },
        {
         "name": "alcalinity_of_ash",
         "rawType": "float64",
         "type": "float"
        },
        {
         "name": "magnesium",
         "rawType": "float64",
         "type": "float"
        },
        {
         "name": "total_phenols",
         "rawType": "float64",
         "type": "float"
        },
        {
         "name": "flavanoids",
         "rawType": "float64",
         "type": "float"
        },
        {
         "name": "nonflavanoid_phenols",
         "rawType": "float64",
         "type": "float"
        },
        {
         "name": "proanthocyanins",
         "rawType": "float64",
         "type": "float"
        },
        {
         "name": "color_intensity",
         "rawType": "float64",
         "type": "float"
        },
        {
         "name": "hue",
         "rawType": "float64",
         "type": "float"
        },
        {
         "name": "od",
         "rawType": "float64",
         "type": "float"
        },
        {
         "name": "proline",
         "rawType": "float64",
         "type": "float"
        },
        {
         "name": "wine",
         "rawType": "float64",
         "type": "float"
        }
       ],
       "conversionMethod": "pd.DataFrame",
       "ref": "f360bcb2-8d1d-40df-954b-7ac9e7ce054b",
       "rows": [
        [
         "count",
         "119.0",
         "119.0",
         "119.0",
         "119.0",
         "119.0",
         "119.0",
         "119.0",
         "119.0",
         "119.0",
         "119.0",
         "119.0",
         "119.0",
         "119.0",
         "119.0"
        ],
        [
         "mean",
         "12.971008403361346",
         "2.4133613445378153",
         "2.372100840336134",
         "19.577310924369748",
         "100.85714285714286",
         "2.278319327731092",
         "2.0145378151260505",
         "0.3640336134453782",
         "1.5887394957983196",
         "5.025126050420167",
         "0.9563529411764705",
         "2.5937815126050427",
         "741.5882352941177",
         "0.9495798319327731"
        ],
        [
         "std",
         "0.8519751676953167",
         "1.107837469960745",
         "0.26825826775633",
         "3.50673533469401",
         "15.16758682429869",
         "0.6629304732925492",
         "1.0201485002395234",
         "0.1272014239322488",
         "0.5786872265211378",
         "2.2039224914645756",
         "0.236996266445429",
         "0.7345977702539664",
         "307.64519547864995",
         "0.7794907017829481"
        ],
        [
         "min",
         "11.03",
         "0.89",
         "1.36",
         "10.6",
         "70.0",
         "0.98",
         "0.34",
         "0.13",
         "0.42",
         "1.74",
         "0.48",
         "1.27",
         "278.0",
         "0.0"
        ],
        [
         "25%",
         "12.29",
         "1.645",
         "2.2350000000000003",
         "17.45",
         "88.0",
         "1.69",
         "1.145",
         "0.27",
         "1.245",
         "3.23",
         "0.77",
         "1.8250000000000002",
         "497.5",
         "0.0"
        ],
        [
         "50%",
         "12.96",
         "1.9",
         "2.36",
         "19.5",
         "98.0",
         "2.3",
         "2.14",
         "0.34",
         "1.56",
         "4.8",
         "0.96",
         "2.78",
         "660.0",
         "1.0"
        ],
        [
         "75%",
         "13.71",
         "3.17",
         "2.525",
         "21.5",
         "108.0",
         "2.815",
         "2.87",
         "0.45",
         "1.935",
         "6.165",
         "1.12",
         "3.17",
         "961.0",
         "2.0"
        ],
        [
         "max",
         "14.83",
         "5.8",
         "3.23",
         "30.0",
         "162.0",
         "3.88",
         "5.08",
         "0.66",
         "3.58",
         "10.8",
         "1.71",
         "4.0",
         "1547.0",
         "2.0"
        ]
       ],
       "shape": {
        "columns": 14,
        "rows": 8
       }
      },
      "text/html": [
       "<div>\n",
       "<style scoped>\n",
       "    .dataframe tbody tr th:only-of-type {\n",
       "        vertical-align: middle;\n",
       "    }\n",
       "\n",
       "    .dataframe tbody tr th {\n",
       "        vertical-align: top;\n",
       "    }\n",
       "\n",
       "    .dataframe thead th {\n",
       "        text-align: right;\n",
       "    }\n",
       "</style>\n",
       "<table border=\"1\" class=\"dataframe\">\n",
       "  <thead>\n",
       "    <tr style=\"text-align: right;\">\n",
       "      <th></th>\n",
       "      <th>alcohol</th>\n",
       "      <th>malic_acid</th>\n",
       "      <th>ash</th>\n",
       "      <th>alcalinity_of_ash</th>\n",
       "      <th>magnesium</th>\n",
       "      <th>total_phenols</th>\n",
       "      <th>flavanoids</th>\n",
       "      <th>nonflavanoid_phenols</th>\n",
       "      <th>proanthocyanins</th>\n",
       "      <th>color_intensity</th>\n",
       "      <th>hue</th>\n",
       "      <th>od</th>\n",
       "      <th>proline</th>\n",
       "      <th>wine</th>\n",
       "    </tr>\n",
       "  </thead>\n",
       "  <tbody>\n",
       "    <tr>\n",
       "      <th>count</th>\n",
       "      <td>119.000000</td>\n",
       "      <td>119.000000</td>\n",
       "      <td>119.000000</td>\n",
       "      <td>119.000000</td>\n",
       "      <td>119.000000</td>\n",
       "      <td>119.000000</td>\n",
       "      <td>119.000000</td>\n",
       "      <td>119.000000</td>\n",
       "      <td>119.000000</td>\n",
       "      <td>119.000000</td>\n",
       "      <td>119.000000</td>\n",
       "      <td>119.000000</td>\n",
       "      <td>119.000000</td>\n",
       "      <td>119.000000</td>\n",
       "    </tr>\n",
       "    <tr>\n",
       "      <th>mean</th>\n",
       "      <td>12.971008</td>\n",
       "      <td>2.413361</td>\n",
       "      <td>2.372101</td>\n",
       "      <td>19.577311</td>\n",
       "      <td>100.857143</td>\n",
       "      <td>2.278319</td>\n",
       "      <td>2.014538</td>\n",
       "      <td>0.364034</td>\n",
       "      <td>1.588739</td>\n",
       "      <td>5.025126</td>\n",
       "      <td>0.956353</td>\n",
       "      <td>2.593782</td>\n",
       "      <td>741.588235</td>\n",
       "      <td>0.949580</td>\n",
       "    </tr>\n",
       "    <tr>\n",
       "      <th>std</th>\n",
       "      <td>0.851975</td>\n",
       "      <td>1.107837</td>\n",
       "      <td>0.268258</td>\n",
       "      <td>3.506735</td>\n",
       "      <td>15.167587</td>\n",
       "      <td>0.662930</td>\n",
       "      <td>1.020149</td>\n",
       "      <td>0.127201</td>\n",
       "      <td>0.578687</td>\n",
       "      <td>2.203922</td>\n",
       "      <td>0.236996</td>\n",
       "      <td>0.734598</td>\n",
       "      <td>307.645195</td>\n",
       "      <td>0.779491</td>\n",
       "    </tr>\n",
       "    <tr>\n",
       "      <th>min</th>\n",
       "      <td>11.030000</td>\n",
       "      <td>0.890000</td>\n",
       "      <td>1.360000</td>\n",
       "      <td>10.600000</td>\n",
       "      <td>70.000000</td>\n",
       "      <td>0.980000</td>\n",
       "      <td>0.340000</td>\n",
       "      <td>0.130000</td>\n",
       "      <td>0.420000</td>\n",
       "      <td>1.740000</td>\n",
       "      <td>0.480000</td>\n",
       "      <td>1.270000</td>\n",
       "      <td>278.000000</td>\n",
       "      <td>0.000000</td>\n",
       "    </tr>\n",
       "    <tr>\n",
       "      <th>25%</th>\n",
       "      <td>12.290000</td>\n",
       "      <td>1.645000</td>\n",
       "      <td>2.235000</td>\n",
       "      <td>17.450000</td>\n",
       "      <td>88.000000</td>\n",
       "      <td>1.690000</td>\n",
       "      <td>1.145000</td>\n",
       "      <td>0.270000</td>\n",
       "      <td>1.245000</td>\n",
       "      <td>3.230000</td>\n",
       "      <td>0.770000</td>\n",
       "      <td>1.825000</td>\n",
       "      <td>497.500000</td>\n",
       "      <td>0.000000</td>\n",
       "    </tr>\n",
       "    <tr>\n",
       "      <th>50%</th>\n",
       "      <td>12.960000</td>\n",
       "      <td>1.900000</td>\n",
       "      <td>2.360000</td>\n",
       "      <td>19.500000</td>\n",
       "      <td>98.000000</td>\n",
       "      <td>2.300000</td>\n",
       "      <td>2.140000</td>\n",
       "      <td>0.340000</td>\n",
       "      <td>1.560000</td>\n",
       "      <td>4.800000</td>\n",
       "      <td>0.960000</td>\n",
       "      <td>2.780000</td>\n",
       "      <td>660.000000</td>\n",
       "      <td>1.000000</td>\n",
       "    </tr>\n",
       "    <tr>\n",
       "      <th>75%</th>\n",
       "      <td>13.710000</td>\n",
       "      <td>3.170000</td>\n",
       "      <td>2.525000</td>\n",
       "      <td>21.500000</td>\n",
       "      <td>108.000000</td>\n",
       "      <td>2.815000</td>\n",
       "      <td>2.870000</td>\n",
       "      <td>0.450000</td>\n",
       "      <td>1.935000</td>\n",
       "      <td>6.165000</td>\n",
       "      <td>1.120000</td>\n",
       "      <td>3.170000</td>\n",
       "      <td>961.000000</td>\n",
       "      <td>2.000000</td>\n",
       "    </tr>\n",
       "    <tr>\n",
       "      <th>max</th>\n",
       "      <td>14.830000</td>\n",
       "      <td>5.800000</td>\n",
       "      <td>3.230000</td>\n",
       "      <td>30.000000</td>\n",
       "      <td>162.000000</td>\n",
       "      <td>3.880000</td>\n",
       "      <td>5.080000</td>\n",
       "      <td>0.660000</td>\n",
       "      <td>3.580000</td>\n",
       "      <td>10.800000</td>\n",
       "      <td>1.710000</td>\n",
       "      <td>4.000000</td>\n",
       "      <td>1547.000000</td>\n",
       "      <td>2.000000</td>\n",
       "    </tr>\n",
       "  </tbody>\n",
       "</table>\n",
       "</div>"
      ],
      "text/plain": [
       "          alcohol  malic_acid         ash  alcalinity_of_ash   magnesium  \\\n",
       "count  119.000000  119.000000  119.000000         119.000000  119.000000   \n",
       "mean    12.971008    2.413361    2.372101          19.577311  100.857143   \n",
       "std      0.851975    1.107837    0.268258           3.506735   15.167587   \n",
       "min     11.030000    0.890000    1.360000          10.600000   70.000000   \n",
       "25%     12.290000    1.645000    2.235000          17.450000   88.000000   \n",
       "50%     12.960000    1.900000    2.360000          19.500000   98.000000   \n",
       "75%     13.710000    3.170000    2.525000          21.500000  108.000000   \n",
       "max     14.830000    5.800000    3.230000          30.000000  162.000000   \n",
       "\n",
       "       total_phenols  flavanoids  nonflavanoid_phenols  proanthocyanins  \\\n",
       "count     119.000000  119.000000            119.000000       119.000000   \n",
       "mean        2.278319    2.014538              0.364034         1.588739   \n",
       "std         0.662930    1.020149              0.127201         0.578687   \n",
       "min         0.980000    0.340000              0.130000         0.420000   \n",
       "25%         1.690000    1.145000              0.270000         1.245000   \n",
       "50%         2.300000    2.140000              0.340000         1.560000   \n",
       "75%         2.815000    2.870000              0.450000         1.935000   \n",
       "max         3.880000    5.080000              0.660000         3.580000   \n",
       "\n",
       "       color_intensity         hue          od      proline        wine  \n",
       "count       119.000000  119.000000  119.000000   119.000000  119.000000  \n",
       "mean          5.025126    0.956353    2.593782   741.588235    0.949580  \n",
       "std           2.203922    0.236996    0.734598   307.645195    0.779491  \n",
       "min           1.740000    0.480000    1.270000   278.000000    0.000000  \n",
       "25%           3.230000    0.770000    1.825000   497.500000    0.000000  \n",
       "50%           4.800000    0.960000    2.780000   660.000000    1.000000  \n",
       "75%           6.165000    1.120000    3.170000   961.000000    2.000000  \n",
       "max          10.800000    1.710000    4.000000  1547.000000    2.000000  "
      ]
     },
     "execution_count": 43,
     "metadata": {},
     "output_type": "execute_result"
    }
   ],
   "source": [
    "display(df.describe())\n",
    "display(df.info())"
   ]
  },
  {
   "cell_type": "code",
   "execution_count": null,
   "metadata": {},
   "outputs": [],
   "source": [
    "# Only needed to have ran once not repeatedly.\n",
    "# sns.pairplot(data=df, hue='wine')\n",
    "# plt.savefig('.\\\\ICE-1\\\\matrix_plot.png', dpi=300)"
   ]
  },
  {
   "cell_type": "code",
   "execution_count": 18,
   "metadata": {},
   "outputs": [],
   "source": [
    "X = df.drop(columns='wine')\n",
    "y = df['wine']\n",
    "\n",
    "X_train, X_test, y_train, y_test = train_test_split(X, y, test_size=0.2, random_state=117)"
   ]
  },
  {
   "cell_type": "code",
   "execution_count": 19,
   "metadata": {},
   "outputs": [
    {
     "data": {
      "text/html": [
       "<style>#sk-container-id-3 {\n",
       "  /* Definition of color scheme common for light and dark mode */\n",
       "  --sklearn-color-text: black;\n",
       "  --sklearn-color-line: gray;\n",
       "  /* Definition of color scheme for unfitted estimators */\n",
       "  --sklearn-color-unfitted-level-0: #fff5e6;\n",
       "  --sklearn-color-unfitted-level-1: #f6e4d2;\n",
       "  --sklearn-color-unfitted-level-2: #ffe0b3;\n",
       "  --sklearn-color-unfitted-level-3: chocolate;\n",
       "  /* Definition of color scheme for fitted estimators */\n",
       "  --sklearn-color-fitted-level-0: #f0f8ff;\n",
       "  --sklearn-color-fitted-level-1: #d4ebff;\n",
       "  --sklearn-color-fitted-level-2: #b3dbfd;\n",
       "  --sklearn-color-fitted-level-3: cornflowerblue;\n",
       "\n",
       "  /* Specific color for light theme */\n",
       "  --sklearn-color-text-on-default-background: var(--sg-text-color, var(--theme-code-foreground, var(--jp-content-font-color1, black)));\n",
       "  --sklearn-color-background: var(--sg-background-color, var(--theme-background, var(--jp-layout-color0, white)));\n",
       "  --sklearn-color-border-box: var(--sg-text-color, var(--theme-code-foreground, var(--jp-content-font-color1, black)));\n",
       "  --sklearn-color-icon: #696969;\n",
       "\n",
       "  @media (prefers-color-scheme: dark) {\n",
       "    /* Redefinition of color scheme for dark theme */\n",
       "    --sklearn-color-text-on-default-background: var(--sg-text-color, var(--theme-code-foreground, var(--jp-content-font-color1, white)));\n",
       "    --sklearn-color-background: var(--sg-background-color, var(--theme-background, var(--jp-layout-color0, #111)));\n",
       "    --sklearn-color-border-box: var(--sg-text-color, var(--theme-code-foreground, var(--jp-content-font-color1, white)));\n",
       "    --sklearn-color-icon: #878787;\n",
       "  }\n",
       "}\n",
       "\n",
       "#sk-container-id-3 {\n",
       "  color: var(--sklearn-color-text);\n",
       "}\n",
       "\n",
       "#sk-container-id-3 pre {\n",
       "  padding: 0;\n",
       "}\n",
       "\n",
       "#sk-container-id-3 input.sk-hidden--visually {\n",
       "  border: 0;\n",
       "  clip: rect(1px 1px 1px 1px);\n",
       "  clip: rect(1px, 1px, 1px, 1px);\n",
       "  height: 1px;\n",
       "  margin: -1px;\n",
       "  overflow: hidden;\n",
       "  padding: 0;\n",
       "  position: absolute;\n",
       "  width: 1px;\n",
       "}\n",
       "\n",
       "#sk-container-id-3 div.sk-dashed-wrapped {\n",
       "  border: 1px dashed var(--sklearn-color-line);\n",
       "  margin: 0 0.4em 0.5em 0.4em;\n",
       "  box-sizing: border-box;\n",
       "  padding-bottom: 0.4em;\n",
       "  background-color: var(--sklearn-color-background);\n",
       "}\n",
       "\n",
       "#sk-container-id-3 div.sk-container {\n",
       "  /* jupyter's `normalize.less` sets `[hidden] { display: none; }`\n",
       "     but bootstrap.min.css set `[hidden] { display: none !important; }`\n",
       "     so we also need the `!important` here to be able to override the\n",
       "     default hidden behavior on the sphinx rendered scikit-learn.org.\n",
       "     See: https://github.com/scikit-learn/scikit-learn/issues/21755 */\n",
       "  display: inline-block !important;\n",
       "  position: relative;\n",
       "}\n",
       "\n",
       "#sk-container-id-3 div.sk-text-repr-fallback {\n",
       "  display: none;\n",
       "}\n",
       "\n",
       "div.sk-parallel-item,\n",
       "div.sk-serial,\n",
       "div.sk-item {\n",
       "  /* draw centered vertical line to link estimators */\n",
       "  background-image: linear-gradient(var(--sklearn-color-text-on-default-background), var(--sklearn-color-text-on-default-background));\n",
       "  background-size: 2px 100%;\n",
       "  background-repeat: no-repeat;\n",
       "  background-position: center center;\n",
       "}\n",
       "\n",
       "/* Parallel-specific style estimator block */\n",
       "\n",
       "#sk-container-id-3 div.sk-parallel-item::after {\n",
       "  content: \"\";\n",
       "  width: 100%;\n",
       "  border-bottom: 2px solid var(--sklearn-color-text-on-default-background);\n",
       "  flex-grow: 1;\n",
       "}\n",
       "\n",
       "#sk-container-id-3 div.sk-parallel {\n",
       "  display: flex;\n",
       "  align-items: stretch;\n",
       "  justify-content: center;\n",
       "  background-color: var(--sklearn-color-background);\n",
       "  position: relative;\n",
       "}\n",
       "\n",
       "#sk-container-id-3 div.sk-parallel-item {\n",
       "  display: flex;\n",
       "  flex-direction: column;\n",
       "}\n",
       "\n",
       "#sk-container-id-3 div.sk-parallel-item:first-child::after {\n",
       "  align-self: flex-end;\n",
       "  width: 50%;\n",
       "}\n",
       "\n",
       "#sk-container-id-3 div.sk-parallel-item:last-child::after {\n",
       "  align-self: flex-start;\n",
       "  width: 50%;\n",
       "}\n",
       "\n",
       "#sk-container-id-3 div.sk-parallel-item:only-child::after {\n",
       "  width: 0;\n",
       "}\n",
       "\n",
       "/* Serial-specific style estimator block */\n",
       "\n",
       "#sk-container-id-3 div.sk-serial {\n",
       "  display: flex;\n",
       "  flex-direction: column;\n",
       "  align-items: center;\n",
       "  background-color: var(--sklearn-color-background);\n",
       "  padding-right: 1em;\n",
       "  padding-left: 1em;\n",
       "}\n",
       "\n",
       "\n",
       "/* Toggleable style: style used for estimator/Pipeline/ColumnTransformer box that is\n",
       "clickable and can be expanded/collapsed.\n",
       "- Pipeline and ColumnTransformer use this feature and define the default style\n",
       "- Estimators will overwrite some part of the style using the `sk-estimator` class\n",
       "*/\n",
       "\n",
       "/* Pipeline and ColumnTransformer style (default) */\n",
       "\n",
       "#sk-container-id-3 div.sk-toggleable {\n",
       "  /* Default theme specific background. It is overwritten whether we have a\n",
       "  specific estimator or a Pipeline/ColumnTransformer */\n",
       "  background-color: var(--sklearn-color-background);\n",
       "}\n",
       "\n",
       "/* Toggleable label */\n",
       "#sk-container-id-3 label.sk-toggleable__label {\n",
       "  cursor: pointer;\n",
       "  display: block;\n",
       "  width: 100%;\n",
       "  margin-bottom: 0;\n",
       "  padding: 0.5em;\n",
       "  box-sizing: border-box;\n",
       "  text-align: center;\n",
       "}\n",
       "\n",
       "#sk-container-id-3 label.sk-toggleable__label-arrow:before {\n",
       "  /* Arrow on the left of the label */\n",
       "  content: \"▸\";\n",
       "  float: left;\n",
       "  margin-right: 0.25em;\n",
       "  color: var(--sklearn-color-icon);\n",
       "}\n",
       "\n",
       "#sk-container-id-3 label.sk-toggleable__label-arrow:hover:before {\n",
       "  color: var(--sklearn-color-text);\n",
       "}\n",
       "\n",
       "/* Toggleable content - dropdown */\n",
       "\n",
       "#sk-container-id-3 div.sk-toggleable__content {\n",
       "  max-height: 0;\n",
       "  max-width: 0;\n",
       "  overflow: hidden;\n",
       "  text-align: left;\n",
       "  /* unfitted */\n",
       "  background-color: var(--sklearn-color-unfitted-level-0);\n",
       "}\n",
       "\n",
       "#sk-container-id-3 div.sk-toggleable__content.fitted {\n",
       "  /* fitted */\n",
       "  background-color: var(--sklearn-color-fitted-level-0);\n",
       "}\n",
       "\n",
       "#sk-container-id-3 div.sk-toggleable__content pre {\n",
       "  margin: 0.2em;\n",
       "  border-radius: 0.25em;\n",
       "  color: var(--sklearn-color-text);\n",
       "  /* unfitted */\n",
       "  background-color: var(--sklearn-color-unfitted-level-0);\n",
       "}\n",
       "\n",
       "#sk-container-id-3 div.sk-toggleable__content.fitted pre {\n",
       "  /* unfitted */\n",
       "  background-color: var(--sklearn-color-fitted-level-0);\n",
       "}\n",
       "\n",
       "#sk-container-id-3 input.sk-toggleable__control:checked~div.sk-toggleable__content {\n",
       "  /* Expand drop-down */\n",
       "  max-height: 200px;\n",
       "  max-width: 100%;\n",
       "  overflow: auto;\n",
       "}\n",
       "\n",
       "#sk-container-id-3 input.sk-toggleable__control:checked~label.sk-toggleable__label-arrow:before {\n",
       "  content: \"▾\";\n",
       "}\n",
       "\n",
       "/* Pipeline/ColumnTransformer-specific style */\n",
       "\n",
       "#sk-container-id-3 div.sk-label input.sk-toggleable__control:checked~label.sk-toggleable__label {\n",
       "  color: var(--sklearn-color-text);\n",
       "  background-color: var(--sklearn-color-unfitted-level-2);\n",
       "}\n",
       "\n",
       "#sk-container-id-3 div.sk-label.fitted input.sk-toggleable__control:checked~label.sk-toggleable__label {\n",
       "  background-color: var(--sklearn-color-fitted-level-2);\n",
       "}\n",
       "\n",
       "/* Estimator-specific style */\n",
       "\n",
       "/* Colorize estimator box */\n",
       "#sk-container-id-3 div.sk-estimator input.sk-toggleable__control:checked~label.sk-toggleable__label {\n",
       "  /* unfitted */\n",
       "  background-color: var(--sklearn-color-unfitted-level-2);\n",
       "}\n",
       "\n",
       "#sk-container-id-3 div.sk-estimator.fitted input.sk-toggleable__control:checked~label.sk-toggleable__label {\n",
       "  /* fitted */\n",
       "  background-color: var(--sklearn-color-fitted-level-2);\n",
       "}\n",
       "\n",
       "#sk-container-id-3 div.sk-label label.sk-toggleable__label,\n",
       "#sk-container-id-3 div.sk-label label {\n",
       "  /* The background is the default theme color */\n",
       "  color: var(--sklearn-color-text-on-default-background);\n",
       "}\n",
       "\n",
       "/* On hover, darken the color of the background */\n",
       "#sk-container-id-3 div.sk-label:hover label.sk-toggleable__label {\n",
       "  color: var(--sklearn-color-text);\n",
       "  background-color: var(--sklearn-color-unfitted-level-2);\n",
       "}\n",
       "\n",
       "/* Label box, darken color on hover, fitted */\n",
       "#sk-container-id-3 div.sk-label.fitted:hover label.sk-toggleable__label.fitted {\n",
       "  color: var(--sklearn-color-text);\n",
       "  background-color: var(--sklearn-color-fitted-level-2);\n",
       "}\n",
       "\n",
       "/* Estimator label */\n",
       "\n",
       "#sk-container-id-3 div.sk-label label {\n",
       "  font-family: monospace;\n",
       "  font-weight: bold;\n",
       "  display: inline-block;\n",
       "  line-height: 1.2em;\n",
       "}\n",
       "\n",
       "#sk-container-id-3 div.sk-label-container {\n",
       "  text-align: center;\n",
       "}\n",
       "\n",
       "/* Estimator-specific */\n",
       "#sk-container-id-3 div.sk-estimator {\n",
       "  font-family: monospace;\n",
       "  border: 1px dotted var(--sklearn-color-border-box);\n",
       "  border-radius: 0.25em;\n",
       "  box-sizing: border-box;\n",
       "  margin-bottom: 0.5em;\n",
       "  /* unfitted */\n",
       "  background-color: var(--sklearn-color-unfitted-level-0);\n",
       "}\n",
       "\n",
       "#sk-container-id-3 div.sk-estimator.fitted {\n",
       "  /* fitted */\n",
       "  background-color: var(--sklearn-color-fitted-level-0);\n",
       "}\n",
       "\n",
       "/* on hover */\n",
       "#sk-container-id-3 div.sk-estimator:hover {\n",
       "  /* unfitted */\n",
       "  background-color: var(--sklearn-color-unfitted-level-2);\n",
       "}\n",
       "\n",
       "#sk-container-id-3 div.sk-estimator.fitted:hover {\n",
       "  /* fitted */\n",
       "  background-color: var(--sklearn-color-fitted-level-2);\n",
       "}\n",
       "\n",
       "/* Specification for estimator info (e.g. \"i\" and \"?\") */\n",
       "\n",
       "/* Common style for \"i\" and \"?\" */\n",
       "\n",
       ".sk-estimator-doc-link,\n",
       "a:link.sk-estimator-doc-link,\n",
       "a:visited.sk-estimator-doc-link {\n",
       "  float: right;\n",
       "  font-size: smaller;\n",
       "  line-height: 1em;\n",
       "  font-family: monospace;\n",
       "  background-color: var(--sklearn-color-background);\n",
       "  border-radius: 1em;\n",
       "  height: 1em;\n",
       "  width: 1em;\n",
       "  text-decoration: none !important;\n",
       "  margin-left: 1ex;\n",
       "  /* unfitted */\n",
       "  border: var(--sklearn-color-unfitted-level-1) 1pt solid;\n",
       "  color: var(--sklearn-color-unfitted-level-1);\n",
       "}\n",
       "\n",
       ".sk-estimator-doc-link.fitted,\n",
       "a:link.sk-estimator-doc-link.fitted,\n",
       "a:visited.sk-estimator-doc-link.fitted {\n",
       "  /* fitted */\n",
       "  border: var(--sklearn-color-fitted-level-1) 1pt solid;\n",
       "  color: var(--sklearn-color-fitted-level-1);\n",
       "}\n",
       "\n",
       "/* On hover */\n",
       "div.sk-estimator:hover .sk-estimator-doc-link:hover,\n",
       ".sk-estimator-doc-link:hover,\n",
       "div.sk-label-container:hover .sk-estimator-doc-link:hover,\n",
       ".sk-estimator-doc-link:hover {\n",
       "  /* unfitted */\n",
       "  background-color: var(--sklearn-color-unfitted-level-3);\n",
       "  color: var(--sklearn-color-background);\n",
       "  text-decoration: none;\n",
       "}\n",
       "\n",
       "div.sk-estimator.fitted:hover .sk-estimator-doc-link.fitted:hover,\n",
       ".sk-estimator-doc-link.fitted:hover,\n",
       "div.sk-label-container:hover .sk-estimator-doc-link.fitted:hover,\n",
       ".sk-estimator-doc-link.fitted:hover {\n",
       "  /* fitted */\n",
       "  background-color: var(--sklearn-color-fitted-level-3);\n",
       "  color: var(--sklearn-color-background);\n",
       "  text-decoration: none;\n",
       "}\n",
       "\n",
       "/* Span, style for the box shown on hovering the info icon */\n",
       ".sk-estimator-doc-link span {\n",
       "  display: none;\n",
       "  z-index: 9999;\n",
       "  position: relative;\n",
       "  font-weight: normal;\n",
       "  right: .2ex;\n",
       "  padding: .5ex;\n",
       "  margin: .5ex;\n",
       "  width: min-content;\n",
       "  min-width: 20ex;\n",
       "  max-width: 50ex;\n",
       "  color: var(--sklearn-color-text);\n",
       "  box-shadow: 2pt 2pt 4pt #999;\n",
       "  /* unfitted */\n",
       "  background: var(--sklearn-color-unfitted-level-0);\n",
       "  border: .5pt solid var(--sklearn-color-unfitted-level-3);\n",
       "}\n",
       "\n",
       ".sk-estimator-doc-link.fitted span {\n",
       "  /* fitted */\n",
       "  background: var(--sklearn-color-fitted-level-0);\n",
       "  border: var(--sklearn-color-fitted-level-3);\n",
       "}\n",
       "\n",
       ".sk-estimator-doc-link:hover span {\n",
       "  display: block;\n",
       "}\n",
       "\n",
       "/* \"?\"-specific style due to the `<a>` HTML tag */\n",
       "\n",
       "#sk-container-id-3 a.estimator_doc_link {\n",
       "  float: right;\n",
       "  font-size: 1rem;\n",
       "  line-height: 1em;\n",
       "  font-family: monospace;\n",
       "  background-color: var(--sklearn-color-background);\n",
       "  border-radius: 1rem;\n",
       "  height: 1rem;\n",
       "  width: 1rem;\n",
       "  text-decoration: none;\n",
       "  /* unfitted */\n",
       "  color: var(--sklearn-color-unfitted-level-1);\n",
       "  border: var(--sklearn-color-unfitted-level-1) 1pt solid;\n",
       "}\n",
       "\n",
       "#sk-container-id-3 a.estimator_doc_link.fitted {\n",
       "  /* fitted */\n",
       "  border: var(--sklearn-color-fitted-level-1) 1pt solid;\n",
       "  color: var(--sklearn-color-fitted-level-1);\n",
       "}\n",
       "\n",
       "/* On hover */\n",
       "#sk-container-id-3 a.estimator_doc_link:hover {\n",
       "  /* unfitted */\n",
       "  background-color: var(--sklearn-color-unfitted-level-3);\n",
       "  color: var(--sklearn-color-background);\n",
       "  text-decoration: none;\n",
       "}\n",
       "\n",
       "#sk-container-id-3 a.estimator_doc_link.fitted:hover {\n",
       "  /* fitted */\n",
       "  background-color: var(--sklearn-color-fitted-level-3);\n",
       "}\n",
       "</style><div id=\"sk-container-id-3\" class=\"sk-top-container\"><div class=\"sk-text-repr-fallback\"><pre>XGBClassifier(base_score=None, booster=None, callbacks=None,\n",
       "              colsample_bylevel=None, colsample_bynode=None,\n",
       "              colsample_bytree=None, device=None, early_stopping_rounds=None,\n",
       "              enable_categorical=False, eval_metric=None, feature_types=None,\n",
       "              gamma=None, grow_policy=None, importance_type=None,\n",
       "              interaction_constraints=None, learning_rate=None, max_bin=None,\n",
       "              max_cat_threshold=None, max_cat_to_onehot=None,\n",
       "              max_delta_step=None, max_depth=3, max_leaves=None,\n",
       "              min_child_weight=None, missing=nan, monotone_constraints=None,\n",
       "              multi_strategy=None, n_estimators=None, n_jobs=None,\n",
       "              num_parallel_tree=None, objective=&#x27;multi:softprob&#x27;, ...)</pre><b>In a Jupyter environment, please rerun this cell to show the HTML representation or trust the notebook. <br />On GitHub, the HTML representation is unable to render, please try loading this page with nbviewer.org.</b></div><div class=\"sk-container\" hidden><div class=\"sk-item\"><div class=\"sk-estimator fitted sk-toggleable\"><input class=\"sk-toggleable__control sk-hidden--visually\" id=\"sk-estimator-id-3\" type=\"checkbox\" checked><label for=\"sk-estimator-id-3\" class=\"sk-toggleable__label fitted sk-toggleable__label-arrow fitted\">&nbsp;XGBClassifier<span class=\"sk-estimator-doc-link fitted\">i<span>Fitted</span></span></label><div class=\"sk-toggleable__content fitted\"><pre>XGBClassifier(base_score=None, booster=None, callbacks=None,\n",
       "              colsample_bylevel=None, colsample_bynode=None,\n",
       "              colsample_bytree=None, device=None, early_stopping_rounds=None,\n",
       "              enable_categorical=False, eval_metric=None, feature_types=None,\n",
       "              gamma=None, grow_policy=None, importance_type=None,\n",
       "              interaction_constraints=None, learning_rate=None, max_bin=None,\n",
       "              max_cat_threshold=None, max_cat_to_onehot=None,\n",
       "              max_delta_step=None, max_depth=3, max_leaves=None,\n",
       "              min_child_weight=None, missing=nan, monotone_constraints=None,\n",
       "              multi_strategy=None, n_estimators=None, n_jobs=None,\n",
       "              num_parallel_tree=None, objective=&#x27;multi:softprob&#x27;, ...)</pre></div> </div></div></div></div>"
      ],
      "text/plain": [
       "XGBClassifier(base_score=None, booster=None, callbacks=None,\n",
       "              colsample_bylevel=None, colsample_bynode=None,\n",
       "              colsample_bytree=None, device=None, early_stopping_rounds=None,\n",
       "              enable_categorical=False, eval_metric=None, feature_types=None,\n",
       "              gamma=None, grow_policy=None, importance_type=None,\n",
       "              interaction_constraints=None, learning_rate=None, max_bin=None,\n",
       "              max_cat_threshold=None, max_cat_to_onehot=None,\n",
       "              max_delta_step=None, max_depth=3, max_leaves=None,\n",
       "              min_child_weight=None, missing=nan, monotone_constraints=None,\n",
       "              multi_strategy=None, n_estimators=None, n_jobs=None,\n",
       "              num_parallel_tree=None, objective='multi:softprob', ...)"
      ]
     },
     "execution_count": 19,
     "metadata": {},
     "output_type": "execute_result"
    }
   ],
   "source": [
    "mdl = xgb.XGBClassifier(random_state=117, max_depth=3)\n",
    "mdl.fit(X_train, y_train)"
   ]
  },
  {
   "cell_type": "code",
   "execution_count": 35,
   "metadata": {},
   "outputs": [
    {
     "data": {
      "text/plain": [
       "0.9583333333333334"
      ]
     },
     "metadata": {},
     "output_type": "display_data"
    },
    {
     "data": {
      "text/plain": [
       "np.float64(0.9652777777777778)"
      ]
     },
     "metadata": {},
     "output_type": "display_data"
    },
    {
     "data": {
      "text/plain": [
       "np.float64(0.9583333333333334)"
      ]
     },
     "metadata": {},
     "output_type": "display_data"
    },
    {
     "data": {
      "text/plain": [
       "np.float64(0.9593214756258236)"
      ]
     },
     "metadata": {},
     "output_type": "display_data"
    }
   ],
   "source": [
    "pred_main = mdl.predict(X_test)\n",
    "accuracy = accuracy_score(y_test, pred_main)\n",
    "precision = precision_score(y_test, pred_main, average='weighted')\n",
    "recall = recall_score(y_test, pred_main, average='weighted')\n",
    "f1 = f1_score(y_test, pred_main, average='weighted')\n",
    "display(accuracy)\n",
    "display(precision)\n",
    "display(recall)\n",
    "display(f1)"
   ]
  },
  {
   "cell_type": "code",
   "execution_count": 41,
   "metadata": {},
   "outputs": [
    {
     "data": {
      "image/png": "[encoded data removed]",
      "text/plain": [
       "<Figure size 640x480 with 1 Axes>"
      ]
     },
     "metadata": {},
     "output_type": "display_data"
    }
   ],
   "source": [
    "feat = mdl.feature_importances_\n",
    "\n",
    "plt.barh(df.drop(columns=['wine']).columns, feat, color='skyblue', label='Main')\n",
    "plt.xlabel(\"Feature Importance\")\n",
    "plt.show()"
   ]
  },
  {
   "cell_type": "code",
   "execution_count": 42,
   "metadata": {},
   "outputs": [
    {
     "data": {
      "text/plain": [
       "<Axes: >"
      ]
     },
     "execution_count": 42,
     "metadata": {},
     "output_type": "execute_result"
    },
    {
     "data": {
      "image/png": "[encoded data removed]",
      "text/plain": [
       "<Figure size 640x480 with 2 Axes>"
      ]
     },
     "metadata": {},
     "output_type": "display_data"
    }
   ],
   "source": [
    "cm = confusion_matrix(y_test, pred_main)\n",
    "sns.heatmap(cm, annot=True, cmap='crest')"
   ]
  },
  {
   "cell_type": "code",
   "execution_count": 49,
   "metadata": {},
   "outputs": [],
   "source": [
    "pred_holdout = mdl.predict(df_holdout)\n",
    "pred_data = pd.DataFrame(pred_holdout)\n",
    "pred_data.to_csv('./ICE-1/Ezekial_Curran-ice1-predictions.csv', index=False)"
   ]
  },
  {
   "cell_type": "code",
   "execution_count": null,
   "metadata": {},
   "outputs": [
    {
     "data": {
      "text/plain": [
       "['ICE-1\\\\y_test_oodly_good.pkl']"
      ]
     },
     "execution_count": 14,
     "metadata": {},
     "output_type": "execute_result"
    }
   ],
   "source": [
    "# joblib.dump(mdl, 'ICE-1\\\\oddly_good_model.pkl')\n",
    "# joblib.dump(X_train, 'ICE-1\\\\X_train_oodly_good.pkl')\n",
    "# joblib.dump(X_test, 'ICE-1\\\\X_test_oodly_good.pkl')\n",
    "# joblib.dump(y_train, 'ICE-1\\\\y_train_oodly_good.pkl')\n",
    "# joblib.dump(y_test, 'ICE-1\\\\y_test_oodly_good.pkl')"
   ]
  },
  {
   "cell_type": "markdown",
   "metadata": {},
   "source": [
    "# A Composition of many random states"
   ]
  },
  {
   "cell_type": "code",
   "execution_count": 57,
   "metadata": {},
   "outputs": [
    {
     "data": {
      "text/plain": [
       "Index(['alcohol', 'malic_acid', 'ash', 'alcalinity_of_ash', 'magnesium',\n",
       "       'total_phenols', 'flavanoids', 'nonflavanoid_phenols',\n",
       "       'proanthocyanins', 'color_intensity', 'hue', 'od', 'proline', 'wine'],\n",
       "      dtype='object')"
      ]
     },
     "execution_count": 57,
     "metadata": {},
     "output_type": "execute_result"
    }
   ],
   "source": [
    "df.columns"
   ]
  },
  {
   "cell_type": "code",
   "execution_count": 69,
   "metadata": {},
   "outputs": [],
   "source": [
    "rdm_mdls = []\n",
    "rdm_combis = []\n",
    "rdm_nmbrs = []\n",
    "feat_vals = pd.DataFrame(columns=['Random Split', 'Random Model', 'alcohol', 'malic_acid', 'ash', 'alcalinity_of_ash', 'magnesium', 'total_phenols', 'flavanoids', 'nonflavanoid_phenols', 'proanthocyanins', 'color_intensity', 'hue', 'od', 'proline'])\n",
    "rdm_stats = pd.DataFrame(columns=['Random Split', 'Random Model', 'Accuracy', 'F1_Score', 'Recall_Score', 'Precision_Score'])\n",
    "\n",
    "# DO NOT LET THE RANGE GO HIGH, REMEMBER n!, n over 150 is undefined because it is too big, limit to at most 100\n",
    "# \n",
    "for i in range(120):\n",
    "    ran_int = random.randint(1, 10000)\n",
    "    rdm_nmbrs.append(ran_int)\n",
    "\n",
    "for combi in itertools.combinations(rdm_nmbrs, 2):\n",
    "    rdm_combis.append(list(combi))"
   ]
  },
  {
   "cell_type": "code",
   "execution_count": 70,
   "metadata": {},
   "outputs": [
    {
     "name": "stderr",
     "output_type": "stream",
     "text": [
      "C:\\Users\\Zhenterigone\\AppData\\Local\\Temp\\ipykernel_17512\\121759865.py:18: FutureWarning: The behavior of DataFrame concatenation with empty or all-NA entries is deprecated. In a future version, this will no longer exclude empty or all-NA columns when determining the result dtypes. To retain the old behavior, exclude the relevant entries before the concat operation.\n",
      "  feat_vals = pd.concat([feat_vals, feat_tmp], ignore_index=True)\n",
      "C:\\Users\\Zhenterigone\\AppData\\Local\\Temp\\ipykernel_17512\\121759865.py:20: FutureWarning: The behavior of DataFrame concatenation with empty or all-NA entries is deprecated. In a future version, this will no longer exclude empty or all-NA columns when determining the result dtypes. To retain the old behavior, exclude the relevant entries before the concat operation.\n",
      "  rdm_stats = pd.concat([rdm_stats, new_data], ignore_index=True)\n"
     ]
    }
   ],
   "source": [
    "X_rdm = df.copy().drop(columns=['wine'])\n",
    "y_rdm = df['wine']\n",
    "\n",
    "for i in range(0, len(rdm_combis)):\n",
    "    combi_model = xgb.XGBClassifier(random_state=rdm_combis[i][1], max_depth=3)\n",
    "    X_tmp_trn, X_tmp_tst, y_tmp_trn, y_tmp_tst = train_test_split(X_rdm, y_rdm, test_size=0.2, random_state=rdm_combis[i][0])\n",
    "\n",
    "    combi_model.fit(X_tmp_trn, y_tmp_trn)\n",
    "    rdm_mdls.append(combi_model)\n",
    "    pred = combi_model.predict(X_tmp_tst)\n",
    "    accuracy_tmp = accuracy_score(y_tmp_tst, pred)\n",
    "    precision_tmp = precision_score(y_tmp_tst, pred, average='weighted')\n",
    "    recall_tmp = recall_score(y_tmp_tst, pred, average='weighted')\n",
    "    f1_tmp = f1_score(y_tmp_tst, pred, average='weighted')\n",
    "    mdl_feats = combi_model.feature_importances_\n",
    "\n",
    "    feat_tmp = pd.DataFrame([rdm_combis[i][:2] + list(mdl_feats)], columns=['Random Split', 'Random Model', 'alcohol', 'malic_acid', 'ash', 'alcalinity_of_ash', 'magnesium', 'total_phenols', 'flavanoids', 'nonflavanoid_phenols', 'proanthocyanins', 'color_intensity', 'hue', 'od', 'proline'])\n",
    "    feat_vals = pd.concat([feat_vals, feat_tmp], ignore_index=True)\n",
    "    new_data = pd.DataFrame([[rdm_combis[i][0], rdm_combis[i][1], accuracy_tmp, f1_tmp, recall_tmp, precision_tmp]], columns=['Random Split', 'Random Model', 'Accuracy', 'F1_Score', 'Recall_Score', 'Precision_Score'])\n",
    "    rdm_stats = pd.concat([rdm_stats, new_data], ignore_index=True)"
   ]
  },
  {
   "cell_type": "code",
   "execution_count": 74,
   "metadata": {},
   "outputs": [
    {
     "data": {
      "application/vnd.microsoft.datawrangler.viewer.v0+json": {
       "columns": [
        {
         "name": "index",
         "rawType": "int64",
         "type": "integer"
        },
        {
         "name": "Random Split",
         "rawType": "object",
         "type": "unknown"
        },
        {
         "name": "Random Model",
         "rawType": "object",
         "type": "unknown"
        },
        {
         "name": "Accuracy",
         "rawType": "float64",
         "type": "float"
        },
        {
         "name": "F1_Score",
         "rawType": "float64",
         "type": "float"
        },
        {
         "name": "Recall_Score",
         "rawType": "float64",
         "type": "float"
        },
        {
         "name": "Precision_Score",
         "rawType": "float64",
         "type": "float"
        }
       ],
       "conversionMethod": "pd.DataFrame",
       "ref": "bf519feb-b7ea-4a77-8efe-da6a550d8703",
       "rows": [
        [
         "7135",
         "6449",
         "2459",
         "0.9166666666666666",
         "0.9178266178266178",
         "0.9166666666666666",
         "0.9322916666666666"
        ],
        [
         "7136",
         "6449",
         "2607",
         "0.9166666666666666",
         "0.9178266178266178",
         "0.9166666666666666",
         "0.9322916666666666"
        ],
        [
         "7137",
         "279",
         "2459",
         "0.9583333333333334",
         "0.958943833943834",
         "0.9583333333333334",
         "0.9642857142857143"
        ],
        [
         "7138",
         "279",
         "2607",
         "0.9583333333333334",
         "0.958943833943834",
         "0.9583333333333334",
         "0.9642857142857143"
        ],
        [
         "7139",
         "2459",
         "2607",
         "0.9583333333333334",
         "0.9588164251207729",
         "0.9583333333333334",
         "0.9635416666666666"
        ]
       ],
       "shape": {
        "columns": 6,
        "rows": 5
       }
      },
      "text/html": [
       "<div>\n",
       "<style scoped>\n",
       "    .dataframe tbody tr th:only-of-type {\n",
       "        vertical-align: middle;\n",
       "    }\n",
       "\n",
       "    .dataframe tbody tr th {\n",
       "        vertical-align: top;\n",
       "    }\n",
       "\n",
       "    .dataframe thead th {\n",
       "        text-align: right;\n",
       "    }\n",
       "</style>\n",
       "<table border=\"1\" class=\"dataframe\">\n",
       "  <thead>\n",
       "    <tr style=\"text-align: right;\">\n",
       "      <th></th>\n",
       "      <th>Random Split</th>\n",
       "      <th>Random Model</th>\n",
       "      <th>Accuracy</th>\n",
       "      <th>F1_Score</th>\n",
       "      <th>Recall_Score</th>\n",
       "      <th>Precision_Score</th>\n",
       "    </tr>\n",
       "  </thead>\n",
       "  <tbody>\n",
       "    <tr>\n",
       "      <th>7135</th>\n",
       "      <td>6449</td>\n",
       "      <td>2459</td>\n",
       "      <td>0.916667</td>\n",
       "      <td>0.917827</td>\n",
       "      <td>0.916667</td>\n",
       "      <td>0.932292</td>\n",
       "    </tr>\n",
       "    <tr>\n",
       "      <th>7136</th>\n",
       "      <td>6449</td>\n",
       "      <td>2607</td>\n",
       "      <td>0.916667</td>\n",
       "      <td>0.917827</td>\n",
       "      <td>0.916667</td>\n",
       "      <td>0.932292</td>\n",
       "    </tr>\n",
       "    <tr>\n",
       "      <th>7137</th>\n",
       "      <td>279</td>\n",
       "      <td>2459</td>\n",
       "      <td>0.958333</td>\n",
       "      <td>0.958944</td>\n",
       "      <td>0.958333</td>\n",
       "      <td>0.964286</td>\n",
       "    </tr>\n",
       "    <tr>\n",
       "      <th>7138</th>\n",
       "      <td>279</td>\n",
       "      <td>2607</td>\n",
       "      <td>0.958333</td>\n",
       "      <td>0.958944</td>\n",
       "      <td>0.958333</td>\n",
       "      <td>0.964286</td>\n",
       "    </tr>\n",
       "    <tr>\n",
       "      <th>7139</th>\n",
       "      <td>2459</td>\n",
       "      <td>2607</td>\n",
       "      <td>0.958333</td>\n",
       "      <td>0.958816</td>\n",
       "      <td>0.958333</td>\n",
       "      <td>0.963542</td>\n",
       "    </tr>\n",
       "  </tbody>\n",
       "</table>\n",
       "</div>"
      ],
      "text/plain": [
       "     Random Split Random Model  Accuracy  F1_Score  Recall_Score  \\\n",
       "7135         6449         2459  0.916667  0.917827      0.916667   \n",
       "7136         6449         2607  0.916667  0.917827      0.916667   \n",
       "7137          279         2459  0.958333  0.958944      0.958333   \n",
       "7138          279         2607  0.958333  0.958944      0.958333   \n",
       "7139         2459         2607  0.958333  0.958816      0.958333   \n",
       "\n",
       "      Precision_Score  \n",
       "7135         0.932292  \n",
       "7136         0.932292  \n",
       "7137         0.964286  \n",
       "7138         0.964286  \n",
       "7139         0.963542  "
      ]
     },
     "execution_count": 74,
     "metadata": {},
     "output_type": "execute_result"
    }
   ],
   "source": [
    "rdm_stats.tail(5)"
   ]
  },
  {
   "cell_type": "code",
   "execution_count": 72,
   "metadata": {},
   "outputs": [],
   "source": [
    "res_columns = ['Accuracy', 'F1_Score', 'Recall_Score', 'Precision_Score']\n",
    "result = rdm_stats[res_columns].agg(['median', 'mean', 'min', 'max'])"
   ]
  },
  {
   "cell_type": "code",
   "execution_count": 73,
   "metadata": {},
   "outputs": [
    {
     "data": {
      "application/vnd.microsoft.datawrangler.viewer.v0+json": {
       "columns": [
        {
         "name": "index",
         "rawType": "object",
         "type": "string"
        },
        {
         "name": "Accuracy",
         "rawType": "float64",
         "type": "float"
        },
        {
         "name": "F1_Score",
         "rawType": "float64",
         "type": "float"
        },
        {
         "name": "Recall_Score",
         "rawType": "float64",
         "type": "float"
        },
        {
         "name": "Precision_Score",
         "rawType": "float64",
         "type": "float"
        }
       ],
       "conversionMethod": "pd.DataFrame",
       "ref": "af8f347a-86a0-4565-84f0-5878e41e085e",
       "rows": [
        [
         "median",
         "0.9583333333333334",
         "0.9581196581196582",
         "0.9583333333333334",
         "0.9629629629629629"
        ],
        [
         "mean",
         "0.9445786647992529",
         "0.9445174234200227",
         "0.9445786647992529",
         "0.9528584120452117"
        ],
        [
         "min",
         "0.75",
         "0.7559027777777779",
         "0.75",
         "0.8108465608465609"
        ],
        [
         "max",
         "1.0",
         "1.0",
         "1.0",
         "1.0"
        ]
       ],
       "shape": {
        "columns": 4,
        "rows": 4
       }
      },
      "text/html": [
       "<div>\n",
       "<style scoped>\n",
       "    .dataframe tbody tr th:only-of-type {\n",
       "        vertical-align: middle;\n",
       "    }\n",
       "\n",
       "    .dataframe tbody tr th {\n",
       "        vertical-align: top;\n",
       "    }\n",
       "\n",
       "    .dataframe thead th {\n",
       "        text-align: right;\n",
       "    }\n",
       "</style>\n",
       "<table border=\"1\" class=\"dataframe\">\n",
       "  <thead>\n",
       "    <tr style=\"text-align: right;\">\n",
       "      <th></th>\n",
       "      <th>Accuracy</th>\n",
       "      <th>F1_Score</th>\n",
       "      <th>Recall_Score</th>\n",
       "      <th>Precision_Score</th>\n",
       "    </tr>\n",
       "  </thead>\n",
       "  <tbody>\n",
       "    <tr>\n",
       "      <th>median</th>\n",
       "      <td>0.958333</td>\n",
       "      <td>0.958120</td>\n",
       "      <td>0.958333</td>\n",
       "      <td>0.962963</td>\n",
       "    </tr>\n",
       "    <tr>\n",
       "      <th>mean</th>\n",
       "      <td>0.944579</td>\n",
       "      <td>0.944517</td>\n",
       "      <td>0.944579</td>\n",
       "      <td>0.952858</td>\n",
       "    </tr>\n",
       "    <tr>\n",
       "      <th>min</th>\n",
       "      <td>0.750000</td>\n",
       "      <td>0.755903</td>\n",
       "      <td>0.750000</td>\n",
       "      <td>0.810847</td>\n",
       "    </tr>\n",
       "    <tr>\n",
       "      <th>max</th>\n",
       "      <td>1.000000</td>\n",
       "      <td>1.000000</td>\n",
       "      <td>1.000000</td>\n",
       "      <td>1.000000</td>\n",
       "    </tr>\n",
       "  </tbody>\n",
       "</table>\n",
       "</div>"
      ],
      "text/plain": [
       "        Accuracy  F1_Score  Recall_Score  Precision_Score\n",
       "median  0.958333  0.958120      0.958333         0.962963\n",
       "mean    0.944579  0.944517      0.944579         0.952858\n",
       "min     0.750000  0.755903      0.750000         0.810847\n",
       "max     1.000000  1.000000      1.000000         1.000000"
      ]
     },
     "metadata": {},
     "output_type": "display_data"
    }
   ],
   "source": [
    "display(result)"
   ]
  },
  {
   "cell_type": "code",
   "execution_count": 75,
   "metadata": {},
   "outputs": [
    {
     "name": "stdout",
     "output_type": "stream",
     "text": [
      "<class 'pandas.core.frame.DataFrame'>\n",
      "RangeIndex: 7140 entries, 0 to 7139\n",
      "Data columns (total 15 columns):\n",
      " #   Column                Non-Null Count  Dtype  \n",
      "---  ------                --------------  -----  \n",
      " 0   Random Split          7140 non-null   object \n",
      " 1   Random Model          7140 non-null   object \n",
      " 2   alcohol               7140 non-null   float32\n",
      " 3   malic_acid            7140 non-null   float32\n",
      " 4   ash                   7140 non-null   float32\n",
      " 5   alcalinity_of_ash     7140 non-null   float32\n",
      " 6   magnesium             7140 non-null   float32\n",
      " 7   total_phenols         7140 non-null   float32\n",
      " 8   flavanoids            7140 non-null   float32\n",
      " 9   nonflavanoid_phenols  7140 non-null   float32\n",
      " 10  proanthocyanins       7140 non-null   float32\n",
      " 11  color_intensity       7140 non-null   float32\n",
      " 12  hue                   7140 non-null   float32\n",
      " 13  od                    7140 non-null   float32\n",
      " 14  proline               7140 non-null   float32\n",
      "dtypes: float32(13), object(2)\n",
      "memory usage: 474.3+ KB\n"
     ]
    }
   ],
   "source": [
    "feat_vals.info()"
   ]
  },
  {
   "cell_type": "code",
   "execution_count": 77,
   "metadata": {},
   "outputs": [],
   "source": [
    "feat_cols = ['alcohol', 'malic_acid', 'ash', 'alcalinity_of_ash', 'magnesium', 'total_phenols', 'flavanoids', 'nonflavanoid_phenols', 'proanthocyanins', 'color_intensity', 'hue', 'od', 'proline']\n",
    "feat_res = feat_vals[feat_cols].agg(['median', 'mean', 'min', 'max'])"
   ]
  },
  {
   "cell_type": "code",
   "execution_count": 78,
   "metadata": {},
   "outputs": [
    {
     "data": {
      "application/vnd.microsoft.datawrangler.viewer.v0+json": {
       "columns": [
        {
         "name": "index",
         "rawType": "object",
         "type": "string"
        },
        {
         "name": "alcohol",
         "rawType": "float32",
         "type": "float"
        },
        {
         "name": "malic_acid",
         "rawType": "float32",
         "type": "float"
        },
        {
         "name": "ash",
         "rawType": "float32",
         "type": "float"
        },
        {
         "name": "alcalinity_of_ash",
         "rawType": "float32",
         "type": "float"
        },
        {
         "name": "magnesium",
         "rawType": "float32",
         "type": "float"
        },
        {
         "name": "total_phenols",
         "rawType": "float32",
         "type": "float"
        },
        {
         "name": "flavanoids",
         "rawType": "float32",
         "type": "float"
        },
        {
         "name": "nonflavanoid_phenols",
         "rawType": "float32",
         "type": "float"
        },
        {
         "name": "proanthocyanins",
         "rawType": "float32",
         "type": "float"
        },
        {
         "name": "color_intensity",
         "rawType": "float32",
         "type": "float"
        },
        {
         "name": "hue",
         "rawType": "float32",
         "type": "float"
        },
        {
         "name": "od",
         "rawType": "float32",
         "type": "float"
        },
        {
         "name": "proline",
         "rawType": "float32",
         "type": "float"
        }
       ],
       "conversionMethod": "pd.DataFrame",
       "ref": "3fa49092-a0e4-4031-b595-9df29cd01bfb",
       "rows": [
        [
         "median",
         "0.029870003",
         "0.011354563",
         "0.008433156",
         "0.008715308",
         "0.031455446",
         "0.01635107",
         "0.1233928",
         "0.0035590716",
         "0.0037800572",
         "0.18059394",
         "0.019447222",
         "0.38786975",
         "0.16250253"
        ],
        [
         "mean",
         "0.032658182",
         "0.017493192",
         "0.014010569",
         "0.01039943",
         "0.03484145",
         "0.02673869",
         "0.15528093",
         "0.005210689",
         "0.006883462",
         "0.18875085",
         "0.026555533",
         "0.31740108",
         "0.16377597"
        ],
        [
         "min",
         "0.0073389844",
         "0.0",
         "0.0",
         "0.0",
         "0.0",
         "0.0",
         "0.04209589",
         "0.0",
         "0.0",
         "0.10581154",
         "0.008383777",
         "0.0",
         "0.06985307"
        ],
        [
         "max",
         "0.17759705",
         "0.12759373",
         "0.17530806",
         "0.04767693",
         "0.104842395",
         "0.117326595",
         "0.35928088",
         "0.027815118",
         "0.20318685",
         "0.32347134",
         "0.109055795",
         "0.6253825",
         "0.250201"
        ]
       ],
       "shape": {
        "columns": 13,
        "rows": 4
       }
      },
      "text/html": [
       "<div>\n",
       "<style scoped>\n",
       "    .dataframe tbody tr th:only-of-type {\n",
       "        vertical-align: middle;\n",
       "    }\n",
       "\n",
       "    .dataframe tbody tr th {\n",
       "        vertical-align: top;\n",
       "    }\n",
       "\n",
       "    .dataframe thead th {\n",
       "        text-align: right;\n",
       "    }\n",
       "</style>\n",
       "<table border=\"1\" class=\"dataframe\">\n",
       "  <thead>\n",
       "    <tr style=\"text-align: right;\">\n",
       "      <th></th>\n",
       "      <th>alcohol</th>\n",
       "      <th>malic_acid</th>\n",
       "      <th>ash</th>\n",
       "      <th>alcalinity_of_ash</th>\n",
       "      <th>magnesium</th>\n",
       "      <th>total_phenols</th>\n",
       "      <th>flavanoids</th>\n",
       "      <th>nonflavanoid_phenols</th>\n",
       "      <th>proanthocyanins</th>\n",
       "      <th>color_intensity</th>\n",
       "      <th>hue</th>\n",
       "      <th>od</th>\n",
       "      <th>proline</th>\n",
       "    </tr>\n",
       "  </thead>\n",
       "  <tbody>\n",
       "    <tr>\n",
       "      <th>median</th>\n",
       "      <td>0.029870</td>\n",
       "      <td>0.011355</td>\n",
       "      <td>0.008433</td>\n",
       "      <td>0.008715</td>\n",
       "      <td>0.031455</td>\n",
       "      <td>0.016351</td>\n",
       "      <td>0.123393</td>\n",
       "      <td>0.003559</td>\n",
       "      <td>0.003780</td>\n",
       "      <td>0.180594</td>\n",
       "      <td>0.019447</td>\n",
       "      <td>0.387870</td>\n",
       "      <td>0.162503</td>\n",
       "    </tr>\n",
       "    <tr>\n",
       "      <th>mean</th>\n",
       "      <td>0.032658</td>\n",
       "      <td>0.017493</td>\n",
       "      <td>0.014011</td>\n",
       "      <td>0.010399</td>\n",
       "      <td>0.034841</td>\n",
       "      <td>0.026739</td>\n",
       "      <td>0.155281</td>\n",
       "      <td>0.005211</td>\n",
       "      <td>0.006883</td>\n",
       "      <td>0.188751</td>\n",
       "      <td>0.026556</td>\n",
       "      <td>0.317401</td>\n",
       "      <td>0.163776</td>\n",
       "    </tr>\n",
       "    <tr>\n",
       "      <th>min</th>\n",
       "      <td>0.007339</td>\n",
       "      <td>0.000000</td>\n",
       "      <td>0.000000</td>\n",
       "      <td>0.000000</td>\n",
       "      <td>0.000000</td>\n",
       "      <td>0.000000</td>\n",
       "      <td>0.042096</td>\n",
       "      <td>0.000000</td>\n",
       "      <td>0.000000</td>\n",
       "      <td>0.105812</td>\n",
       "      <td>0.008384</td>\n",
       "      <td>0.000000</td>\n",
       "      <td>0.069853</td>\n",
       "    </tr>\n",
       "    <tr>\n",
       "      <th>max</th>\n",
       "      <td>0.177597</td>\n",
       "      <td>0.127594</td>\n",
       "      <td>0.175308</td>\n",
       "      <td>0.047677</td>\n",
       "      <td>0.104842</td>\n",
       "      <td>0.117327</td>\n",
       "      <td>0.359281</td>\n",
       "      <td>0.027815</td>\n",
       "      <td>0.203187</td>\n",
       "      <td>0.323471</td>\n",
       "      <td>0.109056</td>\n",
       "      <td>0.625382</td>\n",
       "      <td>0.250201</td>\n",
       "    </tr>\n",
       "  </tbody>\n",
       "</table>\n",
       "</div>"
      ],
      "text/plain": [
       "         alcohol  malic_acid       ash  alcalinity_of_ash  magnesium  \\\n",
       "median  0.029870    0.011355  0.008433           0.008715   0.031455   \n",
       "mean    0.032658    0.017493  0.014011           0.010399   0.034841   \n",
       "min     0.007339    0.000000  0.000000           0.000000   0.000000   \n",
       "max     0.177597    0.127594  0.175308           0.047677   0.104842   \n",
       "\n",
       "        total_phenols  flavanoids  nonflavanoid_phenols  proanthocyanins  \\\n",
       "median       0.016351    0.123393              0.003559         0.003780   \n",
       "mean         0.026739    0.155281              0.005211         0.006883   \n",
       "min          0.000000    0.042096              0.000000         0.000000   \n",
       "max          0.117327    0.359281              0.027815         0.203187   \n",
       "\n",
       "        color_intensity       hue        od   proline  \n",
       "median         0.180594  0.019447  0.387870  0.162503  \n",
       "mean           0.188751  0.026556  0.317401  0.163776  \n",
       "min            0.105812  0.008384  0.000000  0.069853  \n",
       "max            0.323471  0.109056  0.625382  0.250201  "
      ]
     },
     "metadata": {},
     "output_type": "display_data"
    }
   ],
   "source": [
    "display(feat_res)"
   ]
  },
  {
   "cell_type": "code",
   "execution_count": 84,
   "metadata": {},
   "outputs": [],
   "source": [
    "feat_only = feat_vals.copy().drop(columns=['Random Split', 'Random Model'])\n",
    "feat_melted = feat_only.melt(var_name='Feature', value_name='Importance')"
   ]
  },
  {
   "cell_type": "code",
   "execution_count": 85,
   "metadata": {},
   "outputs": [
    {
     "data": {
      "image/png": "[encoded data removed]",
      "text/plain": [
       "<Figure size 1500x1000 with 1 Axes>"
      ]
     },
     "metadata": {},
     "output_type": "display_data"
    }
   ],
   "source": [
    "plt.figure(figsize=(15, 10))\n",
    "sns.boxplot(x='Feature', y='Importance', data=feat_melted)\n",
    "\n",
    "plt.xticks(rotation=45)  # Rotate labels for readability\n",
    "plt.title('Feature Importances')\n",
    "plt.tight_layout()\n",
    "plt.show()"
   ]
  }
 ],
 "metadata": {
  "kernelspec": {
   "display_name": "venv",
   "language": "python",
   "name": "python3"
  },
  "language_info": {
   "codemirror_mode": {
    "name": "ipython",
    "version": 3
   },
   "file_extension": ".py",
   "mimetype": "text/x-python",
   "name": "python",
   "nbconvert_exporter": "python",
   "pygments_lexer": "ipython3",
   "version": "3.12.8"
  }
 },
 "nbformat": 4,
 "nbformat_minor": 2
}
