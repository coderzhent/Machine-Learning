{
 "cells": [
  {
   "cell_type": "markdown",
   "metadata": {},
   "source": [
    "# Case Study 2\n",
    "You've been hired as a junior data scientist for Banco Federal de Financas in Aveiro, Portugal. They just finished a mjaor telemarketing campaign and management was not happy with the results. Your team is to help them create a more targeted campaign through machine learning."
   ]
  },
  {
   "cell_type": "markdown",
   "metadata": {},
   "source": [
    "The stakeholders want to focus on three particularly interested areas:\n",
    "1. Finding interesting customer segments based on their previous marketing campaing.\n",
    "2. Finding a way to identify the types of customers most likely to respond favorably to future marketing campaigns.\n",
    "3. Proving to a skeptical stakeholder that a targeted campaign based on data science will significantly outperform a campaign made up of randomly selected customers.\n"
   ]
  },
  {
   "cell_type": "markdown",
   "metadata": {},
   "source": [
    "# Imports and Dataframe Setup\n",
    "Begin with training the [bank dataset](./Module%202/bank.csv) provided. Things to look for could be data types, ranges, and meanings of each feature from the [data dictionary](./Module%202/bank-dictionary.txt)."
   ]
  },
  {
   "cell_type": "code",
   "execution_count": 73,
   "metadata": {},
   "outputs": [],
   "source": [
    "# Do some dataset analysis\n",
    "import pandas as pd\n",
    "import numpy as np\n",
    "import matplotlib.pyplot as plt\n",
    "import seaborn as sns\n",
    "import itertools\n",
    "import heapq\n",
    "import joblib\n",
    "from IPython.display import display\n",
    "from sklearn import tree\n",
    "from sklearn.tree import DecisionTreeClassifier, plot_tree\n",
    "from sklearn.ensemble import RandomForestClassifier\n",
    "from sklearn.preprocessing import LabelEncoder, MinMaxScaler, OneHotEncoder\n",
    "from sklearn.model_selection import train_test_split\n",
    "from sklearn.metrics import accuracy_score, confusion_matrix, precision_score, recall_score, f1_score\n",
    "from sklearn.compose import ColumnTransformer\n",
    "from sklearn.pipeline import Pipeline"
   ]
  },
  {
   "cell_type": "markdown",
   "metadata": {},
   "source": [
    "Build the dataframes separate from the imports in the case of the need of additional libraries."
   ]
  },
  {
   "cell_type": "code",
   "execution_count": 4,
   "metadata": {},
   "outputs": [],
   "source": [
    "# Build the dataframes\n",
    "df = pd.read_csv('./Module 2/bank.csv')\n",
    "df_test = pd.read_csv('./Module 2/bank_holdout_test.csv')\n",
    "df_mini = pd.read_csv('./Module 2/bank_holdout_test_mini.csv')\n",
    "targets_mini = pd.read_csv('./Module 2/bank_holdout_test_mini_answers.csv')"
   ]
  },
  {
   "cell_type": "code",
   "execution_count": 5,
   "metadata": {},
   "outputs": [
    {
     "name": "stdout",
     "output_type": "stream",
     "text": [
      "<class 'pandas.core.frame.DataFrame'>\n",
      "RangeIndex: 37069 entries, 0 to 37068\n",
      "Data columns (total 20 columns):\n",
      " #   Column          Non-Null Count  Dtype  \n",
      "---  ------          --------------  -----  \n",
      " 0   age             37069 non-null  int64  \n",
      " 1   job             37069 non-null  object \n",
      " 2   marital         37069 non-null  object \n",
      " 3   education       37069 non-null  object \n",
      " 4   default         37069 non-null  object \n",
      " 5   housing         37069 non-null  object \n",
      " 6   loan            37069 non-null  object \n",
      " 7   contact         37069 non-null  object \n",
      " 8   month           37069 non-null  object \n",
      " 9   day_of_week     37069 non-null  object \n",
      " 10  campaign        37069 non-null  int64  \n",
      " 11  pdays           37069 non-null  int64  \n",
      " 12  previous        37069 non-null  int64  \n",
      " 13  poutcome        37069 non-null  object \n",
      " 14  emp.var.rate    37069 non-null  float64\n",
      " 15  cons.price.idx  37069 non-null  float64\n",
      " 16  cons.conf.idx   37069 non-null  float64\n",
      " 17  euribor3m       37069 non-null  float64\n",
      " 18  nr.employed     37069 non-null  float64\n",
      " 19  y               37069 non-null  object \n",
      "dtypes: float64(5), int64(4), object(11)\n",
      "memory usage: 5.7+ MB\n"
     ]
    },
    {
     "data": {
      "text/plain": [
       "None"
      ]
     },
     "metadata": {},
     "output_type": "display_data"
    },
    {
     "data": {
      "text/html": [
       "<div>\n",
       "<style scoped>\n",
       "    .dataframe tbody tr th:only-of-type {\n",
       "        vertical-align: middle;\n",
       "    }\n",
       "\n",
       "    .dataframe tbody tr th {\n",
       "        vertical-align: top;\n",
       "    }\n",
       "\n",
       "    .dataframe thead th {\n",
       "        text-align: right;\n",
       "    }\n",
       "</style>\n",
       "<table border=\"1\" class=\"dataframe\">\n",
       "  <thead>\n",
       "    <tr style=\"text-align: right;\">\n",
       "      <th></th>\n",
       "      <th>age</th>\n",
       "      <th>job</th>\n",
       "      <th>marital</th>\n",
       "      <th>education</th>\n",
       "      <th>default</th>\n",
       "      <th>housing</th>\n",
       "      <th>loan</th>\n",
       "      <th>contact</th>\n",
       "      <th>month</th>\n",
       "      <th>day_of_week</th>\n",
       "      <th>campaign</th>\n",
       "      <th>pdays</th>\n",
       "      <th>previous</th>\n",
       "      <th>poutcome</th>\n",
       "      <th>emp.var.rate</th>\n",
       "      <th>cons.price.idx</th>\n",
       "      <th>cons.conf.idx</th>\n",
       "      <th>euribor3m</th>\n",
       "      <th>nr.employed</th>\n",
       "      <th>y</th>\n",
       "    </tr>\n",
       "  </thead>\n",
       "  <tbody>\n",
       "    <tr>\n",
       "      <th>0</th>\n",
       "      <td>56</td>\n",
       "      <td>housemaid</td>\n",
       "      <td>married</td>\n",
       "      <td>basic.4y</td>\n",
       "      <td>no</td>\n",
       "      <td>no</td>\n",
       "      <td>no</td>\n",
       "      <td>telephone</td>\n",
       "      <td>may</td>\n",
       "      <td>mon</td>\n",
       "      <td>1</td>\n",
       "      <td>999</td>\n",
       "      <td>0</td>\n",
       "      <td>nonexistent</td>\n",
       "      <td>1.1</td>\n",
       "      <td>93.994</td>\n",
       "      <td>-36.4</td>\n",
       "      <td>4.857</td>\n",
       "      <td>5191.0</td>\n",
       "      <td>no</td>\n",
       "    </tr>\n",
       "    <tr>\n",
       "      <th>1</th>\n",
       "      <td>57</td>\n",
       "      <td>services</td>\n",
       "      <td>married</td>\n",
       "      <td>high.school</td>\n",
       "      <td>unknown</td>\n",
       "      <td>no</td>\n",
       "      <td>no</td>\n",
       "      <td>telephone</td>\n",
       "      <td>may</td>\n",
       "      <td>mon</td>\n",
       "      <td>1</td>\n",
       "      <td>999</td>\n",
       "      <td>0</td>\n",
       "      <td>nonexistent</td>\n",
       "      <td>1.1</td>\n",
       "      <td>93.994</td>\n",
       "      <td>-36.4</td>\n",
       "      <td>4.857</td>\n",
       "      <td>5191.0</td>\n",
       "      <td>no</td>\n",
       "    </tr>\n",
       "    <tr>\n",
       "      <th>2</th>\n",
       "      <td>37</td>\n",
       "      <td>services</td>\n",
       "      <td>married</td>\n",
       "      <td>high.school</td>\n",
       "      <td>no</td>\n",
       "      <td>yes</td>\n",
       "      <td>no</td>\n",
       "      <td>telephone</td>\n",
       "      <td>may</td>\n",
       "      <td>mon</td>\n",
       "      <td>1</td>\n",
       "      <td>999</td>\n",
       "      <td>0</td>\n",
       "      <td>nonexistent</td>\n",
       "      <td>1.1</td>\n",
       "      <td>93.994</td>\n",
       "      <td>-36.4</td>\n",
       "      <td>4.857</td>\n",
       "      <td>5191.0</td>\n",
       "      <td>no</td>\n",
       "    </tr>\n",
       "    <tr>\n",
       "      <th>3</th>\n",
       "      <td>40</td>\n",
       "      <td>admin.</td>\n",
       "      <td>married</td>\n",
       "      <td>basic.6y</td>\n",
       "      <td>no</td>\n",
       "      <td>no</td>\n",
       "      <td>no</td>\n",
       "      <td>telephone</td>\n",
       "      <td>may</td>\n",
       "      <td>mon</td>\n",
       "      <td>1</td>\n",
       "      <td>999</td>\n",
       "      <td>0</td>\n",
       "      <td>nonexistent</td>\n",
       "      <td>1.1</td>\n",
       "      <td>93.994</td>\n",
       "      <td>-36.4</td>\n",
       "      <td>4.857</td>\n",
       "      <td>5191.0</td>\n",
       "      <td>no</td>\n",
       "    </tr>\n",
       "    <tr>\n",
       "      <th>4</th>\n",
       "      <td>56</td>\n",
       "      <td>services</td>\n",
       "      <td>married</td>\n",
       "      <td>high.school</td>\n",
       "      <td>no</td>\n",
       "      <td>no</td>\n",
       "      <td>yes</td>\n",
       "      <td>telephone</td>\n",
       "      <td>may</td>\n",
       "      <td>mon</td>\n",
       "      <td>1</td>\n",
       "      <td>999</td>\n",
       "      <td>0</td>\n",
       "      <td>nonexistent</td>\n",
       "      <td>1.1</td>\n",
       "      <td>93.994</td>\n",
       "      <td>-36.4</td>\n",
       "      <td>4.857</td>\n",
       "      <td>5191.0</td>\n",
       "      <td>no</td>\n",
       "    </tr>\n",
       "    <tr>\n",
       "      <th>5</th>\n",
       "      <td>45</td>\n",
       "      <td>services</td>\n",
       "      <td>married</td>\n",
       "      <td>basic.9y</td>\n",
       "      <td>unknown</td>\n",
       "      <td>no</td>\n",
       "      <td>no</td>\n",
       "      <td>telephone</td>\n",
       "      <td>may</td>\n",
       "      <td>mon</td>\n",
       "      <td>1</td>\n",
       "      <td>999</td>\n",
       "      <td>0</td>\n",
       "      <td>nonexistent</td>\n",
       "      <td>1.1</td>\n",
       "      <td>93.994</td>\n",
       "      <td>-36.4</td>\n",
       "      <td>4.857</td>\n",
       "      <td>5191.0</td>\n",
       "      <td>no</td>\n",
       "    </tr>\n",
       "    <tr>\n",
       "      <th>6</th>\n",
       "      <td>59</td>\n",
       "      <td>admin.</td>\n",
       "      <td>married</td>\n",
       "      <td>professional.course</td>\n",
       "      <td>no</td>\n",
       "      <td>no</td>\n",
       "      <td>no</td>\n",
       "      <td>telephone</td>\n",
       "      <td>may</td>\n",
       "      <td>mon</td>\n",
       "      <td>1</td>\n",
       "      <td>999</td>\n",
       "      <td>0</td>\n",
       "      <td>nonexistent</td>\n",
       "      <td>1.1</td>\n",
       "      <td>93.994</td>\n",
       "      <td>-36.4</td>\n",
       "      <td>4.857</td>\n",
       "      <td>5191.0</td>\n",
       "      <td>no</td>\n",
       "    </tr>\n",
       "    <tr>\n",
       "      <th>7</th>\n",
       "      <td>41</td>\n",
       "      <td>blue-collar</td>\n",
       "      <td>married</td>\n",
       "      <td>unknown</td>\n",
       "      <td>unknown</td>\n",
       "      <td>no</td>\n",
       "      <td>no</td>\n",
       "      <td>telephone</td>\n",
       "      <td>may</td>\n",
       "      <td>mon</td>\n",
       "      <td>1</td>\n",
       "      <td>999</td>\n",
       "      <td>0</td>\n",
       "      <td>nonexistent</td>\n",
       "      <td>1.1</td>\n",
       "      <td>93.994</td>\n",
       "      <td>-36.4</td>\n",
       "      <td>4.857</td>\n",
       "      <td>5191.0</td>\n",
       "      <td>no</td>\n",
       "    </tr>\n",
       "    <tr>\n",
       "      <th>8</th>\n",
       "      <td>24</td>\n",
       "      <td>technician</td>\n",
       "      <td>single</td>\n",
       "      <td>professional.course</td>\n",
       "      <td>no</td>\n",
       "      <td>yes</td>\n",
       "      <td>no</td>\n",
       "      <td>telephone</td>\n",
       "      <td>may</td>\n",
       "      <td>mon</td>\n",
       "      <td>1</td>\n",
       "      <td>999</td>\n",
       "      <td>0</td>\n",
       "      <td>nonexistent</td>\n",
       "      <td>1.1</td>\n",
       "      <td>93.994</td>\n",
       "      <td>-36.4</td>\n",
       "      <td>4.857</td>\n",
       "      <td>5191.0</td>\n",
       "      <td>no</td>\n",
       "    </tr>\n",
       "    <tr>\n",
       "      <th>9</th>\n",
       "      <td>25</td>\n",
       "      <td>services</td>\n",
       "      <td>single</td>\n",
       "      <td>high.school</td>\n",
       "      <td>no</td>\n",
       "      <td>yes</td>\n",
       "      <td>no</td>\n",
       "      <td>telephone</td>\n",
       "      <td>may</td>\n",
       "      <td>mon</td>\n",
       "      <td>1</td>\n",
       "      <td>999</td>\n",
       "      <td>0</td>\n",
       "      <td>nonexistent</td>\n",
       "      <td>1.1</td>\n",
       "      <td>93.994</td>\n",
       "      <td>-36.4</td>\n",
       "      <td>4.857</td>\n",
       "      <td>5191.0</td>\n",
       "      <td>no</td>\n",
       "    </tr>\n",
       "  </tbody>\n",
       "</table>\n",
       "</div>"
      ],
      "text/plain": [
       "   age          job  marital  ... euribor3m nr.employed   y\n",
       "0   56    housemaid  married  ...     4.857      5191.0  no\n",
       "1   57     services  married  ...     4.857      5191.0  no\n",
       "2   37     services  married  ...     4.857      5191.0  no\n",
       "3   40       admin.  married  ...     4.857      5191.0  no\n",
       "4   56     services  married  ...     4.857      5191.0  no\n",
       "5   45     services  married  ...     4.857      5191.0  no\n",
       "6   59       admin.  married  ...     4.857      5191.0  no\n",
       "7   41  blue-collar  married  ...     4.857      5191.0  no\n",
       "8   24   technician   single  ...     4.857      5191.0  no\n",
       "9   25     services   single  ...     4.857      5191.0  no\n",
       "\n",
       "[10 rows x 20 columns]"
      ]
     },
     "metadata": {},
     "output_type": "display_data"
    }
   ],
   "source": [
    "display(df.info())\n",
    "display(df.head(10))"
   ]
  },
  {
   "cell_type": "markdown",
   "metadata": {},
   "source": [
    "Functions and methodologies for categorical encoding."
   ]
  },
  {
   "cell_type": "code",
   "execution_count": 6,
   "metadata": {},
   "outputs": [],
   "source": [
    "def map_job_category(job_str):\n",
    "    if job_str in job_map[\"unpaid\"]:\n",
    "        return 0\n",
    "    elif job_str in job_map[\"low_paid\"]:\n",
    "        return 1\n",
    "    else:\n",
    "        return 2\n",
    "\n",
    "def map_education_category(edu_str):\n",
    "    if edu_str in education_map[\"educated\"]:\n",
    "        return 1\n",
    "    else:\n",
    "        return 0\n",
    "\n",
    "def map_debt_category(debt_str):\n",
    "    if debt_str in debt_map[\"yes\"]:\n",
    "        return 1\n",
    "    else:\n",
    "        return 0\n",
    "\n",
    "day_map = {\n",
    "    'mon': 2,\n",
    "    'tue': 3,\n",
    "    'wed': 4,\n",
    "    'thu': 5,\n",
    "    'fri': 6\n",
    "}\n",
    "month_map = {\n",
    "    'mar': 3,\n",
    "    'apr': 4,\n",
    "    'may': 5,\n",
    "    'jun': 6,\n",
    "    'jul': 7,\n",
    "    'aug': 8,\n",
    "    'sep': 9,\n",
    "    'oct': 10,\n",
    "    'nov': 11,\n",
    "    'dec': 12\n",
    "}\n",
    "poutcome_map = {\n",
    "    'failure': -1,\n",
    "    'nonexistent': 0,\n",
    "    'success': 1\n",
    "}\n",
    "job_map = {\n",
    "    \"unpaid\": [\"unemployed\", \"retired\", \"student\"],\n",
    "    \"low_paid\": [\"admin.\", \"blue-collar\", \"services\", \"housemaid\"],\n",
    "    \"high_paid\": [\"entrepreneur\", \"management\", \"self-employed\", \"technician\"]\n",
    "}\n",
    "debt_map = {\n",
    "    \"yes\": [\"yes\"],\n",
    "    \"no\": [\"no\", \"unknown\"]\n",
    "}\n",
    "education_map = {\n",
    "    \"educated\": [\"university.degree\", \"professional.course\"]\n",
    "}\n",
    "cat_cols = [\n",
    "    \"job\",\n",
    "    \"marital\",\n",
    "    \"education\",\n",
    "    \"default\",\n",
    "    \"housing\",\n",
    "    \"loan\",\n",
    "    \"contact\",\n",
    "    \"month\",\n",
    "    \"day_of_week\",\n",
    "    \"poutcome\"\n",
    "]\n",
    "num_cols = [\n",
    "    \"age\",\n",
    "    \"campaign\",\n",
    "    \"emp.var.rate\",\n",
    "    \"cons.price.idx\",\n",
    "    \"cons.conf.idx\",\n",
    "    \"euribor3m\",\n",
    "    \"nr.employed\",\n",
    "    \"pdays_numeric\",\n",
    "    \"previous\"\n",
    "]"
   ]
  },
  {
   "cell_type": "markdown",
   "metadata": {},
   "source": [
    "# Dataset Transformations"
   ]
  },
  {
   "cell_type": "code",
   "execution_count": 7,
   "metadata": {},
   "outputs": [],
   "source": [
    "# Consider using LabelEncoder instead of this\n",
    "encoder = LabelEncoder()\n",
    "df_mini['day_of_week'] = df_mini['day_of_week'].map(day_map)\n",
    "df_mini['month'] = df_mini['month'].map(month_map)\n",
    "df_mini['marital'] = df_mini['marital'].map(lambda x: 0 if x == 'divorced' else 2 if x == 'married' else 1)\n",
    "df_mini['contact'] = df_mini['contact'].map(lambda x: 0 if x == 'telephone' else 1)\n",
    "df_mini['job'] = df_mini['job'].map(map_job_category)\n",
    "df_mini['education'] = df_mini['education'].map(map_education_category)\n",
    "df_mini['housing'] = df_mini['housing'].map(map_debt_category)\n",
    "df_mini['loan'] = df_mini['loan'].map(map_debt_category)\n",
    "df_mini['pdays'] = df_mini['pdays'].map(lambda x: 0 if x == 999 else x)\n",
    "\n",
    "df_mini['default'] = encoder.fit_transform(df_mini['default'])\n",
    "df_mini['poutcome'] = encoder.fit_transform(df_mini['poutcome'])\n",
    "\n",
    "combined_mini = pd.DataFrame(df_mini)\n",
    "combined_mini['y'] = targets_mini\n",
    "\n",
    "df['day_of_week'] = df['day_of_week'].map(day_map)\n",
    "df['month'] = df['month'].map(month_map)\n",
    "df['marital'] = df['marital'].map(lambda x: 0 if x == 'divorced' else 2 if x == 'married' else 1)\n",
    "df['contact'] = df['contact'].map(lambda x: 0 if x == 'telephone' else 1)\n",
    "df['job'] = df['job'].map(map_job_category)\n",
    "df['education'] = df['education'].map(map_education_category)\n",
    "df['housing'] = df['housing'].map(map_debt_category)\n",
    "df['loan'] = df['loan'].map(map_debt_category)\n",
    "df['pdays'] = df['pdays'].map(lambda x: 0 if x == 999 else x)\n",
    "df['y'] = df['y'].map(lambda x: 0 if x == 'no' else 1)\n",
    "\n",
    "df['default'] = encoder.fit_transform(df['default'])\n",
    "df['poutcome'] = encoder.fit_transform(df['poutcome'])"
   ]
  },
  {
   "cell_type": "code",
   "execution_count": null,
   "metadata": {},
   "outputs": [],
   "source": [
    "# ?probably? exclude default\n",
    "# This takes like 10 minutes to run\n",
    "sns.pairplot(data=df, hue='y')\n",
    "plt.savefig('.\\\\Module 2\\\\matrix_plot.png', dpi=300)"
   ]
  },
  {
   "cell_type": "markdown",
   "metadata": {},
   "source": [
    "Normalizing the data"
   ]
  },
  {
   "cell_type": "code",
   "execution_count": 8,
   "metadata": {},
   "outputs": [
    {
     "data": {
      "text/html": [
       "<div>\n",
       "<style scoped>\n",
       "    .dataframe tbody tr th:only-of-type {\n",
       "        vertical-align: middle;\n",
       "    }\n",
       "\n",
       "    .dataframe tbody tr th {\n",
       "        vertical-align: top;\n",
       "    }\n",
       "\n",
       "    .dataframe thead th {\n",
       "        text-align: right;\n",
       "    }\n",
       "</style>\n",
       "<table border=\"1\" class=\"dataframe\">\n",
       "  <thead>\n",
       "    <tr style=\"text-align: right;\">\n",
       "      <th></th>\n",
       "      <th>age</th>\n",
       "      <th>job</th>\n",
       "      <th>marital</th>\n",
       "      <th>education</th>\n",
       "      <th>default</th>\n",
       "      <th>housing</th>\n",
       "      <th>loan</th>\n",
       "      <th>contact</th>\n",
       "      <th>month</th>\n",
       "      <th>day_of_week</th>\n",
       "      <th>campaign</th>\n",
       "      <th>pdays</th>\n",
       "      <th>previous</th>\n",
       "      <th>poutcome</th>\n",
       "      <th>emp.var.rate</th>\n",
       "      <th>cons.price.idx</th>\n",
       "      <th>cons.conf.idx</th>\n",
       "      <th>euribor3m</th>\n",
       "      <th>nr.employed</th>\n",
       "      <th>y</th>\n",
       "    </tr>\n",
       "  </thead>\n",
       "  <tbody>\n",
       "    <tr>\n",
       "      <th>0</th>\n",
       "      <td>0.481481</td>\n",
       "      <td>0.5</td>\n",
       "      <td>1.0</td>\n",
       "      <td>0.0</td>\n",
       "      <td>0.0</td>\n",
       "      <td>0.0</td>\n",
       "      <td>0.0</td>\n",
       "      <td>0.0</td>\n",
       "      <td>0.222222</td>\n",
       "      <td>0.0</td>\n",
       "      <td>0.0</td>\n",
       "      <td>0.0</td>\n",
       "      <td>0.0</td>\n",
       "      <td>0.5</td>\n",
       "      <td>0.9375</td>\n",
       "      <td>0.698753</td>\n",
       "      <td>0.60251</td>\n",
       "      <td>0.957379</td>\n",
       "      <td>0.859735</td>\n",
       "      <td>0.0</td>\n",
       "    </tr>\n",
       "    <tr>\n",
       "      <th>1</th>\n",
       "      <td>0.493827</td>\n",
       "      <td>0.5</td>\n",
       "      <td>1.0</td>\n",
       "      <td>0.0</td>\n",
       "      <td>0.5</td>\n",
       "      <td>0.0</td>\n",
       "      <td>0.0</td>\n",
       "      <td>0.0</td>\n",
       "      <td>0.222222</td>\n",
       "      <td>0.0</td>\n",
       "      <td>0.0</td>\n",
       "      <td>0.0</td>\n",
       "      <td>0.0</td>\n",
       "      <td>0.5</td>\n",
       "      <td>0.9375</td>\n",
       "      <td>0.698753</td>\n",
       "      <td>0.60251</td>\n",
       "      <td>0.957379</td>\n",
       "      <td>0.859735</td>\n",
       "      <td>0.0</td>\n",
       "    </tr>\n",
       "    <tr>\n",
       "      <th>2</th>\n",
       "      <td>0.246914</td>\n",
       "      <td>0.5</td>\n",
       "      <td>1.0</td>\n",
       "      <td>0.0</td>\n",
       "      <td>0.0</td>\n",
       "      <td>1.0</td>\n",
       "      <td>0.0</td>\n",
       "      <td>0.0</td>\n",
       "      <td>0.222222</td>\n",
       "      <td>0.0</td>\n",
       "      <td>0.0</td>\n",
       "      <td>0.0</td>\n",
       "      <td>0.0</td>\n",
       "      <td>0.5</td>\n",
       "      <td>0.9375</td>\n",
       "      <td>0.698753</td>\n",
       "      <td>0.60251</td>\n",
       "      <td>0.957379</td>\n",
       "      <td>0.859735</td>\n",
       "      <td>0.0</td>\n",
       "    </tr>\n",
       "    <tr>\n",
       "      <th>3</th>\n",
       "      <td>0.283951</td>\n",
       "      <td>0.5</td>\n",
       "      <td>1.0</td>\n",
       "      <td>0.0</td>\n",
       "      <td>0.0</td>\n",
       "      <td>0.0</td>\n",
       "      <td>0.0</td>\n",
       "      <td>0.0</td>\n",
       "      <td>0.222222</td>\n",
       "      <td>0.0</td>\n",
       "      <td>0.0</td>\n",
       "      <td>0.0</td>\n",
       "      <td>0.0</td>\n",
       "      <td>0.5</td>\n",
       "      <td>0.9375</td>\n",
       "      <td>0.698753</td>\n",
       "      <td>0.60251</td>\n",
       "      <td>0.957379</td>\n",
       "      <td>0.859735</td>\n",
       "      <td>0.0</td>\n",
       "    </tr>\n",
       "    <tr>\n",
       "      <th>4</th>\n",
       "      <td>0.481481</td>\n",
       "      <td>0.5</td>\n",
       "      <td>1.0</td>\n",
       "      <td>0.0</td>\n",
       "      <td>0.0</td>\n",
       "      <td>0.0</td>\n",
       "      <td>1.0</td>\n",
       "      <td>0.0</td>\n",
       "      <td>0.222222</td>\n",
       "      <td>0.0</td>\n",
       "      <td>0.0</td>\n",
       "      <td>0.0</td>\n",
       "      <td>0.0</td>\n",
       "      <td>0.5</td>\n",
       "      <td>0.9375</td>\n",
       "      <td>0.698753</td>\n",
       "      <td>0.60251</td>\n",
       "      <td>0.957379</td>\n",
       "      <td>0.859735</td>\n",
       "      <td>0.0</td>\n",
       "    </tr>\n",
       "  </tbody>\n",
       "</table>\n",
       "</div>"
      ],
      "text/plain": [
       "        age  job  marital  ...  euribor3m  nr.employed    y\n",
       "0  0.481481  0.5      1.0  ...   0.957379     0.859735  0.0\n",
       "1  0.493827  0.5      1.0  ...   0.957379     0.859735  0.0\n",
       "2  0.246914  0.5      1.0  ...   0.957379     0.859735  0.0\n",
       "3  0.283951  0.5      1.0  ...   0.957379     0.859735  0.0\n",
       "4  0.481481  0.5      1.0  ...   0.957379     0.859735  0.0\n",
       "\n",
       "[5 rows x 20 columns]"
      ]
     },
     "execution_count": 8,
     "metadata": {},
     "output_type": "execute_result"
    }
   ],
   "source": [
    "scaler = MinMaxScaler()\n",
    "\n",
    "MnMxSclr = scaler.fit_transform(df)\n",
    "MiniSclr = scaler.fit_transform(combined_mini)\n",
    "\n",
    "# Convert the result back to a DataFrame\n",
    "df_MnMxSclr = pd.DataFrame(MnMxSclr, columns=df.columns)\n",
    "df_miniSclr = pd.DataFrame(MiniSclr, columns=combined_mini.columns)\n",
    "\n",
    "# print(normalized_df)\n",
    "df_MnMxSclr.head(5)\n",
    "# df_MnMxSclr['y'].value_counts()\n",
    "\n",
    "# Although, this successfully applies, it has little to no impact on the outcome, in fact it may have made it worse"
   ]
  },
  {
   "cell_type": "markdown",
   "metadata": {},
   "source": [
    "# Training and Predicting"
   ]
  },
  {
   "cell_type": "markdown",
   "metadata": {},
   "source": [
    "Declarations"
   ]
  },
  {
   "cell_type": "code",
   "execution_count": 9,
   "metadata": {},
   "outputs": [],
   "source": [
    "clf = DecisionTreeClassifier(random_state=117, max_depth=3)\n",
    "clf_mini = DecisionTreeClassifier(random_state=117, max_depth=3)"
   ]
  },
  {
   "cell_type": "markdown",
   "metadata": {},
   "source": [
    "Training"
   ]
  },
  {
   "cell_type": "code",
   "execution_count": 10,
   "metadata": {},
   "outputs": [
    {
     "data": {
      "text/plain": [
       "0.8970865929322903"
      ]
     },
     "metadata": {},
     "output_type": "display_data"
    },
    {
     "data": {
      "text/plain": [
       "0.8902439024390244"
      ]
     },
     "metadata": {},
     "output_type": "display_data"
    }
   ],
   "source": [
    "X = df_MnMxSclr.drop(columns=['y'])\n",
    "y = df_MnMxSclr['y']\n",
    "\n",
    "X_mini = combined_mini.drop(columns=['y'])\n",
    "y_mini = combined_mini['y']\n",
    "\n",
    "X_train, X_test, y_train, y_test = train_test_split(X, y, train_size=0.8, test_size=0.2, random_state=117)\n",
    "X_tn_mini, X_tst_mini, y_tn_mini, y_tst_mini = train_test_split(X_mini, y_mini, train_size=0.8, test_size=0.2, random_state=117)\n",
    "clf.fit(X_train, y_train)\n",
    "clf_mini.fit(X_tn_mini, y_tn_mini)\n",
    "\n",
    "pred_main = clf.predict(X_test)\n",
    "pred_mini = clf_mini.predict(X_tst_mini)\n",
    "acc_main = accuracy_score(y_test, pred_main)\n",
    "acc_mini = accuracy_score(y_tst_mini, pred_mini)\n",
    "display(acc_main)\n",
    "display(acc_mini)"
   ]
  },
  {
   "cell_type": "markdown",
   "metadata": {},
   "source": [
    "# Heat Map"
   ]
  },
  {
   "cell_type": "code",
   "execution_count": 11,
   "metadata": {},
   "outputs": [
    {
     "data": {
      "text/plain": [
       "<Axes: >"
      ]
     },
     "execution_count": 11,
     "metadata": {},
     "output_type": "execute_result"
    },
    {
     "data": {
      "image/png": "[encoded data removed]",
      "text/plain": [
       "<Figure size 640x480 with 2 Axes>"
      ]
     },
     "metadata": {},
     "output_type": "display_data"
    }
   ],
   "source": [
    "cm = confusion_matrix(y_test, pred_main)\n",
    "sns.heatmap(cm, annot=True, cmap='crest')"
   ]
  },
  {
   "cell_type": "markdown",
   "metadata": {},
   "source": [
    "# Visualizing the decision tree"
   ]
  },
  {
   "cell_type": "code",
   "execution_count": 12,
   "metadata": {},
   "outputs": [
    {
     "data": {
      "image/png": "[encoded data removed]",
      "text/plain": [
       "<Figure size 1200x800 with 1 Axes>"
      ]
     },
     "metadata": {},
     "output_type": "display_data"
    }
   ],
   "source": [
    "plt.figure(figsize=(12, 8))\n",
    "plot_tree(clf, filled=True)\n",
    "plt.show()\n"
   ]
  },
  {
   "cell_type": "markdown",
   "metadata": {},
   "source": [
    "# Evaluating Feature Importance"
   ]
  },
  {
   "cell_type": "code",
   "execution_count": 13,
   "metadata": {},
   "outputs": [
    {
     "data": {
      "image/png": "[encoded data removed]",
      "text/plain": [
       "<Figure size 640x480 with 1 Axes>"
      ]
     },
     "metadata": {},
     "output_type": "display_data"
    }
   ],
   "source": [
    "feat_import = clf.feature_importances_\n",
    "feat_mini = clf_mini.feature_importances_\n",
    "\n",
    "# Print the feature importances\n",
    "# for feature, importance in zip(df_MnMxSclr.columns, feat_import):\n",
    "    # print(f\"{feature}: {importance:.4f}\")\n",
    "\n",
    "# Plot the feature importances\n",
    "plt.barh(df_MnMxSclr.drop(columns=['y']).columns, feat_import, color='skyblue', label='Main')\n",
    "plt.barh(df_MnMxSclr.drop(columns=['y']).columns, feat_mini, color='lightcoral', left=feat_import, label='Mini')\n",
    "plt.xlabel(\"Feature Importance\")\n",
    "# plt.title(\"Feature Importances in Decision Tree\")\n",
    "plt.show()"
   ]
  },
  {
   "cell_type": "markdown",
   "metadata": {},
   "source": [
    "# Prediction across datasets"
   ]
  },
  {
   "cell_type": "code",
   "execution_count": 14,
   "metadata": {},
   "outputs": [
    {
     "data": {
      "text/plain": [
       "0.8853658536585366"
      ]
     },
     "metadata": {},
     "output_type": "display_data"
    },
    {
     "data": {
      "text/plain": [
       "0.8761229059321806"
      ]
     },
     "metadata": {},
     "output_type": "display_data"
    }
   ],
   "source": [
    "pred_comp = clf.predict(df_mini)\n",
    "pred_comp_mini = clf_mini.predict(df.drop(columns=['y']))\n",
    "acc_comp = accuracy_score(targets_mini, pred_comp)\n",
    "acc_comp_mini = accuracy_score(df['y'], pred_comp_mini)\n",
    "display(acc_comp)\n",
    "display(acc_comp_mini)"
   ]
  },
  {
   "cell_type": "markdown",
   "metadata": {},
   "source": [
    "Heat Map on Mini Holdout"
   ]
  },
  {
   "cell_type": "code",
   "execution_count": 15,
   "metadata": {},
   "outputs": [
    {
     "data": {
      "text/plain": [
       "<Axes: >"
      ]
     },
     "execution_count": 15,
     "metadata": {},
     "output_type": "execute_result"
    },
    {
     "data": {
      "image/png": "[encoded data removed]",
      "text/plain": [
       "<Figure size 640x480 with 2 Axes>"
      ]
     },
     "metadata": {},
     "output_type": "display_data"
    }
   ],
   "source": [
    "cm_mini = confusion_matrix(targets_mini, pred_comp)\n",
    "sns.heatmap(cm_mini, annot=True, cmap='crest')"
   ]
  },
  {
   "cell_type": "markdown",
   "metadata": {},
   "source": [
    "# Balancing Class Weights"
   ]
  },
  {
   "cell_type": "markdown",
   "metadata": {},
   "source": [
    "Use the built in balancing feature in the decision tree classifier to balance the class weights"
   ]
  },
  {
   "cell_type": "code",
   "execution_count": 16,
   "metadata": {},
   "outputs": [],
   "source": [
    "clf_bl = DecisionTreeClassifier(class_weight='balanced', random_state=117, max_depth=3)\n",
    "clf_bl_mini = DecisionTreeClassifier(class_weight='balanced', random_state=117, max_depth=3)"
   ]
  },
  {
   "cell_type": "markdown",
   "metadata": {},
   "source": [
    "Split the data and have it trained with the balanced configuration"
   ]
  },
  {
   "cell_type": "code",
   "execution_count": 17,
   "metadata": {},
   "outputs": [
    {
     "data": {
      "text/plain": [
       "0.8346371729161046"
      ]
     },
     "metadata": {},
     "output_type": "display_data"
    },
    {
     "data": {
      "text/plain": [
       "0.9024390243902439"
      ]
     },
     "metadata": {},
     "output_type": "display_data"
    }
   ],
   "source": [
    "X_train_bl, X_test_bl, y_train_bl, y_test_bl = train_test_split(X, y, train_size=0.8, test_size=0.2, random_state=117)\n",
    "X_tn_bl_mini, X_tst_bl_mini, y_tn_bl_mini, y_tst_bl_mini = train_test_split(X_mini, y_mini, train_size=0.8, test_size=0.2, random_state=117)\n",
    "clf_bl.fit(X_train_bl, y_train_bl)\n",
    "clf_bl_mini.fit(X_tn_bl_mini, y_tn_bl_mini)\n",
    "\n",
    "pred_bl = clf_bl.predict(X_test_bl)\n",
    "pred_bl_mini = clf_bl_mini.predict(X_tst_bl_mini)\n",
    "acc_bl = accuracy_score(y_test_bl, pred_bl)\n",
    "acc_bl_mini = accuracy_score(y_tst_bl_mini, pred_bl_mini)\n",
    "display(acc_bl)\n",
    "display(acc_bl_mini)"
   ]
  },
  {
   "cell_type": "markdown",
   "metadata": {},
   "source": [
    "Visualize the balanced"
   ]
  },
  {
   "cell_type": "code",
   "execution_count": 18,
   "metadata": {},
   "outputs": [
    {
     "data": {
      "image/png": "[encoded data removed]",
      "text/plain": [
       "<Figure size 640x480 with 1 Axes>"
      ]
     },
     "metadata": {},
     "output_type": "display_data"
    }
   ],
   "source": [
    "feat_bl = clf_bl.feature_importances_\n",
    "feat_bl_mini = clf_bl_mini.feature_importances_\n",
    "\n",
    "plt.barh(df_MnMxSclr.drop(columns=['y']).columns, feat_bl, color='skyblue', label='Balanced')\n",
    "plt.barh(df_MnMxSclr.drop(columns=['y']).columns, feat_bl_mini, color='lightcoral', left=feat_import, label='Balanced Mini')\n",
    "plt.xlabel(\"Feature Importance\")\n",
    "plt.show()"
   ]
  },
  {
   "cell_type": "markdown",
   "metadata": {},
   "source": [
    "Training with the employed column dropped."
   ]
  },
  {
   "cell_type": "code",
   "execution_count": 19,
   "metadata": {},
   "outputs": [
    {
     "data": {
      "text/html": [
       "<div>\n",
       "<style scoped>\n",
       "    .dataframe tbody tr th:only-of-type {\n",
       "        vertical-align: middle;\n",
       "    }\n",
       "\n",
       "    .dataframe tbody tr th {\n",
       "        vertical-align: top;\n",
       "    }\n",
       "\n",
       "    .dataframe thead th {\n",
       "        text-align: right;\n",
       "    }\n",
       "</style>\n",
       "<table border=\"1\" class=\"dataframe\">\n",
       "  <thead>\n",
       "    <tr style=\"text-align: right;\">\n",
       "      <th></th>\n",
       "      <th>age</th>\n",
       "      <th>job</th>\n",
       "      <th>marital</th>\n",
       "      <th>education</th>\n",
       "      <th>default</th>\n",
       "      <th>housing</th>\n",
       "      <th>loan</th>\n",
       "      <th>contact</th>\n",
       "      <th>month</th>\n",
       "      <th>day_of_week</th>\n",
       "      <th>campaign</th>\n",
       "      <th>pdays</th>\n",
       "      <th>previous</th>\n",
       "      <th>poutcome</th>\n",
       "      <th>emp.var.rate</th>\n",
       "      <th>cons.price.idx</th>\n",
       "      <th>cons.conf.idx</th>\n",
       "      <th>euribor3m</th>\n",
       "      <th>nr.employed</th>\n",
       "      <th>y</th>\n",
       "    </tr>\n",
       "  </thead>\n",
       "  <tbody>\n",
       "    <tr>\n",
       "      <th>0</th>\n",
       "      <td>0.481481</td>\n",
       "      <td>0.5</td>\n",
       "      <td>1.0</td>\n",
       "      <td>0.0</td>\n",
       "      <td>0.0</td>\n",
       "      <td>0.0</td>\n",
       "      <td>0.0</td>\n",
       "      <td>0.0</td>\n",
       "      <td>0.222222</td>\n",
       "      <td>0.0</td>\n",
       "      <td>0.0</td>\n",
       "      <td>0.0</td>\n",
       "      <td>0.0</td>\n",
       "      <td>0.5</td>\n",
       "      <td>0.9375</td>\n",
       "      <td>0.698753</td>\n",
       "      <td>0.60251</td>\n",
       "      <td>0.957379</td>\n",
       "      <td>0.859735</td>\n",
       "      <td>0.0</td>\n",
       "    </tr>\n",
       "    <tr>\n",
       "      <th>1</th>\n",
       "      <td>0.493827</td>\n",
       "      <td>0.5</td>\n",
       "      <td>1.0</td>\n",
       "      <td>0.0</td>\n",
       "      <td>0.5</td>\n",
       "      <td>0.0</td>\n",
       "      <td>0.0</td>\n",
       "      <td>0.0</td>\n",
       "      <td>0.222222</td>\n",
       "      <td>0.0</td>\n",
       "      <td>0.0</td>\n",
       "      <td>0.0</td>\n",
       "      <td>0.0</td>\n",
       "      <td>0.5</td>\n",
       "      <td>0.9375</td>\n",
       "      <td>0.698753</td>\n",
       "      <td>0.60251</td>\n",
       "      <td>0.957379</td>\n",
       "      <td>0.859735</td>\n",
       "      <td>0.0</td>\n",
       "    </tr>\n",
       "    <tr>\n",
       "      <th>2</th>\n",
       "      <td>0.246914</td>\n",
       "      <td>0.5</td>\n",
       "      <td>1.0</td>\n",
       "      <td>0.0</td>\n",
       "      <td>0.0</td>\n",
       "      <td>1.0</td>\n",
       "      <td>0.0</td>\n",
       "      <td>0.0</td>\n",
       "      <td>0.222222</td>\n",
       "      <td>0.0</td>\n",
       "      <td>0.0</td>\n",
       "      <td>0.0</td>\n",
       "      <td>0.0</td>\n",
       "      <td>0.5</td>\n",
       "      <td>0.9375</td>\n",
       "      <td>0.698753</td>\n",
       "      <td>0.60251</td>\n",
       "      <td>0.957379</td>\n",
       "      <td>0.859735</td>\n",
       "      <td>0.0</td>\n",
       "    </tr>\n",
       "    <tr>\n",
       "      <th>3</th>\n",
       "      <td>0.283951</td>\n",
       "      <td>0.5</td>\n",
       "      <td>1.0</td>\n",
       "      <td>0.0</td>\n",
       "      <td>0.0</td>\n",
       "      <td>0.0</td>\n",
       "      <td>0.0</td>\n",
       "      <td>0.0</td>\n",
       "      <td>0.222222</td>\n",
       "      <td>0.0</td>\n",
       "      <td>0.0</td>\n",
       "      <td>0.0</td>\n",
       "      <td>0.0</td>\n",
       "      <td>0.5</td>\n",
       "      <td>0.9375</td>\n",
       "      <td>0.698753</td>\n",
       "      <td>0.60251</td>\n",
       "      <td>0.957379</td>\n",
       "      <td>0.859735</td>\n",
       "      <td>0.0</td>\n",
       "    </tr>\n",
       "    <tr>\n",
       "      <th>4</th>\n",
       "      <td>0.481481</td>\n",
       "      <td>0.5</td>\n",
       "      <td>1.0</td>\n",
       "      <td>0.0</td>\n",
       "      <td>0.0</td>\n",
       "      <td>0.0</td>\n",
       "      <td>1.0</td>\n",
       "      <td>0.0</td>\n",
       "      <td>0.222222</td>\n",
       "      <td>0.0</td>\n",
       "      <td>0.0</td>\n",
       "      <td>0.0</td>\n",
       "      <td>0.0</td>\n",
       "      <td>0.5</td>\n",
       "      <td>0.9375</td>\n",
       "      <td>0.698753</td>\n",
       "      <td>0.60251</td>\n",
       "      <td>0.957379</td>\n",
       "      <td>0.859735</td>\n",
       "      <td>0.0</td>\n",
       "    </tr>\n",
       "  </tbody>\n",
       "</table>\n",
       "</div>"
      ],
      "text/plain": [
       "        age  job  marital  ...  euribor3m  nr.employed    y\n",
       "0  0.481481  0.5      1.0  ...   0.957379     0.859735  0.0\n",
       "1  0.493827  0.5      1.0  ...   0.957379     0.859735  0.0\n",
       "2  0.246914  0.5      1.0  ...   0.957379     0.859735  0.0\n",
       "3  0.283951  0.5      1.0  ...   0.957379     0.859735  0.0\n",
       "4  0.481481  0.5      1.0  ...   0.957379     0.859735  0.0\n",
       "\n",
       "[5 rows x 20 columns]"
      ]
     },
     "execution_count": 19,
     "metadata": {},
     "output_type": "execute_result"
    }
   ],
   "source": [
    "df_MnMxSclr.head(5)"
   ]
  },
  {
   "cell_type": "code",
   "execution_count": 22,
   "metadata": {},
   "outputs": [
    {
     "data": {
      "text/plain": [
       "0.8962416831505124"
      ]
     },
     "metadata": {},
     "output_type": "display_data"
    },
    {
     "data": {
      "text/plain": [
       "0.8709677419354839"
      ]
     },
     "metadata": {},
     "output_type": "display_data"
    }
   ],
   "source": [
    "clf_ne = DecisionTreeClassifier(random_state=117, max_depth=3)\n",
    "clf_ne_mini = DecisionTreeClassifier(random_state=117, max_depth=3)\n",
    "\n",
    "X_no_emp = df_MnMxSclr.drop(columns=['nr.employed', 'y'])\n",
    "y_no_emp = df_MnMxSclr['y']\n",
    "\n",
    "X_no_emp_mini = combined_mini.drop(columns=['nr.employed', 'y'])\n",
    "y_no_emp_mini = combined_mini['y']\n",
    "\n",
    "X_trn_no_emp, X_tst_no_emp, y_trn_no_emp, y_tst_no_emp = train_test_split(X_no_emp, y_no_emp, train_size=0.85, test_size=0.15, random_state=117)\n",
    "X_trn_ne_mini, X_tst_ne_mini, y_trn_ne_mini, y_tst_ne_mini = train_test_split(X_no_emp_mini, y_no_emp_mini, train_size=0.85, test_size=0.15, random_state=117)\n",
    "\n",
    "clf_ne.fit(X_trn_no_emp, y_trn_no_emp)\n",
    "clf_ne_mini.fit(X_trn_ne_mini, y_trn_ne_mini)\n",
    "\n",
    "pred_no_emp = clf_ne.predict(X_tst_no_emp)\n",
    "pred_ne_mini = clf_ne_mini.predict(X_tst_ne_mini)\n",
    "acc_no_emp = accuracy_score(y_tst_no_emp, pred_no_emp)\n",
    "acc_ne_mini = accuracy_score(y_tst_ne_mini, pred_ne_mini)\n",
    "display(acc_no_emp)\n",
    "display(acc_ne_mini)"
   ]
  },
  {
   "cell_type": "code",
   "execution_count": 31,
   "metadata": {},
   "outputs": [
    {
     "data": {
      "image/png": "[encoded data removed]",
      "text/plain": [
       "<Figure size 640x480 with 1 Axes>"
      ]
     },
     "metadata": {},
     "output_type": "display_data"
    }
   ],
   "source": [
    "feat_ne = clf_ne.feature_importances_\n",
    "feat_ne_mini = clf_ne_mini.feature_importances_\n",
    "\n",
    "plt.barh(df_MnMxSclr.drop(columns=['nr.employed', 'y']).columns, feat_ne, color='skyblue', label='Main')\n",
    "plt.barh(df_MnMxSclr.drop(columns=['nr.employed', 'y']).columns, feat_ne_mini, color='lightcoral', left=feat_ne, label='Mini')\n",
    "plt.xlabel(\"Feature Importance\")\n",
    "plt.show()"
   ]
  },
  {
   "cell_type": "markdown",
   "metadata": {},
   "source": [
    "# Crazy combination experiment"
   ]
  },
  {
   "cell_type": "markdown",
   "metadata": {},
   "source": [
    "Create an array of all the columns that are classifications"
   ]
  },
  {
   "cell_type": "markdown",
   "metadata": {},
   "source": [
    "Create a looping process to iterate over each combination"
   ]
  },
  {
   "cell_type": "code",
   "execution_count": 52,
   "metadata": {},
   "outputs": [],
   "source": [
    "feats = df.drop(columns=['y']).columns\n",
    "mdl_combis = []\n",
    "acc_combis = []\n",
    "mdls = []\n",
    "min_feat_count = 2\n",
    "\n",
    "\n",
    "for r in range(min_feat_count, len(feats) + 1):\n",
    "    for combi in itertools.combinations(feats, r):\n",
    "        mdl_combis.append(list(combi))\n",
    "        # \n",
    "\n",
    "# pred_no_emp = clf_ne.predict(X_tst_no_emp)\n",
    "# acc_no_emp = accuracy_score(y_tst_no_emp, pred_no_emp)\n",
    "# display(acc_no_emp)"
   ]
  },
  {
   "cell_type": "code",
   "execution_count": 53,
   "metadata": {},
   "outputs": [
    {
     "data": {
      "text/plain": [
       "524268"
      ]
     },
     "execution_count": 53,
     "metadata": {},
     "output_type": "execute_result"
    }
   ],
   "source": [
    "# df_MnMxSclr[['age', 'y']].head(5)\n",
    "# mdls[0]\n",
    "# df_MnMxSclr[mdls[700]].head(5)\n",
    "len(mdl_combis) # = 524268"
   ]
  },
  {
   "cell_type": "markdown",
   "metadata": {},
   "source": [
    "create each combnation model and save them into an array."
   ]
  },
  {
   "cell_type": "code",
   "execution_count": null,
   "metadata": {},
   "outputs": [],
   "source": [
    "# Should take approximately 2 hours\n",
    "\n",
    "y_tmp = df_MnMxSclr['y']\n",
    "\n",
    "for i in range(0, len(mdl_combis)):\n",
    "    clf_tmp = DecisionTreeClassifier(random_state=117, max_depth=3)\n",
    "    X_tmp = df_MnMxSclr[mdl_combis[i]]\n",
    "    X_tmp_trn, X_tmp_tst, y_tmp_trn, y_tmp_tst = train_test_split(X_tmp, y_tmp, train_size=0.85, test_size=0.15, random_state=117)\n",
    "\n",
    "    clf_tmp.fit(X_tmp_trn, y_tmp_trn)\n",
    "    pred_tmp = clf_tmp.predict(X_tmp_tst)\n",
    "    acc_tmp = accuracy_score(y_tmp_tst, pred_tmp)\n",
    "    mdls.append(clf_tmp)\n",
    "    acc_combis.append(acc_tmp)"
   ]
  },
  {
   "cell_type": "code",
   "execution_count": null,
   "metadata": {},
   "outputs": [],
   "source": [
    "# evaluating the data\n",
    "largest_acc = heapq.nlargest(5, enumerate(acc_combis), key=lambda x: x[1])\n",
    "index_pair = {index: value for index, value in largest_acc}"
   ]
  },
  {
   "cell_type": "code",
   "execution_count": 69,
   "metadata": {},
   "outputs": [
    {
     "data": {
      "text/plain": [
       "{1104: 0.8978600971048373,\n",
       " 1920: 0.8978600971048373,\n",
       " 2600: 0.8978600971048373,\n",
       " 3160: 0.8978600971048373,\n",
       " 3615: 0.8978600971048373}"
      ]
     },
     "execution_count": 69,
     "metadata": {},
     "output_type": "execute_result"
    }
   ],
   "source": [
    "index_pair"
   ]
  },
  {
   "cell_type": "code",
   "execution_count": 72,
   "metadata": {},
   "outputs": [
    {
     "data": {
      "text/plain": [
       "['pdays', 'euribor3m', 'nr.employed']"
      ]
     },
     "metadata": {},
     "output_type": "display_data"
    },
    {
     "data": {
      "text/plain": [
       "['age', 'pdays', 'euribor3m', 'nr.employed']"
      ]
     },
     "metadata": {},
     "output_type": "display_data"
    },
    {
     "data": {
      "text/plain": [
       "['job', 'pdays', 'euribor3m', 'nr.employed']"
      ]
     },
     "metadata": {},
     "output_type": "display_data"
    },
    {
     "data": {
      "text/plain": [
       "['marital', 'pdays', 'euribor3m', 'nr.employed']"
      ]
     },
     "metadata": {},
     "output_type": "display_data"
    },
    {
     "data": {
      "text/plain": [
       "['education', 'pdays', 'euribor3m', 'nr.employed']"
      ]
     },
     "metadata": {},
     "output_type": "display_data"
    }
   ],
   "source": [
    "# feat_ne = clf_ne.feature_importances_\n",
    "# feat_ne_mini = clf_ne_mini.feature_importances_\n",
    "\n",
    "# plt.barh(df_MnMxSclr.drop(columns=['nr.employed', 'y']).columns, feat_ne, color='skyblue', label='Main')\n",
    "# plt.barh(df_MnMxSclr.drop(columns=['nr.employed', 'y']).columns, feat_ne_mini, color='lightcoral', left=feat_ne, label='Mini')\n",
    "# plt.xlabel(\"Feature Importance\")\n",
    "# plt.show()\n",
    "\n",
    "# mdls[1104]\n",
    "display(mdl_combis[1104])\n",
    "display(mdl_combis[1920])\n",
    "display(mdl_combis[2600])\n",
    "display(mdl_combis[3160])\n",
    "display(mdl_combis[3615])"
   ]
  },
  {
   "cell_type": "code",
   "execution_count": 74,
   "metadata": {},
   "outputs": [
    {
     "data": {
      "text/plain": [
       "['Module 2\\\\array_of_models.pkl']"
      ]
     },
     "execution_count": 74,
     "metadata": {},
     "output_type": "execute_result"
    }
   ],
   "source": [
    "# Attempting to save the models\n",
    "joblib.dump(mdls, 'Module 2\\\\array_of_models.pkl')"
   ]
  },
  {
   "cell_type": "code",
   "execution_count": 75,
   "metadata": {},
   "outputs": [
    {
     "data": {
      "text/plain": [
       "['Module 2\\\\array_of_indeces_accuracy_scores.pkl']"
      ]
     },
     "execution_count": 75,
     "metadata": {},
     "output_type": "execute_result"
    }
   ],
   "source": [
    "joblib.dump(mdl_combis, 'Module 2\\\\array_of_feature_combinations.pkl')\n",
    "joblib.dump(acc_combis, 'Module 2\\\\array_of_indeces_accuracy_scores.pkl')"
   ]
  },
  {
   "cell_type": "code",
   "execution_count": null,
   "metadata": {},
   "outputs": [],
   "source": [
    "# Example of loading things back in\n",
    "loaded_models = joblib.load('Module 2\\\\array_of_models.pkl')\n"
   ]
  }
 ],
 "metadata": {
  "kernelspec": {
   "display_name": "venv",
   "language": "python",
   "name": "python3"
  },
  "language_info": {
   "codemirror_mode": {
    "name": "ipython",
    "version": 3
   },
   "file_extension": ".py",
   "mimetype": "text/x-python",
   "name": "python",
   "nbconvert_exporter": "python",
   "pygments_lexer": "ipython3",
   "version": "3.12.8"
  }
 },
 "nbformat": 4,
 "nbformat_minor": 2
}
