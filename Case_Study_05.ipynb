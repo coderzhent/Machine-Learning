{
 "cells": [
  {
   "cell_type": "markdown",
   "metadata": {},
   "source": [
    "# Case Study 05"
   ]
  },
  {
   "cell_type": "markdown",
   "metadata": {},
   "source": [
    "# Imports"
   ]
  },
  {
   "cell_type": "markdown",
   "metadata": {},
   "source": [
    "## PyTorch Imports"
   ]
  },
  {
   "cell_type": "code",
   "execution_count": 1,
   "metadata": {},
   "outputs": [],
   "source": [
    "import torch\n",
    "import torch.nn as nn\n",
    "import torch.optim as optim"
   ]
  },
  {
   "cell_type": "markdown",
   "metadata": {},
   "source": [
    "## Other Imports"
   ]
  },
  {
   "cell_type": "code",
   "execution_count": 2,
   "metadata": {},
   "outputs": [],
   "source": [
    "import datetime\n",
    "import requests\n",
    "import os\n",
    "import random\n",
    "import shutil\n",
    "import zipfile\n",
    "import pandas as pd\n",
    "import numpy as np\n",
    "import matplotlib.pyplot as plt\n",
    "import seaborn as sns\n",
    "import tensorflow as tf\n",
    "from tensorflow import keras\n",
    "from tensorflow.keras import datasets, layers, models\n",
    "from tensorflow.keras.preprocessing import image_dataset_from_directory\n",
    "from tensorflow.keras.preprocessing.image import ImageDataGenerator\n",
    "from sklearn.metrics import classification_report, confusion_matrix, ConfusionMatrixDisplay, f1_score, accuracy_score"
   ]
  },
  {
   "cell_type": "markdown",
   "metadata": {},
   "source": [
    "# Datasets"
   ]
  },
  {
   "cell_type": "code",
   "execution_count": 3,
   "metadata": {},
   "outputs": [],
   "source": [
    "data_acq = {\n",
    "    \"./Module 5/training1.zip\": \"https://github.com/byui-cse/cse450-course/raw/master/data/roadsigns/training1.zip\",\n",
    "    \"./Module 5/training2.zip\": \"https://github.com/byui-cse/cse450-course/raw/master/data/roadsigns/training2.zip\",\n",
    "    \"./Module 5/holdout.zip\": \"https://github.com/byui-cse/cse450-course/raw/master/data/roadsigns/holdout.zip\",\n",
    "    \"./Module 5/mini_holdout.zip\": \"https://github.com/byui-cse/cse450-course/raw/master/data/roadsigns/mini_holdout.zip\",\n",
    "    \"./Module 5/mini_holdout_answers.csv\": \"https://github.com/byui-cse/cse450-course/raw/master/data/roadsigns/mini_holdout_answers.csv\"\n",
    "}\n",
    "\n",
    "extraction_dir = \"./Module 5/uncompressed/\"\n",
    "training_dir = \"./Module 5/uncompressed/training/\"\n",
    "trn1_dir = \"./Module 5/uncompressed/training1/\"\n",
    "trn2_dir = \"./Module 5/uncompressed/training2/\""
   ]
  },
  {
   "cell_type": "markdown",
   "metadata": {},
   "source": [
    "## Download Datasets"
   ]
  },
  {
   "cell_type": "code",
   "execution_count": 6,
   "metadata": {},
   "outputs": [
    {
     "name": "stdout",
     "output_type": "stream",
     "text": [
      "File already exists: ./Module 5/training1.zip\n",
      "File already exists: ./Module 5/training2.zip\n",
      "File already exists: ./Module 5/holdout.zip\n",
      "File already exists: ./Module 5/mini_holdout.zip\n",
      "File already exists: ./Module 5/mini_holdout_answers.csv\n"
     ]
    }
   ],
   "source": [
    "def get_data(url, path):\n",
    "    resp = requests.get(url)\n",
    "    if resp.status_code == 200:\n",
    "        with open(path, 'wb') as file:\n",
    "            file.write(resp.content)\n",
    "        print(f\"File downloaded and saved to {path}\")\n",
    "    else:\n",
    "        print(f\"Failed to download file. HTTP status code: {resp.status_code}\")\n",
    "\n",
    "for key, value in data_acq.items():\n",
    "    if os.path.exists(key):\n",
    "        print(f\"File already exists: {key}\")\n",
    "    else:\n",
    "        print(f\"Fetching {value}\")\n",
    "        get_data(value, key)\n",
    "        "
   ]
  },
  {
   "cell_type": "markdown",
   "metadata": {},
   "source": [
    "## Cleaning Up and Preparation"
   ]
  },
  {
   "cell_type": "code",
   "execution_count": null,
   "metadata": {},
   "outputs": [
    {
     "name": "stdout",
     "output_type": "stream",
     "text": [
      "Unzipping Files...\n",
      "Extracting ./Module 5/training1.zip\n",
      "Extracting ./Module 5/training2.zip\n",
      "Extracting ./Module 5/holdout.zip\n",
      "Extracting ./Module 5/mini_holdout.zip\n",
      "Extracting ./Module 5/mini_holdout_answers.csv\n"
     ]
    }
   ],
   "source": [
    "print(f\"Unzipping Files...\")\n",
    "\n",
    "if os.path.exists(extraction_dir):\n",
    "    shutil.rmtree(extraction_dir)\n",
    "\n",
    "os.makedirs(extraction_dir)\n",
    "\n",
    "for key, value in data_acq.items():\n",
    "    if zipfile.is_zipfile(key):\n",
    "        print(f\"Extracting {key}\")\n",
    "        with zipfile.ZipFile(key, 'r') as zip_ref:\n",
    "            zip_ref.extractall(extraction_dir)"
   ]
  },
  {
   "cell_type": "code",
   "execution_count": null,
   "metadata": {},
   "outputs": [
    {
     "name": "stdout",
     "output_type": "stream",
     "text": [
      "Merging the training data...\n",
      "Uncompressed data is missing!\n"
     ]
    }
   ],
   "source": [
    "def merge_fold(src_folder, dest_folder):\n",
    "    for item in os.listdir(src_folder):\n",
    "        source_item = os.path.join(src_folder, item)\n",
    "        dest_item = os.path.join(dest_folder, item)\n",
    "\n",
    "        if os.path.isdir(source_item):\n",
    "            shutil.move(source_item, dest_item)\n",
    "        else:\n",
    "            shutil.move(source_item, dest_item)\n",
    "\n",
    "    os.rmdir(src_folder)\n",
    "\n",
    "print(f\"Merging the training data...\")\n",
    "\n",
    "if not os.path.exists(trn1_dir) or not os.path.exists(trn2_dir):\n",
    "    print(f\"Uncompressed data is missing!\")\n",
    "else:\n",
    "    if os.path.exists(training_dir):\n",
    "        shutil.rmtree(training_dir)\n",
    "\n",
    "    os.makedirs(training_dir)\n",
    "    merge_fold(trn1_dir, training_dir)\n",
    "    merge_fold(trn2_dir, training_dir)\n",
    "    print(f\"Merging complete!\")\n"
   ]
  },
  {
   "cell_type": "markdown",
   "metadata": {},
   "source": [
    "## Dataset Evaluation"
   ]
  },
  {
   "cell_type": "code",
   "execution_count": 4,
   "metadata": {},
   "outputs": [],
   "source": [
    "target_names = ['Speed_20', 'Speed_30', 'Speed_50', 'Speed_60', 'Speed_70',\n",
    "               'Speed_80','Speed_Limit_Ends', 'Speed_100', 'Speed_120', 'Overtaking_Prohibited',\n",
    "               'Overtakeing_Prohibited_Trucks', 'Priority', 'Priority_Road_Ahead', 'Yield', 'STOP',\n",
    "               'Entry_Forbidden', 'Trucks_Forbidden', 'No_Entry(one-way traffic)', 'General Danger(!)', 'Left_Curve_Ahead',\n",
    "               'Right_Curve_Ahead', 'Double_Curve', 'Poor_Surface_Ahead', 'Slippery_Surface_Ahead', 'Road_Narrows_On_Right',\n",
    "               'Roadwork_Ahead', 'Traffic_Light_Ahead', 'Warning_Pedestrians', 'Warning_Children', 'Warning_Bikes',\n",
    "               'Ice_Snow', 'Deer_Crossing', 'End_Previous_Limitation', 'Turning_Right_Compulsory', 'Turning_Left_Compulsory',\n",
    "               'Ahead_Only', 'Straight_Or_Right_Mandatory', 'Straight_Or_Left_Mandatory', 'Passing_Right_Compulsory', 'Passing_Left_Compulsory',\n",
    "               'Roundabout', 'End_Overtaking_Prohibition', 'End_Overtaking_Prohibition_Trucks']"
   ]
  },
  {
   "cell_type": "code",
   "execution_count": 5,
   "metadata": {},
   "outputs": [],
   "source": [
    "tg_df = pd.DataFrame(target_names)"
   ]
  },
  {
   "cell_type": "code",
   "execution_count": 12,
   "metadata": {},
   "outputs": [
    {
     "data": {
      "application/vnd.microsoft.datawrangler.viewer.v0+json": {
       "columns": [
        {
         "name": "index",
         "rawType": "int64",
         "type": "integer"
        },
        {
         "name": "0",
         "rawType": "object",
         "type": "string"
        }
       ],
       "conversionMethod": "pd.DataFrame",
       "ref": "aee65b9e-3fad-4021-b63f-5a7425971d2e",
       "rows": [
        [
         "18",
         "General Danger(!)"
        ],
        [
         "19",
         "Left_Curve_Ahead"
        ],
        [
         "20",
         "Right_Curve_Ahead"
        ],
        [
         "21",
         "Double_Curve"
        ],
        [
         "22",
         "Poor_Surface_Ahead"
        ],
        [
         "23",
         "Slippery_Surface_Ahead"
        ],
        [
         "24",
         "Road_Narrows_On_Right"
        ],
        [
         "25",
         "Roadwork_Ahead"
        ],
        [
         "26",
         "Traffic_Light_Ahead"
        ],
        [
         "27",
         "Warning_Pedestrians"
        ],
        [
         "28",
         "Warning_Children"
        ],
        [
         "29",
         "Warning_Bikes"
        ],
        [
         "30",
         "Ice_Snow"
        ],
        [
         "31",
         "Deer_Crossing"
        ],
        [
         "32",
         "End_Previous_Limitation"
        ],
        [
         "33",
         "Turning_Right_Compulsory"
        ],
        [
         "34",
         "Turning_Left_Compulsory"
        ],
        [
         "35",
         "Ahead_Only"
        ],
        [
         "36",
         "Straight_Or_Right_Mandatory"
        ],
        [
         "37",
         "Straight_Or_Left_Mandatory"
        ],
        [
         "38",
         "Passing_Right_Compulsory"
        ],
        [
         "39",
         "Passing_Left_Compulsory"
        ],
        [
         "40",
         "Roundabout"
        ],
        [
         "41",
         "End_Overtaking_Prohibition"
        ],
        [
         "42",
         "End_Overtaking_Prohibition_Trucks"
        ]
       ],
       "shape": {
        "columns": 1,
        "rows": 25
       }
      },
      "text/html": [
       "<div>\n",
       "<style scoped>\n",
       "    .dataframe tbody tr th:only-of-type {\n",
       "        vertical-align: middle;\n",
       "    }\n",
       "\n",
       "    .dataframe tbody tr th {\n",
       "        vertical-align: top;\n",
       "    }\n",
       "\n",
       "    .dataframe thead th {\n",
       "        text-align: right;\n",
       "    }\n",
       "</style>\n",
       "<table border=\"1\" class=\"dataframe\">\n",
       "  <thead>\n",
       "    <tr style=\"text-align: right;\">\n",
       "      <th></th>\n",
       "      <th>0</th>\n",
       "    </tr>\n",
       "  </thead>\n",
       "  <tbody>\n",
       "    <tr>\n",
       "      <th>18</th>\n",
       "      <td>General Danger(!)</td>\n",
       "    </tr>\n",
       "    <tr>\n",
       "      <th>19</th>\n",
       "      <td>Left_Curve_Ahead</td>\n",
       "    </tr>\n",
       "    <tr>\n",
       "      <th>20</th>\n",
       "      <td>Right_Curve_Ahead</td>\n",
       "    </tr>\n",
       "    <tr>\n",
       "      <th>21</th>\n",
       "      <td>Double_Curve</td>\n",
       "    </tr>\n",
       "    <tr>\n",
       "      <th>22</th>\n",
       "      <td>Poor_Surface_Ahead</td>\n",
       "    </tr>\n",
       "    <tr>\n",
       "      <th>23</th>\n",
       "      <td>Slippery_Surface_Ahead</td>\n",
       "    </tr>\n",
       "    <tr>\n",
       "      <th>24</th>\n",
       "      <td>Road_Narrows_On_Right</td>\n",
       "    </tr>\n",
       "    <tr>\n",
       "      <th>25</th>\n",
       "      <td>Roadwork_Ahead</td>\n",
       "    </tr>\n",
       "    <tr>\n",
       "      <th>26</th>\n",
       "      <td>Traffic_Light_Ahead</td>\n",
       "    </tr>\n",
       "    <tr>\n",
       "      <th>27</th>\n",
       "      <td>Warning_Pedestrians</td>\n",
       "    </tr>\n",
       "    <tr>\n",
       "      <th>28</th>\n",
       "      <td>Warning_Children</td>\n",
       "    </tr>\n",
       "    <tr>\n",
       "      <th>29</th>\n",
       "      <td>Warning_Bikes</td>\n",
       "    </tr>\n",
       "    <tr>\n",
       "      <th>30</th>\n",
       "      <td>Ice_Snow</td>\n",
       "    </tr>\n",
       "    <tr>\n",
       "      <th>31</th>\n",
       "      <td>Deer_Crossing</td>\n",
       "    </tr>\n",
       "    <tr>\n",
       "      <th>32</th>\n",
       "      <td>End_Previous_Limitation</td>\n",
       "    </tr>\n",
       "    <tr>\n",
       "      <th>33</th>\n",
       "      <td>Turning_Right_Compulsory</td>\n",
       "    </tr>\n",
       "    <tr>\n",
       "      <th>34</th>\n",
       "      <td>Turning_Left_Compulsory</td>\n",
       "    </tr>\n",
       "    <tr>\n",
       "      <th>35</th>\n",
       "      <td>Ahead_Only</td>\n",
       "    </tr>\n",
       "    <tr>\n",
       "      <th>36</th>\n",
       "      <td>Straight_Or_Right_Mandatory</td>\n",
       "    </tr>\n",
       "    <tr>\n",
       "      <th>37</th>\n",
       "      <td>Straight_Or_Left_Mandatory</td>\n",
       "    </tr>\n",
       "    <tr>\n",
       "      <th>38</th>\n",
       "      <td>Passing_Right_Compulsory</td>\n",
       "    </tr>\n",
       "    <tr>\n",
       "      <th>39</th>\n",
       "      <td>Passing_Left_Compulsory</td>\n",
       "    </tr>\n",
       "    <tr>\n",
       "      <th>40</th>\n",
       "      <td>Roundabout</td>\n",
       "    </tr>\n",
       "    <tr>\n",
       "      <th>41</th>\n",
       "      <td>End_Overtaking_Prohibition</td>\n",
       "    </tr>\n",
       "    <tr>\n",
       "      <th>42</th>\n",
       "      <td>End_Overtaking_Prohibition_Trucks</td>\n",
       "    </tr>\n",
       "  </tbody>\n",
       "</table>\n",
       "</div>"
      ],
      "text/plain": [
       "                                    0\n",
       "18                  General Danger(!)\n",
       "19                   Left_Curve_Ahead\n",
       "20                  Right_Curve_Ahead\n",
       "21                       Double_Curve\n",
       "22                 Poor_Surface_Ahead\n",
       "23             Slippery_Surface_Ahead\n",
       "24              Road_Narrows_On_Right\n",
       "25                     Roadwork_Ahead\n",
       "26                Traffic_Light_Ahead\n",
       "27                Warning_Pedestrians\n",
       "28                   Warning_Children\n",
       "29                      Warning_Bikes\n",
       "30                           Ice_Snow\n",
       "31                      Deer_Crossing\n",
       "32            End_Previous_Limitation\n",
       "33           Turning_Right_Compulsory\n",
       "34            Turning_Left_Compulsory\n",
       "35                         Ahead_Only\n",
       "36        Straight_Or_Right_Mandatory\n",
       "37         Straight_Or_Left_Mandatory\n",
       "38           Passing_Right_Compulsory\n",
       "39            Passing_Left_Compulsory\n",
       "40                         Roundabout\n",
       "41         End_Overtaking_Prohibition\n",
       "42  End_Overtaking_Prohibition_Trucks"
      ]
     },
     "execution_count": 12,
     "metadata": {},
     "output_type": "execute_result"
    }
   ],
   "source": [
    "tg_df.tail(25)"
   ]
  },
  {
   "cell_type": "code",
   "execution_count": 38,
   "metadata": {},
   "outputs": [
    {
     "name": "stdout",
     "output_type": "stream",
     "text": [
      "Found 31368 images belonging to 43 classes.\n",
      "Found 7841 images belonging to 43 classes.\n"
     ]
    }
   ],
   "source": [
    "img_sz = (100, 100)\n",
    "\n",
    "train_datagen = ImageDataGenerator(\n",
    "        rescale=1./255,\n",
    "        # rotation_range=40, # Consider Removing\n",
    "        # width_shift_range=0.1, # Consider Removing\n",
    "        # height_shift_range=0.1, # Consider Removing\n",
    "        # zoom_range=0.1, # Consider Removing\n",
    "        validation_split=.2\n",
    "        )\n",
    "validation_datagen = ImageDataGenerator(\n",
    "        rescale=1./255,\n",
    "        validation_split=.2\n",
    "        )\n",
    "\n",
    "train_generator = train_datagen.flow_from_directory(\n",
    "        training_dir,\n",
    "        target_size = img_sz,\n",
    "        subset=\"training\",\n",
    "        batch_size=32,\n",
    "        class_mode='sparse',\n",
    "        seed=42,shuffle=True)\n",
    "validation_generator = validation_datagen.flow_from_directory(\n",
    "        training_dir,\n",
    "        target_size=img_sz,\n",
    "        batch_size=32,\n",
    "        class_mode='sparse',\n",
    "        subset=\"validation\",\n",
    "        seed=42)"
   ]
  },
  {
   "cell_type": "code",
   "execution_count": null,
   "metadata": {},
   "outputs": [],
   "source": [
    "# View 9 images and their class labels\n",
    "plt.figure(figsize=(10, 10))\n",
    "images, labels = next(train_generator)\n",
    "batch_size = images.shape[0]\n",
    "\n",
    "for i in range(min(9, batch_size)):\n",
    "    ax = plt.subplot(3, 3, i + 1)\n",
    "    plt.imshow((images[i] * 255).astype(\"uint8\"))\n",
    "    plt.title(int(labels[i]))\n",
    "    plt.axis(\"off\")\n",
    "\n",
    "plt.show()"
   ]
  },
  {
   "cell_type": "markdown",
   "metadata": {},
   "source": [
    "## Data Augmentation"
   ]
  },
  {
   "cell_type": "code",
   "execution_count": null,
   "metadata": {},
   "outputs": [],
   "source": [
    "# Problematic\n",
    "\n",
    "# data_augment = tf.keras.Sequential([\n",
    "#     layers.RandomRotation(0.1),\n",
    "#     layers.RandomTranslation(0.1, 0.1),\n",
    "#     layers.RandomZoom(0.1, 0.1)\n",
    "# ])\n",
    "\n",
    "# augmented_train = train_generator.map(\n",
    "#     lambda x, y: (data_augment(x, training=True), y)\n",
    "# )"
   ]
  },
  {
   "cell_type": "markdown",
   "metadata": {},
   "source": [
    "# Model"
   ]
  },
  {
   "cell_type": "markdown",
   "metadata": {},
   "source": [
    "## Normal Model Set Up"
   ]
  },
  {
   "cell_type": "code",
   "execution_count": 39,
   "metadata": {},
   "outputs": [
    {
     "name": "stderr",
     "output_type": "stream",
     "text": [
      "C:\\Program Files\\Python312\\Lib\\site-packages\\keras\\src\\layers\\convolutional\\base_conv.py:107: UserWarning: Do not pass an `input_shape`/`input_dim` argument to a layer. When using Sequential models, prefer using an `Input(shape)` object as the first layer in the model instead.\n",
      "  super().__init__(activity_regularizer=activity_regularizer, **kwargs)\n"
     ]
    },
    {
     "data": {
      "text/html": [
       "<pre style=\"white-space:pre;overflow-x:auto;line-height:normal;font-family:Menlo,'DejaVu Sans Mono',consolas,'Courier New',monospace\"><span style=\"font-weight: bold\">Model: \"sequential_2\"</span>\n",
       "</pre>\n"
      ],
      "text/plain": [
       "\u001b[1mModel: \"sequential_2\"\u001b[0m\n"
      ]
     },
     "metadata": {},
     "output_type": "display_data"
    },
    {
     "data": {
      "text/html": [
       "<pre style=\"white-space:pre;overflow-x:auto;line-height:normal;font-family:Menlo,'DejaVu Sans Mono',consolas,'Courier New',monospace\">┏━━━━━━━━━━━━━━━━━━━━━━━━━━━━━━━━━┳━━━━━━━━━━━━━━━━━━━━━━━━┳━━━━━━━━━━━━━━━┓\n",
       "┃<span style=\"font-weight: bold\"> Layer (type)                    </span>┃<span style=\"font-weight: bold\"> Output Shape           </span>┃<span style=\"font-weight: bold\">       Param # </span>┃\n",
       "┡━━━━━━━━━━━━━━━━━━━━━━━━━━━━━━━━━╇━━━━━━━━━━━━━━━━━━━━━━━━╇━━━━━━━━━━━━━━━┩\n",
       "│ conv2d_41 (<span style=\"color: #0087ff; text-decoration-color: #0087ff\">Conv2D</span>)              │ (<span style=\"color: #00d7ff; text-decoration-color: #00d7ff\">None</span>, <span style=\"color: #00af00; text-decoration-color: #00af00\">98</span>, <span style=\"color: #00af00; text-decoration-color: #00af00\">98</span>, <span style=\"color: #00af00; text-decoration-color: #00af00\">32</span>)     │           <span style=\"color: #00af00; text-decoration-color: #00af00\">896</span> │\n",
       "├─────────────────────────────────┼────────────────────────┼───────────────┤\n",
       "│ conv2d_42 (<span style=\"color: #0087ff; text-decoration-color: #0087ff\">Conv2D</span>)              │ (<span style=\"color: #00d7ff; text-decoration-color: #00d7ff\">None</span>, <span style=\"color: #00af00; text-decoration-color: #00af00\">96</span>, <span style=\"color: #00af00; text-decoration-color: #00af00\">96</span>, <span style=\"color: #00af00; text-decoration-color: #00af00\">64</span>)     │        <span style=\"color: #00af00; text-decoration-color: #00af00\">18,496</span> │\n",
       "├─────────────────────────────────┼────────────────────────┼───────────────┤\n",
       "│ max_pooling2d_4 (<span style=\"color: #0087ff; text-decoration-color: #0087ff\">MaxPooling2D</span>)  │ (<span style=\"color: #00d7ff; text-decoration-color: #00d7ff\">None</span>, <span style=\"color: #00af00; text-decoration-color: #00af00\">48</span>, <span style=\"color: #00af00; text-decoration-color: #00af00\">48</span>, <span style=\"color: #00af00; text-decoration-color: #00af00\">64</span>)     │             <span style=\"color: #00af00; text-decoration-color: #00af00\">0</span> │\n",
       "├─────────────────────────────────┼────────────────────────┼───────────────┤\n",
       "│ conv2d_43 (<span style=\"color: #0087ff; text-decoration-color: #0087ff\">Conv2D</span>)              │ (<span style=\"color: #00d7ff; text-decoration-color: #00d7ff\">None</span>, <span style=\"color: #00af00; text-decoration-color: #00af00\">46</span>, <span style=\"color: #00af00; text-decoration-color: #00af00\">46</span>, <span style=\"color: #00af00; text-decoration-color: #00af00\">128</span>)    │        <span style=\"color: #00af00; text-decoration-color: #00af00\">73,856</span> │\n",
       "├─────────────────────────────────┼────────────────────────┼───────────────┤\n",
       "│ max_pooling2d_5 (<span style=\"color: #0087ff; text-decoration-color: #0087ff\">MaxPooling2D</span>)  │ (<span style=\"color: #00d7ff; text-decoration-color: #00d7ff\">None</span>, <span style=\"color: #00af00; text-decoration-color: #00af00\">23</span>, <span style=\"color: #00af00; text-decoration-color: #00af00\">23</span>, <span style=\"color: #00af00; text-decoration-color: #00af00\">128</span>)    │             <span style=\"color: #00af00; text-decoration-color: #00af00\">0</span> │\n",
       "├─────────────────────────────────┼────────────────────────┼───────────────┤\n",
       "│ conv2d_44 (<span style=\"color: #0087ff; text-decoration-color: #0087ff\">Conv2D</span>)              │ (<span style=\"color: #00d7ff; text-decoration-color: #00d7ff\">None</span>, <span style=\"color: #00af00; text-decoration-color: #00af00\">21</span>, <span style=\"color: #00af00; text-decoration-color: #00af00\">21</span>, <span style=\"color: #00af00; text-decoration-color: #00af00\">256</span>)    │       <span style=\"color: #00af00; text-decoration-color: #00af00\">295,168</span> │\n",
       "├─────────────────────────────────┼────────────────────────┼───────────────┤\n",
       "│ flatten_2 (<span style=\"color: #0087ff; text-decoration-color: #0087ff\">Flatten</span>)             │ (<span style=\"color: #00d7ff; text-decoration-color: #00d7ff\">None</span>, <span style=\"color: #00af00; text-decoration-color: #00af00\">112896</span>)         │             <span style=\"color: #00af00; text-decoration-color: #00af00\">0</span> │\n",
       "├─────────────────────────────────┼────────────────────────┼───────────────┤\n",
       "│ dense_5 (<span style=\"color: #0087ff; text-decoration-color: #0087ff\">Dense</span>)                 │ (<span style=\"color: #00d7ff; text-decoration-color: #00d7ff\">None</span>, <span style=\"color: #00af00; text-decoration-color: #00af00\">64</span>)             │     <span style=\"color: #00af00; text-decoration-color: #00af00\">7,225,408</span> │\n",
       "├─────────────────────────────────┼────────────────────────┼───────────────┤\n",
       "│ dense_6 (<span style=\"color: #0087ff; text-decoration-color: #0087ff\">Dense</span>)                 │ (<span style=\"color: #00d7ff; text-decoration-color: #00d7ff\">None</span>, <span style=\"color: #00af00; text-decoration-color: #00af00\">43</span>)             │         <span style=\"color: #00af00; text-decoration-color: #00af00\">2,795</span> │\n",
       "└─────────────────────────────────┴────────────────────────┴───────────────┘\n",
       "</pre>\n"
      ],
      "text/plain": [
       "┏━━━━━━━━━━━━━━━━━━━━━━━━━━━━━━━━━┳━━━━━━━━━━━━━━━━━━━━━━━━┳━━━━━━━━━━━━━━━┓\n",
       "┃\u001b[1m \u001b[0m\u001b[1mLayer (type)                   \u001b[0m\u001b[1m \u001b[0m┃\u001b[1m \u001b[0m\u001b[1mOutput Shape          \u001b[0m\u001b[1m \u001b[0m┃\u001b[1m \u001b[0m\u001b[1m      Param #\u001b[0m\u001b[1m \u001b[0m┃\n",
       "┡━━━━━━━━━━━━━━━━━━━━━━━━━━━━━━━━━╇━━━━━━━━━━━━━━━━━━━━━━━━╇━━━━━━━━━━━━━━━┩\n",
       "│ conv2d_41 (\u001b[38;5;33mConv2D\u001b[0m)              │ (\u001b[38;5;45mNone\u001b[0m, \u001b[38;5;34m98\u001b[0m, \u001b[38;5;34m98\u001b[0m, \u001b[38;5;34m32\u001b[0m)     │           \u001b[38;5;34m896\u001b[0m │\n",
       "├─────────────────────────────────┼────────────────────────┼───────────────┤\n",
       "│ conv2d_42 (\u001b[38;5;33mConv2D\u001b[0m)              │ (\u001b[38;5;45mNone\u001b[0m, \u001b[38;5;34m96\u001b[0m, \u001b[38;5;34m96\u001b[0m, \u001b[38;5;34m64\u001b[0m)     │        \u001b[38;5;34m18,496\u001b[0m │\n",
       "├─────────────────────────────────┼────────────────────────┼───────────────┤\n",
       "│ max_pooling2d_4 (\u001b[38;5;33mMaxPooling2D\u001b[0m)  │ (\u001b[38;5;45mNone\u001b[0m, \u001b[38;5;34m48\u001b[0m, \u001b[38;5;34m48\u001b[0m, \u001b[38;5;34m64\u001b[0m)     │             \u001b[38;5;34m0\u001b[0m │\n",
       "├─────────────────────────────────┼────────────────────────┼───────────────┤\n",
       "│ conv2d_43 (\u001b[38;5;33mConv2D\u001b[0m)              │ (\u001b[38;5;45mNone\u001b[0m, \u001b[38;5;34m46\u001b[0m, \u001b[38;5;34m46\u001b[0m, \u001b[38;5;34m128\u001b[0m)    │        \u001b[38;5;34m73,856\u001b[0m │\n",
       "├─────────────────────────────────┼────────────────────────┼───────────────┤\n",
       "│ max_pooling2d_5 (\u001b[38;5;33mMaxPooling2D\u001b[0m)  │ (\u001b[38;5;45mNone\u001b[0m, \u001b[38;5;34m23\u001b[0m, \u001b[38;5;34m23\u001b[0m, \u001b[38;5;34m128\u001b[0m)    │             \u001b[38;5;34m0\u001b[0m │\n",
       "├─────────────────────────────────┼────────────────────────┼───────────────┤\n",
       "│ conv2d_44 (\u001b[38;5;33mConv2D\u001b[0m)              │ (\u001b[38;5;45mNone\u001b[0m, \u001b[38;5;34m21\u001b[0m, \u001b[38;5;34m21\u001b[0m, \u001b[38;5;34m256\u001b[0m)    │       \u001b[38;5;34m295,168\u001b[0m │\n",
       "├─────────────────────────────────┼────────────────────────┼───────────────┤\n",
       "│ flatten_2 (\u001b[38;5;33mFlatten\u001b[0m)             │ (\u001b[38;5;45mNone\u001b[0m, \u001b[38;5;34m112896\u001b[0m)         │             \u001b[38;5;34m0\u001b[0m │\n",
       "├─────────────────────────────────┼────────────────────────┼───────────────┤\n",
       "│ dense_5 (\u001b[38;5;33mDense\u001b[0m)                 │ (\u001b[38;5;45mNone\u001b[0m, \u001b[38;5;34m64\u001b[0m)             │     \u001b[38;5;34m7,225,408\u001b[0m │\n",
       "├─────────────────────────────────┼────────────────────────┼───────────────┤\n",
       "│ dense_6 (\u001b[38;5;33mDense\u001b[0m)                 │ (\u001b[38;5;45mNone\u001b[0m, \u001b[38;5;34m43\u001b[0m)             │         \u001b[38;5;34m2,795\u001b[0m │\n",
       "└─────────────────────────────────┴────────────────────────┴───────────────┘\n"
      ]
     },
     "metadata": {},
     "output_type": "display_data"
    },
    {
     "data": {
      "text/html": [
       "<pre style=\"white-space:pre;overflow-x:auto;line-height:normal;font-family:Menlo,'DejaVu Sans Mono',consolas,'Courier New',monospace\"><span style=\"font-weight: bold\"> Total params: </span><span style=\"color: #00af00; text-decoration-color: #00af00\">7,616,619</span> (29.06 MB)\n",
       "</pre>\n"
      ],
      "text/plain": [
       "\u001b[1m Total params: \u001b[0m\u001b[38;5;34m7,616,619\u001b[0m (29.06 MB)\n"
      ]
     },
     "metadata": {},
     "output_type": "display_data"
    },
    {
     "data": {
      "text/html": [
       "<pre style=\"white-space:pre;overflow-x:auto;line-height:normal;font-family:Menlo,'DejaVu Sans Mono',consolas,'Courier New',monospace\"><span style=\"font-weight: bold\"> Trainable params: </span><span style=\"color: #00af00; text-decoration-color: #00af00\">7,616,619</span> (29.06 MB)\n",
       "</pre>\n"
      ],
      "text/plain": [
       "\u001b[1m Trainable params: \u001b[0m\u001b[38;5;34m7,616,619\u001b[0m (29.06 MB)\n"
      ]
     },
     "metadata": {},
     "output_type": "display_data"
    },
    {
     "data": {
      "text/html": [
       "<pre style=\"white-space:pre;overflow-x:auto;line-height:normal;font-family:Menlo,'DejaVu Sans Mono',consolas,'Courier New',monospace\"><span style=\"font-weight: bold\"> Non-trainable params: </span><span style=\"color: #00af00; text-decoration-color: #00af00\">0</span> (0.00 B)\n",
       "</pre>\n"
      ],
      "text/plain": [
       "\u001b[1m Non-trainable params: \u001b[0m\u001b[38;5;34m0\u001b[0m (0.00 B)\n"
      ]
     },
     "metadata": {},
     "output_type": "display_data"
    }
   ],
   "source": [
    "model_norm = models.Sequential()\n",
    "model_norm.add(layers.Conv2D(32, (3, 3), activation='relu', input_shape=(100, 100, 3)))\n",
    "# model.add(layers.MaxPooling2D((2, 2)))\n",
    "model_norm.add(layers.Conv2D(64, (3, 3), activation='relu'))\n",
    "model_norm.add(layers.MaxPooling2D((2, 2)))\n",
    "model_norm.add(layers.Conv2D(128, (3, 3), activation='relu'))\n",
    "model_norm.add(layers.MaxPooling2D((2, 2)))\n",
    "model_norm.add(layers.Conv2D(256, (3, 3), activation='relu'))\n",
    "model_norm.add(layers.Flatten())\n",
    "model_norm.add(layers.Dense(64, activation='relu'))\n",
    "model_norm.add(layers.Dense(43))\n",
    "model_norm.summary()\n",
    "\n",
    "# model = models.Sequential()\n",
    "# model.add(layers.Conv2D(32, (3, 3), activation='relu'))\n",
    "# # model.add(layers.MaxPooling2D((2, 2)))\n",
    "# model.add(layers.Conv2D(64, (3, 3), activation='relu'))\n",
    "# model.add(layers.MaxPooling2D((2, 2)))\n",
    "# model.add(layers.Conv2D(128, (3, 3), activation='relu'))\n",
    "# model.add(layers.MaxPooling2D((2, 2)))\n",
    "# model.add(layers.Conv2D(256, (3, 3), activation='relu'))\n",
    "# model.add(layers.Flatten())\n",
    "# model.add(layers.Dense(64, activation='relu'))\n",
    "# model.add(layers.Dense(43))\n",
    "# model.summary()"
   ]
  },
  {
   "cell_type": "markdown",
   "metadata": {},
   "source": [
    "## Resnet Model Set Up"
   ]
  },
  {
   "cell_type": "code",
   "execution_count": 7,
   "metadata": {},
   "outputs": [],
   "source": [
    "def resnet_block(x, filters, stride=1, downsample=False):\n",
    "    shortcut = x\n",
    "    # First convolution\n",
    "    x = layers.Conv2D(filters, kernel_size=3, strides=stride, padding='same',\n",
    "                      kernel_initializer='he_normal')(x)\n",
    "    x = layers.BatchNormalization()(x)\n",
    "    x = layers.Activation('relu')(x)\n",
    "    # Second convolution\n",
    "    x = layers.Conv2D(filters, kernel_size=3, strides=1, padding='same',\n",
    "                      kernel_initializer='he_normal')(x)\n",
    "    x = layers.BatchNormalization()(x)\n",
    "\n",
    "    # Adjust shortcut if dimensions change\n",
    "    if downsample:\n",
    "        shortcut = layers.Conv2D(filters, kernel_size=1, strides=stride, padding='same',\n",
    "                                 kernel_initializer='he_normal')(shortcut)\n",
    "        shortcut = layers.BatchNormalization()(shortcut)\n",
    "\n",
    "    x = layers.Add()([x, shortcut])\n",
    "    x = layers.Activation('relu')(x)\n",
    "    return x\n",
    "\n",
    "def build_resnet32(input_shape, num_classes):\n",
    "    inputs = keras.Input(shape=input_shape)\n",
    "    # Rescale input pixels\n",
    "    x = layers.Rescaling(1./255)(inputs)\n",
    "\n",
    "    # Initial convolution: 3x3, 16 filters\n",
    "    x = layers.Conv2D(16, kernel_size=3, strides=1, padding='same',\n",
    "                      kernel_initializer='he_normal')(x)\n",
    "    x = layers.BatchNormalization()(x)\n",
    "    x = layers.Activation('relu')(x)\n",
    "\n",
    "    # Group 1: 5 residual blocks, 16 filters\n",
    "    for i in range(5):\n",
    "        x = resnet_block(x, filters=16, stride=1, downsample=False)\n",
    "\n",
    "    # Group 2: 5 residual blocks, 32 filters (first block downsamples)\n",
    "    x = resnet_block(x, filters=32, stride=2, downsample=True)\n",
    "    for i in range(4):\n",
    "        x = resnet_block(x, filters=32, stride=1, downsample=False)\n",
    "\n",
    "    # Group 3: 5 residual blocks, 64 filters (first block downsamples)\n",
    "    x = resnet_block(x, filters=64, stride=2, downsample=True)\n",
    "    for i in range(4):\n",
    "        x = resnet_block(x, filters=64, stride=1, downsample=False)\n",
    "\n",
    "    # Global average pooling and classification layer\n",
    "    x = layers.GlobalAveragePooling2D()(x)\n",
    "    outputs = layers.Dense(num_classes, activation='softmax')(x)\n",
    "\n",
    "    model = models.Model(inputs, outputs)\n",
    "    return model\n",
    "\n",
    "# -------------------- 6. BUILD THE RESNET-32 MODEL --------------------\n",
    "input_shape = img_sz + (3,)\n",
    "num_classes = len(target_names)\n",
    "model_res = build_resnet32(input_shape, num_classes)"
   ]
  },
  {
   "cell_type": "code",
   "execution_count": null,
   "metadata": {},
   "outputs": [],
   "source": [
    "# model_res.summary()"
   ]
  },
  {
   "cell_type": "markdown",
   "metadata": {},
   "source": [
    "## Training"
   ]
  },
  {
   "cell_type": "code",
   "execution_count": 40,
   "metadata": {},
   "outputs": [],
   "source": [
    "def f1_score_it(y_true, y_pred):\n",
    "    epsilon = tf.keras.backend.epsilon()\n",
    "    \n",
    "    # Convert y_true and y_pred to float32 to avoid issues with integer division\n",
    "    y_true = tf.cast(y_true, tf.float32)\n",
    "    y_pred = tf.cast(y_pred, tf.float32)\n",
    "\n",
    "    # Calculate Precision and Recall\n",
    "    precision = tf.reduce_mean(tf.keras.metrics.Precision()(y_true, y_pred))\n",
    "    recall = tf.reduce_mean(tf.keras.metrics.Recall()(y_true, y_pred))\n",
    "\n",
    "    # Calculate F1 Score: 2 * (precision * recall) / (precision + recall)\n",
    "    f1 = 2 * (precision * recall) / (precision + recall + epsilon)\n",
    "    return f1"
   ]
  },
  {
   "cell_type": "code",
   "execution_count": 41,
   "metadata": {},
   "outputs": [],
   "source": [
    "# resnet is broken right now\n",
    "norm_or_res = 0\n",
    "if (norm_or_res == 1):\n",
    "    model_norm = model_res"
   ]
  },
  {
   "cell_type": "code",
   "execution_count": 42,
   "metadata": {},
   "outputs": [],
   "source": [
    "opt = keras.optimizers.Adam()\n",
    "model_norm.compile(optimizer=opt,\n",
    "              loss=tf.keras.losses.SparseCategoricalCrossentropy(from_logits=True),\n",
    "              metrics=['accuracy'])"
   ]
  },
  {
   "cell_type": "code",
   "execution_count": 63,
   "metadata": {},
   "outputs": [
    {
     "name": "stdout",
     "output_type": "stream",
     "text": [
      "Epoch 1/30\n",
      "\u001b[1m120/120\u001b[0m \u001b[32m━━━━━━━━━━━━━━━━━━━━\u001b[0m\u001b[37m\u001b[0m \u001b[1m24s\u001b[0m 196ms/step - accuracy: 0.9953 - loss: 0.0202 - val_accuracy: 0.9285 - val_loss: 0.3784\n",
      "Epoch 2/30\n",
      "\u001b[1m120/120\u001b[0m \u001b[32m━━━━━━━━━━━━━━━━━━━━\u001b[0m\u001b[37m\u001b[0m \u001b[1m23s\u001b[0m 191ms/step - accuracy: 0.9955 - loss: 0.0133 - val_accuracy: 0.8890 - val_loss: 0.5553\n",
      "Epoch 3/30\n",
      "\u001b[1m120/120\u001b[0m \u001b[32m━━━━━━━━━━━━━━━━━━━━\u001b[0m\u001b[37m\u001b[0m \u001b[1m22s\u001b[0m 188ms/step - accuracy: 0.9937 - loss: 0.0197 - val_accuracy: 0.9350 - val_loss: 0.4412\n",
      "Epoch 4/30\n",
      "\u001b[1m120/120\u001b[0m \u001b[32m━━━━━━━━━━━━━━━━━━━━\u001b[0m\u001b[37m\u001b[0m \u001b[1m24s\u001b[0m 200ms/step - accuracy: 0.9946 - loss: 0.0197 - val_accuracy: 0.9314 - val_loss: 0.3731\n",
      "Epoch 5/30\n",
      "\u001b[1m120/120\u001b[0m \u001b[32m━━━━━━━━━━━━━━━━━━━━\u001b[0m\u001b[37m\u001b[0m \u001b[1m24s\u001b[0m 198ms/step - accuracy: 0.9965 - loss: 0.0103 - val_accuracy: 0.9203 - val_loss: 0.3499\n",
      "Epoch 6/30\n",
      "\u001b[1m120/120\u001b[0m \u001b[32m━━━━━━━━━━━━━━━━━━━━\u001b[0m\u001b[37m\u001b[0m \u001b[1m23s\u001b[0m 195ms/step - accuracy: 0.9956 - loss: 0.0104 - val_accuracy: 0.9267 - val_loss: 0.4858\n",
      "Epoch 7/30\n",
      "\u001b[1m120/120\u001b[0m \u001b[32m━━━━━━━━━━━━━━━━━━━━\u001b[0m\u001b[37m\u001b[0m \u001b[1m23s\u001b[0m 192ms/step - accuracy: 0.9953 - loss: 0.0203 - val_accuracy: 0.9314 - val_loss: 0.3920\n",
      "Epoch 8/30\n",
      "\u001b[1m120/120\u001b[0m \u001b[32m━━━━━━━━━━━━━━━━━━━━\u001b[0m\u001b[37m\u001b[0m \u001b[1m23s\u001b[0m 195ms/step - accuracy: 0.9962 - loss: 0.0113 - val_accuracy: 0.9399 - val_loss: 0.3423\n",
      "Epoch 9/30\n",
      "\u001b[1m 21/120\u001b[0m \u001b[32m━━━\u001b[0m\u001b[37m━━━━━━━━━━━━━━━━━\u001b[0m \u001b[1m12s\u001b[0m 122ms/step - accuracy: 1.0000 - loss: 0.0027"
     ]
    },
    {
     "name": "stderr",
     "output_type": "stream",
     "text": [
      "C:\\Program Files\\Python312\\Lib\\site-packages\\keras\\src\\trainers\\epoch_iterator.py:107: UserWarning: Your input ran out of data; interrupting training. Make sure that your dataset or generator can generate at least `steps_per_epoch * epochs` batches. You may need to use the `.repeat()` function when building your dataset.\n",
      "  self._interrupted_warning()\n"
     ]
    },
    {
     "name": "stdout",
     "output_type": "stream",
     "text": [
      "\u001b[1m120/120\u001b[0m \u001b[32m━━━━━━━━━━━━━━━━━━━━\u001b[0m\u001b[37m\u001b[0m \u001b[1m11s\u001b[0m 92ms/step - accuracy: 1.0000 - loss: 0.0020 - val_accuracy: 0.9333 - val_loss: 0.3952\n",
      "Epoch 10/30\n",
      "\u001b[1m120/120\u001b[0m \u001b[32m━━━━━━━━━━━━━━━━━━━━\u001b[0m\u001b[37m\u001b[0m \u001b[1m23s\u001b[0m 195ms/step - accuracy: 0.9998 - loss: 0.0030 - val_accuracy: 0.9223 - val_loss: 0.4087\n",
      "Epoch 11/30\n",
      "\u001b[1m120/120\u001b[0m \u001b[32m━━━━━━━━━━━━━━━━━━━━\u001b[0m\u001b[37m\u001b[0m \u001b[1m23s\u001b[0m 192ms/step - accuracy: 0.9975 - loss: 0.0090 - val_accuracy: 0.9154 - val_loss: 0.5519\n",
      "Epoch 12/30\n",
      "\u001b[1m120/120\u001b[0m \u001b[32m━━━━━━━━━━━━━━━━━━━━\u001b[0m\u001b[37m\u001b[0m \u001b[1m23s\u001b[0m 191ms/step - accuracy: 0.9933 - loss: 0.0248 - val_accuracy: 0.9283 - val_loss: 0.3817\n",
      "Epoch 13/30\n",
      "\u001b[1m120/120\u001b[0m \u001b[32m━━━━━━━━━━━━━━━━━━━━\u001b[0m\u001b[37m\u001b[0m \u001b[1m23s\u001b[0m 196ms/step - accuracy: 0.9969 - loss: 0.0121 - val_accuracy: 0.9232 - val_loss: 0.3895\n",
      "Epoch 14/30\n",
      "\u001b[1m120/120\u001b[0m \u001b[32m━━━━━━━━━━━━━━━━━━━━\u001b[0m\u001b[37m\u001b[0m \u001b[1m23s\u001b[0m 192ms/step - accuracy: 0.9973 - loss: 0.0071 - val_accuracy: 0.9046 - val_loss: 0.6821\n",
      "Epoch 15/30\n",
      "\u001b[1m120/120\u001b[0m \u001b[32m━━━━━━━━━━━━━━━━━━━━\u001b[0m\u001b[37m\u001b[0m \u001b[1m23s\u001b[0m 189ms/step - accuracy: 0.9835 - loss: 0.0692 - val_accuracy: 0.9171 - val_loss: 0.4897\n",
      "Epoch 16/30\n",
      "\u001b[1m120/120\u001b[0m \u001b[32m━━━━━━━━━━━━━━━━━━━━\u001b[0m\u001b[37m\u001b[0m \u001b[1m23s\u001b[0m 191ms/step - accuracy: 0.9901 - loss: 0.0340 - val_accuracy: 0.8463 - val_loss: 1.3571\n",
      "Epoch 17/30\n",
      "\u001b[1m120/120\u001b[0m \u001b[32m━━━━━━━━━━━━━━━━━━━━\u001b[0m\u001b[37m\u001b[0m \u001b[1m24s\u001b[0m 202ms/step - accuracy: 0.9856 - loss: 0.0607 - val_accuracy: 0.9066 - val_loss: 0.5979\n",
      "Epoch 18/30\n",
      "\u001b[1m120/120\u001b[0m \u001b[32m━━━━━━━━━━━━━━━━━━━━\u001b[0m\u001b[37m\u001b[0m \u001b[1m11s\u001b[0m 95ms/step - accuracy: 0.9926 - loss: 0.0188 - val_accuracy: 0.9148 - val_loss: 0.4573\n",
      "Epoch 19/30\n",
      "\u001b[1m120/120\u001b[0m \u001b[32m━━━━━━━━━━━━━━━━━━━━\u001b[0m\u001b[37m\u001b[0m \u001b[1m24s\u001b[0m 201ms/step - accuracy: 0.9973 - loss: 0.0095 - val_accuracy: 0.9279 - val_loss: 0.4705\n",
      "Epoch 20/30\n",
      "\u001b[1m120/120\u001b[0m \u001b[32m━━━━━━━━━━━━━━━━━━━━\u001b[0m\u001b[37m\u001b[0m \u001b[1m24s\u001b[0m 200ms/step - accuracy: 0.9961 - loss: 0.0189 - val_accuracy: 0.9388 - val_loss: 0.3717\n",
      "Epoch 21/30\n",
      "\u001b[1m120/120\u001b[0m \u001b[32m━━━━━━━━━━━━━━━━━━━━\u001b[0m\u001b[37m\u001b[0m \u001b[1m24s\u001b[0m 205ms/step - accuracy: 0.9951 - loss: 0.0130 - val_accuracy: 0.9110 - val_loss: 0.5039\n",
      "Epoch 22/30\n",
      "\u001b[1m120/120\u001b[0m \u001b[32m━━━━━━━━━━━━━━━━━━━━\u001b[0m\u001b[37m\u001b[0m \u001b[1m24s\u001b[0m 204ms/step - accuracy: 0.9898 - loss: 0.0334 - val_accuracy: 0.9431 - val_loss: 0.3633\n",
      "Epoch 23/30\n",
      "\u001b[1m120/120\u001b[0m \u001b[32m━━━━━━━━━━━━━━━━━━━━\u001b[0m\u001b[37m\u001b[0m \u001b[1m25s\u001b[0m 207ms/step - accuracy: 0.9979 - loss: 0.0060 - val_accuracy: 0.9365 - val_loss: 0.4451\n",
      "Epoch 24/30\n",
      "\u001b[1m120/120\u001b[0m \u001b[32m━━━━━━━━━━━━━━━━━━━━\u001b[0m\u001b[37m\u001b[0m \u001b[1m25s\u001b[0m 205ms/step - accuracy: 0.9949 - loss: 0.0183 - val_accuracy: 0.9050 - val_loss: 0.7085\n",
      "Epoch 25/30\n",
      "\u001b[1m120/120\u001b[0m \u001b[32m━━━━━━━━━━━━━━━━━━━━\u001b[0m\u001b[37m\u001b[0m \u001b[1m23s\u001b[0m 195ms/step - accuracy: 0.9915 - loss: 0.0318 - val_accuracy: 0.9033 - val_loss: 0.6017\n",
      "Epoch 26/30\n",
      "\u001b[1m120/120\u001b[0m \u001b[32m━━━━━━━━━━━━━━━━━━━━\u001b[0m\u001b[37m\u001b[0m \u001b[1m23s\u001b[0m 194ms/step - accuracy: 0.9917 - loss: 0.0334 - val_accuracy: 0.9161 - val_loss: 0.4253\n",
      "Epoch 27/30\n",
      "\u001b[1m120/120\u001b[0m \u001b[32m━━━━━━━━━━━━━━━━━━━━\u001b[0m\u001b[37m\u001b[0m \u001b[1m11s\u001b[0m 92ms/step - accuracy: 0.9975 - loss: 0.0274 - val_accuracy: 0.9426 - val_loss: 0.3571\n",
      "Epoch 28/30\n",
      "\u001b[1m120/120\u001b[0m \u001b[32m━━━━━━━━━━━━━━━━━━━━\u001b[0m\u001b[37m\u001b[0m \u001b[1m23s\u001b[0m 194ms/step - accuracy: 0.9973 - loss: 0.0064 - val_accuracy: 0.9279 - val_loss: 0.4267\n",
      "Epoch 29/30\n",
      "\u001b[1m120/120\u001b[0m \u001b[32m━━━━━━━━━━━━━━━━━━━━\u001b[0m\u001b[37m\u001b[0m \u001b[1m23s\u001b[0m 192ms/step - accuracy: 0.9940 - loss: 0.0232 - val_accuracy: 0.9366 - val_loss: 0.3713\n",
      "Epoch 30/30\n",
      "\u001b[1m120/120\u001b[0m \u001b[32m━━━━━━━━━━━━━━━━━━━━\u001b[0m\u001b[37m\u001b[0m \u001b[1m23s\u001b[0m 193ms/step - accuracy: 0.9980 - loss: 0.0081 - val_accuracy: 0.9348 - val_loss: 0.3476\n"
     ]
    }
   ],
   "source": [
    "checkpoints = './Module 5/checkpoint.weights.h5'\n",
    "model_checkpoint_callback = tf.keras.callbacks.ModelCheckpoint(\n",
    "    filepath=checkpoints,\n",
    "    save_weights_only=True,\n",
    "    monitor='val_accuracy',\n",
    "    mode='max',\n",
    "    save_best_only=True)\n",
    "\n",
    "history = model_norm.fit(\n",
    "    train_generator,\n",
    "    steps_per_epoch=120,\n",
    "    epochs=30,\n",
    "    validation_data=validation_generator,\n",
    "    callbacks=[model_checkpoint_callback],\n",
    "    initial_epoch=0)"
   ]
  },
  {
   "cell_type": "markdown",
   "metadata": {},
   "source": [
    "# Model Testing and Predictions"
   ]
  },
  {
   "cell_type": "code",
   "execution_count": 64,
   "metadata": {},
   "outputs": [],
   "source": [
    "test_dir = './Module 5/uncompressed/'\n",
    "\n",
    "test_datagen = ImageDataGenerator(rescale=1./255)"
   ]
  },
  {
   "cell_type": "markdown",
   "metadata": {},
   "source": [
    "## Testing against the Mini Holdout"
   ]
  },
  {
   "cell_type": "code",
   "execution_count": 65,
   "metadata": {},
   "outputs": [
    {
     "name": "stdout",
     "output_type": "stream",
     "text": [
      "Found 201 images belonging to 1 classes.\n",
      "\u001b[1m3/7\u001b[0m \u001b[32m━━━━━━━━\u001b[0m\u001b[37m━━━━━━━━━━━━\u001b[0m \u001b[1m0s\u001b[0m 35ms/step"
     ]
    },
    {
     "name": "stderr",
     "output_type": "stream",
     "text": [
      "C:\\Program Files\\Python312\\Lib\\site-packages\\keras\\src\\trainers\\data_adapters\\py_dataset_adapter.py:121: UserWarning: Your `PyDataset` class should call `super().__init__(**kwargs)` in its constructor. `**kwargs` can include `workers`, `use_multiprocessing`, `max_queue_size`. Do not pass these arguments to `fit()`, as they will be ignored.\n",
      "  self._warn_if_super_not_called()\n"
     ]
    },
    {
     "name": "stdout",
     "output_type": "stream",
     "text": [
      "\u001b[1m7/7\u001b[0m \u001b[32m━━━━━━━━━━━━━━━━━━━━\u001b[0m\u001b[37m\u001b[0m \u001b[1m0s\u001b[0m 34ms/step\n"
     ]
    }
   ],
   "source": [
    "\n",
    "test_generator_mini = test_datagen.flow_from_directory(\n",
    "    test_dir,\n",
    "    classes=['mini_holdout'],\n",
    "    target_size=img_sz,\n",
    "    class_mode='sparse',\n",
    "    shuffle=False)\n",
    "probs_mini = model_norm.predict(test_generator_mini)\n",
    "preds_mini = [np.argmax(probas) for probas in probs_mini]\n",
    "\n",
    "# The prediction times are whats important. This is how fast the model can understand the image that it is given. In the case of driving too mnay seconds equals wreck or forget the sign."
   ]
  },
  {
   "cell_type": "code",
   "execution_count": 66,
   "metadata": {},
   "outputs": [],
   "source": [
    "mini_ans = pd.read_csv(\"./Module 5/mini_holdout_answers.csv\")\n",
    "mini_ans['Sign'] = mini_ans['ClassId'].map(lambda x: target_names[x])"
   ]
  },
  {
   "cell_type": "code",
   "execution_count": 67,
   "metadata": {},
   "outputs": [],
   "source": [
    "preds_df = pd.DataFrame(preds_mini, columns=['ClassId'])\n",
    "preds_df['Sign'] = preds_df['ClassId'].map(lambda x: target_names[x])"
   ]
  },
  {
   "cell_type": "code",
   "execution_count": null,
   "metadata": {},
   "outputs": [],
   "source": [
    "display(mini_ans.head(5))\n",
    "display(preds_df.head(5))"
   ]
  },
  {
   "cell_type": "code",
   "execution_count": 68,
   "metadata": {},
   "outputs": [
    {
     "name": "stdout",
     "output_type": "stream",
     "text": [
      "                               precision    recall  f1-score   support\n",
      "\n",
      "                   Ahead_Only       1.00      0.75      0.86         4\n",
      "                Deer_Crossing       0.50      1.00      0.67         1\n",
      "                 Double_Curve       0.67      0.67      0.67         3\n",
      "   End_Overtaking_Prohibition       1.00      0.50      0.67         2\n",
      "      End_Previous_Limitation       1.00      1.00      1.00         1\n",
      "              Entry_Forbidden       1.00      1.00      1.00         2\n",
      "            General Danger(!)       0.80      1.00      0.89         8\n",
      "                     Ice_Snow       1.00      0.50      0.67         4\n",
      "             Left_Curve_Ahead       0.00      0.00      0.00         0\n",
      "    No_Entry(one-way traffic)       1.00      1.00      1.00         7\n",
      "Overtakeing_Prohibited_Trucks       1.00      1.00      1.00        12\n",
      "        Overtaking_Prohibited       0.91      1.00      0.95        10\n",
      "     Passing_Right_Compulsory       1.00      1.00      1.00         9\n",
      "           Poor_Surface_Ahead       1.00      1.00      1.00         1\n",
      "                     Priority       0.89      1.00      0.94         8\n",
      "          Priority_Road_Ahead       1.00      0.86      0.92         7\n",
      "            Right_Curve_Ahead       0.67      1.00      0.80         2\n",
      "        Road_Narrows_On_Right       0.67      1.00      0.80         2\n",
      "               Roadwork_Ahead       1.00      0.93      0.96        14\n",
      "                   Roundabout       1.00      1.00      1.00         2\n",
      "                         STOP       1.00      1.00      1.00         4\n",
      "       Slippery_Surface_Ahead       0.00      0.00      0.00         2\n",
      "                    Speed_100       1.00      0.88      0.93         8\n",
      "                    Speed_120       1.00      0.83      0.91         6\n",
      "                     Speed_30       1.00      0.91      0.95        11\n",
      "                     Speed_50       1.00      1.00      1.00         8\n",
      "                     Speed_60       1.00      1.00      1.00        10\n",
      "                     Speed_70       0.82      1.00      0.90         9\n",
      "                     Speed_80       0.80      0.80      0.80         5\n",
      "             Speed_Limit_Ends       1.00      1.00      1.00         3\n",
      "  Straight_Or_Right_Mandatory       1.00      1.00      1.00         2\n",
      "          Traffic_Light_Ahead       1.00      0.67      0.80         3\n",
      "             Trucks_Forbidden       1.00      1.00      1.00         5\n",
      "      Turning_Left_Compulsory       0.67      1.00      0.80         2\n",
      "     Turning_Right_Compulsory       1.00      1.00      1.00         7\n",
      "                Warning_Bikes       1.00      0.67      0.80         3\n",
      "             Warning_Children       1.00      1.00      1.00         2\n",
      "          Warning_Pedestrians       1.00      1.00      1.00         2\n",
      "                        Yield       1.00      1.00      1.00        10\n",
      "\n",
      "                     accuracy                           0.93       201\n",
      "                    macro avg       0.88      0.87      0.86       201\n",
      "                 weighted avg       0.94      0.93      0.93       201\n",
      "\n"
     ]
    },
    {
     "name": "stderr",
     "output_type": "stream",
     "text": [
      "C:\\Program Files\\Python312\\Lib\\site-packages\\sklearn\\metrics\\_classification.py:1531: UndefinedMetricWarning: Recall is ill-defined and being set to 0.0 in labels with no true samples. Use `zero_division` parameter to control this behavior.\n",
      "  _warn_prf(average, modifier, f\"{metric.capitalize()} is\", len(result))\n",
      "C:\\Program Files\\Python312\\Lib\\site-packages\\sklearn\\metrics\\_classification.py:1531: UndefinedMetricWarning: Recall is ill-defined and being set to 0.0 in labels with no true samples. Use `zero_division` parameter to control this behavior.\n",
      "  _warn_prf(average, modifier, f\"{metric.capitalize()} is\", len(result))\n",
      "C:\\Program Files\\Python312\\Lib\\site-packages\\sklearn\\metrics\\_classification.py:1531: UndefinedMetricWarning: Recall is ill-defined and being set to 0.0 in labels with no true samples. Use `zero_division` parameter to control this behavior.\n",
      "  _warn_prf(average, modifier, f\"{metric.capitalize()} is\", len(result))\n"
     ]
    }
   ],
   "source": [
    "print(classification_report(mini_ans['Sign'], preds_df['Sign']))"
   ]
  },
  {
   "cell_type": "markdown",
   "metadata": {},
   "source": [
    "### Confusion Matrix"
   ]
  },
  {
   "cell_type": "code",
   "execution_count": 69,
   "metadata": {},
   "outputs": [
    {
     "data": {
      "text/plain": [
       "<sklearn.metrics._plot.confusion_matrix.ConfusionMatrixDisplay at 0x16603214dd0>"
      ]
     },
     "execution_count": 69,
     "metadata": {},
     "output_type": "execute_result"
    },
    {
     "data": {
      "image/png": "[encoded data removed]",
      "text/plain": [
       "<Figure size 1300x1300 with 2 Axes>"
      ]
     },
     "metadata": {},
     "output_type": "display_data"
    }
   ],
   "source": [
    "cm = confusion_matrix(mini_ans['ClassId'], preds_df['ClassId'])\n",
    "cmd = ConfusionMatrixDisplay(cm)\n",
    "fig, ax = plt.subplots(figsize=(13,13))\n",
    "cmd.plot(ax=ax, cmap=\"Blues\", values_format='.5g')"
   ]
  },
  {
   "cell_type": "code",
   "execution_count": null,
   "metadata": {},
   "outputs": [
    {
     "data": {
      "application/vnd.microsoft.datawrangler.viewer.v0+json": {
       "columns": [
        {
         "name": "index",
         "rawType": "int64",
         "type": "integer"
        },
        {
         "name": "MiniPred",
         "rawType": "int64",
         "type": "integer"
        },
        {
         "name": "MiniActual",
         "rawType": "int64",
         "type": "integer"
        }
       ],
       "conversionMethod": "pd.DataFrame",
       "ref": "99990bbf-a6ca-484c-b19e-ece82d1122ae",
       "rows": [
        [
         "0",
         "16",
         "16"
        ],
        [
         "1",
         "1",
         "1"
        ],
        [
         "2",
         "38",
         "38"
        ],
        [
         "3",
         "33",
         "33"
        ],
        [
         "4",
         "11",
         "11"
        ]
       ],
       "shape": {
        "columns": 2,
        "rows": 5
       }
      },
      "text/html": [
       "<div>\n",
       "<style scoped>\n",
       "    .dataframe tbody tr th:only-of-type {\n",
       "        vertical-align: middle;\n",
       "    }\n",
       "\n",
       "    .dataframe tbody tr th {\n",
       "        vertical-align: top;\n",
       "    }\n",
       "\n",
       "    .dataframe thead th {\n",
       "        text-align: right;\n",
       "    }\n",
       "</style>\n",
       "<table border=\"1\" class=\"dataframe\">\n",
       "  <thead>\n",
       "    <tr style=\"text-align: right;\">\n",
       "      <th></th>\n",
       "      <th>MiniPred</th>\n",
       "      <th>MiniActual</th>\n",
       "    </tr>\n",
       "  </thead>\n",
       "  <tbody>\n",
       "    <tr>\n",
       "      <th>0</th>\n",
       "      <td>16</td>\n",
       "      <td>16</td>\n",
       "    </tr>\n",
       "    <tr>\n",
       "      <th>1</th>\n",
       "      <td>1</td>\n",
       "      <td>1</td>\n",
       "    </tr>\n",
       "    <tr>\n",
       "      <th>2</th>\n",
       "      <td>38</td>\n",
       "      <td>38</td>\n",
       "    </tr>\n",
       "    <tr>\n",
       "      <th>3</th>\n",
       "      <td>33</td>\n",
       "      <td>33</td>\n",
       "    </tr>\n",
       "    <tr>\n",
       "      <th>4</th>\n",
       "      <td>11</td>\n",
       "      <td>11</td>\n",
       "    </tr>\n",
       "  </tbody>\n",
       "</table>\n",
       "</div>"
      ],
      "text/plain": [
       "   MiniPred  MiniActual\n",
       "0        16          16\n",
       "1         1           1\n",
       "2        38          38\n",
       "3        33          33\n",
       "4        11          11"
      ]
     },
     "execution_count": 70,
     "metadata": {},
     "output_type": "execute_result"
    }
   ],
   "source": [
    "res_mini_df = pd.DataFrame()\n",
    "res_mini_df['MiniPred'] = preds_df['ClassId']\n",
    "res_mini_df['MiniActual'] = mini_ans['ClassId']\n",
    "\n",
    "class_mini_accuracies = []\n",
    "class_mini_f1_scores = []\n",
    "\n",
    "for i in range(43):\n",
    "    class_indices = np.where(mini_ans['ClassId'] == i)[0]\n",
    "\n",
    "    y_true_class = y_true[class_indices]\n",
    "    y_pred_class = y_pred_classes[class_indices]\n",
    "\n",
    "    class_accuracy = accuracy_score(y_true_class, y_pred_class)\n",
    "    class_f1 = f1_score(y_true_class, y_pred_class, average='weighted')\n",
    "\n",
    "    class_mini_accuracies.append(class_accuracy)\n",
    "    class_mini_f1_scores.append(class_f1)\n",
    "\n",
    "res_mini_melted = res_mini_df.melt(id_vars='Class', value_vars=['Accuracy', 'F1 Score'], var_name='Metric', value_name='Score')\n",
    "\n",
    "plt.figure(figsize=(10, 8))\n",
    "sns.barplot(x='Class', y='Score', hue='Metric', data=res_mini_melted)\n",
    "plt.title('Accuracy and F1 Scores per Sign')\n",
    "plt.xlabel('Sign')\n",
    "plt.ylabel('Score')\n",
    "plt.xticks(rotation=45)\n",
    "plt.show()"
   ]
  },
  {
   "cell_type": "code",
   "execution_count": 73,
   "metadata": {},
   "outputs": [
    {
     "data": {
      "text/plain": [
       "0"
      ]
     },
     "execution_count": 73,
     "metadata": {},
     "output_type": "execute_result"
    }
   ],
   "source": [
    "len(np.where(res_mini_df['MiniActual'] == 0)[0])"
   ]
  },
  {
   "cell_type": "code",
   "execution_count": 33,
   "metadata": {},
   "outputs": [],
   "source": [
    "# May be necessary to avoid issues with states\n",
    "validation_generator.reset() "
   ]
  },
  {
   "cell_type": "code",
   "execution_count": 60,
   "metadata": {},
   "outputs": [
    {
     "name": "stdout",
     "output_type": "stream",
     "text": [
      "\u001b[1m246/246\u001b[0m \u001b[32m━━━━━━━━━━━━━━━━━━━━\u001b[0m\u001b[37m\u001b[0m \u001b[1m9s\u001b[0m 38ms/step\n"
     ]
    }
   ],
   "source": [
    "y_pred = model_norm.predict(validation_generator, steps=int(np.ceil(validation_generator.samples / validation_generator.batch_size)), verbose=1)\n",
    "y_true = validation_generator.classes\n",
    "\n",
    "y_pred_classes = np.argmax(y_pred, axis=1)\n",
    "class_accuracies = []\n",
    "class_f1_scores = []\n",
    "\n",
    "for i in range(43):\n",
    "    class_indices = np.where(y_true == i)[0]\n",
    "\n",
    "    y_true_class = y_true[class_indices]\n",
    "    y_pred_class = y_pred_classes[class_indices]\n",
    "\n",
    "    class_accuracy = accuracy_score(y_true_class, y_pred_class)\n",
    "    class_f1 = f1_score(y_true_class, y_pred_class, average='weighted')\n",
    "\n",
    "    class_accuracies.append(class_accuracy)\n",
    "    class_f1_scores.append(class_f1)"
   ]
  },
  {
   "cell_type": "code",
   "execution_count": 61,
   "metadata": {},
   "outputs": [],
   "source": [
    "# classes = [f'Class {i}' for i in range(43)]\n",
    "data = {\n",
    "    'Class': target_names,\n",
    "    'Accuracy': class_accuracies,\n",
    "    'F1 Score': class_f1_scores\n",
    "}\n",
    "\n",
    "res_df = pd.DataFrame(data)"
   ]
  },
  {
   "cell_type": "code",
   "execution_count": 62,
   "metadata": {},
   "outputs": [
    {
     "data": {
      "image/png": "[encoded data removed]",
      "text/plain": [
       "<Figure size 1000x800 with 1 Axes>"
      ]
     },
     "metadata": {},
     "output_type": "display_data"
    }
   ],
   "source": [
    "res_melted = res_df.melt(id_vars='Class', value_vars=['Accuracy', 'F1 Score'], var_name='Metric', value_name='Score')\n",
    "\n",
    "plt.figure(figsize=(10, 8))\n",
    "sns.barplot(x='Class', y='Score', hue='Metric', data=res_melted)\n",
    "plt.title('Accuracy and F1 Scores per Sign')\n",
    "plt.xlabel('Sign')\n",
    "plt.ylabel('Score')\n",
    "plt.xticks(rotation=90)\n",
    "plt.show()"
   ]
  },
  {
   "cell_type": "markdown",
   "metadata": {},
   "source": [
    "## Predicting Against the Holdout"
   ]
  },
  {
   "cell_type": "code",
   "execution_count": null,
   "metadata": {},
   "outputs": [
    {
     "name": "stdout",
     "output_type": "stream",
     "text": [
      "Found 12630 images belonging to 1 classes.\n",
      "\u001b[1m  1/395\u001b[0m \u001b[37m━━━━━━━━━━━━━━━━━━━━\u001b[0m \u001b[1m28s\u001b[0m 71ms/step"
     ]
    },
    {
     "name": "stderr",
     "output_type": "stream",
     "text": [
      "C:\\Program Files\\Python312\\Lib\\site-packages\\keras\\src\\trainers\\data_adapters\\py_dataset_adapter.py:121: UserWarning: Your `PyDataset` class should call `super().__init__(**kwargs)` in its constructor. `**kwargs` can include `workers`, `use_multiprocessing`, `max_queue_size`. Do not pass these arguments to `fit()`, as they will be ignored.\n",
      "  self._warn_if_super_not_called()\n"
     ]
    },
    {
     "name": "stdout",
     "output_type": "stream",
     "text": [
      "\u001b[1m395/395\u001b[0m \u001b[32m━━━━━━━━━━━━━━━━━━━━\u001b[0m\u001b[37m\u001b[0m \u001b[1m88s\u001b[0m 222ms/step\n"
     ]
    }
   ],
   "source": [
    "test_generator_hold = test_datagen.flow_from_directory(\n",
    "    test_dir,\n",
    "    classes=['holdout'],\n",
    "    target_size=img_sz,\n",
    "    class_mode='sparse',\n",
    "    shuffle=False)\n",
    "\n",
    "probs_hold = model_norm.predict(test_generator_hold)\n",
    "preds_hold = [np.argmax(probas) for probas in probs_hold]"
   ]
  }
 ],
 "metadata": {
  "kernelspec": {
   "display_name": "venv",
   "language": "python",
   "name": "python3"
  },
  "language_info": {
   "codemirror_mode": {
    "name": "ipython",
    "version": 3
   },
   "file_extension": ".py",
   "mimetype": "text/x-python",
   "name": "python",
   "nbconvert_exporter": "python",
   "pygments_lexer": "ipython3",
   "version": "3.12.8"
  }
 },
 "nbformat": 4,
 "nbformat_minor": 2
}
